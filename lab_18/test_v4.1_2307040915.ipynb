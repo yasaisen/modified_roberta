{
 "cells": [
  {
   "cell_type": "code",
   "execution_count": 1,
   "metadata": {},
   "outputs": [
    {
     "name": "stdout",
     "output_type": "stream",
     "text": [
      "Requirement already satisfied: scikit-learn in /opt/conda/lib/python3.7/site-packages (1.0.2)\n",
      "Requirement already satisfied: numpy>=1.14.6 in /opt/conda/lib/python3.7/site-packages (from scikit-learn) (1.18.1)\n",
      "Requirement already satisfied: scipy>=1.1.0 in /opt/conda/lib/python3.7/site-packages (from scikit-learn) (1.7.3)\n",
      "Requirement already satisfied: joblib>=0.11 in /opt/conda/lib/python3.7/site-packages (from scikit-learn) (1.3.1)\n",
      "Requirement already satisfied: threadpoolctl>=2.0.0 in /opt/conda/lib/python3.7/site-packages (from scikit-learn) (3.1.0)\n",
      "\u001b[33mWARNING: Running pip as the 'root' user can result in broken permissions and conflicting behaviour with the system package manager. It is recommended to use a virtual environment instead: https://pip.pypa.io/warnings/venv\u001b[0m\u001b[33m\n",
      "\u001b[0m"
     ]
    }
   ],
   "source": [
    "# !pip install scikit-learn"
   ]
  },
  {
   "cell_type": "code",
   "execution_count": 2,
   "metadata": {},
   "outputs": [],
   "source": [
    "import os\n",
    "import time\n",
    "import torch\n",
    "from torch.utils.data import DataLoader, Dataset\n",
    "from transformers import RobertaForSequenceClassification, RobertaTokenizerFast, AdamW\n",
    "# import datasets\n",
    "import pandas as pd\n",
    "from sklearn.model_selection import train_test_split\n",
    "from tqdm import tqdm\n",
    "from matplotlib import pyplot as plt\n",
    "import torch.backends.cudnn as cudnn\n",
    "pd.set_option('display.max_rows', None)"
   ]
  },
  {
   "cell_type": "code",
   "execution_count": 3,
   "metadata": {},
   "outputs": [],
   "source": [
    "ROOT_PATH = os.getcwd()\n",
    "# DATA_PATH = os.path.join(ROOT_PATH, 'finetune_dataset/kge_sentiment_analysis')\n",
    "DATA_PATH = os.path.join(ROOT_PATH, '../../research_datasets/finetune_dataset/kge_sentiment_analysis')\n",
    "\n",
    "# Set device\n",
    "device = torch.device('cuda') if torch.cuda.is_available() else torch.device('cpu')"
   ]
  },
  {
   "cell_type": "code",
   "execution_count": 4,
   "metadata": {},
   "outputs": [],
   "source": [
    "MODEL_NAME = 'roberta-large'"
   ]
  },
  {
   "cell_type": "code",
   "execution_count": 5,
   "metadata": {},
   "outputs": [],
   "source": [
    "# # Load the SST-5 dataset\n",
    "dataset = pd.read_csv(DATA_PATH + '/train.tsv.zip', sep=\"\\t\")\n",
    "train, valid = train_test_split(dataset, random_state=42, test_size = 0.1)"
   ]
  },
  {
   "cell_type": "code",
   "execution_count": 6,
   "metadata": {},
   "outputs": [],
   "source": [
    "# Load the tokenizer\n",
    "tokenizer = RobertaTokenizerFast.from_pretrained(MODEL_NAME)\n",
    "\n",
    "# Tokenize the dataset\n",
    "def tokenize_dataset(dataset):\n",
    "    encodings = tokenizer(dataset['Phrase'].tolist(), truncation=True, padding=True)\n",
    "    labels = dataset['Sentiment'].tolist()\n",
    "    return encodings, labels\n",
    "\n",
    "train_encodings, train_labels = tokenize_dataset(train)\n",
    "valid_encodings, valid_labels = tokenize_dataset(valid)"
   ]
  },
  {
   "cell_type": "code",
   "execution_count": 7,
   "metadata": {},
   "outputs": [],
   "source": [
    "def get_encodings_df(encodings, idx):\n",
    "    ids, tokens, attention_mask = [], [], []\n",
    "    i = 0\n",
    "\n",
    "    for get_ids in encodings[idx].ids:\n",
    "        ids += [get_ids]\n",
    "        \n",
    "    for get_tokens in encodings[idx].tokens:\n",
    "        tokens += [get_tokens.replace('Ġ', '')]\n",
    "\n",
    "    for get_attention_mask in encodings[idx].attention_mask:\n",
    "        attention_mask += [get_attention_mask]\n",
    "        i = i+1\n",
    "\n",
    "    show_tokens_DF = pd.DataFrame({'ids': ids, 'tokens': tokens, 'attention_mask': attention_mask})\n",
    "    print('got ' + str(i))\n",
    "    return show_tokens_DF"
   ]
  },
  {
   "cell_type": "code",
   "execution_count": 8,
   "metadata": {},
   "outputs": [],
   "source": [
    "# show_tokens_DF = get_encodings_df(test_encodings, 99)\n",
    "# show_tokens_DF"
   ]
  },
  {
   "cell_type": "code",
   "execution_count": 9,
   "metadata": {},
   "outputs": [],
   "source": [
    "def get_encodings_df(encodings, idx):\n",
    "    input_ids, attention_mask = [], []\n",
    "    i = 0\n",
    "\n",
    "    for get_input_ids in encodings['input_ids'][idx]:\n",
    "        input_ids += [get_input_ids]\n",
    "\n",
    "    for get_attention_mask in encodings['attention_mask'][idx]:\n",
    "        attention_mask += [get_attention_mask]\n",
    "        i = i+1\n",
    "\n",
    "    show_tokens_DF = pd.DataFrame({'input_ids': input_ids, 'attention_mask': attention_mask})\n",
    "    print('got ' + str(i))\n",
    "    return show_tokens_DF"
   ]
  },
  {
   "cell_type": "code",
   "execution_count": 10,
   "metadata": {},
   "outputs": [],
   "source": [
    "# show_tokens_DF = get_encodings_df(test_encodings, 99)\n",
    "# show_tokens_DF"
   ]
  },
  {
   "cell_type": "code",
   "execution_count": 11,
   "metadata": {},
   "outputs": [],
   "source": [
    "# Create a torch dataset\n",
    "class TsvDataset(Dataset):\n",
    "    def __init__(self, encodings, labels):\n",
    "        self.encodings = encodings\n",
    "        self.labels = labels\n",
    "\n",
    "    def __getitem__(self, idx):\n",
    "        # item = {key: torch.tensor(val[idx]) for key, val in self.encodings.items()}\n",
    "        item = {}\n",
    "        item['input_ids'] = torch.tensor(self.encodings['input_ids'][idx])\n",
    "        item['attention_mask'] = torch.tensor(self.encodings['attention_mask'][idx])\n",
    "        item['labels'] = torch.tensor(self.labels[idx])\n",
    "\n",
    "        return item\n",
    "\n",
    "    def __len__(self):\n",
    "        return len(self.labels)"
   ]
  },
  {
   "cell_type": "code",
   "execution_count": 12,
   "metadata": {},
   "outputs": [],
   "source": [
    "train_dataset = TsvDataset(train_encodings, train_labels)\n",
    "valid_dataset = TsvDataset(valid_encodings, valid_labels)\n",
    "\n",
    "train_loader = DataLoader(train_dataset, batch_size=64, shuffle=True, drop_last=True, generator=torch.Generator(device='cuda'))\n",
    "valid_loader = DataLoader(valid_dataset, batch_size=16, shuffle=True, drop_last=True, generator=torch.Generator(device='cuda'))"
   ]
  },
  {
   "cell_type": "code",
   "execution_count": 13,
   "metadata": {},
   "outputs": [
    {
     "name": "stderr",
     "output_type": "stream",
     "text": [
      "Some weights of the model checkpoint at roberta-large were not used when initializing RobertaForSequenceClassification: ['lm_head.dense.weight', 'lm_head.decoder.weight', 'lm_head.dense.bias', 'roberta.pooler.dense.bias', 'lm_head.layer_norm.bias', 'roberta.pooler.dense.weight', 'lm_head.bias', 'lm_head.layer_norm.weight']\n",
      "- This IS expected if you are initializing RobertaForSequenceClassification from the checkpoint of a model trained on another task or with another architecture (e.g. initializing a BertForSequenceClassification model from a BertForPreTraining model).\n",
      "- This IS NOT expected if you are initializing RobertaForSequenceClassification from the checkpoint of a model that you expect to be exactly identical (initializing a BertForSequenceClassification model from a BertForSequenceClassification model).\n",
      "Some weights of RobertaForSequenceClassification were not initialized from the model checkpoint at roberta-large and are newly initialized: ['classifier.out_proj.weight', 'classifier.dense.bias', 'classifier.out_proj.bias', 'classifier.dense.weight']\n",
      "You should probably TRAIN this model on a down-stream task to be able to use it for predictions and inference.\n"
     ]
    }
   ],
   "source": [
    "model = RobertaForSequenceClassification.from_pretrained(MODEL_NAME, num_labels=5)"
   ]
  },
  {
   "cell_type": "code",
   "execution_count": 14,
   "metadata": {},
   "outputs": [],
   "source": [
    "class Trainer(object):\n",
    "    '''This class takes care of training and validation of our model'''\n",
    "    def __init__(self, model, train_loader, valid_loader, device=torch.device(\"cuda:0\")):\n",
    "        torch.set_default_tensor_type(\"torch.cuda.FloatTensor\")\n",
    "        cudnn.benchmark = True\n",
    "        self.best_loss = float(\"inf\")\n",
    "        self.phases = [\"train\", \"valid\"]\n",
    "\n",
    "        self.device = device\n",
    "        self.dataloaders = {self.phases[0]: train_loader, self.phases[1]: valid_loader}\n",
    "    \n",
    "        self.lr = 5e-6\n",
    "        self.num_epochs = 400\n",
    "        # self.accumulation_steps = 32 // self.dataloaders['train'].batch_size\n",
    "        \n",
    "        self.model = model.to(self.device)\n",
    "        self.optimizer = AdamW(model.parameters(), lr=1e-5)\n",
    "        # self.scheduler = ReduceLROnPlateau(self.optimizer, mode=\"min\", patience=3, verbose=True)\n",
    "        \n",
    "        self.losses =   {phase: [] for phase in self.phases}\n",
    "        self.accuracy = {phase: [] for phase in self.phases}\n",
    "\n",
    "    def iterate(self, epoch, phase):\n",
    "        running_losses = []\n",
    "        num_correct = 0\n",
    "        num_samples = 0\n",
    "        nowtime = time.strftime(\"%H:%M:%S\")\n",
    "        print(f\"[{nowtime}] type: {phase} epoch: {epoch}\")\n",
    "\n",
    "        if phase == \"train\":\n",
    "            self.model.train()\n",
    "        else:\n",
    "            self.model.eval()\n",
    "        dataloader = self.dataloaders[phase]\n",
    "        # total_batches = len(dataloader)\n",
    "\n",
    "        self.optimizer.zero_grad()\n",
    "        pbar = tqdm(dataloader, total=len(dataloader), position=0, leave=True, desc=f\"Epoch {epoch}\")\n",
    "        for itr, batch in enumerate(pbar):\n",
    "            batch = {key: value.to(self.device) for key, value in batch.items()}\n",
    "            outputs = self.model(**batch)\n",
    "            loss = outputs.loss\n",
    "\n",
    "            if phase == \"train\":\n",
    "                loss.backward()\n",
    "                self.optimizer.step()\n",
    "                self.optimizer.zero_grad()\n",
    "\n",
    "            # loss = loss / self.accumulation_steps\n",
    "            # if phase == \"train\":\n",
    "            #     loss.backward()\n",
    "            #     if (itr + 1 ) % self.accumulation_steps == 0:\n",
    "            #         self.optimizer.step()\n",
    "            #         self.optimizer.zero_grad()\n",
    "\n",
    "            running_losses += [loss.item()]\n",
    "\n",
    "            _, predictions = outputs['logits'].max(1)\n",
    "            label = batch['labels']\n",
    "            num_correct += (predictions == label).sum()\n",
    "            num_samples += predictions.size(0)\n",
    "            \n",
    "        # epoch_loss = (running_loss * self.accumulation_steps) / total_batches\n",
    "        epoch_loss = sum(running_losses) / len(running_losses)\n",
    "        epoch_accuracy = (num_correct/num_samples).item()\n",
    "        \n",
    "        self.losses[phase].append(epoch_loss)\n",
    "        self.accuracy[phase].append(epoch_accuracy)\n",
    "\n",
    "        print(\"loss: %0.4f | accuracy: %0.4f\" % (epoch_loss, epoch_accuracy))\n",
    "\n",
    "        torch.cuda.empty_cache()\n",
    "        return epoch_loss\n",
    "\n",
    "    def start(self):\n",
    "        for epoch in range(self.num_epochs):\n",
    "            self.iterate(epoch, \"train\")\n",
    "            state = {\n",
    "                \"epoch\": epoch,\n",
    "                \"best_loss\": self.best_loss,\n",
    "                \"state_dict\": self.model.state_dict(),\n",
    "                \"optimizer\": self.optimizer.state_dict(),\n",
    "            }\n",
    "\n",
    "            valid_loss = self.iterate(epoch, \"valid\")\n",
    "            # self.scheduler.step(valid_loss)\n",
    "            if valid_loss < self.best_loss:\n",
    "                print(\"******** New optimal found, saving state ********\")\n",
    "                state[\"best_loss\"] = self.best_loss = valid_loss\n",
    "                nowtime = time.strftime(\"%H:%M:%S\")\n",
    "                torch.save(state, \"./\" + nowtime + \"model.pth\")\n",
    "            print()"
   ]
  },
  {
   "cell_type": "code",
   "execution_count": null,
   "metadata": {},
   "outputs": [
    {
     "name": "stderr",
     "output_type": "stream",
     "text": [
      "/opt/conda/lib/python3.7/site-packages/transformers/optimization.py:395: FutureWarning: This implementation of AdamW is deprecated and will be removed in a future version. Use the PyTorch implementation torch.optim.AdamW instead, or set `no_deprecation_warning=True` to disable this warning\n",
      "  FutureWarning,\n",
      "Epoch 0:   0%|          | 0/2194 [00:00<?, ?it/s]"
     ]
    },
    {
     "name": "stdout",
     "output_type": "stream",
     "text": [
      "[10:16:09] type: train epoch: 0\n"
     ]
    },
    {
     "name": "stderr",
     "output_type": "stream",
     "text": [
      "Epoch 0: 100%|██████████| 2194/2194 [23:12<00:00,  1.58it/s]\n",
      "Epoch 0:   0%|          | 2/975 [00:00<01:26, 11.24it/s]"
     ]
    },
    {
     "name": "stdout",
     "output_type": "stream",
     "text": [
      "loss: nan | accuracy: 0.0665\n",
      "[10:39:22] type: valid epoch: 0\n"
     ]
    },
    {
     "name": "stderr",
     "output_type": "stream",
     "text": [
      "Epoch 0: 100%|██████████| 975/975 [00:46<00:00, 21.12it/s]\n",
      "Epoch 1:   0%|          | 0/2194 [00:00<?, ?it/s]"
     ]
    },
    {
     "name": "stdout",
     "output_type": "stream",
     "text": [
      "loss: nan | accuracy: 0.0622\n",
      "\n",
      "[10:40:08] type: train epoch: 1\n"
     ]
    },
    {
     "name": "stderr",
     "output_type": "stream",
     "text": [
      "Epoch 1: 100%|██████████| 2194/2194 [23:25<00:00,  1.56it/s]\n",
      "Epoch 1:   0%|          | 2/975 [00:00<01:15, 12.81it/s]"
     ]
    },
    {
     "name": "stdout",
     "output_type": "stream",
     "text": [
      "loss: nan | accuracy: 0.0664\n",
      "[11:03:34] type: valid epoch: 1\n"
     ]
    },
    {
     "name": "stderr",
     "output_type": "stream",
     "text": [
      "Epoch 1: 100%|██████████| 975/975 [00:46<00:00, 21.16it/s]\n",
      "Epoch 2:   0%|          | 0/2194 [00:00<?, ?it/s]"
     ]
    },
    {
     "name": "stdout",
     "output_type": "stream",
     "text": [
      "loss: nan | accuracy: 0.0622\n",
      "\n",
      "[11:04:20] type: train epoch: 2\n"
     ]
    },
    {
     "name": "stderr",
     "output_type": "stream",
     "text": [
      "Epoch 2: 100%|██████████| 2194/2194 [23:24<00:00,  1.56it/s]\n",
      "Epoch 2:   0%|          | 2/975 [00:00<01:23, 11.64it/s]"
     ]
    },
    {
     "name": "stdout",
     "output_type": "stream",
     "text": [
      "loss: nan | accuracy: 0.0661\n",
      "[11:27:45] type: valid epoch: 2\n"
     ]
    },
    {
     "name": "stderr",
     "output_type": "stream",
     "text": [
      "Epoch 2: 100%|██████████| 975/975 [00:46<00:00, 21.18it/s]\n",
      "Epoch 3:   0%|          | 0/2194 [00:00<?, ?it/s]"
     ]
    },
    {
     "name": "stdout",
     "output_type": "stream",
     "text": [
      "loss: nan | accuracy: 0.0622\n",
      "\n",
      "[11:28:31] type: train epoch: 3\n"
     ]
    },
    {
     "name": "stderr",
     "output_type": "stream",
     "text": [
      "Epoch 3: 100%|██████████| 2194/2194 [23:23<00:00,  1.56it/s]\n",
      "Epoch 3:   0%|          | 2/975 [00:00<01:14, 13.02it/s]"
     ]
    },
    {
     "name": "stdout",
     "output_type": "stream",
     "text": [
      "loss: nan | accuracy: 0.0669\n",
      "[11:51:55] type: valid epoch: 3\n"
     ]
    },
    {
     "name": "stderr",
     "output_type": "stream",
     "text": [
      "Epoch 3: 100%|██████████| 975/975 [00:46<00:00, 21.17it/s]\n",
      "Epoch 4:   0%|          | 0/2194 [00:00<?, ?it/s]"
     ]
    },
    {
     "name": "stdout",
     "output_type": "stream",
     "text": [
      "loss: nan | accuracy: 0.0622\n",
      "\n",
      "[11:52:41] type: train epoch: 4\n"
     ]
    },
    {
     "name": "stderr",
     "output_type": "stream",
     "text": [
      "Epoch 4: 100%|██████████| 2194/2194 [23:26<00:00,  1.56it/s]\n",
      "Epoch 4:   0%|          | 2/975 [00:00<01:14, 13.12it/s]"
     ]
    },
    {
     "name": "stdout",
     "output_type": "stream",
     "text": [
      "loss: nan | accuracy: 0.0664\n",
      "[12:16:07] type: valid epoch: 4\n"
     ]
    },
    {
     "name": "stderr",
     "output_type": "stream",
     "text": [
      "Epoch 4: 100%|██████████| 975/975 [00:46<00:00, 21.09it/s]\n",
      "Epoch 5:   0%|          | 0/2194 [00:00<?, ?it/s]"
     ]
    },
    {
     "name": "stdout",
     "output_type": "stream",
     "text": [
      "loss: nan | accuracy: 0.0622\n",
      "\n",
      "[12:16:53] type: train epoch: 5\n"
     ]
    },
    {
     "name": "stderr",
     "output_type": "stream",
     "text": [
      "Epoch 5: 100%|██████████| 2194/2194 [23:23<00:00,  1.56it/s]\n",
      "Epoch 5:   0%|          | 1/975 [00:00<01:53,  8.59it/s]"
     ]
    },
    {
     "name": "stdout",
     "output_type": "stream",
     "text": [
      "loss: nan | accuracy: 0.0660\n",
      "[12:40:18] type: valid epoch: 5\n"
     ]
    },
    {
     "name": "stderr",
     "output_type": "stream",
     "text": [
      "Epoch 5: 100%|██████████| 975/975 [00:46<00:00, 21.11it/s]\n",
      "Epoch 6:   0%|          | 0/2194 [00:00<?, ?it/s]"
     ]
    },
    {
     "name": "stdout",
     "output_type": "stream",
     "text": [
      "loss: nan | accuracy: 0.0622\n",
      "\n",
      "[12:41:04] type: train epoch: 6\n"
     ]
    },
    {
     "name": "stderr",
     "output_type": "stream",
     "text": [
      "Epoch 6: 100%|██████████| 2194/2194 [23:19<00:00,  1.57it/s]\n",
      "Epoch 6:   0%|          | 1/975 [00:00<01:38,  9.87it/s]"
     ]
    },
    {
     "name": "stdout",
     "output_type": "stream",
     "text": [
      "loss: nan | accuracy: 0.0660\n",
      "[13:04:24] type: valid epoch: 6\n"
     ]
    },
    {
     "name": "stderr",
     "output_type": "stream",
     "text": [
      "Epoch 6: 100%|██████████| 975/975 [00:46<00:00, 21.13it/s]\n",
      "Epoch 7:   0%|          | 0/2194 [00:00<?, ?it/s]"
     ]
    },
    {
     "name": "stdout",
     "output_type": "stream",
     "text": [
      "loss: nan | accuracy: 0.0621\n",
      "\n",
      "[13:05:10] type: train epoch: 7\n"
     ]
    },
    {
     "name": "stderr",
     "output_type": "stream",
     "text": [
      "Epoch 7: 100%|██████████| 2194/2194 [23:20<00:00,  1.57it/s]\n",
      "Epoch 7:   0%|          | 1/975 [00:00<01:40,  9.68it/s]"
     ]
    },
    {
     "name": "stdout",
     "output_type": "stream",
     "text": [
      "loss: nan | accuracy: 0.0667\n",
      "[13:28:31] type: valid epoch: 7\n"
     ]
    },
    {
     "name": "stderr",
     "output_type": "stream",
     "text": [
      "Epoch 7: 100%|██████████| 975/975 [00:45<00:00, 21.21it/s]\n",
      "Epoch 8:   0%|          | 0/2194 [00:00<?, ?it/s]"
     ]
    },
    {
     "name": "stdout",
     "output_type": "stream",
     "text": [
      "loss: nan | accuracy: 0.0622\n",
      "\n",
      "[13:29:17] type: train epoch: 8\n"
     ]
    },
    {
     "name": "stderr",
     "output_type": "stream",
     "text": [
      "Epoch 8: 100%|██████████| 2194/2194 [23:22<00:00,  1.56it/s]\n",
      "Epoch 8:   0%|          | 2/975 [00:00<01:18, 12.42it/s]"
     ]
    },
    {
     "name": "stdout",
     "output_type": "stream",
     "text": [
      "loss: nan | accuracy: 0.0666\n",
      "[13:52:39] type: valid epoch: 8\n"
     ]
    },
    {
     "name": "stderr",
     "output_type": "stream",
     "text": [
      "Epoch 8: 100%|██████████| 975/975 [00:46<00:00, 21.10it/s]\n",
      "Epoch 9:   0%|          | 0/2194 [00:00<?, ?it/s]"
     ]
    },
    {
     "name": "stdout",
     "output_type": "stream",
     "text": [
      "loss: nan | accuracy: 0.0622\n",
      "\n",
      "[13:53:25] type: train epoch: 9\n"
     ]
    },
    {
     "name": "stderr",
     "output_type": "stream",
     "text": [
      "Epoch 9: 100%|██████████| 2194/2194 [23:24<00:00,  1.56it/s]\n"
     ]
    },
    {
     "name": "stdout",
     "output_type": "stream",
     "text": [
      "loss: nan | accuracy: 0.0669\n"
     ]
    },
    {
     "name": "stderr",
     "output_type": "stream",
     "text": [
      "Epoch 9:   0%|          | 2/975 [00:00<01:16, 12.77it/s]"
     ]
    },
    {
     "name": "stdout",
     "output_type": "stream",
     "text": [
      "[14:16:50] type: valid epoch: 9\n"
     ]
    },
    {
     "name": "stderr",
     "output_type": "stream",
     "text": [
      "Epoch 9: 100%|██████████| 975/975 [00:46<00:00, 21.19it/s]\n",
      "Epoch 10:   0%|          | 0/2194 [00:00<?, ?it/s]"
     ]
    },
    {
     "name": "stdout",
     "output_type": "stream",
     "text": [
      "loss: nan | accuracy: 0.0622\n",
      "\n",
      "[14:17:36] type: train epoch: 10\n"
     ]
    },
    {
     "name": "stderr",
     "output_type": "stream",
     "text": [
      "Epoch 10: 100%|██████████| 2194/2194 [23:23<00:00,  1.56it/s]\n",
      "Epoch 10:   0%|          | 2/975 [00:00<01:13, 13.26it/s]"
     ]
    },
    {
     "name": "stdout",
     "output_type": "stream",
     "text": [
      "loss: nan | accuracy: 0.0660\n",
      "[14:40:59] type: valid epoch: 10\n"
     ]
    },
    {
     "name": "stderr",
     "output_type": "stream",
     "text": [
      "Epoch 10: 100%|██████████| 975/975 [00:46<00:00, 21.18it/s]\n",
      "Epoch 11:   0%|          | 0/2194 [00:00<?, ?it/s]"
     ]
    },
    {
     "name": "stdout",
     "output_type": "stream",
     "text": [
      "loss: nan | accuracy: 0.0622\n",
      "\n",
      "[14:41:45] type: train epoch: 11\n"
     ]
    },
    {
     "name": "stderr",
     "output_type": "stream",
     "text": [
      "Epoch 11: 100%|██████████| 2194/2194 [23:22<00:00,  1.56it/s]\n"
     ]
    },
    {
     "name": "stdout",
     "output_type": "stream",
     "text": [
      "loss: nan | accuracy: 0.0659\n"
     ]
    },
    {
     "name": "stderr",
     "output_type": "stream",
     "text": [
      "Epoch 11:   0%|          | 2/975 [00:00<01:15, 12.83it/s]"
     ]
    },
    {
     "name": "stdout",
     "output_type": "stream",
     "text": [
      "[15:05:08] type: valid epoch: 11\n"
     ]
    },
    {
     "name": "stderr",
     "output_type": "stream",
     "text": [
      "Epoch 11: 100%|██████████| 975/975 [00:46<00:00, 21.08it/s]\n",
      "Epoch 12:   0%|          | 0/2194 [00:00<?, ?it/s]"
     ]
    },
    {
     "name": "stdout",
     "output_type": "stream",
     "text": [
      "loss: nan | accuracy: 0.0622\n",
      "\n",
      "[15:05:55] type: train epoch: 12\n"
     ]
    },
    {
     "name": "stderr",
     "output_type": "stream",
     "text": [
      "Epoch 12: 100%|██████████| 2194/2194 [23:24<00:00,  1.56it/s]\n",
      "Epoch 12:   0%|          | 2/975 [00:00<01:16, 12.67it/s]"
     ]
    },
    {
     "name": "stdout",
     "output_type": "stream",
     "text": [
      "loss: nan | accuracy: 0.0661\n",
      "[15:29:19] type: valid epoch: 12\n"
     ]
    },
    {
     "name": "stderr",
     "output_type": "stream",
     "text": [
      "Epoch 12: 100%|██████████| 975/975 [00:46<00:00, 21.15it/s]\n",
      "Epoch 13:   0%|          | 0/2194 [00:00<?, ?it/s]"
     ]
    },
    {
     "name": "stdout",
     "output_type": "stream",
     "text": [
      "loss: nan | accuracy: 0.0622\n",
      "\n",
      "[15:30:06] type: train epoch: 13\n"
     ]
    },
    {
     "name": "stderr",
     "output_type": "stream",
     "text": [
      "Epoch 13: 100%|██████████| 2194/2194 [23:22<00:00,  1.56it/s]\n",
      "Epoch 13:   0%|          | 2/975 [00:00<01:12, 13.43it/s]"
     ]
    },
    {
     "name": "stdout",
     "output_type": "stream",
     "text": [
      "loss: nan | accuracy: 0.0663\n",
      "[15:53:29] type: valid epoch: 13\n"
     ]
    },
    {
     "name": "stderr",
     "output_type": "stream",
     "text": [
      "Epoch 13: 100%|██████████| 975/975 [00:46<00:00, 21.10it/s]\n",
      "Epoch 14:   0%|          | 0/2194 [00:00<?, ?it/s]"
     ]
    },
    {
     "name": "stdout",
     "output_type": "stream",
     "text": [
      "loss: nan | accuracy: 0.0622\n",
      "\n",
      "[15:54:15] type: train epoch: 14\n"
     ]
    },
    {
     "name": "stderr",
     "output_type": "stream",
     "text": [
      "Epoch 14: 100%|██████████| 2194/2194 [23:23<00:00,  1.56it/s]\n",
      "Epoch 14:   0%|          | 2/975 [00:00<01:24, 11.49it/s]"
     ]
    },
    {
     "name": "stdout",
     "output_type": "stream",
     "text": [
      "loss: nan | accuracy: 0.0666\n",
      "[16:17:39] type: valid epoch: 14\n"
     ]
    },
    {
     "name": "stderr",
     "output_type": "stream",
     "text": [
      "Epoch 14: 100%|██████████| 975/975 [00:46<00:00, 21.15it/s]\n",
      "Epoch 15:   0%|          | 0/2194 [00:00<?, ?it/s]"
     ]
    },
    {
     "name": "stdout",
     "output_type": "stream",
     "text": [
      "loss: nan | accuracy: 0.0622\n",
      "\n",
      "[16:18:25] type: train epoch: 15\n"
     ]
    },
    {
     "name": "stderr",
     "output_type": "stream",
     "text": [
      "Epoch 15: 100%|██████████| 2194/2194 [23:25<00:00,  1.56it/s]\n",
      "Epoch 15:   0%|          | 2/975 [00:00<01:25, 11.34it/s]"
     ]
    },
    {
     "name": "stdout",
     "output_type": "stream",
     "text": [
      "loss: nan | accuracy: 0.0664\n",
      "[16:41:51] type: valid epoch: 15\n"
     ]
    },
    {
     "name": "stderr",
     "output_type": "stream",
     "text": [
      "Epoch 15: 100%|██████████| 975/975 [00:46<00:00, 21.08it/s]\n",
      "Epoch 16:   0%|          | 0/2194 [00:00<?, ?it/s]"
     ]
    },
    {
     "name": "stdout",
     "output_type": "stream",
     "text": [
      "loss: nan | accuracy: 0.0622\n",
      "\n",
      "[16:42:37] type: train epoch: 16\n"
     ]
    },
    {
     "name": "stderr",
     "output_type": "stream",
     "text": [
      "Epoch 16: 100%|██████████| 2194/2194 [23:28<00:00,  1.56it/s]\n",
      "Epoch 16:   0%|          | 2/975 [00:00<01:27, 11.10it/s]"
     ]
    },
    {
     "name": "stdout",
     "output_type": "stream",
     "text": [
      "loss: nan | accuracy: 0.0671\n",
      "[17:06:06] type: valid epoch: 16\n"
     ]
    },
    {
     "name": "stderr",
     "output_type": "stream",
     "text": [
      "Epoch 16: 100%|██████████| 975/975 [00:46<00:00, 21.01it/s]\n",
      "Epoch 17:   0%|          | 0/2194 [00:00<?, ?it/s]"
     ]
    },
    {
     "name": "stdout",
     "output_type": "stream",
     "text": [
      "loss: nan | accuracy: 0.0622\n",
      "\n",
      "[17:06:52] type: train epoch: 17\n"
     ]
    },
    {
     "name": "stderr",
     "output_type": "stream",
     "text": [
      "Epoch 17: 100%|██████████| 2194/2194 [23:26<00:00,  1.56it/s]\n",
      "Epoch 17:   0%|          | 2/975 [00:00<01:19, 12.18it/s]"
     ]
    },
    {
     "name": "stdout",
     "output_type": "stream",
     "text": [
      "loss: nan | accuracy: 0.0659\n",
      "[17:30:19] type: valid epoch: 17\n"
     ]
    },
    {
     "name": "stderr",
     "output_type": "stream",
     "text": [
      "Epoch 17: 100%|██████████| 975/975 [00:46<00:00, 21.09it/s]\n",
      "Epoch 18:   0%|          | 0/2194 [00:00<?, ?it/s]"
     ]
    },
    {
     "name": "stdout",
     "output_type": "stream",
     "text": [
      "loss: nan | accuracy: 0.0622\n",
      "\n",
      "[17:31:05] type: train epoch: 18\n"
     ]
    },
    {
     "name": "stderr",
     "output_type": "stream",
     "text": [
      "Epoch 18: 100%|██████████| 2194/2194 [23:24<00:00,  1.56it/s]\n",
      "Epoch 18:   0%|          | 1/975 [00:00<01:53,  8.60it/s]"
     ]
    },
    {
     "name": "stdout",
     "output_type": "stream",
     "text": [
      "loss: nan | accuracy: 0.0669\n",
      "[17:54:30] type: valid epoch: 18\n"
     ]
    },
    {
     "name": "stderr",
     "output_type": "stream",
     "text": [
      "Epoch 18: 100%|██████████| 975/975 [00:46<00:00, 21.13it/s]\n",
      "Epoch 19:   0%|          | 0/2194 [00:00<?, ?it/s]"
     ]
    },
    {
     "name": "stdout",
     "output_type": "stream",
     "text": [
      "loss: nan | accuracy: 0.0622\n",
      "\n",
      "[17:55:16] type: train epoch: 19\n"
     ]
    },
    {
     "name": "stderr",
     "output_type": "stream",
     "text": [
      "Epoch 19: 100%|██████████| 2194/2194 [23:21<00:00,  1.56it/s]\n",
      "Epoch 19:   0%|          | 2/975 [00:00<01:17, 12.62it/s]"
     ]
    },
    {
     "name": "stdout",
     "output_type": "stream",
     "text": [
      "loss: nan | accuracy: 0.0665\n",
      "[18:18:39] type: valid epoch: 19\n"
     ]
    },
    {
     "name": "stderr",
     "output_type": "stream",
     "text": [
      "Epoch 19: 100%|██████████| 975/975 [00:46<00:00, 20.98it/s]\n",
      "Epoch 20:   0%|          | 0/2194 [00:00<?, ?it/s]"
     ]
    },
    {
     "name": "stdout",
     "output_type": "stream",
     "text": [
      "loss: nan | accuracy: 0.0622\n",
      "\n",
      "[18:19:25] type: train epoch: 20\n"
     ]
    },
    {
     "name": "stderr",
     "output_type": "stream",
     "text": [
      "Epoch 20: 100%|██████████| 2194/2194 [23:19<00:00,  1.57it/s]\n",
      "Epoch 20:   0%|          | 2/975 [00:00<01:12, 13.43it/s]"
     ]
    },
    {
     "name": "stdout",
     "output_type": "stream",
     "text": [
      "loss: nan | accuracy: 0.0669\n",
      "[18:42:45] type: valid epoch: 20\n"
     ]
    },
    {
     "name": "stderr",
     "output_type": "stream",
     "text": [
      "Epoch 20: 100%|██████████| 975/975 [00:45<00:00, 21.20it/s]\n",
      "Epoch 21:   0%|          | 0/2194 [00:00<?, ?it/s]"
     ]
    },
    {
     "name": "stdout",
     "output_type": "stream",
     "text": [
      "loss: nan | accuracy: 0.0622\n",
      "\n",
      "[18:43:32] type: train epoch: 21\n"
     ]
    },
    {
     "name": "stderr",
     "output_type": "stream",
     "text": [
      "Epoch 21: 100%|██████████| 2194/2194 [23:20<00:00,  1.57it/s]\n",
      "Epoch 21:   0%|          | 2/975 [00:00<01:14, 13.00it/s]"
     ]
    },
    {
     "name": "stdout",
     "output_type": "stream",
     "text": [
      "loss: nan | accuracy: 0.0663\n",
      "[19:06:52] type: valid epoch: 21\n"
     ]
    },
    {
     "name": "stderr",
     "output_type": "stream",
     "text": [
      "Epoch 21: 100%|██████████| 975/975 [00:46<00:00, 21.13it/s]\n",
      "Epoch 22:   0%|          | 0/2194 [00:00<?, ?it/s]"
     ]
    },
    {
     "name": "stdout",
     "output_type": "stream",
     "text": [
      "loss: nan | accuracy: 0.0622\n",
      "\n",
      "[19:07:39] type: train epoch: 22\n"
     ]
    },
    {
     "name": "stderr",
     "output_type": "stream",
     "text": [
      "Epoch 22: 100%|██████████| 2194/2194 [23:19<00:00,  1.57it/s]\n",
      "Epoch 22:   0%|          | 1/975 [00:00<01:38,  9.87it/s]"
     ]
    },
    {
     "name": "stdout",
     "output_type": "stream",
     "text": [
      "loss: nan | accuracy: 0.0666\n",
      "[19:30:58] type: valid epoch: 22\n"
     ]
    },
    {
     "name": "stderr",
     "output_type": "stream",
     "text": [
      "Epoch 22: 100%|██████████| 975/975 [00:46<00:00, 21.13it/s]\n",
      "Epoch 23:   0%|          | 0/2194 [00:00<?, ?it/s]"
     ]
    },
    {
     "name": "stdout",
     "output_type": "stream",
     "text": [
      "loss: nan | accuracy: 0.0622\n",
      "\n",
      "[19:31:44] type: train epoch: 23\n"
     ]
    },
    {
     "name": "stderr",
     "output_type": "stream",
     "text": [
      "Epoch 23: 100%|██████████| 2194/2194 [23:20<00:00,  1.57it/s]\n",
      "Epoch 23:   0%|          | 2/975 [00:00<01:25, 11.38it/s]"
     ]
    },
    {
     "name": "stdout",
     "output_type": "stream",
     "text": [
      "loss: nan | accuracy: 0.0664\n",
      "[19:55:04] type: valid epoch: 23\n"
     ]
    },
    {
     "name": "stderr",
     "output_type": "stream",
     "text": [
      "Epoch 23: 100%|██████████| 975/975 [00:46<00:00, 21.10it/s]\n",
      "Epoch 24:   0%|          | 0/2194 [00:00<?, ?it/s]"
     ]
    },
    {
     "name": "stdout",
     "output_type": "stream",
     "text": [
      "loss: nan | accuracy: 0.0622\n",
      "\n",
      "[19:55:51] type: train epoch: 24\n"
     ]
    },
    {
     "name": "stderr",
     "output_type": "stream",
     "text": [
      "Epoch 24: 100%|██████████| 2194/2194 [23:23<00:00,  1.56it/s]\n",
      "Epoch 24:   0%|          | 2/975 [00:00<01:19, 12.28it/s]"
     ]
    },
    {
     "name": "stdout",
     "output_type": "stream",
     "text": [
      "loss: nan | accuracy: 0.0658\n",
      "[20:19:14] type: valid epoch: 24\n"
     ]
    },
    {
     "name": "stderr",
     "output_type": "stream",
     "text": [
      "Epoch 24: 100%|██████████| 975/975 [00:46<00:00, 21.03it/s]\n",
      "Epoch 25:   0%|          | 0/2194 [00:00<?, ?it/s]"
     ]
    },
    {
     "name": "stdout",
     "output_type": "stream",
     "text": [
      "loss: nan | accuracy: 0.0622\n",
      "\n",
      "[20:20:00] type: train epoch: 25\n"
     ]
    },
    {
     "name": "stderr",
     "output_type": "stream",
     "text": [
      "Epoch 25: 100%|██████████| 2194/2194 [23:23<00:00,  1.56it/s]\n",
      "Epoch 25:   0%|          | 2/975 [00:00<01:22, 11.81it/s]"
     ]
    },
    {
     "name": "stdout",
     "output_type": "stream",
     "text": [
      "loss: nan | accuracy: 0.0674\n",
      "[20:43:25] type: valid epoch: 25\n"
     ]
    },
    {
     "name": "stderr",
     "output_type": "stream",
     "text": [
      "Epoch 25: 100%|██████████| 975/975 [00:46<00:00, 21.01it/s]\n",
      "Epoch 26:   0%|          | 0/2194 [00:00<?, ?it/s]"
     ]
    },
    {
     "name": "stdout",
     "output_type": "stream",
     "text": [
      "loss: nan | accuracy: 0.0622\n",
      "\n",
      "[20:44:11] type: train epoch: 26\n"
     ]
    },
    {
     "name": "stderr",
     "output_type": "stream",
     "text": [
      "Epoch 26: 100%|██████████| 2194/2194 [23:24<00:00,  1.56it/s]\n",
      "Epoch 26:   0%|          | 2/975 [00:00<01:09, 13.96it/s]"
     ]
    },
    {
     "name": "stdout",
     "output_type": "stream",
     "text": [
      "loss: nan | accuracy: 0.0663\n",
      "[21:07:35] type: valid epoch: 26\n"
     ]
    },
    {
     "name": "stderr",
     "output_type": "stream",
     "text": [
      "Epoch 26: 100%|██████████| 975/975 [00:46<00:00, 21.17it/s]\n",
      "Epoch 27:   0%|          | 0/2194 [00:00<?, ?it/s]"
     ]
    },
    {
     "name": "stdout",
     "output_type": "stream",
     "text": [
      "loss: nan | accuracy: 0.0622\n",
      "\n",
      "[21:08:21] type: train epoch: 27\n"
     ]
    },
    {
     "name": "stderr",
     "output_type": "stream",
     "text": [
      "Epoch 27: 100%|██████████| 2194/2194 [23:20<00:00,  1.57it/s]\n",
      "Epoch 27:   0%|          | 2/975 [00:00<01:21, 11.88it/s]"
     ]
    },
    {
     "name": "stdout",
     "output_type": "stream",
     "text": [
      "loss: nan | accuracy: 0.0667\n",
      "[21:31:42] type: valid epoch: 27\n"
     ]
    },
    {
     "name": "stderr",
     "output_type": "stream",
     "text": [
      "Epoch 27: 100%|██████████| 975/975 [00:46<00:00, 21.10it/s]\n",
      "Epoch 28:   0%|          | 0/2194 [00:00<?, ?it/s]"
     ]
    },
    {
     "name": "stdout",
     "output_type": "stream",
     "text": [
      "loss: nan | accuracy: 0.0622\n",
      "\n",
      "[21:32:28] type: train epoch: 28\n"
     ]
    },
    {
     "name": "stderr",
     "output_type": "stream",
     "text": [
      "Epoch 28: 100%|██████████| 2194/2194 [23:20<00:00,  1.57it/s]\n",
      "Epoch 28:   0%|          | 2/975 [00:00<01:10, 13.80it/s]"
     ]
    },
    {
     "name": "stdout",
     "output_type": "stream",
     "text": [
      "loss: nan | accuracy: 0.0666\n",
      "[21:55:49] type: valid epoch: 28\n"
     ]
    },
    {
     "name": "stderr",
     "output_type": "stream",
     "text": [
      "Epoch 28: 100%|██████████| 975/975 [00:46<00:00, 21.13it/s]\n",
      "Epoch 29:   0%|          | 0/2194 [00:00<?, ?it/s]"
     ]
    },
    {
     "name": "stdout",
     "output_type": "stream",
     "text": [
      "loss: nan | accuracy: 0.0622\n",
      "\n",
      "[21:56:35] type: train epoch: 29\n"
     ]
    },
    {
     "name": "stderr",
     "output_type": "stream",
     "text": [
      "Epoch 29: 100%|██████████| 2194/2194 [23:21<00:00,  1.57it/s]\n",
      "Epoch 29:   0%|          | 2/975 [00:00<01:18, 12.43it/s]"
     ]
    },
    {
     "name": "stdout",
     "output_type": "stream",
     "text": [
      "loss: nan | accuracy: 0.0674\n",
      "[22:19:57] type: valid epoch: 29\n"
     ]
    },
    {
     "name": "stderr",
     "output_type": "stream",
     "text": [
      "Epoch 29: 100%|██████████| 975/975 [00:46<00:00, 21.09it/s]\n",
      "Epoch 30:   0%|          | 0/2194 [00:00<?, ?it/s]"
     ]
    },
    {
     "name": "stdout",
     "output_type": "stream",
     "text": [
      "loss: nan | accuracy: 0.0622\n",
      "\n",
      "[22:20:43] type: train epoch: 30\n"
     ]
    },
    {
     "name": "stderr",
     "output_type": "stream",
     "text": [
      "Epoch 30: 100%|██████████| 2194/2194 [23:22<00:00,  1.56it/s]\n",
      "Epoch 30:   0%|          | 2/975 [00:00<01:23, 11.72it/s]"
     ]
    },
    {
     "name": "stdout",
     "output_type": "stream",
     "text": [
      "loss: nan | accuracy: 0.0671\n",
      "[22:44:06] type: valid epoch: 30\n"
     ]
    },
    {
     "name": "stderr",
     "output_type": "stream",
     "text": [
      "Epoch 30: 100%|██████████| 975/975 [00:46<00:00, 21.13it/s]\n",
      "Epoch 31:   0%|          | 0/2194 [00:00<?, ?it/s]"
     ]
    },
    {
     "name": "stdout",
     "output_type": "stream",
     "text": [
      "loss: nan | accuracy: 0.0622\n",
      "\n",
      "[22:44:52] type: train epoch: 31\n"
     ]
    },
    {
     "name": "stderr",
     "output_type": "stream",
     "text": [
      "Epoch 31: 100%|██████████| 2194/2194 [23:22<00:00,  1.56it/s]\n"
     ]
    },
    {
     "name": "stdout",
     "output_type": "stream",
     "text": [
      "loss: nan | accuracy: 0.0655\n"
     ]
    },
    {
     "name": "stderr",
     "output_type": "stream",
     "text": [
      "Epoch 31:   0%|          | 2/975 [00:00<01:21, 11.90it/s]"
     ]
    },
    {
     "name": "stdout",
     "output_type": "stream",
     "text": [
      "[23:08:14] type: valid epoch: 31\n"
     ]
    },
    {
     "name": "stderr",
     "output_type": "stream",
     "text": [
      "Epoch 31: 100%|██████████| 975/975 [00:46<00:00, 21.02it/s]\n",
      "Epoch 32:   0%|          | 0/2194 [00:00<?, ?it/s]"
     ]
    },
    {
     "name": "stdout",
     "output_type": "stream",
     "text": [
      "loss: nan | accuracy: 0.0622\n",
      "\n",
      "[23:09:01] type: train epoch: 32\n"
     ]
    },
    {
     "name": "stderr",
     "output_type": "stream",
     "text": [
      "Epoch 32: 100%|██████████| 2194/2194 [23:22<00:00,  1.56it/s]\n",
      "Epoch 32:   0%|          | 2/975 [00:00<01:13, 13.27it/s]"
     ]
    },
    {
     "name": "stdout",
     "output_type": "stream",
     "text": [
      "loss: nan | accuracy: 0.0660\n",
      "[23:32:23] type: valid epoch: 32\n"
     ]
    },
    {
     "name": "stderr",
     "output_type": "stream",
     "text": [
      "Epoch 32: 100%|██████████| 975/975 [00:46<00:00, 21.15it/s]\n",
      "Epoch 33:   0%|          | 0/2194 [00:00<?, ?it/s]"
     ]
    },
    {
     "name": "stdout",
     "output_type": "stream",
     "text": [
      "loss: nan | accuracy: 0.0622\n",
      "\n",
      "[23:33:09] type: train epoch: 33\n"
     ]
    },
    {
     "name": "stderr",
     "output_type": "stream",
     "text": [
      "Epoch 33: 100%|██████████| 2194/2194 [23:22<00:00,  1.56it/s]\n",
      "Epoch 33:   0%|          | 2/975 [00:00<01:14, 13.03it/s]"
     ]
    },
    {
     "name": "stdout",
     "output_type": "stream",
     "text": [
      "loss: nan | accuracy: 0.0668\n",
      "[23:56:32] type: valid epoch: 33\n"
     ]
    },
    {
     "name": "stderr",
     "output_type": "stream",
     "text": [
      "Epoch 33: 100%|██████████| 975/975 [00:46<00:00, 21.17it/s]\n",
      "Epoch 34:   0%|          | 0/2194 [00:00<?, ?it/s]"
     ]
    },
    {
     "name": "stdout",
     "output_type": "stream",
     "text": [
      "loss: nan | accuracy: 0.0622\n",
      "\n",
      "[23:57:18] type: train epoch: 34\n"
     ]
    },
    {
     "name": "stderr",
     "output_type": "stream",
     "text": [
      "Epoch 34: 100%|██████████| 2194/2194 [23:22<00:00,  1.56it/s]\n",
      "Epoch 34:   0%|          | 2/975 [00:00<01:21, 11.91it/s]"
     ]
    },
    {
     "name": "stdout",
     "output_type": "stream",
     "text": [
      "loss: nan | accuracy: 0.0666\n",
      "[00:20:41] type: valid epoch: 34\n"
     ]
    },
    {
     "name": "stderr",
     "output_type": "stream",
     "text": [
      "Epoch 34: 100%|██████████| 975/975 [00:46<00:00, 21.08it/s]\n",
      "Epoch 35:   0%|          | 0/2194 [00:00<?, ?it/s]"
     ]
    },
    {
     "name": "stdout",
     "output_type": "stream",
     "text": [
      "loss: nan | accuracy: 0.0622\n",
      "\n",
      "[00:21:27] type: train epoch: 35\n"
     ]
    },
    {
     "name": "stderr",
     "output_type": "stream",
     "text": [
      "Epoch 35: 100%|██████████| 2194/2194 [23:18<00:00,  1.57it/s]\n"
     ]
    },
    {
     "name": "stdout",
     "output_type": "stream",
     "text": [
      "loss: nan | accuracy: 0.0652\n"
     ]
    },
    {
     "name": "stderr",
     "output_type": "stream",
     "text": [
      "Epoch 35:   0%|          | 2/975 [00:00<01:19, 12.24it/s]"
     ]
    },
    {
     "name": "stdout",
     "output_type": "stream",
     "text": [
      "[00:44:46] type: valid epoch: 35\n"
     ]
    },
    {
     "name": "stderr",
     "output_type": "stream",
     "text": [
      "Epoch 35: 100%|██████████| 975/975 [00:46<00:00, 21.12it/s]\n",
      "Epoch 36:   0%|          | 0/2194 [00:00<?, ?it/s]"
     ]
    },
    {
     "name": "stdout",
     "output_type": "stream",
     "text": [
      "loss: nan | accuracy: 0.0622\n",
      "\n",
      "[00:45:32] type: train epoch: 36\n"
     ]
    },
    {
     "name": "stderr",
     "output_type": "stream",
     "text": [
      "Epoch 36: 100%|██████████| 2194/2194 [23:19<00:00,  1.57it/s]\n",
      "Epoch 36:   0%|          | 2/975 [00:00<01:18, 12.46it/s]"
     ]
    },
    {
     "name": "stdout",
     "output_type": "stream",
     "text": [
      "loss: nan | accuracy: 0.0659\n",
      "[01:08:52] type: valid epoch: 36\n"
     ]
    },
    {
     "name": "stderr",
     "output_type": "stream",
     "text": [
      "Epoch 36: 100%|██████████| 975/975 [00:46<00:00, 21.06it/s]\n",
      "Epoch 37:   0%|          | 0/2194 [00:00<?, ?it/s]"
     ]
    },
    {
     "name": "stdout",
     "output_type": "stream",
     "text": [
      "loss: nan | accuracy: 0.0622\n",
      "\n",
      "[01:09:39] type: train epoch: 37\n"
     ]
    },
    {
     "name": "stderr",
     "output_type": "stream",
     "text": [
      "Epoch 37:  14%|█▍        | 311/2194 [03:18<20:05,  1.56it/s]"
     ]
    }
   ],
   "source": [
    "model_trainer = Trainer(model, train_loader, valid_loader, device)\n",
    "model_trainer.start()"
   ]
  },
  {
   "cell_type": "code",
   "execution_count": null,
   "metadata": {},
   "outputs": [],
   "source": [
    "# PLOT TRAINING\n",
    "losses = model_trainer.losses\n",
    "accuracy = model_trainer.accuracy\n",
    "\n",
    "def plot(scores, name):\n",
    "    plt.figure(figsize=(15,5))\n",
    "    plt.plot(range(len(scores[\"train\"])), scores[\"train\"], label=f'train {name}')\n",
    "    plt.plot(range(len(scores[\"train\"])), scores[\"valid\"], label=f'valid {name}')\n",
    "    plt.title(f'{name} plot')\n",
    "    plt.xlabel('Epoch')\n",
    "    plt.ylabel(f'{name}')\n",
    "    plt.legend()\n",
    "    plt.show()\n",
    "\n",
    "plot(losses, \"loss\")\n",
    "plot(accuracy, \"accuracy\")"
   ]
  }
 ],
 "metadata": {
  "kernelspec": {
   "display_name": "Python 3",
   "language": "python",
   "name": "python3"
  },
  "language_info": {
   "codemirror_mode": {
    "name": "ipython",
    "version": 3
   },
   "file_extension": ".py",
   "mimetype": "text/x-python",
   "name": "python",
   "nbconvert_exporter": "python",
   "pygments_lexer": "ipython3",
   "version": "3.7.7"
  }
 },
 "nbformat": 4,
 "nbformat_minor": 4
}
