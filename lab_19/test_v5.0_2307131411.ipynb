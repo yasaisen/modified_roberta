{
 "cells": [
  {
   "attachments": {},
   "cell_type": "markdown",
   "metadata": {},
   "source": [
    "### installtions"
   ]
  },
  {
   "cell_type": "code",
   "execution_count": 1,
   "metadata": {},
   "outputs": [],
   "source": [
    "# !pip install scikit-learn"
   ]
  },
  {
   "attachments": {},
   "cell_type": "markdown",
   "metadata": {},
   "source": [
    "### imports"
   ]
  },
  {
   "cell_type": "code",
   "execution_count": 2,
   "metadata": {},
   "outputs": [],
   "source": [
    "import os\n",
    "import time\n",
    "import torch\n",
    "from torch.utils.data import DataLoader, Dataset\n",
    "from transformers import RobertaForSequenceClassification, RobertaTokenizerFast, AdamW\n",
    "# import datasets\n",
    "import pandas as pd\n",
    "from sklearn.model_selection import train_test_split\n",
    "from tqdm import tqdm\n",
    "import torch.backends.cudnn as cudnn\n",
    "from datetime import datetime\n",
    "import numpy as np\n",
    "from scipy.interpolate import interp1d\n",
    "import matplotlib.pyplot as plt\n",
    "pd.set_option('display.max_rows', None)"
   ]
  },
  {
   "attachments": {},
   "cell_type": "markdown",
   "metadata": {},
   "source": [
    "### paths & arguments"
   ]
  },
  {
   "cell_type": "code",
   "execution_count": 3,
   "metadata": {},
   "outputs": [],
   "source": [
    "ROOT_PATH = os.getcwd()\n",
    "DATA_PATH = os.path.join(ROOT_PATH, 'finetune_dataset/kge_sentiment_analysis')\n",
    "# DATA_PATH = os.path.join(ROOT_PATH, '../../research_datasets/finetune_dataset/kge_sentiment_analysis')\n",
    "\n",
    "# Set device\n",
    "device = torch.device('cuda') if torch.cuda.is_available() else torch.device('cpu')"
   ]
  },
  {
   "cell_type": "code",
   "execution_count": 4,
   "metadata": {},
   "outputs": [
    {
     "name": "stdout",
     "output_type": "stream",
     "text": [
      "_D_SST5_M_boomberta_B_64_E_500_LR_1e-06\n"
     ]
    }
   ],
   "source": [
    "DATASET = 'SST5'\n",
    "# DATASET = 'SST2'\n",
    "\n",
    "BSZ = 64\n",
    "EPOCH = 500\n",
    "LR = 1e-6\n",
    "\n",
    "KOKONOMODEL = 'boomberta'\n",
    "# KOKONOMODEL = 'roberta'\n",
    "\n",
    "KOKONOTEST = '_D_' + DATASET + '_M_' + KOKONOMODEL + '_B_' + str(BSZ) + '_E_' + str(EPOCH) + '_LR_' + str(LR)\n",
    "print(KOKONOTEST)"
   ]
  },
  {
   "cell_type": "code",
   "execution_count": 5,
   "metadata": {},
   "outputs": [],
   "source": [
    "MODEL_NAME = 'roberta-large'"
   ]
  },
  {
   "attachments": {},
   "cell_type": "markdown",
   "metadata": {},
   "source": [
    "### some function for checking"
   ]
  },
  {
   "cell_type": "code",
   "execution_count": 6,
   "metadata": {},
   "outputs": [],
   "source": [
    "def get_encodings_df_tokensaru(encodings, idx):\n",
    "    ids, tokens, attention_mask = [], [], []\n",
    "    i = 0\n",
    "\n",
    "    for get_ids in encodings[idx].ids:\n",
    "        ids += [get_ids]\n",
    "        \n",
    "    for get_tokens in encodings[idx].tokens:\n",
    "        tokens += [get_tokens.replace('Ġ', '')]\n",
    "\n",
    "    for get_attention_mask in encodings[idx].attention_mask:\n",
    "        attention_mask += [get_attention_mask]\n",
    "        i = i+1\n",
    "\n",
    "    show_tokens_DF = pd.DataFrame({'ids': ids, 'tokens': tokens, 'attention_mask': attention_mask})\n",
    "    print('got ' + str(i))\n",
    "    return show_tokens_DF"
   ]
  },
  {
   "cell_type": "code",
   "execution_count": 7,
   "metadata": {},
   "outputs": [],
   "source": [
    "# show_tokens_DF = get_encodings_df_tokensaru(test_encodings, 99)\n",
    "# show_tokens_DF"
   ]
  },
  {
   "cell_type": "code",
   "execution_count": 8,
   "metadata": {},
   "outputs": [],
   "source": [
    "def get_encodings_df(encodings, idx):\n",
    "    input_ids, attention_mask = [], []\n",
    "    i = 0\n",
    "\n",
    "    for get_input_ids in encodings['input_ids'][idx]:\n",
    "        input_ids += [get_input_ids]\n",
    "\n",
    "    for get_attention_mask in encodings['attention_mask'][idx]:\n",
    "        attention_mask += [get_attention_mask]\n",
    "        i = i+1\n",
    "\n",
    "    show_tokens_DF = pd.DataFrame({'input_ids': input_ids, 'attention_mask': attention_mask})\n",
    "    print('got ' + str(i))\n",
    "    return show_tokens_DF"
   ]
  },
  {
   "cell_type": "code",
   "execution_count": 9,
   "metadata": {},
   "outputs": [],
   "source": [
    "# show_tokens_DF = get_encodings_df(test_encodings, 99)\n",
    "# show_tokens_DF"
   ]
  },
  {
   "cell_type": "code",
   "execution_count": 10,
   "metadata": {},
   "outputs": [],
   "source": [
    "def print_model_summary(model):\n",
    "    total_params = 0\n",
    "    for name, param in model.named_parameters():\n",
    "        if param.requires_grad:\n",
    "            total_params += param.numel()\n",
    "    print(f\"Total Trainable Parameters: {total_params}\")"
   ]
  },
  {
   "cell_type": "code",
   "execution_count": 11,
   "metadata": {},
   "outputs": [],
   "source": [
    "# print_model_summary(model)"
   ]
  },
  {
   "attachments": {},
   "cell_type": "markdown",
   "metadata": {},
   "source": [
    "### datasets & preprocess"
   ]
  },
  {
   "cell_type": "code",
   "execution_count": 12,
   "metadata": {},
   "outputs": [],
   "source": [
    "# # Load the SST-5 dataset\n",
    "dataset = pd.read_csv(DATA_PATH + '/train.tsv.zip', sep=\"\\t\")\n",
    "train, valid = train_test_split(dataset, random_state=42, test_size = 0.1)"
   ]
  },
  {
   "cell_type": "code",
   "execution_count": 13,
   "metadata": {},
   "outputs": [],
   "source": [
    "# train, _ = train_test_split(train, random_state=42, test_size = 0.999)\n",
    "# valid, _ = train_test_split(valid, random_state=42, test_size = 0.99)"
   ]
  },
  {
   "cell_type": "code",
   "execution_count": 14,
   "metadata": {},
   "outputs": [],
   "source": [
    "# Load the tokenizer\n",
    "tokenizer = RobertaTokenizerFast.from_pretrained(MODEL_NAME)\n",
    "\n",
    "# Tokenize the dataset\n",
    "def tokenize_dataset(dataset):\n",
    "    encodings = tokenizer(dataset['Phrase'].tolist(), truncation=True, padding=True)\n",
    "    labels = dataset['Sentiment'].tolist()\n",
    "    return encodings, labels\n",
    "\n",
    "train_encodings, train_labels = tokenize_dataset(train)\n",
    "valid_encodings, valid_labels = tokenize_dataset(valid)"
   ]
  },
  {
   "cell_type": "code",
   "execution_count": 15,
   "metadata": {},
   "outputs": [],
   "source": [
    "# Create a torch dataset\n",
    "class TsvDataset(Dataset):\n",
    "    def __init__(self, encodings, labels):\n",
    "        self.encodings = encodings\n",
    "        self.labels = labels\n",
    "\n",
    "    def __getitem__(self, idx):\n",
    "        # item = {key: torch.tensor(val[idx]) for key, val in self.encodings.items()}\n",
    "        item = {}\n",
    "        item['input_ids'] = torch.tensor(self.encodings['input_ids'][idx])\n",
    "        item['attention_mask'] = torch.tensor(self.encodings['attention_mask'][idx])\n",
    "        item['labels'] = torch.tensor(self.labels[idx])\n",
    "\n",
    "        return item\n",
    "\n",
    "    def __len__(self):\n",
    "        return len(self.labels)"
   ]
  },
  {
   "cell_type": "code",
   "execution_count": 16,
   "metadata": {},
   "outputs": [],
   "source": [
    "train_dataset = TsvDataset(train_encodings, train_labels)\n",
    "valid_dataset = TsvDataset(valid_encodings, valid_labels)\n",
    "\n",
    "train_loader = DataLoader(train_dataset, batch_size=BSZ, shuffle=True, drop_last=True, generator=torch.Generator(device='cuda'))\n",
    "valid_loader = DataLoader(valid_dataset, batch_size=BSZ, shuffle=True, drop_last=True, generator=torch.Generator(device='cuda'))"
   ]
  },
  {
   "attachments": {},
   "cell_type": "markdown",
   "metadata": {},
   "source": [
    "### boomberta import"
   ]
  },
  {
   "cell_type": "code",
   "execution_count": 17,
   "metadata": {},
   "outputs": [],
   "source": [
    "import math\n",
    "from typing import List, Optional, Tuple, Union\n",
    "\n",
    "import torch\n",
    "import torch.utils.checkpoint\n",
    "from torch import nn\n",
    "from torch.nn import BCEWithLogitsLoss, CrossEntropyLoss, MSELoss\n",
    "\n",
    "# from ...activations import ACT2FN, gelu\n",
    "from transformers.activations import ACT2FN, gelu\n",
    "# from ...modeling_outputs import (\n",
    "#     BaseModelOutputWithPastAndCrossAttentions,\n",
    "#     BaseModelOutputWithPoolingAndCrossAttentions,\n",
    "#     CausalLMOutputWithCrossAttentions,\n",
    "#     MaskedLMOutput,\n",
    "#     MultipleChoiceModelOutput,\n",
    "#     QuestionAnsweringModelOutput,\n",
    "#     SequenceClassifierOutput,\n",
    "#     TokenClassifierOutput,\n",
    "# )\n",
    "from transformers.modeling_outputs import (\n",
    "    BaseModelOutputWithPastAndCrossAttentions,\n",
    "    BaseModelOutputWithPoolingAndCrossAttentions,\n",
    "    CausalLMOutputWithCrossAttentions,\n",
    "    MaskedLMOutput,\n",
    "    MultipleChoiceModelOutput,\n",
    "    QuestionAnsweringModelOutput,\n",
    "    SequenceClassifierOutput,\n",
    "    TokenClassifierOutput,\n",
    ")\n",
    "# from ...modeling_utils import PreTrainedModel\n",
    "from transformers.modeling_utils import PreTrainedModel\n",
    "# from ...pytorch_utils import apply_chunking_to_forward, find_pruneable_heads_and_indices, prune_linear_layer\n",
    "from transformers.pytorch_utils import apply_chunking_to_forward, find_pruneable_heads_and_indices, prune_linear_layer\n",
    "# from ...utils import (\n",
    "#     add_code_sample_docstrings,\n",
    "#     add_start_docstrings,\n",
    "#     add_start_docstrings_to_model_forward,\n",
    "#     logging,\n",
    "#     replace_return_docstrings,\n",
    "# )\n",
    "from transformers.utils import (\n",
    "    add_code_sample_docstrings,\n",
    "    add_start_docstrings,\n",
    "    add_start_docstrings_to_model_forward,\n",
    "    logging,\n",
    "    replace_return_docstrings,\n",
    ")\n",
    "# from .configuration_roberta import RobertaConfig\n",
    "from transformers.models.roberta.configuration_roberta import RobertaConfig\n",
    "\n",
    "logger = logging.get_logger(__name__)\n",
    "\n",
    "_CHECKPOINT_FOR_DOC = \"roberta-base\"\n",
    "_CONFIG_FOR_DOC = \"RobertaConfig\"\n",
    "\n",
    "ROBERTA_PRETRAINED_MODEL_ARCHIVE_LIST = [\n",
    "    \"roberta-base\",\n",
    "    \"roberta-large\",\n",
    "    \"roberta-large-mnli\",\n",
    "    \"distilroberta-base\",\n",
    "    \"roberta-base-openai-detector\",\n",
    "    \"roberta-large-openai-detector\",\n",
    "    # See all RoBERTa models at https://huggingface.co/models?filter=roberta\n",
    "]\n",
    "\n",
    "ROBERTA_INPUTS_DOCSTRING = r\"\"\"\n",
    "    Args:\n",
    "        input_ids (`torch.LongTensor` of shape `({0})`):\n",
    "            Indices of input sequence tokens in the vocabulary.\n",
    "\n",
    "            Indices can be obtained using [`AutoTokenizer`]. See [`PreTrainedTokenizer.encode`] and\n",
    "            [`PreTrainedTokenizer.__call__`] for details.\n",
    "\n",
    "            [What are input IDs?](../glossary#input-ids)\n",
    "        attention_mask (`torch.FloatTensor` of shape `({0})`, *optional*):\n",
    "            Mask to avoid performing attention on padding token indices. Mask values selected in `[0, 1]`:\n",
    "\n",
    "            - 1 for tokens that are **not masked**,\n",
    "            - 0 for tokens that are **masked**.\n",
    "\n",
    "            [What are attention masks?](../glossary#attention-mask)\n",
    "        token_type_ids (`torch.LongTensor` of shape `({0})`, *optional*):\n",
    "            Segment token indices to indicate first and second portions of the inputs. Indices are selected in `[0,1]`:\n",
    "\n",
    "            - 0 corresponds to a *sentence A* token,\n",
    "            - 1 corresponds to a *sentence B* token.\n",
    "            This parameter can only be used when the model is initialized with `type_vocab_size` parameter with value\n",
    "            >= 2. All the value in this tensor should be always < type_vocab_size.\n",
    "\n",
    "            [What are token type IDs?](../glossary#token-type-ids)\n",
    "        position_ids (`torch.LongTensor` of shape `({0})`, *optional*):\n",
    "            Indices of positions of each input sequence tokens in the position embeddings. Selected in the range `[0,\n",
    "            config.max_position_embeddings - 1]`.\n",
    "\n",
    "            [What are position IDs?](../glossary#position-ids)\n",
    "        head_mask (`torch.FloatTensor` of shape `(num_heads,)` or `(num_layers, num_heads)`, *optional*):\n",
    "            Mask to nullify selected heads of the self-attention modules. Mask values selected in `[0, 1]`:\n",
    "\n",
    "            - 1 indicates the head is **not masked**,\n",
    "            - 0 indicates the head is **masked**.\n",
    "\n",
    "        inputs_embeds (`torch.FloatTensor` of shape `({0}, hidden_size)`, *optional*):\n",
    "            Optionally, instead of passing `input_ids` you can choose to directly pass an embedded representation. This\n",
    "            is useful if you want more control over how to convert `input_ids` indices into associated vectors than the\n",
    "            model's internal embedding lookup matrix.\n",
    "        output_attentions (`bool`, *optional*):\n",
    "            Whether or not to return the attentions tensors of all attention layers. See `attentions` under returned\n",
    "            tensors for more detail.\n",
    "        output_hidden_states (`bool`, *optional*):\n",
    "            Whether or not to return the hidden states of all layers. See `hidden_states` under returned tensors for\n",
    "            more detail.\n",
    "        return_dict (`bool`, *optional*):\n",
    "            Whether or not to return a [`~utils.ModelOutput`] instead of a plain tuple.\n",
    "\"\"\""
   ]
  },
  {
   "cell_type": "code",
   "execution_count": 18,
   "metadata": {},
   "outputs": [],
   "source": [
    "from transformers.models.roberta.modeling_roberta import (\n",
    "    RobertaAttention, \n",
    "    RobertaPreTrainedModel, \n",
    "    RobertaPooler, \n",
    "    RobertaEmbeddings, \n",
    "    RobertaClassificationHead\n",
    "    )\n",
    "from torch import Tensor"
   ]
  },
  {
   "cell_type": "code",
   "execution_count": 19,
   "metadata": {},
   "outputs": [],
   "source": [
    "class GELU(nn.Module):\n",
    "    def forward(self, x):\n",
    "        return x * torch.sigmoid(1.702 * x)"
   ]
  },
  {
   "cell_type": "code",
   "execution_count": 20,
   "metadata": {},
   "outputs": [],
   "source": [
    "class Boom_crop(nn.Module):\n",
    "    def __init__(self, in_features: int, out_features: int) -> None:\n",
    "        super(Boom_crop, self).__init__()\n",
    "        self.in_features = in_features\n",
    "        self.out_features = out_features\n",
    "\n",
    "    def forward(self, input: Tensor) -> Tensor:\n",
    "        ninp = self.out_features\n",
    "        output = torch.narrow(input, -1, 0, input.shape[-1] // ninp * ninp)\n",
    "        output = output.view(*output.shape[:-1], output.shape[-1] // ninp, ninp)\n",
    "        output = output.sum(dim=-2)\n",
    "        return output"
   ]
  },
  {
   "cell_type": "code",
   "execution_count": 21,
   "metadata": {},
   "outputs": [],
   "source": [
    "class Boom_Layer(nn.Module):\n",
    "    def __init__(self, in_features: int, mid_features: int, dropout=0.1) -> None:\n",
    "        super(Boom_Layer, self).__init__()\n",
    "\n",
    "        self.up_linear = nn.Linear(in_features, mid_features)\n",
    "        self.boom_crop = Boom_crop(mid_features, in_features)\n",
    "\n",
    "        self.act = GELU()\n",
    "        self.dropout = nn.Dropout(dropout)\n",
    "\n",
    "    def forward(self, input: Tensor) -> Tensor:\n",
    "\n",
    "        output = self.up_linear(input)\n",
    "        output = self.act(output)\n",
    "        output = self.dropout(output)\n",
    "\n",
    "        output = self.boom_crop(output)\n",
    "\n",
    "        return output"
   ]
  },
  {
   "cell_type": "code",
   "execution_count": 22,
   "metadata": {},
   "outputs": [],
   "source": [
    "class RobertaIntermediateAndBoom(nn.Module):\n",
    "    def __init__(self, config):\n",
    "        super().__init__()\n",
    "        # self.dense_1 = nn.Linear(config.hidden_size, config.intermediate_size)\n",
    "        # if isinstance(config.hidden_act, str):\n",
    "        #     self.intermediate_act_fn = ACT2FN[config.hidden_act]\n",
    "        # else:\n",
    "        #     self.intermediate_act_fn = config.hidden_act\n",
    "\n",
    "        # self.dense_2 = nn.Linear(config.intermediate_size, config.hidden_size)\n",
    "\n",
    "        self.boom = Boom_Layer(config.hidden_size, config.intermediate_size)\n",
    "\n",
    "        self.dropout = nn.Dropout(config.hidden_dropout_prob)\n",
    "        self.LayerNorm = nn.LayerNorm(config.hidden_size, eps=config.layer_norm_eps)\n",
    "\n",
    "    def forward(self, input_tensor: torch.Tensor) -> torch.Tensor:\n",
    "        # hidden_states = self.dense_1(input_tensor)\n",
    "        # hidden_states = self.intermediate_act_fn(hidden_states)\n",
    "\n",
    "        # hidden_states = self.dense_2(hidden_states)\n",
    "\n",
    "        hidden_states = self.boom(input_tensor)\n",
    "\n",
    "        hidden_states = self.dropout(hidden_states)\n",
    "        hidden_states = self.LayerNorm(hidden_states + input_tensor)\n",
    "\n",
    "        return hidden_states"
   ]
  },
  {
   "cell_type": "code",
   "execution_count": 23,
   "metadata": {},
   "outputs": [],
   "source": [
    "class ModifiedRobertaLayer(nn.Module):\n",
    "    def __init__(self, config):\n",
    "        super().__init__()\n",
    "        self.chunk_size_feed_forward = config.chunk_size_feed_forward\n",
    "        self.seq_len_dim = 1\n",
    "        self.attention = RobertaAttention(config)\n",
    "        self.is_decoder = config.is_decoder\n",
    "        self.add_cross_attention = config.add_cross_attention\n",
    "        if self.add_cross_attention:\n",
    "            if not self.is_decoder:\n",
    "                raise ValueError(f\"{self} should be used as a decoder model if cross attention is added\")\n",
    "            self.crossattention = RobertaAttention(config, position_embedding_type=\"absolute\")\n",
    "        # self.intermediate = RobertaIntermediate(config)#####\n",
    "        # self.output = RobertaOutput(config)#####\n",
    "        \n",
    "        self.intermediateandboom = RobertaIntermediateAndBoom(config)\n",
    "\n",
    "    def forward(\n",
    "        self,\n",
    "        hidden_states: torch.Tensor,\n",
    "        attention_mask: Optional[torch.FloatTensor] = None,\n",
    "        head_mask: Optional[torch.FloatTensor] = None,\n",
    "        encoder_hidden_states: Optional[torch.FloatTensor] = None,\n",
    "        encoder_attention_mask: Optional[torch.FloatTensor] = None,\n",
    "        past_key_value: Optional[Tuple[Tuple[torch.FloatTensor]]] = None,\n",
    "        output_attentions: Optional[bool] = False,\n",
    "    ) -> Tuple[torch.Tensor]:\n",
    "        # decoder uni-directional self-attention cached key/values tuple is at positions 1,2\n",
    "        self_attn_past_key_value = past_key_value[:2] if past_key_value is not None else None\n",
    "        self_attention_outputs = self.attention(\n",
    "            hidden_states,\n",
    "            attention_mask,\n",
    "            head_mask,\n",
    "            output_attentions=output_attentions,\n",
    "            past_key_value=self_attn_past_key_value,\n",
    "        )\n",
    "        attention_output = self_attention_outputs[0]\n",
    "\n",
    "        # if decoder, the last output is tuple of self-attn cache\n",
    "        if self.is_decoder:\n",
    "            outputs = self_attention_outputs[1:-1]\n",
    "            present_key_value = self_attention_outputs[-1]\n",
    "        else:\n",
    "            outputs = self_attention_outputs[1:]  # add self attentions if we output attention weights\n",
    "\n",
    "        cross_attn_present_key_value = None\n",
    "        if self.is_decoder and encoder_hidden_states is not None:\n",
    "            if not hasattr(self, \"crossattention\"):\n",
    "                raise ValueError(\n",
    "                    f\"If `encoder_hidden_states` are passed, {self} has to be instantiated with cross-attention layers\"\n",
    "                    \" by setting `config.add_cross_attention=True`\"\n",
    "                )\n",
    "\n",
    "            # cross_attn cached key/values tuple is at positions 3,4 of past_key_value tuple\n",
    "            cross_attn_past_key_value = past_key_value[-2:] if past_key_value is not None else None\n",
    "            cross_attention_outputs = self.crossattention(\n",
    "                attention_output,\n",
    "                attention_mask,\n",
    "                head_mask,\n",
    "                encoder_hidden_states,\n",
    "                encoder_attention_mask,\n",
    "                cross_attn_past_key_value,\n",
    "                output_attentions,\n",
    "            )\n",
    "            attention_output = cross_attention_outputs[0]\n",
    "            outputs = outputs + cross_attention_outputs[1:-1]  # add cross attentions if we output attention weights\n",
    "\n",
    "            # add cross-attn cache to positions 3,4 of present_key_value tuple\n",
    "            cross_attn_present_key_value = cross_attention_outputs[-1]\n",
    "            present_key_value = present_key_value + cross_attn_present_key_value\n",
    "\n",
    "        layer_output = apply_chunking_to_forward(\n",
    "            self.feed_forward_chunk, self.chunk_size_feed_forward, self.seq_len_dim, attention_output\n",
    "        )\n",
    "        outputs = (layer_output,) + outputs\n",
    "\n",
    "        # if decoder, return the attn key/values as the last output\n",
    "        if self.is_decoder:\n",
    "            outputs = outputs + (present_key_value,)\n",
    "\n",
    "        return outputs\n",
    "\n",
    "    def feed_forward_chunk(self, attention_output):\n",
    "        # print(attention_output.shape)\n",
    "        # intermediate_output = self.intermediate(attention_output)\n",
    "        # print(intermediate_output.shape)\n",
    "        # layer_output = self.output(intermediate_output, attention_output)\n",
    "        # print(layer_output.shape)\n",
    "\n",
    "        layer_output = self.intermediateandboom(attention_output)\n",
    "\n",
    "        return layer_output"
   ]
  },
  {
   "cell_type": "code",
   "execution_count": 24,
   "metadata": {},
   "outputs": [],
   "source": [
    "class ModifiedRobertaEncoder(nn.Module):\n",
    "    def __init__(self, config):\n",
    "        super().__init__()\n",
    "        self.config = config\n",
    "        self.layer = nn.ModuleList([ModifiedRobertaLayer(config) for _ in range(config.num_hidden_layers)])\n",
    "        self.gradient_checkpointing = False\n",
    "\n",
    "    def forward(\n",
    "        self,\n",
    "        hidden_states: torch.Tensor,\n",
    "        attention_mask: Optional[torch.FloatTensor] = None,\n",
    "        head_mask: Optional[torch.FloatTensor] = None,\n",
    "        encoder_hidden_states: Optional[torch.FloatTensor] = None,\n",
    "        encoder_attention_mask: Optional[torch.FloatTensor] = None,\n",
    "        past_key_values: Optional[Tuple[Tuple[torch.FloatTensor]]] = None,\n",
    "        use_cache: Optional[bool] = None,\n",
    "        output_attentions: Optional[bool] = False,\n",
    "        output_hidden_states: Optional[bool] = False,\n",
    "        return_dict: Optional[bool] = True,\n",
    "    ) -> Union[Tuple[torch.Tensor], BaseModelOutputWithPastAndCrossAttentions]:\n",
    "        all_hidden_states = () if output_hidden_states else None\n",
    "        all_self_attentions = () if output_attentions else None\n",
    "        all_cross_attentions = () if output_attentions and self.config.add_cross_attention else None\n",
    "\n",
    "        next_decoder_cache = () if use_cache else None\n",
    "        for i, layer_module in enumerate(self.layer):\n",
    "            if output_hidden_states:\n",
    "                all_hidden_states = all_hidden_states + (hidden_states,)\n",
    "\n",
    "            layer_head_mask = head_mask[i] if head_mask is not None else None\n",
    "            past_key_value = past_key_values[i] if past_key_values is not None else None\n",
    "\n",
    "            if self.gradient_checkpointing and self.training:\n",
    "                if use_cache:\n",
    "                    logger.warning(\n",
    "                        \"`use_cache=True` is incompatible with gradient checkpointing. Setting `use_cache=False`...\"\n",
    "                    )\n",
    "                    use_cache = False\n",
    "\n",
    "                def create_custom_forward(module):\n",
    "                    def custom_forward(*inputs):\n",
    "                        return module(*inputs, past_key_value, output_attentions)\n",
    "\n",
    "                    return custom_forward\n",
    "\n",
    "                layer_outputs = torch.utils.checkpoint.checkpoint(\n",
    "                    create_custom_forward(layer_module),\n",
    "                    hidden_states,\n",
    "                    attention_mask,\n",
    "                    layer_head_mask,\n",
    "                    encoder_hidden_states,\n",
    "                    encoder_attention_mask,\n",
    "                )\n",
    "            else:\n",
    "                layer_outputs = layer_module(\n",
    "                    hidden_states,\n",
    "                    attention_mask,\n",
    "                    layer_head_mask,\n",
    "                    encoder_hidden_states,\n",
    "                    encoder_attention_mask,\n",
    "                    past_key_value,\n",
    "                    output_attentions,\n",
    "                )\n",
    "\n",
    "            hidden_states = layer_outputs[0]\n",
    "            if use_cache:\n",
    "                next_decoder_cache += (layer_outputs[-1],)\n",
    "            if output_attentions:\n",
    "                all_self_attentions = all_self_attentions + (layer_outputs[1],)\n",
    "                if self.config.add_cross_attention:\n",
    "                    all_cross_attentions = all_cross_attentions + (layer_outputs[2],)\n",
    "\n",
    "        if output_hidden_states:\n",
    "            all_hidden_states = all_hidden_states + (hidden_states,)\n",
    "\n",
    "        if not return_dict:\n",
    "            return tuple(\n",
    "                v\n",
    "                for v in [\n",
    "                    hidden_states,\n",
    "                    next_decoder_cache,\n",
    "                    all_hidden_states,\n",
    "                    all_self_attentions,\n",
    "                    all_cross_attentions,\n",
    "                ]\n",
    "                if v is not None\n",
    "            )\n",
    "        return BaseModelOutputWithPastAndCrossAttentions(\n",
    "            last_hidden_state=hidden_states,\n",
    "            past_key_values=next_decoder_cache,\n",
    "            hidden_states=all_hidden_states,\n",
    "            attentions=all_self_attentions,\n",
    "            cross_attentions=all_cross_attentions,\n",
    "        )"
   ]
  },
  {
   "cell_type": "code",
   "execution_count": 25,
   "metadata": {},
   "outputs": [],
   "source": [
    "class ModifiedRobertaModel(RobertaPreTrainedModel):\n",
    "    \"\"\"\n",
    "\n",
    "    The model can behave as an encoder (with only self-attention) as well as a decoder, in which case a layer of\n",
    "    cross-attention is added between the self-attention layers, following the architecture described in *Attention is\n",
    "    all you need*_ by Ashish Vaswani, Noam Shazeer, Niki Parmar, Jakob Uszkoreit, Llion Jones, Aidan N. Gomez, Lukasz\n",
    "    Kaiser and Illia Polosukhin.\n",
    "\n",
    "    To behave as an decoder the model needs to be initialized with the `is_decoder` argument of the configuration set\n",
    "    to `True`. To be used in a Seq2Seq model, the model needs to initialized with both `is_decoder` argument and\n",
    "    `add_cross_attention` set to `True`; an `encoder_hidden_states` is then expected as an input to the forward pass.\n",
    "\n",
    "    .. _*Attention is all you need*: https://arxiv.org/abs/1706.03762\n",
    "\n",
    "    \"\"\"\n",
    "\n",
    "    _keys_to_ignore_on_load_missing = [r\"position_ids\"]\n",
    "\n",
    "    # Copied from transformers.models.bert.modeling_bert.BertModel.__init__ with Bert->Roberta\n",
    "    def __init__(self, config, add_pooling_layer=True):\n",
    "        super().__init__(config)\n",
    "        self.config = config\n",
    "\n",
    "        self.embeddings = RobertaEmbeddings(config)\n",
    "        self.encoder = ModifiedRobertaEncoder(config)\n",
    "\n",
    "        self.pooler = RobertaPooler(config) if add_pooling_layer else None\n",
    "\n",
    "        # Initialize weights and apply final processing\n",
    "        self.post_init()\n",
    "\n",
    "    def get_input_embeddings(self):\n",
    "        return self.embeddings.word_embeddings\n",
    "\n",
    "    def set_input_embeddings(self, value):\n",
    "        self.embeddings.word_embeddings = value\n",
    "\n",
    "    def _prune_heads(self, heads_to_prune):\n",
    "        \"\"\"\n",
    "        Prunes heads of the model. heads_to_prune: dict of {layer_num: list of heads to prune in this layer} See base\n",
    "        class PreTrainedModel\n",
    "        \"\"\"\n",
    "        for layer, heads in heads_to_prune.items():\n",
    "            self.encoder.layer[layer].attention.prune_heads(heads)\n",
    "\n",
    "    @add_start_docstrings_to_model_forward(ROBERTA_INPUTS_DOCSTRING.format(\"batch_size, sequence_length\"))\n",
    "    @add_code_sample_docstrings(\n",
    "        checkpoint=_CHECKPOINT_FOR_DOC,\n",
    "        output_type=BaseModelOutputWithPoolingAndCrossAttentions,\n",
    "        config_class=_CONFIG_FOR_DOC,\n",
    "    )\n",
    "    # Copied from transformers.models.bert.modeling_bert.BertModel.forward\n",
    "    def forward(\n",
    "        self,\n",
    "        input_ids: Optional[torch.Tensor] = None,\n",
    "        attention_mask: Optional[torch.Tensor] = None,\n",
    "        token_type_ids: Optional[torch.Tensor] = None,\n",
    "        position_ids: Optional[torch.Tensor] = None,\n",
    "        head_mask: Optional[torch.Tensor] = None,\n",
    "        inputs_embeds: Optional[torch.Tensor] = None,\n",
    "        encoder_hidden_states: Optional[torch.Tensor] = None,\n",
    "        encoder_attention_mask: Optional[torch.Tensor] = None,\n",
    "        past_key_values: Optional[List[torch.FloatTensor]] = None,\n",
    "        use_cache: Optional[bool] = None,\n",
    "        output_attentions: Optional[bool] = None,\n",
    "        output_hidden_states: Optional[bool] = None,\n",
    "        return_dict: Optional[bool] = None,\n",
    "    ) -> Union[Tuple[torch.Tensor], BaseModelOutputWithPoolingAndCrossAttentions]:\n",
    "        r\"\"\"\n",
    "        encoder_hidden_states  (`torch.FloatTensor` of shape `(batch_size, sequence_length, hidden_size)`, *optional*):\n",
    "            Sequence of hidden-states at the output of the last layer of the encoder. Used in the cross-attention if\n",
    "            the model is configured as a decoder.\n",
    "        encoder_attention_mask (`torch.FloatTensor` of shape `(batch_size, sequence_length)`, *optional*):\n",
    "            Mask to avoid performing attention on the padding token indices of the encoder input. This mask is used in\n",
    "            the cross-attention if the model is configured as a decoder. Mask values selected in `[0, 1]`:\n",
    "\n",
    "            - 1 for tokens that are **not masked**,\n",
    "            - 0 for tokens that are **masked**.\n",
    "        past_key_values (`tuple(tuple(torch.FloatTensor))` of length `config.n_layers` with each tuple having 4 tensors of shape `(batch_size, num_heads, sequence_length - 1, embed_size_per_head)`):\n",
    "            Contains precomputed key and value hidden states of the attention blocks. Can be used to speed up decoding.\n",
    "\n",
    "            If `past_key_values` are used, the user can optionally input only the last `decoder_input_ids` (those that\n",
    "            don't have their past key value states given to this model) of shape `(batch_size, 1)` instead of all\n",
    "            `decoder_input_ids` of shape `(batch_size, sequence_length)`.\n",
    "        use_cache (`bool`, *optional*):\n",
    "            If set to `True`, `past_key_values` key value states are returned and can be used to speed up decoding (see\n",
    "            `past_key_values`).\n",
    "        \"\"\"\n",
    "        output_attentions = output_attentions if output_attentions is not None else self.config.output_attentions\n",
    "        output_hidden_states = (\n",
    "            output_hidden_states if output_hidden_states is not None else self.config.output_hidden_states\n",
    "        )\n",
    "        return_dict = return_dict if return_dict is not None else self.config.use_return_dict\n",
    "\n",
    "        if self.config.is_decoder:\n",
    "            use_cache = use_cache if use_cache is not None else self.config.use_cache\n",
    "        else:\n",
    "            use_cache = False\n",
    "\n",
    "        if input_ids is not None and inputs_embeds is not None:\n",
    "            raise ValueError(\"You cannot specify both input_ids and inputs_embeds at the same time\")\n",
    "        elif input_ids is not None:\n",
    "            input_shape = input_ids.size()\n",
    "        elif inputs_embeds is not None:\n",
    "            input_shape = inputs_embeds.size()[:-1]\n",
    "        else:\n",
    "            raise ValueError(\"You have to specify either input_ids or inputs_embeds\")\n",
    "\n",
    "        batch_size, seq_length = input_shape\n",
    "        device = input_ids.device if input_ids is not None else inputs_embeds.device\n",
    "\n",
    "        # past_key_values_length\n",
    "        past_key_values_length = past_key_values[0][0].shape[2] if past_key_values is not None else 0\n",
    "\n",
    "        if attention_mask is None:\n",
    "            attention_mask = torch.ones(((batch_size, seq_length + past_key_values_length)), device=device)\n",
    "\n",
    "        if token_type_ids is None:\n",
    "            if hasattr(self.embeddings, \"token_type_ids\"):\n",
    "                buffered_token_type_ids = self.embeddings.token_type_ids[:, :seq_length]\n",
    "                buffered_token_type_ids_expanded = buffered_token_type_ids.expand(batch_size, seq_length)\n",
    "                token_type_ids = buffered_token_type_ids_expanded\n",
    "            else:\n",
    "                token_type_ids = torch.zeros(input_shape, dtype=torch.long, device=device)\n",
    "\n",
    "        # We can provide a self-attention mask of dimensions [batch_size, from_seq_length, to_seq_length]\n",
    "        # ourselves in which case we just need to make it broadcastable to all heads.\n",
    "        extended_attention_mask: torch.Tensor = self.get_extended_attention_mask(attention_mask, input_shape)\n",
    "\n",
    "        # If a 2D or 3D attention mask is provided for the cross-attention\n",
    "        # we need to make broadcastable to [batch_size, num_heads, seq_length, seq_length]\n",
    "        if self.config.is_decoder and encoder_hidden_states is not None:\n",
    "            encoder_batch_size, encoder_sequence_length, _ = encoder_hidden_states.size()\n",
    "            encoder_hidden_shape = (encoder_batch_size, encoder_sequence_length)\n",
    "            if encoder_attention_mask is None:\n",
    "                encoder_attention_mask = torch.ones(encoder_hidden_shape, device=device)\n",
    "            encoder_extended_attention_mask = self.invert_attention_mask(encoder_attention_mask)\n",
    "        else:\n",
    "            encoder_extended_attention_mask = None\n",
    "\n",
    "        # Prepare head mask if needed\n",
    "        # 1.0 in head_mask indicate we keep the head\n",
    "        # attention_probs has shape bsz x n_heads x N x N\n",
    "        # input head_mask has shape [num_heads] or [num_hidden_layers x num_heads]\n",
    "        # and head_mask is converted to shape [num_hidden_layers x batch x num_heads x seq_length x seq_length]\n",
    "        head_mask = self.get_head_mask(head_mask, self.config.num_hidden_layers)\n",
    "\n",
    "        embedding_output = self.embeddings(\n",
    "            input_ids=input_ids,\n",
    "            position_ids=position_ids,\n",
    "            token_type_ids=token_type_ids,\n",
    "            inputs_embeds=inputs_embeds,\n",
    "            past_key_values_length=past_key_values_length,\n",
    "        )\n",
    "        encoder_outputs = self.encoder(\n",
    "            embedding_output,\n",
    "            attention_mask=extended_attention_mask,\n",
    "            head_mask=head_mask,\n",
    "            encoder_hidden_states=encoder_hidden_states,\n",
    "            encoder_attention_mask=encoder_extended_attention_mask,\n",
    "            past_key_values=past_key_values,\n",
    "            use_cache=use_cache,\n",
    "            output_attentions=output_attentions,\n",
    "            output_hidden_states=output_hidden_states,\n",
    "            return_dict=return_dict,\n",
    "        )\n",
    "        sequence_output = encoder_outputs[0]\n",
    "        pooled_output = self.pooler(sequence_output) if self.pooler is not None else None\n",
    "\n",
    "        if not return_dict:\n",
    "            return (sequence_output, pooled_output) + encoder_outputs[1:]\n",
    "\n",
    "        return BaseModelOutputWithPoolingAndCrossAttentions(\n",
    "            last_hidden_state=sequence_output,\n",
    "            pooler_output=pooled_output,\n",
    "            past_key_values=encoder_outputs.past_key_values,\n",
    "            hidden_states=encoder_outputs.hidden_states,\n",
    "            attentions=encoder_outputs.attentions,\n",
    "            cross_attentions=encoder_outputs.cross_attentions,\n",
    "        )"
   ]
  },
  {
   "cell_type": "code",
   "execution_count": 26,
   "metadata": {},
   "outputs": [],
   "source": [
    "class ModifiedRobertaForSequenceClassification(RobertaPreTrainedModel):\n",
    "    _keys_to_ignore_on_load_missing = [r\"position_ids\"]\n",
    "\n",
    "    def __init__(self, config):\n",
    "        super().__init__(config)\n",
    "        self.num_labels = config.num_labels\n",
    "        self.config = config\n",
    "\n",
    "        self.roberta = ModifiedRobertaModel(config, add_pooling_layer=False)\n",
    "        self.classifier = RobertaClassificationHead(config)\n",
    "\n",
    "        # Initialize weights and apply final processing\n",
    "        self.post_init()\n",
    "\n",
    "    @add_start_docstrings_to_model_forward(ROBERTA_INPUTS_DOCSTRING.format(\"batch_size, sequence_length\"))\n",
    "    @add_code_sample_docstrings(\n",
    "        checkpoint=\"cardiffnlp/twitter-roberta-base-emotion\",\n",
    "        output_type=SequenceClassifierOutput,\n",
    "        config_class=_CONFIG_FOR_DOC,\n",
    "        expected_output=\"'optimism'\",\n",
    "        expected_loss=0.08,\n",
    "    )\n",
    "    def forward(\n",
    "        self,\n",
    "        input_ids: Optional[torch.LongTensor] = None,\n",
    "        attention_mask: Optional[torch.FloatTensor] = None,\n",
    "        token_type_ids: Optional[torch.LongTensor] = None,\n",
    "        position_ids: Optional[torch.LongTensor] = None,\n",
    "        head_mask: Optional[torch.FloatTensor] = None,\n",
    "        inputs_embeds: Optional[torch.FloatTensor] = None,\n",
    "        labels: Optional[torch.LongTensor] = None,\n",
    "        output_attentions: Optional[bool] = None,\n",
    "        output_hidden_states: Optional[bool] = None,\n",
    "        return_dict: Optional[bool] = None,\n",
    "    ) -> Union[Tuple[torch.Tensor], SequenceClassifierOutput]:\n",
    "        r\"\"\"\n",
    "        labels (`torch.LongTensor` of shape `(batch_size,)`, *optional*):\n",
    "            Labels for computing the sequence classification/regression loss. Indices should be in `[0, ...,\n",
    "            config.num_labels - 1]`. If `config.num_labels == 1` a regression loss is computed (Mean-Square loss), If\n",
    "            `config.num_labels > 1` a classification loss is computed (Cross-Entropy).\n",
    "        \"\"\"\n",
    "        return_dict = return_dict if return_dict is not None else self.config.use_return_dict\n",
    "\n",
    "        outputs = self.roberta(\n",
    "            input_ids,\n",
    "            attention_mask=attention_mask,\n",
    "            token_type_ids=token_type_ids,\n",
    "            position_ids=position_ids,\n",
    "            head_mask=head_mask,\n",
    "            inputs_embeds=inputs_embeds,\n",
    "            output_attentions=output_attentions,\n",
    "            output_hidden_states=output_hidden_states,\n",
    "            return_dict=return_dict,\n",
    "        )\n",
    "        sequence_output = outputs[0]\n",
    "        logits = self.classifier(sequence_output)\n",
    "\n",
    "        loss = None\n",
    "        if labels is not None:\n",
    "            if self.config.problem_type is None:\n",
    "                if self.num_labels == 1:\n",
    "                    self.config.problem_type = \"regression\"\n",
    "                elif self.num_labels > 1 and (labels.dtype == torch.long or labels.dtype == torch.int):\n",
    "                    self.config.problem_type = \"single_label_classification\"\n",
    "                else:\n",
    "                    self.config.problem_type = \"multi_label_classification\"\n",
    "\n",
    "            if self.config.problem_type == \"regression\":\n",
    "                loss_fct = MSELoss()\n",
    "                if self.num_labels == 1:\n",
    "                    loss = loss_fct(logits.squeeze(), labels.squeeze())\n",
    "                else:\n",
    "                    loss = loss_fct(logits, labels)\n",
    "            elif self.config.problem_type == \"single_label_classification\":\n",
    "                loss_fct = CrossEntropyLoss()\n",
    "                loss = loss_fct(logits.view(-1, self.num_labels), labels.view(-1))\n",
    "            elif self.config.problem_type == \"multi_label_classification\":\n",
    "                loss_fct = BCEWithLogitsLoss()\n",
    "                loss = loss_fct(logits, labels)\n",
    "\n",
    "        if not return_dict:\n",
    "            output = (logits,) + outputs[2:]\n",
    "            return ((loss,) + output) if loss is not None else output\n",
    "\n",
    "        return SequenceClassifierOutput(\n",
    "            loss=loss,\n",
    "            logits=logits,\n",
    "            hidden_states=outputs.hidden_states,\n",
    "            attentions=outputs.attentions,\n",
    "        )"
   ]
  },
  {
   "attachments": {},
   "cell_type": "markdown",
   "metadata": {},
   "source": [
    "### model"
   ]
  },
  {
   "cell_type": "code",
   "execution_count": 27,
   "metadata": {},
   "outputs": [
    {
     "name": "stdout",
     "output_type": "stream",
     "text": [
      "boomberta\n"
     ]
    }
   ],
   "source": [
    "print(KOKONOMODEL)"
   ]
  },
  {
   "cell_type": "code",
   "execution_count": 28,
   "metadata": {},
   "outputs": [
    {
     "name": "stderr",
     "output_type": "stream",
     "text": [
      "Some weights of the model checkpoint at roberta-large were not used when initializing ModifiedRobertaForSequenceClassification: ['roberta.encoder.layer.10.output.LayerNorm.weight', 'roberta.encoder.layer.2.output.LayerNorm.bias', 'roberta.encoder.layer.9.intermediate.dense.weight', 'roberta.encoder.layer.10.intermediate.dense.weight', 'roberta.encoder.layer.12.output.dense.weight', 'roberta.encoder.layer.12.output.dense.bias', 'roberta.encoder.layer.9.output.dense.weight', 'roberta.encoder.layer.19.intermediate.dense.bias', 'roberta.encoder.layer.0.output.LayerNorm.weight', 'roberta.encoder.layer.0.output.dense.weight', 'roberta.encoder.layer.6.output.LayerNorm.bias', 'lm_head.layer_norm.weight', 'roberta.encoder.layer.12.output.LayerNorm.weight', 'roberta.encoder.layer.19.output.LayerNorm.weight', 'roberta.encoder.layer.8.intermediate.dense.weight', 'roberta.encoder.layer.6.intermediate.dense.weight', 'roberta.encoder.layer.5.output.LayerNorm.weight', 'roberta.encoder.layer.7.intermediate.dense.weight', 'roberta.encoder.layer.19.output.dense.weight', 'lm_head.bias', 'roberta.encoder.layer.13.intermediate.dense.weight', 'roberta.encoder.layer.15.intermediate.dense.bias', 'roberta.encoder.layer.1.output.dense.weight', 'roberta.encoder.layer.14.output.LayerNorm.bias', 'roberta.encoder.layer.8.intermediate.dense.bias', 'roberta.encoder.layer.17.intermediate.dense.weight', 'roberta.encoder.layer.23.output.dense.bias', 'roberta.encoder.layer.15.output.dense.weight', 'roberta.encoder.layer.22.output.dense.weight', 'roberta.encoder.layer.14.intermediate.dense.weight', 'roberta.encoder.layer.10.output.LayerNorm.bias', 'roberta.encoder.layer.13.output.dense.bias', 'roberta.encoder.layer.2.intermediate.dense.weight', 'roberta.encoder.layer.23.intermediate.dense.weight', 'roberta.encoder.layer.19.output.dense.bias', 'lm_head.dense.weight', 'roberta.pooler.dense.weight', 'roberta.encoder.layer.17.output.dense.bias', 'roberta.encoder.layer.4.output.dense.weight', 'roberta.encoder.layer.16.output.LayerNorm.bias', 'roberta.encoder.layer.21.intermediate.dense.weight', 'roberta.encoder.layer.13.output.LayerNorm.weight', 'roberta.encoder.layer.20.output.LayerNorm.bias', 'roberta.encoder.layer.8.output.dense.bias', 'roberta.encoder.layer.7.intermediate.dense.bias', 'roberta.encoder.layer.0.intermediate.dense.weight', 'roberta.encoder.layer.18.output.dense.bias', 'roberta.encoder.layer.10.output.dense.weight', 'roberta.encoder.layer.7.output.dense.weight', 'roberta.encoder.layer.14.intermediate.dense.bias', 'roberta.encoder.layer.7.output.dense.bias', 'roberta.encoder.layer.12.output.LayerNorm.bias', 'roberta.encoder.layer.22.output.LayerNorm.bias', 'roberta.encoder.layer.0.output.dense.bias', 'roberta.encoder.layer.6.output.LayerNorm.weight', 'roberta.encoder.layer.4.output.dense.bias', 'roberta.encoder.layer.3.output.LayerNorm.bias', 'roberta.encoder.layer.6.output.dense.weight', 'roberta.encoder.layer.16.output.dense.bias', 'roberta.encoder.layer.18.intermediate.dense.bias', 'roberta.encoder.layer.5.intermediate.dense.weight', 'lm_head.decoder.weight', 'roberta.encoder.layer.18.output.LayerNorm.weight', 'roberta.encoder.layer.11.output.LayerNorm.bias', 'roberta.encoder.layer.4.output.LayerNorm.weight', 'roberta.encoder.layer.17.output.LayerNorm.weight', 'roberta.encoder.layer.23.output.LayerNorm.weight', 'roberta.encoder.layer.15.output.LayerNorm.weight', 'roberta.encoder.layer.10.output.dense.bias', 'roberta.encoder.layer.20.intermediate.dense.bias', 'roberta.encoder.layer.2.output.LayerNorm.weight', 'roberta.encoder.layer.5.output.LayerNorm.bias', 'roberta.encoder.layer.17.output.LayerNorm.bias', 'roberta.encoder.layer.5.intermediate.dense.bias', 'roberta.encoder.layer.23.output.LayerNorm.bias', 'roberta.encoder.layer.2.intermediate.dense.bias', 'roberta.encoder.layer.1.intermediate.dense.weight', 'roberta.encoder.layer.19.output.LayerNorm.bias', 'roberta.encoder.layer.0.output.LayerNorm.bias', 'roberta.encoder.layer.7.output.LayerNorm.bias', 'roberta.encoder.layer.8.output.LayerNorm.bias', 'roberta.encoder.layer.11.intermediate.dense.weight', 'roberta.encoder.layer.11.output.LayerNorm.weight', 'roberta.encoder.layer.5.output.dense.weight', 'roberta.encoder.layer.9.output.LayerNorm.weight', 'roberta.encoder.layer.1.output.LayerNorm.bias', 'roberta.encoder.layer.6.output.dense.bias', 'lm_head.dense.bias', 'roberta.encoder.layer.15.output.dense.bias', 'roberta.encoder.layer.20.output.LayerNorm.weight', 'roberta.encoder.layer.12.intermediate.dense.weight', 'roberta.encoder.layer.0.intermediate.dense.bias', 'roberta.encoder.layer.9.output.dense.bias', 'roberta.encoder.layer.13.output.LayerNorm.bias', 'roberta.encoder.layer.14.output.LayerNorm.weight', 'roberta.encoder.layer.14.output.dense.weight', 'roberta.encoder.layer.21.output.dense.bias', 'roberta.encoder.layer.21.output.LayerNorm.weight', 'roberta.encoder.layer.4.intermediate.dense.bias', 'roberta.encoder.layer.22.intermediate.dense.bias', 'roberta.encoder.layer.23.output.dense.weight', 'roberta.encoder.layer.15.intermediate.dense.weight', 'roberta.encoder.layer.3.intermediate.dense.weight', 'roberta.encoder.layer.18.intermediate.dense.weight', 'roberta.encoder.layer.1.intermediate.dense.bias', 'roberta.encoder.layer.17.output.dense.weight', 'roberta.encoder.layer.7.output.LayerNorm.weight', 'roberta.encoder.layer.2.output.dense.bias', 'roberta.encoder.layer.1.output.dense.bias', 'roberta.encoder.layer.23.intermediate.dense.bias', 'roberta.encoder.layer.3.intermediate.dense.bias', 'roberta.encoder.layer.11.intermediate.dense.bias', 'roberta.encoder.layer.17.intermediate.dense.bias', 'roberta.encoder.layer.20.output.dense.bias', 'lm_head.layer_norm.bias', 'roberta.encoder.layer.16.intermediate.dense.bias', 'roberta.encoder.layer.20.intermediate.dense.weight', 'roberta.encoder.layer.5.output.dense.bias', 'roberta.encoder.layer.16.intermediate.dense.weight', 'roberta.encoder.layer.3.output.dense.bias', 'roberta.encoder.layer.9.output.LayerNorm.bias', 'roberta.encoder.layer.22.intermediate.dense.weight', 'roberta.encoder.layer.1.output.LayerNorm.weight', 'roberta.encoder.layer.11.output.dense.bias', 'roberta.encoder.layer.21.output.LayerNorm.bias', 'roberta.encoder.layer.22.output.LayerNorm.weight', 'roberta.encoder.layer.19.intermediate.dense.weight', 'roberta.encoder.layer.21.intermediate.dense.bias', 'roberta.encoder.layer.13.intermediate.dense.bias', 'roberta.encoder.layer.8.output.dense.weight', 'roberta.encoder.layer.18.output.LayerNorm.bias', 'roberta.encoder.layer.11.output.dense.weight', 'roberta.encoder.layer.16.output.dense.weight', 'roberta.encoder.layer.15.output.LayerNorm.bias', 'roberta.encoder.layer.18.output.dense.weight', 'roberta.encoder.layer.4.intermediate.dense.weight', 'roberta.encoder.layer.14.output.dense.bias', 'roberta.pooler.dense.bias', 'roberta.encoder.layer.6.intermediate.dense.bias', 'roberta.encoder.layer.22.output.dense.bias', 'roberta.encoder.layer.12.intermediate.dense.bias', 'roberta.encoder.layer.3.output.dense.weight', 'roberta.encoder.layer.21.output.dense.weight', 'roberta.encoder.layer.9.intermediate.dense.bias', 'roberta.encoder.layer.13.output.dense.weight', 'roberta.encoder.layer.2.output.dense.weight', 'roberta.encoder.layer.4.output.LayerNorm.bias', 'roberta.encoder.layer.8.output.LayerNorm.weight', 'roberta.encoder.layer.3.output.LayerNorm.weight', 'roberta.encoder.layer.10.intermediate.dense.bias', 'roberta.encoder.layer.16.output.LayerNorm.weight', 'roberta.encoder.layer.20.output.dense.weight']\n",
      "- This IS expected if you are initializing ModifiedRobertaForSequenceClassification from the checkpoint of a model trained on another task or with another architecture (e.g. initializing a BertForSequenceClassification model from a BertForPreTraining model).\n",
      "- This IS NOT expected if you are initializing ModifiedRobertaForSequenceClassification from the checkpoint of a model that you expect to be exactly identical (initializing a BertForSequenceClassification model from a BertForSequenceClassification model).\n",
      "Some weights of ModifiedRobertaForSequenceClassification were not initialized from the model checkpoint at roberta-large and are newly initialized: ['roberta.encoder.layer.0.intermediateandboom.boom.up_linear.weight', 'roberta.encoder.layer.9.intermediateandboom.boom.up_linear.weight', 'roberta.encoder.layer.21.intermediateandboom.boom.up_linear.weight', 'roberta.encoder.layer.15.intermediateandboom.LayerNorm.weight', 'roberta.encoder.layer.4.intermediateandboom.LayerNorm.bias', 'roberta.encoder.layer.2.intermediateandboom.LayerNorm.weight', 'roberta.encoder.layer.15.intermediateandboom.boom.up_linear.bias', 'roberta.encoder.layer.23.intermediateandboom.boom.up_linear.weight', 'roberta.encoder.layer.5.intermediateandboom.LayerNorm.weight', 'roberta.encoder.layer.13.intermediateandboom.boom.up_linear.weight', 'roberta.encoder.layer.23.intermediateandboom.LayerNorm.bias', 'roberta.encoder.layer.14.intermediateandboom.LayerNorm.bias', 'classifier.out_proj.bias', 'roberta.encoder.layer.16.intermediateandboom.boom.up_linear.weight', 'roberta.encoder.layer.18.intermediateandboom.LayerNorm.weight', 'roberta.encoder.layer.2.intermediateandboom.boom.up_linear.bias', 'roberta.encoder.layer.15.intermediateandboom.boom.up_linear.weight', 'roberta.encoder.layer.1.intermediateandboom.boom.up_linear.bias', 'roberta.encoder.layer.20.intermediateandboom.LayerNorm.weight', 'roberta.encoder.layer.23.intermediateandboom.LayerNorm.weight', 'roberta.encoder.layer.3.intermediateandboom.boom.up_linear.bias', 'roberta.encoder.layer.8.intermediateandboom.boom.up_linear.weight', 'roberta.encoder.layer.22.intermediateandboom.LayerNorm.weight', 'roberta.encoder.layer.4.intermediateandboom.LayerNorm.weight', 'roberta.encoder.layer.13.intermediateandboom.boom.up_linear.bias', 'roberta.encoder.layer.8.intermediateandboom.LayerNorm.weight', 'roberta.encoder.layer.21.intermediateandboom.LayerNorm.weight', 'roberta.encoder.layer.14.intermediateandboom.boom.up_linear.weight', 'roberta.encoder.layer.10.intermediateandboom.boom.up_linear.weight', 'roberta.encoder.layer.0.intermediateandboom.LayerNorm.bias', 'roberta.encoder.layer.20.intermediateandboom.boom.up_linear.bias', 'roberta.encoder.layer.9.intermediateandboom.LayerNorm.weight', 'roberta.encoder.layer.9.intermediateandboom.LayerNorm.bias', 'roberta.encoder.layer.11.intermediateandboom.boom.up_linear.bias', 'roberta.encoder.layer.15.intermediateandboom.LayerNorm.bias', 'roberta.encoder.layer.20.intermediateandboom.LayerNorm.bias', 'roberta.encoder.layer.18.intermediateandboom.boom.up_linear.bias', 'roberta.encoder.layer.17.intermediateandboom.boom.up_linear.weight', 'classifier.out_proj.weight', 'roberta.encoder.layer.21.intermediateandboom.LayerNorm.bias', 'roberta.encoder.layer.17.intermediateandboom.LayerNorm.weight', 'roberta.encoder.layer.5.intermediateandboom.boom.up_linear.bias', 'roberta.encoder.layer.12.intermediateandboom.boom.up_linear.weight', 'roberta.encoder.layer.8.intermediateandboom.LayerNorm.bias', 'classifier.dense.bias', 'roberta.encoder.layer.17.intermediateandboom.LayerNorm.bias', 'roberta.encoder.layer.7.intermediateandboom.boom.up_linear.bias', 'roberta.encoder.layer.4.intermediateandboom.boom.up_linear.weight', 'roberta.encoder.layer.22.intermediateandboom.boom.up_linear.bias', 'roberta.encoder.layer.11.intermediateandboom.LayerNorm.weight', 'roberta.encoder.layer.7.intermediateandboom.LayerNorm.bias', 'roberta.encoder.layer.6.intermediateandboom.boom.up_linear.weight', 'roberta.encoder.layer.11.intermediateandboom.boom.up_linear.weight', 'roberta.encoder.layer.1.intermediateandboom.LayerNorm.weight', 'roberta.encoder.layer.19.intermediateandboom.boom.up_linear.weight', 'roberta.encoder.layer.7.intermediateandboom.LayerNorm.weight', 'roberta.encoder.layer.7.intermediateandboom.boom.up_linear.weight', 'roberta.encoder.layer.2.intermediateandboom.LayerNorm.bias', 'roberta.encoder.layer.3.intermediateandboom.LayerNorm.weight', 'roberta.encoder.layer.22.intermediateandboom.LayerNorm.bias', 'roberta.encoder.layer.19.intermediateandboom.LayerNorm.bias', 'roberta.encoder.layer.14.intermediateandboom.LayerNorm.weight', 'roberta.encoder.layer.12.intermediateandboom.boom.up_linear.bias', 'roberta.encoder.layer.0.intermediateandboom.boom.up_linear.bias', 'roberta.encoder.layer.16.intermediateandboom.LayerNorm.weight', 'roberta.encoder.layer.20.intermediateandboom.boom.up_linear.weight', 'roberta.encoder.layer.10.intermediateandboom.boom.up_linear.bias', 'roberta.encoder.layer.9.intermediateandboom.boom.up_linear.bias', 'roberta.encoder.layer.6.intermediateandboom.LayerNorm.weight', 'roberta.encoder.layer.5.intermediateandboom.LayerNorm.bias', 'roberta.encoder.layer.19.intermediateandboom.LayerNorm.weight', 'roberta.encoder.layer.3.intermediateandboom.LayerNorm.bias', 'roberta.encoder.layer.1.intermediateandboom.LayerNorm.bias', 'roberta.encoder.layer.14.intermediateandboom.boom.up_linear.bias', 'roberta.encoder.layer.11.intermediateandboom.LayerNorm.bias', 'roberta.encoder.layer.6.intermediateandboom.boom.up_linear.bias', 'roberta.encoder.layer.10.intermediateandboom.LayerNorm.bias', 'roberta.encoder.layer.2.intermediateandboom.boom.up_linear.weight', 'roberta.encoder.layer.12.intermediateandboom.LayerNorm.bias', 'roberta.encoder.layer.21.intermediateandboom.boom.up_linear.bias', 'roberta.encoder.layer.16.intermediateandboom.boom.up_linear.bias', 'roberta.encoder.layer.22.intermediateandboom.boom.up_linear.weight', 'roberta.encoder.layer.18.intermediateandboom.LayerNorm.bias', 'roberta.encoder.layer.13.intermediateandboom.LayerNorm.weight', 'roberta.encoder.layer.19.intermediateandboom.boom.up_linear.bias', 'roberta.encoder.layer.10.intermediateandboom.LayerNorm.weight', 'roberta.encoder.layer.6.intermediateandboom.LayerNorm.bias', 'roberta.encoder.layer.0.intermediateandboom.LayerNorm.weight', 'roberta.encoder.layer.13.intermediateandboom.LayerNorm.bias', 'roberta.encoder.layer.18.intermediateandboom.boom.up_linear.weight', 'roberta.encoder.layer.16.intermediateandboom.LayerNorm.bias', 'roberta.encoder.layer.17.intermediateandboom.boom.up_linear.bias', 'roberta.encoder.layer.3.intermediateandboom.boom.up_linear.weight', 'roberta.encoder.layer.4.intermediateandboom.boom.up_linear.bias', 'roberta.encoder.layer.23.intermediateandboom.boom.up_linear.bias', 'roberta.encoder.layer.1.intermediateandboom.boom.up_linear.weight', 'classifier.dense.weight', 'roberta.encoder.layer.5.intermediateandboom.boom.up_linear.weight', 'roberta.encoder.layer.12.intermediateandboom.LayerNorm.weight', 'roberta.encoder.layer.8.intermediateandboom.boom.up_linear.bias']\n",
      "You should probably TRAIN this model on a down-stream task to be able to use it for predictions and inference.\n"
     ]
    }
   ],
   "source": [
    "# if KOKONOMODEL == 'roberta':\n",
    "#     model = RobertaForSequenceClassification.from_pretrained(MODEL_NAME, num_labels=5)\n",
    "# elif KOKONOMODEL == 'boomberta':\n",
    "#     model = ModifiedRobertaForSequenceClassification.from_pretrained(MODEL_NAME, num_labels=5)"
   ]
  },
  {
   "cell_type": "code",
   "execution_count": null,
   "metadata": {},
   "outputs": [],
   "source": [
    "model = ModifiedRobertaForSequenceClassification.from_pretrained(MODEL_NAME, num_labels=5, num_hidden_layers=42)"
   ]
  },
  {
   "cell_type": "code",
   "execution_count": 29,
   "metadata": {},
   "outputs": [
    {
     "name": "stdout",
     "output_type": "stream",
     "text": [
      "Total Trainable Parameters: 254603269\n"
     ]
    }
   ],
   "source": [
    "print_model_summary(model)"
   ]
  },
  {
   "cell_type": "code",
   "execution_count": 30,
   "metadata": {},
   "outputs": [],
   "source": [
    "for param in model.roberta.embeddings.parameters():\n",
    "    param.requires_grad = False\n",
    "\n",
    "for i in range(24):#len(model.roberta.encoder.layer)):\n",
    "    for param in model.roberta.encoder.layer[i].attention.parameters():\n",
    "        param.requires_grad = False"
   ]
  },
  {
   "cell_type": "code",
   "execution_count": 31,
   "metadata": {},
   "outputs": [
    {
     "name": "stdout",
     "output_type": "stream",
     "text": [
      "Total Trainable Parameters: 101791749\n"
     ]
    }
   ],
   "source": [
    "print_model_summary(model)"
   ]
  },
  {
   "attachments": {},
   "cell_type": "markdown",
   "metadata": {},
   "source": [
    "### training"
   ]
  },
  {
   "cell_type": "code",
   "execution_count": 32,
   "metadata": {},
   "outputs": [],
   "source": [
    "class Trainer(object):\n",
    "    '''This class takes care of training and validation of our model'''\n",
    "    def __init__(self, model, train_loader, valid_loader, num_epochs, lr, device=torch.device(\"cuda:0\")):\n",
    "        torch.set_default_tensor_type(\"torch.cuda.FloatTensor\")\n",
    "        cudnn.benchmark = True\n",
    "        self.best_loss = float(\"inf\")\n",
    "        self.phases = [\"train\", \"valid\"]\n",
    "\n",
    "        self.device = device\n",
    "        self.dataloaders = {self.phases[0]: train_loader, self.phases[1]: valid_loader}\n",
    "    \n",
    "        self.lr = lr\n",
    "        self.num_epochs = num_epochs\n",
    "        # self.accumulation_steps = 32 // self.dataloaders['train'].batch_size\n",
    "        \n",
    "        self.model = model.to(self.device)\n",
    "        self.optimizer = AdamW(model.parameters(), lr=1e-5)\n",
    "        # self.scheduler = ReduceLROnPlateau(self.optimizer, mode=\"min\", patience=3, verbose=True)\n",
    "        \n",
    "        self.losses =   {phase: [] for phase in self.phases}\n",
    "        self.accuracy = {phase: [] for phase in self.phases}\n",
    "        self.epoch_losses = {phase: [] for phase in self.phases}\n",
    "        self.epoch_accuracy = {phase: [] for phase in self.phases}\n",
    "\n",
    "    def iterate(self, epoch, phase):\n",
    "        step_loss = []\n",
    "        step_acc = []\n",
    "        nowtime = time.strftime(\"%H:%M:%S\")\n",
    "\n",
    "        if phase == \"train\":\n",
    "            self.model.train()\n",
    "        else:\n",
    "            self.model.eval()\n",
    "        dataloader = self.dataloaders[phase]\n",
    "        # running_losses = []\n",
    "        # total_batches = len(dataloader)\n",
    "\n",
    "        self.optimizer.zero_grad()\n",
    "        pbar = tqdm(dataloader, total=len(dataloader), position=0, leave=True, desc=f\"[{nowtime}] type: {phase} epoch {epoch}\")\n",
    "        for itr, batch in enumerate(pbar):\n",
    "            batch = {key: value.to(self.device) for key, value in batch.items()}\n",
    "            outputs = self.model(**batch)\n",
    "            loss = outputs.loss\n",
    "\n",
    "            if phase == \"train\":\n",
    "                loss.backward()\n",
    "                self.optimizer.step()\n",
    "                self.optimizer.zero_grad()\n",
    "\n",
    "            # loss = loss / self.accumulation_steps\n",
    "            # if phase == \"train\":\n",
    "            #     loss.backward()\n",
    "            #     if (itr + 1 ) % self.accumulation_steps == 0:\n",
    "            #         self.optimizer.step()\n",
    "            #         self.optimizer.zero_grad()\n",
    "\n",
    "            step_loss += [loss.item()]\n",
    "\n",
    "            _, predictions = outputs['logits'].max(1)\n",
    "            label = batch['labels']\n",
    "            step_acc += [(((predictions == label).sum())/(predictions.size(0))).item()]\n",
    "\n",
    "        # epoch_loss = (running_loss * self.accumulation_steps) / total_batches\n",
    "        \n",
    "        self.losses[phase] = self.losses[phase] + step_loss\n",
    "        self.accuracy[phase] = self.accuracy[phase] + step_acc\n",
    "\n",
    "        epoch_loss = sum(step_loss)/len(step_loss)\n",
    "        epoch_accuracy = sum(step_acc)/len(step_acc)\n",
    "        \n",
    "        self.epoch_losses[phase] += [epoch_loss]\n",
    "        self.epoch_accuracy[phase] += [epoch_accuracy]\n",
    "\n",
    "        print(\"avg_loss: %0.4f | avg_acc: %0.4f\" % (epoch_loss, epoch_accuracy))\n",
    "\n",
    "        torch.cuda.empty_cache()\n",
    "        return epoch_loss\n",
    "\n",
    "    def start(self):\n",
    "        for epoch in range(self.num_epochs):\n",
    "            self.iterate(epoch, \"train\")\n",
    "            state = {\n",
    "                \"epoch\": epoch,\n",
    "                \"best_loss\": self.best_loss,\n",
    "                \"state_dict\": self.model.state_dict(),\n",
    "                \"optimizer\": self.optimizer.state_dict(),\n",
    "                'model': model,\n",
    "            }\n",
    "\n",
    "            valid_loss = self.iterate(epoch, \"valid\")\n",
    "            # self.scheduler.step(valid_loss)\n",
    "            if valid_loss < self.best_loss:\n",
    "                print(\"******** New optimal found, saving state ********\")\n",
    "                state[\"best_loss\"] = self.best_loss = valid_loss\n",
    "                nowtime = datetime.now().strftime(\"%y%m%d%H%M\")\n",
    "                torch.save(state, \"./\" + nowtime + '_loss_' + str(valid_loss) + KOKONOTEST + \".pth\")\n",
    "            print()"
   ]
  },
  {
   "cell_type": "code",
   "execution_count": 33,
   "metadata": {},
   "outputs": [
    {
     "name": "stderr",
     "output_type": "stream",
     "text": [
      "/opt/conda/lib/python3.7/site-packages/transformers/optimization.py:395: FutureWarning: This implementation of AdamW is deprecated and will be removed in a future version. Use the PyTorch implementation torch.optim.AdamW instead, or set `no_deprecation_warning=True` to disable this warning\n",
      "  FutureWarning,\n",
      "[05:19:44] type: train epoch 0: 100%|██████████| 2194/2194 [14:43<00:00,  2.48it/s]\n",
      "[05:34:28] type: valid epoch 0:   0%|          | 1/243 [00:00<00:32,  7.45it/s]"
     ]
    },
    {
     "name": "stdout",
     "output_type": "stream",
     "text": [
      "avg_loss: 1.3306 | avg_acc: 0.4963\n"
     ]
    },
    {
     "name": "stderr",
     "output_type": "stream",
     "text": [
      "[05:34:28] type: valid epoch 0: 100%|██████████| 243/243 [00:32<00:00,  7.38it/s]\n"
     ]
    },
    {
     "name": "stdout",
     "output_type": "stream",
     "text": [
      "avg_loss: 1.3634 | avg_acc: 0.5004\n",
      "******** New optimal found, saving state ********\n"
     ]
    },
    {
     "name": "stderr",
     "output_type": "stream",
     "text": [
      "[05:35:08] type: train epoch 1:   0%|          | 0/2194 [00:00<?, ?it/s]"
     ]
    },
    {
     "name": "stdout",
     "output_type": "stream",
     "text": [
      "\n"
     ]
    },
    {
     "name": "stderr",
     "output_type": "stream",
     "text": [
      "[05:35:08] type: train epoch 1: 100%|██████████| 2194/2194 [15:04<00:00,  2.43it/s]\n",
      "[05:50:13] type: valid epoch 1:   0%|          | 1/243 [00:00<00:32,  7.51it/s]"
     ]
    },
    {
     "name": "stdout",
     "output_type": "stream",
     "text": [
      "avg_loss: 1.3009 | avg_acc: 0.5096\n"
     ]
    },
    {
     "name": "stderr",
     "output_type": "stream",
     "text": [
      "[05:50:13] type: valid epoch 1: 100%|██████████| 243/243 [00:33<00:00,  7.35it/s]\n"
     ]
    },
    {
     "name": "stdout",
     "output_type": "stream",
     "text": [
      "avg_loss: 1.3034 | avg_acc: 0.4999\n",
      "******** New optimal found, saving state ********\n"
     ]
    },
    {
     "name": "stderr",
     "output_type": "stream",
     "text": [
      "[05:50:53] type: train epoch 2:   0%|          | 0/2194 [00:00<?, ?it/s]"
     ]
    },
    {
     "name": "stdout",
     "output_type": "stream",
     "text": [
      "\n"
     ]
    },
    {
     "name": "stderr",
     "output_type": "stream",
     "text": [
      "[05:50:53] type: train epoch 2: 100%|██████████| 2194/2194 [15:03<00:00,  2.43it/s]\n",
      "[06:05:57] type: valid epoch 2:   0%|          | 1/243 [00:00<00:32,  7.36it/s]"
     ]
    },
    {
     "name": "stdout",
     "output_type": "stream",
     "text": [
      "avg_loss: 1.2939 | avg_acc: 0.5099\n"
     ]
    },
    {
     "name": "stderr",
     "output_type": "stream",
     "text": [
      "[06:05:57] type: valid epoch 2: 100%|██████████| 243/243 [00:33<00:00,  7.35it/s]\n"
     ]
    },
    {
     "name": "stdout",
     "output_type": "stream",
     "text": [
      "avg_loss: 1.2927 | avg_acc: 0.5006\n",
      "******** New optimal found, saving state ********\n"
     ]
    },
    {
     "name": "stderr",
     "output_type": "stream",
     "text": [
      "[06:06:37] type: train epoch 3:   0%|          | 0/2194 [00:00<?, ?it/s]"
     ]
    },
    {
     "name": "stdout",
     "output_type": "stream",
     "text": [
      "\n"
     ]
    },
    {
     "name": "stderr",
     "output_type": "stream",
     "text": [
      "[06:06:37] type: train epoch 3: 100%|██████████| 2194/2194 [15:04<00:00,  2.43it/s]\n",
      "[06:21:42] type: valid epoch 3:   0%|          | 1/243 [00:00<00:31,  7.67it/s]"
     ]
    },
    {
     "name": "stdout",
     "output_type": "stream",
     "text": [
      "avg_loss: 1.2928 | avg_acc: 0.5103\n"
     ]
    },
    {
     "name": "stderr",
     "output_type": "stream",
     "text": [
      "[06:21:42] type: valid epoch 3: 100%|██████████| 243/243 [00:33<00:00,  7.35it/s]\n"
     ]
    },
    {
     "name": "stdout",
     "output_type": "stream",
     "text": [
      "avg_loss: 1.2855 | avg_acc: 0.4999\n",
      "******** New optimal found, saving state ********\n"
     ]
    },
    {
     "name": "stderr",
     "output_type": "stream",
     "text": [
      "[06:22:23] type: train epoch 4:   0%|          | 0/2194 [00:00<?, ?it/s]"
     ]
    },
    {
     "name": "stdout",
     "output_type": "stream",
     "text": [
      "\n"
     ]
    },
    {
     "name": "stderr",
     "output_type": "stream",
     "text": [
      "[06:22:23] type: train epoch 4: 100%|██████████| 2194/2194 [15:03<00:00,  2.43it/s]\n",
      "[06:37:26] type: valid epoch 4:   0%|          | 1/243 [00:00<00:33,  7.17it/s]"
     ]
    },
    {
     "name": "stdout",
     "output_type": "stream",
     "text": [
      "avg_loss: 1.2904 | avg_acc: 0.5103\n"
     ]
    },
    {
     "name": "stderr",
     "output_type": "stream",
     "text": [
      "[06:37:26] type: valid epoch 4: 100%|██████████| 243/243 [00:32<00:00,  7.37it/s]\n",
      "[06:38:00] type: train epoch 5:   0%|          | 0/2194 [00:00<?, ?it/s]"
     ]
    },
    {
     "name": "stdout",
     "output_type": "stream",
     "text": [
      "avg_loss: 1.2964 | avg_acc: 0.5001\n",
      "\n"
     ]
    },
    {
     "name": "stderr",
     "output_type": "stream",
     "text": [
      "[06:38:00] type: train epoch 5: 100%|██████████| 2194/2194 [15:05<00:00,  2.42it/s]\n",
      "[06:53:05] type: valid epoch 5:   0%|          | 1/243 [00:00<00:32,  7.49it/s]"
     ]
    },
    {
     "name": "stdout",
     "output_type": "stream",
     "text": [
      "avg_loss: 1.2878 | avg_acc: 0.5105\n"
     ]
    },
    {
     "name": "stderr",
     "output_type": "stream",
     "text": [
      "[06:53:05] type: valid epoch 5: 100%|██████████| 243/243 [00:33<00:00,  7.35it/s]\n",
      "[06:53:38] type: train epoch 6:   0%|          | 0/2194 [00:00<?, ?it/s]"
     ]
    },
    {
     "name": "stdout",
     "output_type": "stream",
     "text": [
      "avg_loss: 1.2949 | avg_acc: 0.5003\n",
      "\n"
     ]
    },
    {
     "name": "stderr",
     "output_type": "stream",
     "text": [
      "[06:53:38] type: train epoch 6: 100%|██████████| 2194/2194 [15:05<00:00,  2.42it/s]\n",
      "[07:08:44] type: valid epoch 6:   0%|          | 1/243 [00:00<00:31,  7.58it/s]"
     ]
    },
    {
     "name": "stdout",
     "output_type": "stream",
     "text": [
      "avg_loss: 1.2869 | avg_acc: 0.5106\n"
     ]
    },
    {
     "name": "stderr",
     "output_type": "stream",
     "text": [
      "[07:08:44] type: valid epoch 6: 100%|██████████| 243/243 [00:32<00:00,  7.37it/s]\n",
      "[07:09:17] type: train epoch 7:   0%|          | 0/2194 [00:00<?, ?it/s]"
     ]
    },
    {
     "name": "stdout",
     "output_type": "stream",
     "text": [
      "avg_loss: 1.2973 | avg_acc: 0.4999\n",
      "\n"
     ]
    },
    {
     "name": "stderr",
     "output_type": "stream",
     "text": [
      "[07:09:17] type: train epoch 7: 100%|██████████| 2194/2194 [15:04<00:00,  2.42it/s]\n",
      "[07:24:22] type: valid epoch 7:   0%|          | 1/243 [00:00<00:31,  7.66it/s]"
     ]
    },
    {
     "name": "stdout",
     "output_type": "stream",
     "text": [
      "avg_loss: 1.2850 | avg_acc: 0.5104\n"
     ]
    },
    {
     "name": "stderr",
     "output_type": "stream",
     "text": [
      "[07:24:22] type: valid epoch 7: 100%|██████████| 243/243 [00:32<00:00,  7.37it/s]\n",
      "[07:24:56] type: train epoch 8:   0%|          | 0/2194 [00:00<?, ?it/s]"
     ]
    },
    {
     "name": "stdout",
     "output_type": "stream",
     "text": [
      "avg_loss: 1.3091 | avg_acc: 0.5003\n",
      "\n"
     ]
    },
    {
     "name": "stderr",
     "output_type": "stream",
     "text": [
      "[07:24:56] type: train epoch 8: 100%|██████████| 2194/2194 [15:08<00:00,  2.42it/s]\n",
      "[07:40:04] type: valid epoch 8:   0%|          | 1/243 [00:00<00:32,  7.45it/s]"
     ]
    },
    {
     "name": "stdout",
     "output_type": "stream",
     "text": [
      "avg_loss: 1.2852 | avg_acc: 0.5106\n"
     ]
    },
    {
     "name": "stderr",
     "output_type": "stream",
     "text": [
      "[07:40:04] type: valid epoch 8: 100%|██████████| 243/243 [00:33<00:00,  7.34it/s]\n",
      "[07:40:38] type: train epoch 9:   0%|          | 0/2194 [00:00<?, ?it/s]"
     ]
    },
    {
     "name": "stdout",
     "output_type": "stream",
     "text": [
      "avg_loss: 1.3053 | avg_acc: 0.5000\n",
      "\n"
     ]
    },
    {
     "name": "stderr",
     "output_type": "stream",
     "text": [
      "[07:40:38] type: train epoch 9: 100%|██████████| 2194/2194 [15:07<00:00,  2.42it/s]\n",
      "[07:55:45] type: valid epoch 9:   0%|          | 1/243 [00:00<00:32,  7.48it/s]"
     ]
    },
    {
     "name": "stdout",
     "output_type": "stream",
     "text": [
      "avg_loss: 1.2828 | avg_acc: 0.5107\n"
     ]
    },
    {
     "name": "stderr",
     "output_type": "stream",
     "text": [
      "[07:55:45] type: valid epoch 9: 100%|██████████| 243/243 [00:33<00:00,  7.35it/s]\n",
      "[07:56:19] type: train epoch 10:   0%|          | 0/2194 [00:00<?, ?it/s]"
     ]
    },
    {
     "name": "stdout",
     "output_type": "stream",
     "text": [
      "avg_loss: 1.3026 | avg_acc: 0.5005\n",
      "\n"
     ]
    },
    {
     "name": "stderr",
     "output_type": "stream",
     "text": [
      "[07:56:19] type: train epoch 10: 100%|██████████| 2194/2194 [15:09<00:00,  2.41it/s]\n",
      "[08:11:29] type: valid epoch 10:   0%|          | 1/243 [00:00<00:31,  7.61it/s]"
     ]
    },
    {
     "name": "stdout",
     "output_type": "stream",
     "text": [
      "avg_loss: 1.2827 | avg_acc: 0.5108\n"
     ]
    },
    {
     "name": "stderr",
     "output_type": "stream",
     "text": [
      "[08:11:29] type: valid epoch 10: 100%|██████████| 243/243 [00:33<00:00,  7.36it/s]\n",
      "[08:12:02] type: train epoch 11:   0%|          | 0/2194 [00:00<?, ?it/s]"
     ]
    },
    {
     "name": "stdout",
     "output_type": "stream",
     "text": [
      "avg_loss: 1.3084 | avg_acc: 0.5001\n",
      "\n"
     ]
    },
    {
     "name": "stderr",
     "output_type": "stream",
     "text": [
      "[08:12:02] type: train epoch 11: 100%|██████████| 2194/2194 [15:07<00:00,  2.42it/s]\n",
      "[08:27:09] type: valid epoch 11:   0%|          | 1/243 [00:00<00:32,  7.35it/s]"
     ]
    },
    {
     "name": "stdout",
     "output_type": "stream",
     "text": [
      "avg_loss: 1.2817 | avg_acc: 0.5109\n"
     ]
    },
    {
     "name": "stderr",
     "output_type": "stream",
     "text": [
      "[08:27:09] type: valid epoch 11: 100%|██████████| 243/243 [00:32<00:00,  7.37it/s]\n",
      "[08:27:42] type: train epoch 12:   0%|          | 0/2194 [00:00<?, ?it/s]"
     ]
    },
    {
     "name": "stdout",
     "output_type": "stream",
     "text": [
      "avg_loss: 1.3106 | avg_acc: 0.5001\n",
      "\n"
     ]
    },
    {
     "name": "stderr",
     "output_type": "stream",
     "text": [
      "[08:27:42] type: train epoch 12: 100%|██████████| 2194/2194 [15:08<00:00,  2.42it/s]\n",
      "[08:42:51] type: valid epoch 12:   0%|          | 1/243 [00:00<00:33,  7.13it/s]"
     ]
    },
    {
     "name": "stdout",
     "output_type": "stream",
     "text": [
      "avg_loss: 1.2806 | avg_acc: 0.5108\n"
     ]
    },
    {
     "name": "stderr",
     "output_type": "stream",
     "text": [
      "[08:42:51] type: valid epoch 12: 100%|██████████| 243/243 [00:33<00:00,  7.34it/s]\n",
      "[08:43:24] type: train epoch 13:   0%|          | 0/2194 [00:00<?, ?it/s]"
     ]
    },
    {
     "name": "stdout",
     "output_type": "stream",
     "text": [
      "avg_loss: 1.3283 | avg_acc: 0.4994\n",
      "\n"
     ]
    },
    {
     "name": "stderr",
     "output_type": "stream",
     "text": [
      "[08:43:24] type: train epoch 13: 100%|██████████| 2194/2194 [15:07<00:00,  2.42it/s]\n"
     ]
    },
    {
     "name": "stdout",
     "output_type": "stream",
     "text": [
      "avg_loss: 1.2801 | avg_acc: 0.5109\n"
     ]
    },
    {
     "name": "stderr",
     "output_type": "stream",
     "text": [
      "[08:58:32] type: valid epoch 13: 100%|██████████| 243/243 [00:33<00:00,  7.35it/s]\n",
      "[08:59:05] type: train epoch 14:   0%|          | 0/2194 [00:00<?, ?it/s]"
     ]
    },
    {
     "name": "stdout",
     "output_type": "stream",
     "text": [
      "avg_loss: 1.3533 | avg_acc: 0.4953\n",
      "\n"
     ]
    },
    {
     "name": "stderr",
     "output_type": "stream",
     "text": [
      "[08:59:05] type: train epoch 14: 100%|██████████| 2194/2194 [15:09<00:00,  2.41it/s]\n",
      "[09:14:15] type: valid epoch 14:   0%|          | 1/243 [00:00<00:31,  7.56it/s]"
     ]
    },
    {
     "name": "stdout",
     "output_type": "stream",
     "text": [
      "avg_loss: 1.2802 | avg_acc: 0.5108\n"
     ]
    },
    {
     "name": "stderr",
     "output_type": "stream",
     "text": [
      "[09:14:15] type: valid epoch 14: 100%|██████████| 243/243 [00:33<00:00,  7.32it/s]\n",
      "[09:14:48] type: train epoch 15:   0%|          | 0/2194 [00:00<?, ?it/s]"
     ]
    },
    {
     "name": "stdout",
     "output_type": "stream",
     "text": [
      "avg_loss: 1.3081 | avg_acc: 0.5005\n",
      "\n"
     ]
    },
    {
     "name": "stderr",
     "output_type": "stream",
     "text": [
      "[09:14:48] type: train epoch 15: 100%|██████████| 2194/2194 [15:11<00:00,  2.41it/s]\n",
      "[09:30:00] type: valid epoch 15:   0%|          | 1/243 [00:00<00:32,  7.41it/s]"
     ]
    },
    {
     "name": "stdout",
     "output_type": "stream",
     "text": [
      "avg_loss: 1.2788 | avg_acc: 0.5107\n"
     ]
    },
    {
     "name": "stderr",
     "output_type": "stream",
     "text": [
      "[09:30:00] type: valid epoch 15: 100%|██████████| 243/243 [00:33<00:00,  7.33it/s]\n",
      "[09:30:33] type: train epoch 16:   0%|          | 0/2194 [00:00<?, ?it/s]"
     ]
    },
    {
     "name": "stdout",
     "output_type": "stream",
     "text": [
      "avg_loss: 1.3719 | avg_acc: 0.4794\n",
      "\n"
     ]
    },
    {
     "name": "stderr",
     "output_type": "stream",
     "text": [
      "[09:30:33] type: train epoch 16: 100%|██████████| 2194/2194 [15:11<00:00,  2.41it/s]\n",
      "[09:45:45] type: valid epoch 16:   0%|          | 1/243 [00:00<00:31,  7.74it/s]"
     ]
    },
    {
     "name": "stdout",
     "output_type": "stream",
     "text": [
      "avg_loss: 1.2794 | avg_acc: 0.5109\n"
     ]
    },
    {
     "name": "stderr",
     "output_type": "stream",
     "text": [
      "[09:45:45] type: valid epoch 16: 100%|██████████| 243/243 [00:33<00:00,  7.33it/s]\n",
      "[09:46:18] type: train epoch 17:   0%|          | 0/2194 [00:00<?, ?it/s]"
     ]
    },
    {
     "name": "stdout",
     "output_type": "stream",
     "text": [
      "avg_loss: 1.3475 | avg_acc: 0.4924\n",
      "\n"
     ]
    },
    {
     "name": "stderr",
     "output_type": "stream",
     "text": [
      "[09:46:18] type: train epoch 17: 100%|██████████| 2194/2194 [15:10<00:00,  2.41it/s]\n",
      "[10:01:28] type: valid epoch 17:   0%|          | 1/243 [00:00<00:33,  7.14it/s]"
     ]
    },
    {
     "name": "stdout",
     "output_type": "stream",
     "text": [
      "avg_loss: 1.2773 | avg_acc: 0.5109\n"
     ]
    },
    {
     "name": "stderr",
     "output_type": "stream",
     "text": [
      "[10:01:28] type: valid epoch 17: 100%|██████████| 243/243 [00:33<00:00,  7.34it/s]\n",
      "[10:02:02] type: train epoch 18:   0%|          | 0/2194 [00:00<?, ?it/s]"
     ]
    },
    {
     "name": "stdout",
     "output_type": "stream",
     "text": [
      "avg_loss: 1.3502 | avg_acc: 0.4990\n",
      "\n"
     ]
    },
    {
     "name": "stderr",
     "output_type": "stream",
     "text": [
      "[10:02:02] type: train epoch 18: 100%|██████████| 2194/2194 [15:09<00:00,  2.41it/s]\n",
      "[10:17:12] type: valid epoch 18:   0%|          | 1/243 [00:00<00:33,  7.18it/s]"
     ]
    },
    {
     "name": "stdout",
     "output_type": "stream",
     "text": [
      "avg_loss: 1.2777 | avg_acc: 0.5109\n"
     ]
    },
    {
     "name": "stderr",
     "output_type": "stream",
     "text": [
      "[10:17:12] type: valid epoch 18: 100%|██████████| 243/243 [00:33<00:00,  7.35it/s]\n",
      "[10:17:45] type: train epoch 19:   0%|          | 0/2194 [00:00<?, ?it/s]"
     ]
    },
    {
     "name": "stdout",
     "output_type": "stream",
     "text": [
      "avg_loss: 1.3368 | avg_acc: 0.4985\n",
      "\n"
     ]
    },
    {
     "name": "stderr",
     "output_type": "stream",
     "text": [
      "[10:17:45] type: train epoch 19: 100%|██████████| 2194/2194 [15:08<00:00,  2.42it/s]\n",
      "[10:32:53] type: valid epoch 19:   0%|          | 1/243 [00:00<00:32,  7.45it/s]"
     ]
    },
    {
     "name": "stdout",
     "output_type": "stream",
     "text": [
      "avg_loss: 1.2754 | avg_acc: 0.5109\n"
     ]
    },
    {
     "name": "stderr",
     "output_type": "stream",
     "text": [
      "[10:32:53] type: valid epoch 19: 100%|██████████| 243/243 [00:33<00:00,  7.34it/s]\n",
      "[10:33:26] type: train epoch 20:   0%|          | 0/2194 [00:00<?, ?it/s]"
     ]
    },
    {
     "name": "stdout",
     "output_type": "stream",
     "text": [
      "avg_loss: 1.3393 | avg_acc: 0.5003\n",
      "\n"
     ]
    },
    {
     "name": "stderr",
     "output_type": "stream",
     "text": [
      "[10:33:26] type: train epoch 20: 100%|██████████| 2194/2194 [15:08<00:00,  2.41it/s]\n",
      "[10:48:35] type: valid epoch 20:   0%|          | 1/243 [00:00<00:32,  7.54it/s]"
     ]
    },
    {
     "name": "stdout",
     "output_type": "stream",
     "text": [
      "avg_loss: 1.2762 | avg_acc: 0.5108\n"
     ]
    },
    {
     "name": "stderr",
     "output_type": "stream",
     "text": [
      "[10:48:35] type: valid epoch 20: 100%|██████████| 243/243 [00:33<00:00,  7.36it/s]\n",
      "[10:49:09] type: train epoch 21:   0%|          | 0/2194 [00:00<?, ?it/s]"
     ]
    },
    {
     "name": "stdout",
     "output_type": "stream",
     "text": [
      "avg_loss: 1.3480 | avg_acc: 0.5001\n",
      "\n"
     ]
    },
    {
     "name": "stderr",
     "output_type": "stream",
     "text": [
      "[10:49:09] type: train epoch 21: 100%|██████████| 2194/2194 [15:07<00:00,  2.42it/s]\n",
      "[11:04:16] type: valid epoch 21:   0%|          | 1/243 [00:00<00:33,  7.17it/s]"
     ]
    },
    {
     "name": "stdout",
     "output_type": "stream",
     "text": [
      "avg_loss: 1.2758 | avg_acc: 0.5110\n"
     ]
    },
    {
     "name": "stderr",
     "output_type": "stream",
     "text": [
      "[11:04:16] type: valid epoch 21: 100%|██████████| 243/243 [00:32<00:00,  7.37it/s]\n",
      "[11:04:49] type: train epoch 22:   0%|          | 0/2194 [00:00<?, ?it/s]"
     ]
    },
    {
     "name": "stdout",
     "output_type": "stream",
     "text": [
      "avg_loss: 1.3578 | avg_acc: 0.4962\n",
      "\n"
     ]
    },
    {
     "name": "stderr",
     "output_type": "stream",
     "text": [
      "[11:04:49] type: train epoch 22: 100%|██████████| 2194/2194 [15:04<00:00,  2.42it/s]\n",
      "[11:19:54] type: valid epoch 22:   0%|          | 1/243 [00:00<00:31,  7.63it/s]"
     ]
    },
    {
     "name": "stdout",
     "output_type": "stream",
     "text": [
      "avg_loss: 1.2757 | avg_acc: 0.5111\n"
     ]
    },
    {
     "name": "stderr",
     "output_type": "stream",
     "text": [
      "[11:19:54] type: valid epoch 22: 100%|██████████| 243/243 [00:32<00:00,  7.41it/s]\n",
      "[11:20:27] type: train epoch 23:   0%|          | 0/2194 [00:00<?, ?it/s]"
     ]
    },
    {
     "name": "stdout",
     "output_type": "stream",
     "text": [
      "avg_loss: 1.3503 | avg_acc: 0.4972\n",
      "\n"
     ]
    },
    {
     "name": "stderr",
     "output_type": "stream",
     "text": [
      "[11:20:27] type: train epoch 23: 100%|██████████| 2194/2194 [15:05<00:00,  2.42it/s]\n",
      "[11:35:33] type: valid epoch 23:   0%|          | 1/243 [00:00<00:33,  7.29it/s]"
     ]
    },
    {
     "name": "stdout",
     "output_type": "stream",
     "text": [
      "avg_loss: 1.2749 | avg_acc: 0.5110\n"
     ]
    },
    {
     "name": "stderr",
     "output_type": "stream",
     "text": [
      "[11:35:33] type: valid epoch 23: 100%|██████████| 243/243 [00:32<00:00,  7.38it/s]\n",
      "[11:36:06] type: train epoch 24:   0%|          | 0/2194 [00:00<?, ?it/s]"
     ]
    },
    {
     "name": "stdout",
     "output_type": "stream",
     "text": [
      "avg_loss: 1.3560 | avg_acc: 0.4996\n",
      "\n"
     ]
    },
    {
     "name": "stderr",
     "output_type": "stream",
     "text": [
      "[11:36:06] type: train epoch 24: 100%|██████████| 2194/2194 [15:07<00:00,  2.42it/s]\n",
      "[11:51:13] type: valid epoch 24:   0%|          | 1/243 [00:00<00:31,  7.69it/s]"
     ]
    },
    {
     "name": "stdout",
     "output_type": "stream",
     "text": [
      "avg_loss: 1.2748 | avg_acc: 0.5110\n"
     ]
    },
    {
     "name": "stderr",
     "output_type": "stream",
     "text": [
      "[11:51:13] type: valid epoch 24: 100%|██████████| 243/243 [00:33<00:00,  7.34it/s]\n",
      "[11:51:46] type: train epoch 25:   0%|          | 0/2194 [00:00<?, ?it/s]"
     ]
    },
    {
     "name": "stdout",
     "output_type": "stream",
     "text": [
      "avg_loss: 1.3618 | avg_acc: 0.4952\n",
      "\n"
     ]
    },
    {
     "name": "stderr",
     "output_type": "stream",
     "text": [
      "[11:51:46] type: train epoch 25: 100%|██████████| 2194/2194 [15:05<00:00,  2.42it/s]\n",
      "[12:06:52] type: valid epoch 25:   0%|          | 1/243 [00:00<00:32,  7.48it/s]"
     ]
    },
    {
     "name": "stdout",
     "output_type": "stream",
     "text": [
      "avg_loss: 1.2742 | avg_acc: 0.5108\n"
     ]
    },
    {
     "name": "stderr",
     "output_type": "stream",
     "text": [
      "[12:06:52] type: valid epoch 25: 100%|██████████| 243/243 [00:33<00:00,  7.33it/s]\n",
      "[12:07:25] type: train epoch 26:   0%|          | 0/2194 [00:00<?, ?it/s]"
     ]
    },
    {
     "name": "stdout",
     "output_type": "stream",
     "text": [
      "avg_loss: 1.3445 | avg_acc: 0.5000\n",
      "\n"
     ]
    },
    {
     "name": "stderr",
     "output_type": "stream",
     "text": [
      "[12:07:25] type: train epoch 26: 100%|██████████| 2194/2194 [15:05<00:00,  2.42it/s]\n",
      "[12:22:31] type: valid epoch 26:   0%|          | 1/243 [00:00<00:32,  7.54it/s]"
     ]
    },
    {
     "name": "stdout",
     "output_type": "stream",
     "text": [
      "avg_loss: 1.2743 | avg_acc: 0.5110\n"
     ]
    },
    {
     "name": "stderr",
     "output_type": "stream",
     "text": [
      "[12:22:31] type: valid epoch 26: 100%|██████████| 243/243 [00:32<00:00,  7.37it/s]\n",
      "[12:23:05] type: train epoch 27:   0%|          | 0/2194 [00:00<?, ?it/s]"
     ]
    },
    {
     "name": "stdout",
     "output_type": "stream",
     "text": [
      "avg_loss: 1.3356 | avg_acc: 0.5006\n",
      "\n"
     ]
    },
    {
     "name": "stderr",
     "output_type": "stream",
     "text": [
      "[12:23:05] type: train epoch 27: 100%|██████████| 2194/2194 [15:06<00:00,  2.42it/s]\n",
      "[12:38:12] type: valid epoch 27:   0%|          | 1/243 [00:00<00:31,  7.73it/s]"
     ]
    },
    {
     "name": "stdout",
     "output_type": "stream",
     "text": [
      "avg_loss: 1.2725 | avg_acc: 0.5110\n"
     ]
    },
    {
     "name": "stderr",
     "output_type": "stream",
     "text": [
      "[12:38:12] type: valid epoch 27: 100%|██████████| 243/243 [00:33<00:00,  7.35it/s]\n",
      "[12:38:45] type: train epoch 28:   0%|          | 0/2194 [00:00<?, ?it/s]"
     ]
    },
    {
     "name": "stdout",
     "output_type": "stream",
     "text": [
      "avg_loss: 1.3451 | avg_acc: 0.4986\n",
      "\n"
     ]
    },
    {
     "name": "stderr",
     "output_type": "stream",
     "text": [
      "[12:38:45] type: train epoch 28: 100%|██████████| 2194/2194 [15:05<00:00,  2.42it/s]\n",
      "[12:53:51] type: valid epoch 28:   0%|          | 1/243 [00:00<00:32,  7.51it/s]"
     ]
    },
    {
     "name": "stdout",
     "output_type": "stream",
     "text": [
      "avg_loss: 1.2734 | avg_acc: 0.5110\n"
     ]
    },
    {
     "name": "stderr",
     "output_type": "stream",
     "text": [
      "[12:53:51] type: valid epoch 28: 100%|██████████| 243/243 [00:33<00:00,  7.36it/s]\n",
      "[12:54:24] type: train epoch 29:   0%|          | 0/2194 [00:00<?, ?it/s]"
     ]
    },
    {
     "name": "stdout",
     "output_type": "stream",
     "text": [
      "avg_loss: 1.3680 | avg_acc: 0.4972\n",
      "\n"
     ]
    },
    {
     "name": "stderr",
     "output_type": "stream",
     "text": [
      "[12:54:24] type: train epoch 29: 100%|██████████| 2194/2194 [15:04<00:00,  2.43it/s]\n"
     ]
    },
    {
     "name": "stdout",
     "output_type": "stream",
     "text": [
      "avg_loss: 1.2714 | avg_acc: 0.5109\n"
     ]
    },
    {
     "name": "stderr",
     "output_type": "stream",
     "text": [
      "[13:09:29] type: valid epoch 29: 100%|██████████| 243/243 [00:33<00:00,  7.33it/s]\n",
      "[13:10:02] type: train epoch 30:   0%|          | 0/2194 [00:00<?, ?it/s]"
     ]
    },
    {
     "name": "stdout",
     "output_type": "stream",
     "text": [
      "avg_loss: 1.3760 | avg_acc: 0.4785\n",
      "\n"
     ]
    },
    {
     "name": "stderr",
     "output_type": "stream",
     "text": [
      "[13:10:02] type: train epoch 30: 100%|██████████| 2194/2194 [15:05<00:00,  2.42it/s]\n",
      "[13:25:08] type: valid epoch 30:   0%|          | 1/243 [00:00<00:35,  6.88it/s]"
     ]
    },
    {
     "name": "stdout",
     "output_type": "stream",
     "text": [
      "avg_loss: 1.2721 | avg_acc: 0.5110\n"
     ]
    },
    {
     "name": "stderr",
     "output_type": "stream",
     "text": [
      "[13:25:08] type: valid epoch 30: 100%|██████████| 243/243 [00:33<00:00,  7.33it/s]\n",
      "[13:25:41] type: train epoch 31:   0%|          | 0/2194 [00:00<?, ?it/s]"
     ]
    },
    {
     "name": "stdout",
     "output_type": "stream",
     "text": [
      "avg_loss: 1.3765 | avg_acc: 0.4974\n",
      "\n"
     ]
    },
    {
     "name": "stderr",
     "output_type": "stream",
     "text": [
      "[13:25:41] type: train epoch 31: 100%|██████████| 2194/2194 [15:04<00:00,  2.42it/s]\n",
      "[13:40:46] type: valid epoch 31:   0%|          | 1/243 [00:00<00:31,  7.63it/s]"
     ]
    },
    {
     "name": "stdout",
     "output_type": "stream",
     "text": [
      "avg_loss: 1.2719 | avg_acc: 0.5109\n"
     ]
    },
    {
     "name": "stderr",
     "output_type": "stream",
     "text": [
      "[13:40:46] type: valid epoch 31: 100%|██████████| 243/243 [00:32<00:00,  7.37it/s]\n",
      "[13:41:19] type: train epoch 32:   0%|          | 0/2194 [00:00<?, ?it/s]"
     ]
    },
    {
     "name": "stdout",
     "output_type": "stream",
     "text": [
      "avg_loss: 1.3342 | avg_acc: 0.5001\n",
      "\n"
     ]
    },
    {
     "name": "stderr",
     "output_type": "stream",
     "text": [
      "[13:41:19] type: train epoch 32: 100%|██████████| 2194/2194 [15:04<00:00,  2.43it/s]\n",
      "[13:56:24] type: valid epoch 32:   0%|          | 1/243 [00:00<00:31,  7.68it/s]"
     ]
    },
    {
     "name": "stdout",
     "output_type": "stream",
     "text": [
      "avg_loss: 1.2716 | avg_acc: 0.5111\n"
     ]
    },
    {
     "name": "stderr",
     "output_type": "stream",
     "text": [
      "[13:56:24] type: valid epoch 32: 100%|██████████| 243/243 [00:32<00:00,  7.39it/s]\n",
      "[13:56:57] type: train epoch 33:   0%|          | 0/2194 [00:00<?, ?it/s]"
     ]
    },
    {
     "name": "stdout",
     "output_type": "stream",
     "text": [
      "avg_loss: 1.3688 | avg_acc: 0.4793\n",
      "\n"
     ]
    },
    {
     "name": "stderr",
     "output_type": "stream",
     "text": [
      "[13:56:57] type: train epoch 33: 100%|██████████| 2194/2194 [15:03<00:00,  2.43it/s]\n",
      "[14:12:00] type: valid epoch 33:   0%|          | 0/243 [00:00<?, ?it/s]"
     ]
    },
    {
     "name": "stdout",
     "output_type": "stream",
     "text": [
      "avg_loss: 1.2710 | avg_acc: 0.5111\n"
     ]
    },
    {
     "name": "stderr",
     "output_type": "stream",
     "text": [
      "[14:12:00] type: valid epoch 33: 100%|██████████| 243/243 [00:33<00:00,  7.35it/s]\n",
      "[14:12:34] type: train epoch 34:   0%|          | 0/2194 [00:00<?, ?it/s]"
     ]
    },
    {
     "name": "stdout",
     "output_type": "stream",
     "text": [
      "avg_loss: 1.3525 | avg_acc: 0.4988\n",
      "\n"
     ]
    },
    {
     "name": "stderr",
     "output_type": "stream",
     "text": [
      "[14:12:34] type: train epoch 34: 100%|██████████| 2194/2194 [15:03<00:00,  2.43it/s]\n",
      "[14:27:37] type: valid epoch 34:   0%|          | 1/243 [00:00<00:32,  7.51it/s]"
     ]
    },
    {
     "name": "stdout",
     "output_type": "stream",
     "text": [
      "avg_loss: 1.2708 | avg_acc: 0.5110\n"
     ]
    },
    {
     "name": "stderr",
     "output_type": "stream",
     "text": [
      "[14:27:37] type: valid epoch 34: 100%|██████████| 243/243 [00:32<00:00,  7.38it/s]\n",
      "[14:28:11] type: train epoch 35:   0%|          | 0/2194 [00:00<?, ?it/s]"
     ]
    },
    {
     "name": "stdout",
     "output_type": "stream",
     "text": [
      "avg_loss: 1.3501 | avg_acc: 0.4976\n",
      "\n"
     ]
    },
    {
     "name": "stderr",
     "output_type": "stream",
     "text": [
      "[14:28:11] type: train epoch 35: 100%|██████████| 2194/2194 [15:03<00:00,  2.43it/s]\n",
      "[14:43:14] type: valid epoch 35:   0%|          | 1/243 [00:00<00:32,  7.52it/s]"
     ]
    },
    {
     "name": "stdout",
     "output_type": "stream",
     "text": [
      "avg_loss: 1.2699 | avg_acc: 0.5111\n"
     ]
    },
    {
     "name": "stderr",
     "output_type": "stream",
     "text": [
      "[14:43:14] type: valid epoch 35: 100%|██████████| 243/243 [00:32<00:00,  7.38it/s]\n",
      "[14:43:47] type: train epoch 36:   0%|          | 0/2194 [00:00<?, ?it/s]"
     ]
    },
    {
     "name": "stdout",
     "output_type": "stream",
     "text": [
      "avg_loss: 1.3536 | avg_acc: 0.4981\n",
      "\n"
     ]
    },
    {
     "name": "stderr",
     "output_type": "stream",
     "text": [
      "[14:43:47] type: train epoch 36: 100%|██████████| 2194/2194 [15:02<00:00,  2.43it/s]\n",
      "[14:58:50] type: valid epoch 36:   0%|          | 1/243 [00:00<00:33,  7.30it/s]"
     ]
    },
    {
     "name": "stdout",
     "output_type": "stream",
     "text": [
      "avg_loss: 1.2694 | avg_acc: 0.5109\n"
     ]
    },
    {
     "name": "stderr",
     "output_type": "stream",
     "text": [
      "[14:58:50] type: valid epoch 36: 100%|██████████| 243/243 [00:33<00:00,  7.36it/s]\n",
      "[14:59:23] type: train epoch 37:   0%|          | 0/2194 [00:00<?, ?it/s]"
     ]
    },
    {
     "name": "stdout",
     "output_type": "stream",
     "text": [
      "avg_loss: 1.3632 | avg_acc: 0.4950\n",
      "\n"
     ]
    },
    {
     "name": "stderr",
     "output_type": "stream",
     "text": [
      "[14:59:23] type: train epoch 37: 100%|██████████| 2194/2194 [15:03<00:00,  2.43it/s]\n",
      "[15:14:27] type: valid epoch 37:   0%|          | 1/243 [00:00<00:31,  7.61it/s]"
     ]
    },
    {
     "name": "stdout",
     "output_type": "stream",
     "text": [
      "avg_loss: 1.2686 | avg_acc: 0.5110\n"
     ]
    },
    {
     "name": "stderr",
     "output_type": "stream",
     "text": [
      "[15:14:27] type: valid epoch 37: 100%|██████████| 243/243 [00:32<00:00,  7.38it/s]\n",
      "[15:15:00] type: train epoch 38:   0%|          | 0/2194 [00:00<?, ?it/s]"
     ]
    },
    {
     "name": "stdout",
     "output_type": "stream",
     "text": [
      "avg_loss: 1.3533 | avg_acc: 0.4993\n",
      "\n"
     ]
    },
    {
     "name": "stderr",
     "output_type": "stream",
     "text": [
      "[15:15:00] type: train epoch 38: 100%|██████████| 2194/2194 [15:02<00:00,  2.43it/s]\n",
      "[15:30:02] type: valid epoch 38:   0%|          | 1/243 [00:00<00:32,  7.45it/s]"
     ]
    },
    {
     "name": "stdout",
     "output_type": "stream",
     "text": [
      "avg_loss: 1.2687 | avg_acc: 0.5109\n"
     ]
    },
    {
     "name": "stderr",
     "output_type": "stream",
     "text": [
      "[15:30:02] type: valid epoch 38: 100%|██████████| 243/243 [00:32<00:00,  7.39it/s]\n",
      "[15:30:35] type: train epoch 39:   0%|          | 0/2194 [00:00<?, ?it/s]"
     ]
    },
    {
     "name": "stdout",
     "output_type": "stream",
     "text": [
      "avg_loss: 1.3631 | avg_acc: 0.4959\n",
      "\n"
     ]
    },
    {
     "name": "stderr",
     "output_type": "stream",
     "text": [
      "[15:30:35] type: train epoch 39: 100%|██████████| 2194/2194 [15:01<00:00,  2.43it/s]\n",
      "[15:45:37] type: valid epoch 39:   0%|          | 1/243 [00:00<00:31,  7.72it/s]"
     ]
    },
    {
     "name": "stdout",
     "output_type": "stream",
     "text": [
      "avg_loss: 1.2685 | avg_acc: 0.5109\n"
     ]
    },
    {
     "name": "stderr",
     "output_type": "stream",
     "text": [
      "[15:45:37] type: valid epoch 39: 100%|██████████| 243/243 [00:32<00:00,  7.41it/s]\n",
      "[15:46:10] type: train epoch 40:   0%|          | 0/2194 [00:00<?, ?it/s]"
     ]
    },
    {
     "name": "stdout",
     "output_type": "stream",
     "text": [
      "avg_loss: 1.3576 | avg_acc: 0.4994\n",
      "\n"
     ]
    },
    {
     "name": "stderr",
     "output_type": "stream",
     "text": [
      "[15:46:10] type: train epoch 40: 100%|██████████| 2194/2194 [15:03<00:00,  2.43it/s]\n",
      "[16:01:14] type: valid epoch 40:   0%|          | 1/243 [00:00<00:31,  7.60it/s]"
     ]
    },
    {
     "name": "stdout",
     "output_type": "stream",
     "text": [
      "avg_loss: 1.2687 | avg_acc: 0.5112\n"
     ]
    },
    {
     "name": "stderr",
     "output_type": "stream",
     "text": [
      "[16:01:14] type: valid epoch 40: 100%|██████████| 243/243 [00:32<00:00,  7.37it/s]\n",
      "[16:01:47] type: train epoch 41:   0%|          | 0/2194 [00:00<?, ?it/s]"
     ]
    },
    {
     "name": "stdout",
     "output_type": "stream",
     "text": [
      "avg_loss: 1.3490 | avg_acc: 0.4986\n",
      "\n"
     ]
    },
    {
     "name": "stderr",
     "output_type": "stream",
     "text": [
      "[16:01:47] type: train epoch 41: 100%|██████████| 2194/2194 [15:04<00:00,  2.43it/s]\n",
      "[16:16:52] type: valid epoch 41:   0%|          | 1/243 [00:00<00:33,  7.16it/s]"
     ]
    },
    {
     "name": "stdout",
     "output_type": "stream",
     "text": [
      "avg_loss: 1.2676 | avg_acc: 0.5111\n"
     ]
    },
    {
     "name": "stderr",
     "output_type": "stream",
     "text": [
      "[16:16:52] type: valid epoch 41: 100%|██████████| 243/243 [00:33<00:00,  7.35it/s]\n",
      "[16:17:25] type: train epoch 42:   0%|          | 0/2194 [00:00<?, ?it/s]"
     ]
    },
    {
     "name": "stdout",
     "output_type": "stream",
     "text": [
      "avg_loss: 1.3367 | avg_acc: 0.5001\n",
      "\n"
     ]
    },
    {
     "name": "stderr",
     "output_type": "stream",
     "text": [
      "[16:17:25] type: train epoch 42: 100%|██████████| 2194/2194 [15:03<00:00,  2.43it/s]\n",
      "[16:32:29] type: valid epoch 42:   0%|          | 1/243 [00:00<00:31,  7.65it/s]"
     ]
    },
    {
     "name": "stdout",
     "output_type": "stream",
     "text": [
      "avg_loss: 1.2675 | avg_acc: 0.5109\n"
     ]
    },
    {
     "name": "stderr",
     "output_type": "stream",
     "text": [
      "[16:32:29] type: valid epoch 42: 100%|██████████| 243/243 [00:32<00:00,  7.38it/s]\n",
      "[16:33:02] type: train epoch 43:   0%|          | 0/2194 [00:00<?, ?it/s]"
     ]
    },
    {
     "name": "stdout",
     "output_type": "stream",
     "text": [
      "avg_loss: 1.3728 | avg_acc: 0.4993\n",
      "\n"
     ]
    },
    {
     "name": "stderr",
     "output_type": "stream",
     "text": [
      "[16:33:02] type: train epoch 43: 100%|██████████| 2194/2194 [15:02<00:00,  2.43it/s]\n",
      "[16:48:05] type: valid epoch 43:   0%|          | 1/243 [00:00<00:32,  7.43it/s]"
     ]
    },
    {
     "name": "stdout",
     "output_type": "stream",
     "text": [
      "avg_loss: 1.2672 | avg_acc: 0.5113\n"
     ]
    },
    {
     "name": "stderr",
     "output_type": "stream",
     "text": [
      "[16:48:05] type: valid epoch 43: 100%|██████████| 243/243 [00:33<00:00,  7.36it/s]\n",
      "[16:48:38] type: train epoch 44:   0%|          | 0/2194 [00:00<?, ?it/s]"
     ]
    },
    {
     "name": "stdout",
     "output_type": "stream",
     "text": [
      "avg_loss: 1.3540 | avg_acc: 0.4986\n",
      "\n"
     ]
    },
    {
     "name": "stderr",
     "output_type": "stream",
     "text": [
      "[16:48:38] type: train epoch 44: 100%|██████████| 2194/2194 [15:01<00:00,  2.43it/s]\n",
      "[17:03:40] type: valid epoch 44:   0%|          | 1/243 [00:00<00:31,  7.60it/s]"
     ]
    },
    {
     "name": "stdout",
     "output_type": "stream",
     "text": [
      "avg_loss: 1.2668 | avg_acc: 0.5110\n"
     ]
    },
    {
     "name": "stderr",
     "output_type": "stream",
     "text": [
      "[17:03:40] type: valid epoch 44: 100%|██████████| 243/243 [00:32<00:00,  7.37it/s]\n",
      "[17:04:13] type: train epoch 45:   0%|          | 0/2194 [00:00<?, ?it/s]"
     ]
    },
    {
     "name": "stdout",
     "output_type": "stream",
     "text": [
      "avg_loss: 1.3733 | avg_acc: 0.4966\n",
      "\n"
     ]
    },
    {
     "name": "stderr",
     "output_type": "stream",
     "text": [
      "[17:04:13] type: train epoch 45: 100%|██████████| 2194/2194 [15:00<00:00,  2.44it/s]\n",
      "[17:19:14] type: valid epoch 45:   0%|          | 1/243 [00:00<00:33,  7.20it/s]"
     ]
    },
    {
     "name": "stdout",
     "output_type": "stream",
     "text": [
      "avg_loss: 1.2658 | avg_acc: 0.5111\n"
     ]
    },
    {
     "name": "stderr",
     "output_type": "stream",
     "text": [
      "[17:19:14] type: valid epoch 45: 100%|██████████| 243/243 [00:32<00:00,  7.37it/s]\n",
      "[17:19:47] type: train epoch 46:   0%|          | 0/2194 [00:00<?, ?it/s]"
     ]
    },
    {
     "name": "stdout",
     "output_type": "stream",
     "text": [
      "avg_loss: 1.3724 | avg_acc: 0.4981\n",
      "\n"
     ]
    },
    {
     "name": "stderr",
     "output_type": "stream",
     "text": [
      "[17:19:47] type: train epoch 46: 100%|██████████| 2194/2194 [15:02<00:00,  2.43it/s]\n",
      "[17:34:50] type: valid epoch 46:   0%|          | 1/243 [00:00<00:32,  7.56it/s]"
     ]
    },
    {
     "name": "stdout",
     "output_type": "stream",
     "text": [
      "avg_loss: 1.2662 | avg_acc: 0.5111\n"
     ]
    },
    {
     "name": "stderr",
     "output_type": "stream",
     "text": [
      "[17:34:50] type: valid epoch 46: 100%|██████████| 243/243 [00:32<00:00,  7.37it/s]\n",
      "[17:35:23] type: train epoch 47:   0%|          | 0/2194 [00:00<?, ?it/s]"
     ]
    },
    {
     "name": "stdout",
     "output_type": "stream",
     "text": [
      "avg_loss: 1.3673 | avg_acc: 0.4952\n",
      "\n"
     ]
    },
    {
     "name": "stderr",
     "output_type": "stream",
     "text": [
      "[17:35:23] type: train epoch 47: 100%|██████████| 2194/2194 [15:01<00:00,  2.43it/s]\n",
      "[17:50:26] type: valid epoch 47:   0%|          | 1/243 [00:00<00:31,  7.63it/s]"
     ]
    },
    {
     "name": "stdout",
     "output_type": "stream",
     "text": [
      "avg_loss: 1.2653 | avg_acc: 0.5111\n"
     ]
    },
    {
     "name": "stderr",
     "output_type": "stream",
     "text": [
      "[17:50:26] type: valid epoch 47: 100%|██████████| 243/243 [00:32<00:00,  7.39it/s]\n",
      "[17:50:59] type: train epoch 48:   0%|          | 0/2194 [00:00<?, ?it/s]"
     ]
    },
    {
     "name": "stdout",
     "output_type": "stream",
     "text": [
      "avg_loss: 1.3602 | avg_acc: 0.4964\n",
      "\n"
     ]
    },
    {
     "name": "stderr",
     "output_type": "stream",
     "text": [
      "[17:50:59] type: train epoch 48: 100%|██████████| 2194/2194 [15:03<00:00,  2.43it/s]\n",
      "[18:06:02] type: valid epoch 48:   0%|          | 1/243 [00:00<00:32,  7.43it/s]"
     ]
    },
    {
     "name": "stdout",
     "output_type": "stream",
     "text": [
      "avg_loss: 1.2646 | avg_acc: 0.5109\n"
     ]
    },
    {
     "name": "stderr",
     "output_type": "stream",
     "text": [
      "[18:06:02] type: valid epoch 48: 100%|██████████| 243/243 [00:33<00:00,  7.36it/s]\n",
      "[18:06:35] type: train epoch 49:   0%|          | 0/2194 [00:00<?, ?it/s]"
     ]
    },
    {
     "name": "stdout",
     "output_type": "stream",
     "text": [
      "avg_loss: 1.3520 | avg_acc: 0.4988\n",
      "\n"
     ]
    },
    {
     "name": "stderr",
     "output_type": "stream",
     "text": [
      "[18:06:35] type: train epoch 49: 100%|██████████| 2194/2194 [15:03<00:00,  2.43it/s]\n",
      "[18:21:39] type: valid epoch 49:   0%|          | 1/243 [00:00<00:32,  7.39it/s]"
     ]
    },
    {
     "name": "stdout",
     "output_type": "stream",
     "text": [
      "avg_loss: 1.2640 | avg_acc: 0.5113\n"
     ]
    },
    {
     "name": "stderr",
     "output_type": "stream",
     "text": [
      "[18:21:39] type: valid epoch 49: 100%|██████████| 243/243 [00:32<00:00,  7.38it/s]\n",
      "[18:22:12] type: train epoch 50:   0%|          | 0/2194 [00:00<?, ?it/s]"
     ]
    },
    {
     "name": "stdout",
     "output_type": "stream",
     "text": [
      "avg_loss: 1.3720 | avg_acc: 0.4871\n",
      "\n"
     ]
    },
    {
     "name": "stderr",
     "output_type": "stream",
     "text": [
      "[18:22:12] type: train epoch 50: 100%|██████████| 2194/2194 [15:05<00:00,  2.42it/s]\n",
      "[18:37:18] type: valid epoch 50:   0%|          | 1/243 [00:00<00:34,  7.06it/s]"
     ]
    },
    {
     "name": "stdout",
     "output_type": "stream",
     "text": [
      "avg_loss: 1.2639 | avg_acc: 0.5110\n"
     ]
    },
    {
     "name": "stderr",
     "output_type": "stream",
     "text": [
      "[18:37:18] type: valid epoch 50: 100%|██████████| 243/243 [00:33<00:00,  7.36it/s]\n",
      "[18:37:51] type: train epoch 51:   0%|          | 0/2194 [00:00<?, ?it/s]"
     ]
    },
    {
     "name": "stdout",
     "output_type": "stream",
     "text": [
      "avg_loss: 1.3699 | avg_acc: 0.4889\n",
      "\n"
     ]
    },
    {
     "name": "stderr",
     "output_type": "stream",
     "text": [
      "[18:37:51] type: train epoch 51: 100%|██████████| 2194/2194 [15:03<00:00,  2.43it/s]\n",
      "[18:52:54] type: valid epoch 51:   0%|          | 1/243 [00:00<00:32,  7.52it/s]"
     ]
    },
    {
     "name": "stdout",
     "output_type": "stream",
     "text": [
      "avg_loss: 1.2638 | avg_acc: 0.5112\n"
     ]
    },
    {
     "name": "stderr",
     "output_type": "stream",
     "text": [
      "[18:52:54] type: valid epoch 51: 100%|██████████| 243/243 [00:32<00:00,  7.37it/s]\n",
      "[18:53:27] type: train epoch 52:   0%|          | 0/2194 [00:00<?, ?it/s]"
     ]
    },
    {
     "name": "stdout",
     "output_type": "stream",
     "text": [
      "avg_loss: 1.3670 | avg_acc: 0.4912\n",
      "\n"
     ]
    },
    {
     "name": "stderr",
     "output_type": "stream",
     "text": [
      "[18:53:27] type: train epoch 52: 100%|██████████| 2194/2194 [15:04<00:00,  2.43it/s]\n",
      "[19:08:32] type: valid epoch 52:   0%|          | 1/243 [00:00<00:32,  7.48it/s]"
     ]
    },
    {
     "name": "stdout",
     "output_type": "stream",
     "text": [
      "avg_loss: 1.2632 | avg_acc: 0.5110\n"
     ]
    },
    {
     "name": "stderr",
     "output_type": "stream",
     "text": [
      "[19:08:32] type: valid epoch 52: 100%|██████████| 243/243 [00:32<00:00,  7.37it/s]\n",
      "[19:09:05] type: train epoch 53:   0%|          | 0/2194 [00:00<?, ?it/s]"
     ]
    },
    {
     "name": "stdout",
     "output_type": "stream",
     "text": [
      "avg_loss: 1.3623 | avg_acc: 0.4959\n",
      "\n"
     ]
    },
    {
     "name": "stderr",
     "output_type": "stream",
     "text": [
      "[19:09:05] type: train epoch 53: 100%|██████████| 2194/2194 [15:03<00:00,  2.43it/s]\n",
      "[19:24:09] type: valid epoch 53:   0%|          | 1/243 [00:00<00:33,  7.23it/s]"
     ]
    },
    {
     "name": "stdout",
     "output_type": "stream",
     "text": [
      "avg_loss: 1.2626 | avg_acc: 0.5110\n"
     ]
    },
    {
     "name": "stderr",
     "output_type": "stream",
     "text": [
      "[19:24:09] type: valid epoch 53: 100%|██████████| 243/243 [00:33<00:00,  7.36it/s]\n",
      "[19:24:42] type: train epoch 54:   0%|          | 0/2194 [00:00<?, ?it/s]"
     ]
    },
    {
     "name": "stdout",
     "output_type": "stream",
     "text": [
      "avg_loss: 1.3753 | avg_acc: 0.4511\n",
      "\n"
     ]
    },
    {
     "name": "stderr",
     "output_type": "stream",
     "text": [
      "[19:24:42] type: train epoch 54: 100%|██████████| 2194/2194 [15:02<00:00,  2.43it/s]\n",
      "[19:39:44] type: valid epoch 54:   0%|          | 1/243 [00:00<00:31,  7.57it/s]"
     ]
    },
    {
     "name": "stdout",
     "output_type": "stream",
     "text": [
      "avg_loss: 1.2619 | avg_acc: 0.5110\n"
     ]
    },
    {
     "name": "stderr",
     "output_type": "stream",
     "text": [
      "[19:39:44] type: valid epoch 54: 100%|██████████| 243/243 [00:32<00:00,  7.42it/s]\n",
      "[19:40:17] type: train epoch 55:   0%|          | 0/2194 [00:00<?, ?it/s]"
     ]
    },
    {
     "name": "stdout",
     "output_type": "stream",
     "text": [
      "avg_loss: 1.3719 | avg_acc: 0.4762\n",
      "\n"
     ]
    },
    {
     "name": "stderr",
     "output_type": "stream",
     "text": [
      "[19:40:17] type: train epoch 55: 100%|██████████| 2194/2194 [15:00<00:00,  2.44it/s]\n",
      "[19:55:18] type: valid epoch 55:   0%|          | 1/243 [00:00<00:35,  6.78it/s]"
     ]
    },
    {
     "name": "stdout",
     "output_type": "stream",
     "text": [
      "avg_loss: 1.2621 | avg_acc: 0.5110\n"
     ]
    },
    {
     "name": "stderr",
     "output_type": "stream",
     "text": [
      "[19:55:18] type: valid epoch 55: 100%|██████████| 243/243 [00:32<00:00,  7.37it/s]\n",
      "[19:55:51] type: train epoch 56:   0%|          | 0/2194 [00:00<?, ?it/s]"
     ]
    },
    {
     "name": "stdout",
     "output_type": "stream",
     "text": [
      "avg_loss: 1.3755 | avg_acc: 0.4891\n",
      "\n"
     ]
    },
    {
     "name": "stderr",
     "output_type": "stream",
     "text": [
      "[19:55:51] type: train epoch 56: 100%|██████████| 2194/2194 [15:01<00:00,  2.43it/s]\n",
      "[20:10:53] type: valid epoch 56:   0%|          | 1/243 [00:00<00:32,  7.53it/s]"
     ]
    },
    {
     "name": "stdout",
     "output_type": "stream",
     "text": [
      "avg_loss: 1.2614 | avg_acc: 0.5111\n"
     ]
    },
    {
     "name": "stderr",
     "output_type": "stream",
     "text": [
      "[20:10:53] type: valid epoch 56: 100%|██████████| 243/243 [00:32<00:00,  7.38it/s]\n",
      "[20:11:26] type: train epoch 57:   0%|          | 0/2194 [00:00<?, ?it/s]"
     ]
    },
    {
     "name": "stdout",
     "output_type": "stream",
     "text": [
      "avg_loss: 1.3858 | avg_acc: 0.4883\n",
      "\n"
     ]
    },
    {
     "name": "stderr",
     "output_type": "stream",
     "text": [
      "[20:11:26] type: train epoch 57: 100%|██████████| 2194/2194 [15:00<00:00,  2.44it/s]\n",
      "[20:26:27] type: valid epoch 57:   0%|          | 1/243 [00:00<00:32,  7.40it/s]"
     ]
    },
    {
     "name": "stdout",
     "output_type": "stream",
     "text": [
      "avg_loss: 1.2608 | avg_acc: 0.5111\n"
     ]
    },
    {
     "name": "stderr",
     "output_type": "stream",
     "text": [
      "[20:26:27] type: valid epoch 57: 100%|██████████| 243/243 [00:32<00:00,  7.39it/s]\n",
      "[20:27:00] type: train epoch 58:   0%|          | 0/2194 [00:00<?, ?it/s]"
     ]
    },
    {
     "name": "stdout",
     "output_type": "stream",
     "text": [
      "avg_loss: 1.3548 | avg_acc: 0.4917\n",
      "\n"
     ]
    },
    {
     "name": "stderr",
     "output_type": "stream",
     "text": [
      "[20:27:00] type: train epoch 58: 100%|██████████| 2194/2194 [15:00<00:00,  2.44it/s]\n",
      "[20:42:01] type: valid epoch 58:   0%|          | 1/243 [00:00<00:32,  7.48it/s]"
     ]
    },
    {
     "name": "stdout",
     "output_type": "stream",
     "text": [
      "avg_loss: 1.2600 | avg_acc: 0.5109\n"
     ]
    },
    {
     "name": "stderr",
     "output_type": "stream",
     "text": [
      "[20:42:01] type: valid epoch 58: 100%|██████████| 243/243 [00:32<00:00,  7.38it/s]\n",
      "[20:42:34] type: train epoch 59:   0%|          | 0/2194 [00:00<?, ?it/s]"
     ]
    },
    {
     "name": "stdout",
     "output_type": "stream",
     "text": [
      "avg_loss: 1.3861 | avg_acc: 0.4573\n",
      "\n"
     ]
    },
    {
     "name": "stderr",
     "output_type": "stream",
     "text": [
      "[20:42:34] type: train epoch 59: 100%|██████████| 2194/2194 [15:00<00:00,  2.44it/s]\n",
      "[20:57:35] type: valid epoch 59:   0%|          | 1/243 [00:00<00:33,  7.18it/s]"
     ]
    },
    {
     "name": "stdout",
     "output_type": "stream",
     "text": [
      "avg_loss: 1.2607 | avg_acc: 0.5113\n"
     ]
    },
    {
     "name": "stderr",
     "output_type": "stream",
     "text": [
      "[20:57:35] type: valid epoch 59: 100%|██████████| 243/243 [00:32<00:00,  7.40it/s]\n",
      "[20:58:07] type: train epoch 60:   0%|          | 0/2194 [00:00<?, ?it/s]"
     ]
    },
    {
     "name": "stdout",
     "output_type": "stream",
     "text": [
      "avg_loss: 1.3469 | avg_acc: 0.4967\n",
      "\n"
     ]
    },
    {
     "name": "stderr",
     "output_type": "stream",
     "text": [
      "[20:58:07] type: train epoch 60: 100%|██████████| 2194/2194 [15:03<00:00,  2.43it/s]\n"
     ]
    },
    {
     "name": "stdout",
     "output_type": "stream",
     "text": [
      "avg_loss: 1.2599 | avg_acc: 0.5112\n"
     ]
    },
    {
     "name": "stderr",
     "output_type": "stream",
     "text": [
      "[21:13:11] type: valid epoch 60: 100%|██████████| 243/243 [00:33<00:00,  7.36it/s]\n",
      "[21:13:44] type: train epoch 61:   0%|          | 0/2194 [00:00<?, ?it/s]"
     ]
    },
    {
     "name": "stdout",
     "output_type": "stream",
     "text": [
      "avg_loss: 1.3651 | avg_acc: 0.4810\n",
      "\n"
     ]
    },
    {
     "name": "stderr",
     "output_type": "stream",
     "text": [
      "[21:13:44] type: train epoch 61: 100%|██████████| 2194/2194 [15:03<00:00,  2.43it/s]\n",
      "[21:28:48] type: valid epoch 61:   0%|          | 1/243 [00:00<00:32,  7.38it/s]"
     ]
    },
    {
     "name": "stdout",
     "output_type": "stream",
     "text": [
      "avg_loss: 1.2599 | avg_acc: 0.5112\n"
     ]
    },
    {
     "name": "stderr",
     "output_type": "stream",
     "text": [
      "[21:28:48] type: valid epoch 61: 100%|██████████| 243/243 [00:33<00:00,  7.36it/s]\n",
      "[21:29:21] type: train epoch 62:   0%|          | 0/2194 [00:00<?, ?it/s]"
     ]
    },
    {
     "name": "stdout",
     "output_type": "stream",
     "text": [
      "avg_loss: 1.3465 | avg_acc: 0.4995\n",
      "\n"
     ]
    },
    {
     "name": "stderr",
     "output_type": "stream",
     "text": [
      "[21:29:21] type: train epoch 62: 100%|██████████| 2194/2194 [15:04<00:00,  2.43it/s]\n",
      "[21:44:26] type: valid epoch 62:   0%|          | 1/243 [00:00<00:32,  7.37it/s]"
     ]
    },
    {
     "name": "stdout",
     "output_type": "stream",
     "text": [
      "avg_loss: 1.2584 | avg_acc: 0.5106\n"
     ]
    },
    {
     "name": "stderr",
     "output_type": "stream",
     "text": [
      "[21:44:26] type: valid epoch 62: 100%|██████████| 243/243 [00:33<00:00,  7.36it/s]\n",
      "[21:44:59] type: train epoch 63:   0%|          | 0/2194 [00:00<?, ?it/s]"
     ]
    },
    {
     "name": "stdout",
     "output_type": "stream",
     "text": [
      "avg_loss: 1.3460 | avg_acc: 0.4948\n",
      "\n"
     ]
    },
    {
     "name": "stderr",
     "output_type": "stream",
     "text": [
      "[21:44:59] type: train epoch 63: 100%|██████████| 2194/2194 [15:03<00:00,  2.43it/s]\n",
      "[22:00:03] type: valid epoch 63:   0%|          | 1/243 [00:00<00:33,  7.24it/s]"
     ]
    },
    {
     "name": "stdout",
     "output_type": "stream",
     "text": [
      "avg_loss: 1.2577 | avg_acc: 0.5115\n"
     ]
    },
    {
     "name": "stderr",
     "output_type": "stream",
     "text": [
      "[22:00:03] type: valid epoch 63: 100%|██████████| 243/243 [00:32<00:00,  7.37it/s]\n",
      "[22:00:36] type: train epoch 64:   0%|          | 0/2194 [00:00<?, ?it/s]"
     ]
    },
    {
     "name": "stdout",
     "output_type": "stream",
     "text": [
      "avg_loss: 1.3682 | avg_acc: 0.4864\n",
      "\n"
     ]
    },
    {
     "name": "stderr",
     "output_type": "stream",
     "text": [
      "[22:00:36] type: train epoch 64: 100%|██████████| 2194/2194 [15:01<00:00,  2.43it/s]\n",
      "[22:15:38] type: valid epoch 64:   0%|          | 1/243 [00:00<00:36,  6.61it/s]"
     ]
    },
    {
     "name": "stdout",
     "output_type": "stream",
     "text": [
      "avg_loss: 1.2579 | avg_acc: 0.5115\n"
     ]
    },
    {
     "name": "stderr",
     "output_type": "stream",
     "text": [
      "[22:15:38] type: valid epoch 64: 100%|██████████| 243/243 [00:32<00:00,  7.38it/s]\n",
      "[22:16:11] type: train epoch 65:   0%|          | 0/2194 [00:00<?, ?it/s]"
     ]
    },
    {
     "name": "stdout",
     "output_type": "stream",
     "text": [
      "avg_loss: 1.3432 | avg_acc: 0.4939\n",
      "\n"
     ]
    },
    {
     "name": "stderr",
     "output_type": "stream",
     "text": [
      "[22:16:11] type: train epoch 65: 100%|██████████| 2194/2194 [15:01<00:00,  2.44it/s]\n",
      "[22:31:12] type: valid epoch 65:   0%|          | 1/243 [00:00<00:32,  7.53it/s]"
     ]
    },
    {
     "name": "stdout",
     "output_type": "stream",
     "text": [
      "avg_loss: 1.2577 | avg_acc: 0.5112\n"
     ]
    },
    {
     "name": "stderr",
     "output_type": "stream",
     "text": [
      "[22:31:12] type: valid epoch 65: 100%|██████████| 243/243 [00:32<00:00,  7.39it/s]\n",
      "[22:31:45] type: train epoch 66:   0%|          | 0/2194 [00:00<?, ?it/s]"
     ]
    },
    {
     "name": "stdout",
     "output_type": "stream",
     "text": [
      "avg_loss: 1.3393 | avg_acc: 0.4936\n",
      "\n"
     ]
    },
    {
     "name": "stderr",
     "output_type": "stream",
     "text": [
      "[22:31:45] type: train epoch 66: 100%|██████████| 2194/2194 [15:01<00:00,  2.43it/s]\n",
      "[22:46:47] type: valid epoch 66:   0%|          | 1/243 [00:00<00:31,  7.73it/s]"
     ]
    },
    {
     "name": "stdout",
     "output_type": "stream",
     "text": [
      "avg_loss: 1.2573 | avg_acc: 0.5116\n"
     ]
    },
    {
     "name": "stderr",
     "output_type": "stream",
     "text": [
      "[22:46:47] type: valid epoch 66: 100%|██████████| 243/243 [00:32<00:00,  7.38it/s]\n",
      "[22:47:20] type: train epoch 67:   0%|          | 0/2194 [00:00<?, ?it/s]"
     ]
    },
    {
     "name": "stdout",
     "output_type": "stream",
     "text": [
      "avg_loss: 1.3612 | avg_acc: 0.4943\n",
      "\n"
     ]
    },
    {
     "name": "stderr",
     "output_type": "stream",
     "text": [
      "[22:47:20] type: train epoch 67: 100%|██████████| 2194/2194 [15:01<00:00,  2.44it/s]\n",
      "[23:02:21] type: valid epoch 67:   0%|          | 1/243 [00:00<00:32,  7.35it/s]"
     ]
    },
    {
     "name": "stdout",
     "output_type": "stream",
     "text": [
      "avg_loss: 1.2560 | avg_acc: 0.5115\n"
     ]
    },
    {
     "name": "stderr",
     "output_type": "stream",
     "text": [
      "[23:02:21] type: valid epoch 67: 100%|██████████| 243/243 [00:32<00:00,  7.38it/s]\n",
      "[23:02:54] type: train epoch 68:   0%|          | 0/2194 [00:00<?, ?it/s]"
     ]
    },
    {
     "name": "stdout",
     "output_type": "stream",
     "text": [
      "avg_loss: 1.3397 | avg_acc: 0.4968\n",
      "\n"
     ]
    },
    {
     "name": "stderr",
     "output_type": "stream",
     "text": [
      "[23:02:54] type: train epoch 68: 100%|██████████| 2194/2194 [14:59<00:00,  2.44it/s]\n",
      "[23:17:54] type: valid epoch 68:   0%|          | 1/243 [00:00<00:33,  7.23it/s]"
     ]
    },
    {
     "name": "stdout",
     "output_type": "stream",
     "text": [
      "avg_loss: 1.2556 | avg_acc: 0.5108\n"
     ]
    },
    {
     "name": "stderr",
     "output_type": "stream",
     "text": [
      "[23:17:54] type: valid epoch 68: 100%|██████████| 243/243 [00:33<00:00,  7.36it/s]\n",
      "[23:18:27] type: train epoch 69:   0%|          | 0/2194 [00:00<?, ?it/s]"
     ]
    },
    {
     "name": "stdout",
     "output_type": "stream",
     "text": [
      "avg_loss: 1.3334 | avg_acc: 0.4927\n",
      "\n"
     ]
    },
    {
     "name": "stderr",
     "output_type": "stream",
     "text": [
      "[23:18:27] type: train epoch 69: 100%|██████████| 2194/2194 [15:00<00:00,  2.44it/s]\n",
      "[23:33:29] type: valid epoch 69:   0%|          | 1/243 [00:00<00:37,  6.47it/s]"
     ]
    },
    {
     "name": "stdout",
     "output_type": "stream",
     "text": [
      "avg_loss: 1.2559 | avg_acc: 0.5113\n"
     ]
    },
    {
     "name": "stderr",
     "output_type": "stream",
     "text": [
      "[23:33:29] type: valid epoch 69: 100%|██████████| 243/243 [00:33<00:00,  7.36it/s]\n",
      "[23:34:02] type: train epoch 70:   0%|          | 0/2194 [00:00<?, ?it/s]"
     ]
    },
    {
     "name": "stdout",
     "output_type": "stream",
     "text": [
      "avg_loss: 1.3238 | avg_acc: 0.5003\n",
      "\n"
     ]
    },
    {
     "name": "stderr",
     "output_type": "stream",
     "text": [
      "[23:34:02] type: train epoch 70: 100%|██████████| 2194/2194 [15:00<00:00,  2.44it/s]\n",
      "[23:49:03] type: valid epoch 70:   0%|          | 1/243 [00:00<00:31,  7.60it/s]"
     ]
    },
    {
     "name": "stdout",
     "output_type": "stream",
     "text": [
      "avg_loss: 1.2572 | avg_acc: 0.5111\n"
     ]
    },
    {
     "name": "stderr",
     "output_type": "stream",
     "text": [
      "[23:49:03] type: valid epoch 70: 100%|██████████| 243/243 [00:32<00:00,  7.37it/s]\n",
      "[23:49:36] type: train epoch 71:   0%|          | 0/2194 [00:00<?, ?it/s]"
     ]
    },
    {
     "name": "stdout",
     "output_type": "stream",
     "text": [
      "avg_loss: 1.3181 | avg_acc: 0.5008\n",
      "\n"
     ]
    },
    {
     "name": "stderr",
     "output_type": "stream",
     "text": [
      "[23:49:36] type: train epoch 71: 100%|██████████| 2194/2194 [15:00<00:00,  2.44it/s]\n",
      "[00:04:36] type: valid epoch 71:   0%|          | 1/243 [00:00<00:32,  7.37it/s]"
     ]
    },
    {
     "name": "stdout",
     "output_type": "stream",
     "text": [
      "avg_loss: 1.2554 | avg_acc: 0.5114\n"
     ]
    },
    {
     "name": "stderr",
     "output_type": "stream",
     "text": [
      "[00:04:36] type: valid epoch 71: 100%|██████████| 243/243 [00:33<00:00,  7.36it/s]\n",
      "[00:05:10] type: train epoch 72:   0%|          | 0/2194 [00:00<?, ?it/s]"
     ]
    },
    {
     "name": "stdout",
     "output_type": "stream",
     "text": [
      "avg_loss: 1.3293 | avg_acc: 0.4960\n",
      "\n"
     ]
    },
    {
     "name": "stderr",
     "output_type": "stream",
     "text": [
      "[00:05:10] type: train epoch 72: 100%|██████████| 2194/2194 [15:03<00:00,  2.43it/s]\n",
      "[00:20:13] type: valid epoch 72:   0%|          | 1/243 [00:00<00:31,  7.72it/s]"
     ]
    },
    {
     "name": "stdout",
     "output_type": "stream",
     "text": [
      "avg_loss: 1.2550 | avg_acc: 0.5110\n"
     ]
    },
    {
     "name": "stderr",
     "output_type": "stream",
     "text": [
      "[00:20:13] type: valid epoch 72: 100%|██████████| 243/243 [00:32<00:00,  7.38it/s]\n",
      "[00:20:46] type: train epoch 73:   0%|          | 0/2194 [00:00<?, ?it/s]"
     ]
    },
    {
     "name": "stdout",
     "output_type": "stream",
     "text": [
      "avg_loss: 1.3287 | avg_acc: 0.5006\n",
      "\n"
     ]
    },
    {
     "name": "stderr",
     "output_type": "stream",
     "text": [
      "[00:20:46] type: train epoch 73: 100%|██████████| 2194/2194 [15:03<00:00,  2.43it/s]\n",
      "[00:35:50] type: valid epoch 73:   0%|          | 1/243 [00:00<00:32,  7.52it/s]"
     ]
    },
    {
     "name": "stdout",
     "output_type": "stream",
     "text": [
      "avg_loss: 1.2544 | avg_acc: 0.5113\n"
     ]
    },
    {
     "name": "stderr",
     "output_type": "stream",
     "text": [
      "[00:35:50] type: valid epoch 73: 100%|██████████| 243/243 [00:32<00:00,  7.37it/s]\n",
      "[00:36:23] type: train epoch 74:   0%|          | 0/2194 [00:00<?, ?it/s]"
     ]
    },
    {
     "name": "stdout",
     "output_type": "stream",
     "text": [
      "avg_loss: 1.3546 | avg_acc: 0.4799\n",
      "\n"
     ]
    },
    {
     "name": "stderr",
     "output_type": "stream",
     "text": [
      "[00:36:23] type: train epoch 74: 100%|██████████| 2194/2194 [15:03<00:00,  2.43it/s]\n",
      "[00:51:27] type: valid epoch 74:   0%|          | 1/243 [00:00<00:32,  7.55it/s]"
     ]
    },
    {
     "name": "stdout",
     "output_type": "stream",
     "text": [
      "avg_loss: 1.2537 | avg_acc: 0.5108\n"
     ]
    },
    {
     "name": "stderr",
     "output_type": "stream",
     "text": [
      "[00:51:27] type: valid epoch 74: 100%|██████████| 243/243 [00:33<00:00,  7.35it/s]\n",
      "[00:52:00] type: train epoch 75:   0%|          | 0/2194 [00:00<?, ?it/s]"
     ]
    },
    {
     "name": "stdout",
     "output_type": "stream",
     "text": [
      "avg_loss: 1.3284 | avg_acc: 0.4982\n",
      "\n"
     ]
    },
    {
     "name": "stderr",
     "output_type": "stream",
     "text": [
      "[00:52:00] type: train epoch 75: 100%|██████████| 2194/2194 [15:03<00:00,  2.43it/s]\n",
      "[01:07:04] type: valid epoch 75:   0%|          | 1/243 [00:00<00:32,  7.51it/s]"
     ]
    },
    {
     "name": "stdout",
     "output_type": "stream",
     "text": [
      "avg_loss: 1.2534 | avg_acc: 0.5118\n"
     ]
    },
    {
     "name": "stderr",
     "output_type": "stream",
     "text": [
      "[01:07:04] type: valid epoch 75: 100%|██████████| 243/243 [00:32<00:00,  7.38it/s]\n",
      "[01:07:37] type: train epoch 76:   0%|          | 0/2194 [00:00<?, ?it/s]"
     ]
    },
    {
     "name": "stdout",
     "output_type": "stream",
     "text": [
      "avg_loss: 1.3262 | avg_acc: 0.4998\n",
      "\n"
     ]
    },
    {
     "name": "stderr",
     "output_type": "stream",
     "text": [
      "[01:07:37] type: train epoch 76: 100%|██████████| 2194/2194 [15:00<00:00,  2.44it/s]\n",
      "[01:22:38] type: valid epoch 76:   0%|          | 1/243 [00:00<00:34,  7.03it/s]"
     ]
    },
    {
     "name": "stdout",
     "output_type": "stream",
     "text": [
      "avg_loss: 1.2538 | avg_acc: 0.5116\n"
     ]
    },
    {
     "name": "stderr",
     "output_type": "stream",
     "text": [
      "[01:22:38] type: valid epoch 76: 100%|██████████| 243/243 [00:32<00:00,  7.38it/s]\n",
      "[01:23:11] type: train epoch 77:   0%|          | 0/2194 [00:00<?, ?it/s]"
     ]
    },
    {
     "name": "stdout",
     "output_type": "stream",
     "text": [
      "avg_loss: 1.3407 | avg_acc: 0.4980\n",
      "\n"
     ]
    },
    {
     "name": "stderr",
     "output_type": "stream",
     "text": [
      "[01:23:11] type: train epoch 77: 100%|██████████| 2194/2194 [15:00<00:00,  2.44it/s]\n",
      "[01:38:12] type: valid epoch 77:   0%|          | 1/243 [00:00<00:32,  7.56it/s]"
     ]
    },
    {
     "name": "stdout",
     "output_type": "stream",
     "text": [
      "avg_loss: 1.2529 | avg_acc: 0.5114\n"
     ]
    },
    {
     "name": "stderr",
     "output_type": "stream",
     "text": [
      "[01:38:12] type: valid epoch 77: 100%|██████████| 243/243 [00:32<00:00,  7.38it/s]\n",
      "[01:38:45] type: train epoch 78:   0%|          | 0/2194 [00:00<?, ?it/s]"
     ]
    },
    {
     "name": "stdout",
     "output_type": "stream",
     "text": [
      "avg_loss: 1.3321 | avg_acc: 0.4966\n",
      "\n"
     ]
    },
    {
     "name": "stderr",
     "output_type": "stream",
     "text": [
      "[01:38:45] type: train epoch 78: 100%|██████████| 2194/2194 [15:01<00:00,  2.43it/s]\n"
     ]
    },
    {
     "name": "stdout",
     "output_type": "stream",
     "text": [
      "avg_loss: 1.2529 | avg_acc: 0.5110\n"
     ]
    },
    {
     "name": "stderr",
     "output_type": "stream",
     "text": [
      "[01:53:47] type: valid epoch 78: 100%|██████████| 243/243 [00:32<00:00,  7.38it/s]\n",
      "[01:54:20] type: train epoch 79:   0%|          | 0/2194 [00:00<?, ?it/s]"
     ]
    },
    {
     "name": "stdout",
     "output_type": "stream",
     "text": [
      "avg_loss: 1.3308 | avg_acc: 0.4979\n",
      "\n"
     ]
    },
    {
     "name": "stderr",
     "output_type": "stream",
     "text": [
      "[01:54:20] type: train epoch 79: 100%|██████████| 2194/2194 [15:01<00:00,  2.43it/s]\n",
      "[02:09:22] type: valid epoch 79:   0%|          | 1/243 [00:00<00:32,  7.55it/s]"
     ]
    },
    {
     "name": "stdout",
     "output_type": "stream",
     "text": [
      "avg_loss: 1.2528 | avg_acc: 0.5111\n"
     ]
    },
    {
     "name": "stderr",
     "output_type": "stream",
     "text": [
      "[02:09:22] type: valid epoch 79: 100%|██████████| 243/243 [00:33<00:00,  7.32it/s]\n",
      "[02:09:56] type: train epoch 80:   0%|          | 0/2194 [00:00<?, ?it/s]"
     ]
    },
    {
     "name": "stdout",
     "output_type": "stream",
     "text": [
      "avg_loss: 1.3269 | avg_acc: 0.5001\n",
      "\n"
     ]
    },
    {
     "name": "stderr",
     "output_type": "stream",
     "text": [
      "[02:09:56] type: train epoch 80: 100%|██████████| 2194/2194 [15:03<00:00,  2.43it/s]\n",
      "[02:25:00] type: valid epoch 80:   0%|          | 1/243 [00:00<00:32,  7.37it/s]"
     ]
    },
    {
     "name": "stdout",
     "output_type": "stream",
     "text": [
      "avg_loss: 1.2518 | avg_acc: 0.5110\n"
     ]
    },
    {
     "name": "stderr",
     "output_type": "stream",
     "text": [
      "[02:25:00] type: valid epoch 80: 100%|██████████| 243/243 [00:33<00:00,  7.32it/s]\n",
      "[02:25:33] type: train epoch 81:   0%|          | 0/2194 [00:00<?, ?it/s]"
     ]
    },
    {
     "name": "stdout",
     "output_type": "stream",
     "text": [
      "avg_loss: 1.3184 | avg_acc: 0.4983\n",
      "\n"
     ]
    },
    {
     "name": "stderr",
     "output_type": "stream",
     "text": [
      "[02:25:33] type: train epoch 81: 100%|██████████| 2194/2194 [15:03<00:00,  2.43it/s]\n",
      "[02:40:37] type: valid epoch 81:   0%|          | 1/243 [00:00<00:32,  7.51it/s]"
     ]
    },
    {
     "name": "stdout",
     "output_type": "stream",
     "text": [
      "avg_loss: 1.2520 | avg_acc: 0.5113\n"
     ]
    },
    {
     "name": "stderr",
     "output_type": "stream",
     "text": [
      "[02:40:37] type: valid epoch 81: 100%|██████████| 243/243 [00:33<00:00,  7.34it/s]\n",
      "[02:41:10] type: train epoch 82:   0%|          | 0/2194 [00:00<?, ?it/s]"
     ]
    },
    {
     "name": "stdout",
     "output_type": "stream",
     "text": [
      "avg_loss: 1.3278 | avg_acc: 0.4974\n",
      "\n"
     ]
    },
    {
     "name": "stderr",
     "output_type": "stream",
     "text": [
      "[02:41:10] type: train epoch 82: 100%|██████████| 2194/2194 [15:05<00:00,  2.42it/s]\n",
      "[02:56:16] type: valid epoch 82:   0%|          | 1/243 [00:00<00:32,  7.47it/s]"
     ]
    },
    {
     "name": "stdout",
     "output_type": "stream",
     "text": [
      "avg_loss: 1.2524 | avg_acc: 0.5115\n"
     ]
    },
    {
     "name": "stderr",
     "output_type": "stream",
     "text": [
      "[02:56:16] type: valid epoch 82: 100%|██████████| 243/243 [00:33<00:00,  7.33it/s]\n",
      "[02:56:49] type: train epoch 83:   0%|          | 0/2194 [00:00<?, ?it/s]"
     ]
    },
    {
     "name": "stdout",
     "output_type": "stream",
     "text": [
      "avg_loss: 1.3314 | avg_acc: 0.5003\n",
      "\n"
     ]
    },
    {
     "name": "stderr",
     "output_type": "stream",
     "text": [
      "[02:56:49] type: train epoch 83: 100%|██████████| 2194/2194 [15:06<00:00,  2.42it/s]\n",
      "[03:11:56] type: valid epoch 83:   0%|          | 1/243 [00:00<00:32,  7.54it/s]"
     ]
    },
    {
     "name": "stdout",
     "output_type": "stream",
     "text": [
      "avg_loss: 1.2512 | avg_acc: 0.5111\n"
     ]
    },
    {
     "name": "stderr",
     "output_type": "stream",
     "text": [
      "[03:11:56] type: valid epoch 83: 100%|██████████| 243/243 [00:33<00:00,  7.35it/s]\n",
      "[03:12:29] type: train epoch 84:   0%|          | 0/2194 [00:00<?, ?it/s]"
     ]
    },
    {
     "name": "stdout",
     "output_type": "stream",
     "text": [
      "avg_loss: 1.3183 | avg_acc: 0.4995\n",
      "\n"
     ]
    },
    {
     "name": "stderr",
     "output_type": "stream",
     "text": [
      "[03:12:29] type: train epoch 84: 100%|██████████| 2194/2194 [15:05<00:00,  2.42it/s]\n",
      "[03:27:35] type: valid epoch 84:   0%|          | 1/243 [00:00<00:31,  7.65it/s]"
     ]
    },
    {
     "name": "stdout",
     "output_type": "stream",
     "text": [
      "avg_loss: 1.2513 | avg_acc: 0.5112\n"
     ]
    },
    {
     "name": "stderr",
     "output_type": "stream",
     "text": [
      "[03:27:35] type: valid epoch 84: 100%|██████████| 243/243 [00:33<00:00,  7.34it/s]\n",
      "[03:28:08] type: train epoch 85:   0%|          | 0/2194 [00:00<?, ?it/s]"
     ]
    },
    {
     "name": "stdout",
     "output_type": "stream",
     "text": [
      "avg_loss: 1.3062 | avg_acc: 0.5002\n",
      "\n"
     ]
    },
    {
     "name": "stderr",
     "output_type": "stream",
     "text": [
      "[03:28:08] type: train epoch 85: 100%|██████████| 2194/2194 [15:07<00:00,  2.42it/s]\n",
      "[03:43:16] type: valid epoch 85:   0%|          | 1/243 [00:00<00:33,  7.21it/s]"
     ]
    },
    {
     "name": "stdout",
     "output_type": "stream",
     "text": [
      "avg_loss: 1.2505 | avg_acc: 0.5114\n"
     ]
    },
    {
     "name": "stderr",
     "output_type": "stream",
     "text": [
      "[03:43:16] type: valid epoch 85: 100%|██████████| 243/243 [00:33<00:00,  7.33it/s]\n",
      "[03:43:49] type: train epoch 86:   0%|          | 0/2194 [00:00<?, ?it/s]"
     ]
    },
    {
     "name": "stdout",
     "output_type": "stream",
     "text": [
      "avg_loss: 1.3259 | avg_acc: 0.4964\n",
      "\n"
     ]
    },
    {
     "name": "stderr",
     "output_type": "stream",
     "text": [
      "[03:43:49] type: train epoch 86: 100%|██████████| 2194/2194 [15:07<00:00,  2.42it/s]\n",
      "[03:58:57] type: valid epoch 86:   0%|          | 1/243 [00:00<00:32,  7.41it/s]"
     ]
    },
    {
     "name": "stdout",
     "output_type": "stream",
     "text": [
      "avg_loss: 1.2512 | avg_acc: 0.5112\n"
     ]
    },
    {
     "name": "stderr",
     "output_type": "stream",
     "text": [
      "[03:58:57] type: valid epoch 86: 100%|██████████| 243/243 [00:33<00:00,  7.36it/s]\n",
      "[03:59:30] type: train epoch 87:   0%|          | 0/2194 [00:00<?, ?it/s]"
     ]
    },
    {
     "name": "stdout",
     "output_type": "stream",
     "text": [
      "avg_loss: 1.3014 | avg_acc: 0.5006\n",
      "\n"
     ]
    },
    {
     "name": "stderr",
     "output_type": "stream",
     "text": [
      "[03:59:30] type: train epoch 87: 100%|██████████| 2194/2194 [15:09<00:00,  2.41it/s]\n",
      "[04:14:40] type: valid epoch 87:   0%|          | 1/243 [00:00<00:32,  7.43it/s]"
     ]
    },
    {
     "name": "stdout",
     "output_type": "stream",
     "text": [
      "avg_loss: 1.2504 | avg_acc: 0.5114\n"
     ]
    },
    {
     "name": "stderr",
     "output_type": "stream",
     "text": [
      "[04:14:40] type: valid epoch 87: 100%|██████████| 243/243 [00:33<00:00,  7.34it/s]\n",
      "[04:15:13] type: train epoch 88:   0%|          | 0/2194 [00:00<?, ?it/s]"
     ]
    },
    {
     "name": "stdout",
     "output_type": "stream",
     "text": [
      "avg_loss: 1.3150 | avg_acc: 0.4992\n",
      "\n"
     ]
    },
    {
     "name": "stderr",
     "output_type": "stream",
     "text": [
      "[04:15:13] type: train epoch 88: 100%|██████████| 2194/2194 [15:08<00:00,  2.41it/s]\n",
      "[04:30:23] type: valid epoch 88:   0%|          | 1/243 [00:00<00:31,  7.66it/s]"
     ]
    },
    {
     "name": "stdout",
     "output_type": "stream",
     "text": [
      "avg_loss: 1.2509 | avg_acc: 0.5115\n"
     ]
    },
    {
     "name": "stderr",
     "output_type": "stream",
     "text": [
      "[04:30:23] type: valid epoch 88: 100%|██████████| 243/243 [00:33<00:00,  7.33it/s]\n",
      "[04:30:56] type: train epoch 89:   0%|          | 0/2194 [00:00<?, ?it/s]"
     ]
    },
    {
     "name": "stdout",
     "output_type": "stream",
     "text": [
      "avg_loss: 1.3052 | avg_acc: 0.5007\n",
      "\n"
     ]
    },
    {
     "name": "stderr",
     "output_type": "stream",
     "text": [
      "[04:30:56] type: train epoch 89: 100%|██████████| 2194/2194 [15:10<00:00,  2.41it/s]\n",
      "[04:46:07] type: valid epoch 89:   0%|          | 1/243 [00:00<00:33,  7.22it/s]"
     ]
    },
    {
     "name": "stdout",
     "output_type": "stream",
     "text": [
      "avg_loss: 1.2509 | avg_acc: 0.5115\n"
     ]
    },
    {
     "name": "stderr",
     "output_type": "stream",
     "text": [
      "[04:46:07] type: valid epoch 89: 100%|██████████| 243/243 [00:33<00:00,  7.29it/s]\n",
      "[04:46:40] type: train epoch 90:   0%|          | 0/2194 [00:00<?, ?it/s]"
     ]
    },
    {
     "name": "stdout",
     "output_type": "stream",
     "text": [
      "avg_loss: 1.3076 | avg_acc: 0.5003\n",
      "\n"
     ]
    },
    {
     "name": "stderr",
     "output_type": "stream",
     "text": [
      "[04:46:40] type: train epoch 90: 100%|██████████| 2194/2194 [15:12<00:00,  2.40it/s]\n",
      "[05:01:53] type: valid epoch 90:   0%|          | 1/243 [00:00<00:32,  7.38it/s]"
     ]
    },
    {
     "name": "stdout",
     "output_type": "stream",
     "text": [
      "avg_loss: 1.2506 | avg_acc: 0.5114\n"
     ]
    },
    {
     "name": "stderr",
     "output_type": "stream",
     "text": [
      "[05:01:53] type: valid epoch 90: 100%|██████████| 243/243 [00:33<00:00,  7.31it/s]\n",
      "[05:02:27] type: train epoch 91:   0%|          | 0/2194 [00:00<?, ?it/s]"
     ]
    },
    {
     "name": "stdout",
     "output_type": "stream",
     "text": [
      "avg_loss: 1.2958 | avg_acc: 0.4999\n",
      "\n"
     ]
    },
    {
     "name": "stderr",
     "output_type": "stream",
     "text": [
      "[05:02:27] type: train epoch 91: 100%|██████████| 2194/2194 [15:12<00:00,  2.40it/s]\n",
      "[05:17:40] type: valid epoch 91:   0%|          | 1/243 [00:00<00:34,  7.05it/s]"
     ]
    },
    {
     "name": "stdout",
     "output_type": "stream",
     "text": [
      "avg_loss: 1.2497 | avg_acc: 0.5118\n"
     ]
    },
    {
     "name": "stderr",
     "output_type": "stream",
     "text": [
      "[05:17:40] type: valid epoch 91: 100%|██████████| 243/243 [00:33<00:00,  7.28it/s]\n",
      "[05:18:13] type: train epoch 92:   0%|          | 0/2194 [00:00<?, ?it/s]"
     ]
    },
    {
     "name": "stdout",
     "output_type": "stream",
     "text": [
      "avg_loss: 1.3037 | avg_acc: 0.5005\n",
      "\n"
     ]
    },
    {
     "name": "stderr",
     "output_type": "stream",
     "text": [
      "[05:18:13] type: train epoch 92: 100%|██████████| 2194/2194 [15:10<00:00,  2.41it/s]\n"
     ]
    },
    {
     "name": "stdout",
     "output_type": "stream",
     "text": [
      "avg_loss: 1.2484 | avg_acc: 0.5113\n"
     ]
    },
    {
     "name": "stderr",
     "output_type": "stream",
     "text": [
      "[05:33:24] type: valid epoch 92: 100%|██████████| 243/243 [00:33<00:00,  7.33it/s]\n",
      "[05:33:57] type: train epoch 93:   0%|          | 0/2194 [00:00<?, ?it/s]"
     ]
    },
    {
     "name": "stdout",
     "output_type": "stream",
     "text": [
      "avg_loss: 1.3036 | avg_acc: 0.5007\n",
      "\n"
     ]
    },
    {
     "name": "stderr",
     "output_type": "stream",
     "text": [
      "[05:33:57] type: train epoch 93: 100%|██████████| 2194/2194 [15:07<00:00,  2.42it/s]\n",
      "[05:49:05] type: valid epoch 93:   0%|          | 1/243 [00:00<00:32,  7.48it/s]"
     ]
    },
    {
     "name": "stdout",
     "output_type": "stream",
     "text": [
      "avg_loss: 1.2489 | avg_acc: 0.5117\n"
     ]
    },
    {
     "name": "stderr",
     "output_type": "stream",
     "text": [
      "[05:49:05] type: valid epoch 93: 100%|██████████| 243/243 [00:33<00:00,  7.32it/s]\n",
      "[05:49:39] type: train epoch 94:   0%|          | 0/2194 [00:00<?, ?it/s]"
     ]
    },
    {
     "name": "stdout",
     "output_type": "stream",
     "text": [
      "avg_loss: 1.3173 | avg_acc: 0.5003\n",
      "\n"
     ]
    },
    {
     "name": "stderr",
     "output_type": "stream",
     "text": [
      "[05:49:39] type: train epoch 94: 100%|██████████| 2194/2194 [15:08<00:00,  2.42it/s]\n",
      "[06:04:47] type: valid epoch 94:   0%|          | 1/243 [00:00<00:33,  7.13it/s]"
     ]
    },
    {
     "name": "stdout",
     "output_type": "stream",
     "text": [
      "avg_loss: 1.2491 | avg_acc: 0.5114\n"
     ]
    },
    {
     "name": "stderr",
     "output_type": "stream",
     "text": [
      "[06:04:47] type: valid epoch 94: 100%|██████████| 243/243 [00:33<00:00,  7.29it/s]\n",
      "[06:05:21] type: train epoch 95:   0%|          | 0/2194 [00:00<?, ?it/s]"
     ]
    },
    {
     "name": "stdout",
     "output_type": "stream",
     "text": [
      "avg_loss: 1.3069 | avg_acc: 0.5006\n",
      "\n"
     ]
    },
    {
     "name": "stderr",
     "output_type": "stream",
     "text": [
      "[06:05:21] type: train epoch 95: 100%|██████████| 2194/2194 [15:08<00:00,  2.41it/s]\n",
      "[06:20:30] type: valid epoch 95:   0%|          | 1/243 [00:00<00:32,  7.53it/s]"
     ]
    },
    {
     "name": "stdout",
     "output_type": "stream",
     "text": [
      "avg_loss: 1.2480 | avg_acc: 0.5114\n"
     ]
    },
    {
     "name": "stderr",
     "output_type": "stream",
     "text": [
      "[06:20:30] type: valid epoch 95: 100%|██████████| 243/243 [00:33<00:00,  7.34it/s]\n",
      "[06:21:03] type: train epoch 96:   0%|          | 0/2194 [00:00<?, ?it/s]"
     ]
    },
    {
     "name": "stdout",
     "output_type": "stream",
     "text": [
      "avg_loss: 1.3069 | avg_acc: 0.5002\n",
      "\n"
     ]
    },
    {
     "name": "stderr",
     "output_type": "stream",
     "text": [
      "[06:21:03] type: train epoch 96: 100%|██████████| 2194/2194 [15:07<00:00,  2.42it/s]\n",
      "[06:36:10] type: valid epoch 96:   0%|          | 1/243 [00:00<00:32,  7.48it/s]"
     ]
    },
    {
     "name": "stdout",
     "output_type": "stream",
     "text": [
      "avg_loss: 1.2490 | avg_acc: 0.5112\n"
     ]
    },
    {
     "name": "stderr",
     "output_type": "stream",
     "text": [
      "[06:36:10] type: valid epoch 96: 100%|██████████| 243/243 [00:33<00:00,  7.33it/s]\n",
      "[06:36:44] type: train epoch 97:   0%|          | 0/2194 [00:00<?, ?it/s]"
     ]
    },
    {
     "name": "stdout",
     "output_type": "stream",
     "text": [
      "avg_loss: 1.2999 | avg_acc: 0.5006\n",
      "\n"
     ]
    },
    {
     "name": "stderr",
     "output_type": "stream",
     "text": [
      "[06:36:44] type: train epoch 97: 100%|██████████| 2194/2194 [15:06<00:00,  2.42it/s]\n",
      "[06:51:50] type: valid epoch 97:   0%|          | 1/243 [00:00<00:31,  7.56it/s]"
     ]
    },
    {
     "name": "stdout",
     "output_type": "stream",
     "text": [
      "avg_loss: 1.2472 | avg_acc: 0.5117\n"
     ]
    },
    {
     "name": "stderr",
     "output_type": "stream",
     "text": [
      "[06:51:50] type: valid epoch 97: 100%|██████████| 243/243 [00:33<00:00,  7.35it/s]\n",
      "[06:52:24] type: train epoch 98:   0%|          | 0/2194 [00:00<?, ?it/s]"
     ]
    },
    {
     "name": "stdout",
     "output_type": "stream",
     "text": [
      "avg_loss: 1.3118 | avg_acc: 0.5008\n",
      "\n"
     ]
    },
    {
     "name": "stderr",
     "output_type": "stream",
     "text": [
      "[06:52:24] type: train epoch 98: 100%|██████████| 2194/2194 [15:08<00:00,  2.41it/s]\n",
      "[07:07:32] type: valid epoch 98:   0%|          | 1/243 [00:00<00:33,  7.29it/s]"
     ]
    },
    {
     "name": "stdout",
     "output_type": "stream",
     "text": [
      "avg_loss: 1.2478 | avg_acc: 0.5110\n"
     ]
    },
    {
     "name": "stderr",
     "output_type": "stream",
     "text": [
      "[07:07:32] type: valid epoch 98: 100%|██████████| 243/243 [00:33<00:00,  7.31it/s]\n",
      "[07:08:06] type: train epoch 99:   0%|          | 0/2194 [00:00<?, ?it/s]"
     ]
    },
    {
     "name": "stdout",
     "output_type": "stream",
     "text": [
      "avg_loss: 1.3169 | avg_acc: 0.4997\n",
      "\n"
     ]
    },
    {
     "name": "stderr",
     "output_type": "stream",
     "text": [
      "[07:08:06] type: train epoch 99: 100%|██████████| 2194/2194 [15:08<00:00,  2.42it/s]\n",
      "[07:23:14] type: valid epoch 99:   0%|          | 1/243 [00:00<00:31,  7.65it/s]"
     ]
    },
    {
     "name": "stdout",
     "output_type": "stream",
     "text": [
      "avg_loss: 1.2476 | avg_acc: 0.5109\n"
     ]
    },
    {
     "name": "stderr",
     "output_type": "stream",
     "text": [
      "[07:23:14] type: valid epoch 99: 100%|██████████| 243/243 [00:33<00:00,  7.33it/s]\n",
      "[07:23:48] type: train epoch 100:   0%|          | 0/2194 [00:00<?, ?it/s]"
     ]
    },
    {
     "name": "stdout",
     "output_type": "stream",
     "text": [
      "avg_loss: 1.3095 | avg_acc: 0.4998\n",
      "\n"
     ]
    },
    {
     "name": "stderr",
     "output_type": "stream",
     "text": [
      "[07:23:48] type: train epoch 100: 100%|██████████| 2194/2194 [15:11<00:00,  2.41it/s]\n",
      "[07:38:59] type: valid epoch 100:   0%|          | 1/243 [00:00<00:31,  7.57it/s]"
     ]
    },
    {
     "name": "stdout",
     "output_type": "stream",
     "text": [
      "avg_loss: 1.2479 | avg_acc: 0.5118\n"
     ]
    },
    {
     "name": "stderr",
     "output_type": "stream",
     "text": [
      "[07:38:59] type: valid epoch 100: 100%|██████████| 243/243 [00:33<00:00,  7.31it/s]\n",
      "[07:39:33] type: train epoch 101:   0%|          | 0/2194 [00:00<?, ?it/s]"
     ]
    },
    {
     "name": "stdout",
     "output_type": "stream",
     "text": [
      "avg_loss: 1.2951 | avg_acc: 0.5011\n",
      "\n"
     ]
    },
    {
     "name": "stderr",
     "output_type": "stream",
     "text": [
      "[07:39:33] type: train epoch 101: 100%|██████████| 2194/2194 [15:11<00:00,  2.41it/s]\n",
      "[07:54:44] type: valid epoch 101:   0%|          | 1/243 [00:00<00:32,  7.35it/s]"
     ]
    },
    {
     "name": "stdout",
     "output_type": "stream",
     "text": [
      "avg_loss: 1.2468 | avg_acc: 0.5111\n"
     ]
    },
    {
     "name": "stderr",
     "output_type": "stream",
     "text": [
      "[07:54:44] type: valid epoch 101: 100%|██████████| 243/243 [00:33<00:00,  7.28it/s]\n",
      "[07:55:18] type: train epoch 102:   0%|          | 0/2194 [00:00<?, ?it/s]"
     ]
    },
    {
     "name": "stdout",
     "output_type": "stream",
     "text": [
      "avg_loss: 1.3090 | avg_acc: 0.4995\n",
      "\n"
     ]
    },
    {
     "name": "stderr",
     "output_type": "stream",
     "text": [
      "[07:55:18] type: train epoch 102: 100%|██████████| 2194/2194 [15:12<00:00,  2.40it/s]\n",
      "[08:10:31] type: valid epoch 102:   0%|          | 1/243 [00:00<00:32,  7.55it/s]"
     ]
    },
    {
     "name": "stdout",
     "output_type": "stream",
     "text": [
      "avg_loss: 1.2469 | avg_acc: 0.5119\n"
     ]
    },
    {
     "name": "stderr",
     "output_type": "stream",
     "text": [
      "[08:10:31] type: valid epoch 102: 100%|██████████| 243/243 [00:33<00:00,  7.29it/s]\n",
      "[08:11:05] type: train epoch 103:   0%|          | 0/2194 [00:00<?, ?it/s]"
     ]
    },
    {
     "name": "stdout",
     "output_type": "stream",
     "text": [
      "avg_loss: 1.3166 | avg_acc: 0.4982\n",
      "\n"
     ]
    },
    {
     "name": "stderr",
     "output_type": "stream",
     "text": [
      "[08:11:05] type: train epoch 103: 100%|██████████| 2194/2194 [15:14<00:00,  2.40it/s]\n",
      "[08:26:19] type: valid epoch 103:   0%|          | 1/243 [00:00<00:33,  7.14it/s]"
     ]
    },
    {
     "name": "stdout",
     "output_type": "stream",
     "text": [
      "avg_loss: 1.2478 | avg_acc: 0.5112\n"
     ]
    },
    {
     "name": "stderr",
     "output_type": "stream",
     "text": [
      "[08:26:19] type: valid epoch 103: 100%|██████████| 243/243 [00:33<00:00,  7.28it/s]\n",
      "[08:26:53] type: train epoch 104:   0%|          | 0/2194 [00:00<?, ?it/s]"
     ]
    },
    {
     "name": "stdout",
     "output_type": "stream",
     "text": [
      "avg_loss: 1.3054 | avg_acc: 0.5001\n",
      "\n"
     ]
    },
    {
     "name": "stderr",
     "output_type": "stream",
     "text": [
      "[08:26:53] type: train epoch 104: 100%|██████████| 2194/2194 [15:13<00:00,  2.40it/s]\n",
      "[08:42:07] type: valid epoch 104:   0%|          | 1/243 [00:00<00:33,  7.21it/s]"
     ]
    },
    {
     "name": "stdout",
     "output_type": "stream",
     "text": [
      "avg_loss: 1.2477 | avg_acc: 0.5111\n"
     ]
    },
    {
     "name": "stderr",
     "output_type": "stream",
     "text": [
      "[08:42:07] type: valid epoch 104: 100%|██████████| 243/243 [00:33<00:00,  7.32it/s]\n",
      "[08:42:41] type: train epoch 105:   0%|          | 0/2194 [00:00<?, ?it/s]"
     ]
    },
    {
     "name": "stdout",
     "output_type": "stream",
     "text": [
      "avg_loss: 1.3152 | avg_acc: 0.4994\n",
      "\n"
     ]
    },
    {
     "name": "stderr",
     "output_type": "stream",
     "text": [
      "[08:42:41] type: train epoch 105: 100%|██████████| 2194/2194 [15:11<00:00,  2.41it/s]\n"
     ]
    },
    {
     "name": "stdout",
     "output_type": "stream",
     "text": [
      "avg_loss: 1.2472 | avg_acc: 0.5113\n"
     ]
    },
    {
     "name": "stderr",
     "output_type": "stream",
     "text": [
      "[08:57:52] type: valid epoch 105: 100%|██████████| 243/243 [00:33<00:00,  7.31it/s]\n",
      "[08:58:26] type: train epoch 106:   0%|          | 0/2194 [00:00<?, ?it/s]"
     ]
    },
    {
     "name": "stdout",
     "output_type": "stream",
     "text": [
      "avg_loss: 1.3021 | avg_acc: 0.5003\n",
      "\n"
     ]
    },
    {
     "name": "stderr",
     "output_type": "stream",
     "text": [
      "[08:58:26] type: train epoch 106: 100%|██████████| 2194/2194 [15:12<00:00,  2.40it/s]\n",
      "[09:13:39] type: valid epoch 106:   0%|          | 1/243 [00:00<00:33,  7.16it/s]"
     ]
    },
    {
     "name": "stdout",
     "output_type": "stream",
     "text": [
      "avg_loss: 1.2471 | avg_acc: 0.5113\n"
     ]
    },
    {
     "name": "stderr",
     "output_type": "stream",
     "text": [
      "[09:13:39] type: valid epoch 106: 100%|██████████| 243/243 [00:33<00:00,  7.30it/s]\n",
      "[09:14:12] type: train epoch 107:   0%|          | 0/2194 [00:00<?, ?it/s]"
     ]
    },
    {
     "name": "stdout",
     "output_type": "stream",
     "text": [
      "avg_loss: 1.2942 | avg_acc: 0.5003\n",
      "\n"
     ]
    },
    {
     "name": "stderr",
     "output_type": "stream",
     "text": [
      "[09:14:12] type: train epoch 107: 100%|██████████| 2194/2194 [15:12<00:00,  2.40it/s]\n",
      "[09:29:26] type: valid epoch 107:   0%|          | 1/243 [00:00<00:33,  7.23it/s]"
     ]
    },
    {
     "name": "stdout",
     "output_type": "stream",
     "text": [
      "avg_loss: 1.2457 | avg_acc: 0.5122\n"
     ]
    },
    {
     "name": "stderr",
     "output_type": "stream",
     "text": [
      "[09:29:26] type: valid epoch 107: 100%|██████████| 243/243 [00:33<00:00,  7.28it/s]\n",
      "[09:29:59] type: train epoch 108:   0%|          | 0/2194 [00:00<?, ?it/s]"
     ]
    },
    {
     "name": "stdout",
     "output_type": "stream",
     "text": [
      "avg_loss: 1.2901 | avg_acc: 0.5009\n",
      "\n"
     ]
    },
    {
     "name": "stderr",
     "output_type": "stream",
     "text": [
      "[09:29:59] type: train epoch 108: 100%|██████████| 2194/2194 [15:16<00:00,  2.39it/s]\n",
      "[09:45:16] type: valid epoch 108:   0%|          | 1/243 [00:00<00:31,  7.60it/s]"
     ]
    },
    {
     "name": "stdout",
     "output_type": "stream",
     "text": [
      "avg_loss: 1.2459 | avg_acc: 0.5107\n"
     ]
    },
    {
     "name": "stderr",
     "output_type": "stream",
     "text": [
      "[09:45:16] type: valid epoch 108: 100%|██████████| 243/243 [00:33<00:00,  7.29it/s]\n",
      "[09:45:50] type: train epoch 109:   0%|          | 0/2194 [00:00<?, ?it/s]"
     ]
    },
    {
     "name": "stdout",
     "output_type": "stream",
     "text": [
      "avg_loss: 1.2907 | avg_acc: 0.5008\n",
      "\n"
     ]
    },
    {
     "name": "stderr",
     "output_type": "stream",
     "text": [
      "[09:45:50] type: train epoch 109: 100%|██████████| 2194/2194 [15:16<00:00,  2.39it/s]\n",
      "[10:01:06] type: valid epoch 109:   0%|          | 1/243 [00:00<00:34,  7.02it/s]"
     ]
    },
    {
     "name": "stdout",
     "output_type": "stream",
     "text": [
      "avg_loss: 1.2463 | avg_acc: 0.5109\n"
     ]
    },
    {
     "name": "stderr",
     "output_type": "stream",
     "text": [
      "[10:01:06] type: valid epoch 109: 100%|██████████| 243/243 [00:33<00:00,  7.26it/s]\n",
      "[10:01:40] type: train epoch 110:   0%|          | 0/2194 [00:00<?, ?it/s]"
     ]
    },
    {
     "name": "stdout",
     "output_type": "stream",
     "text": [
      "avg_loss: 1.3041 | avg_acc: 0.5010\n",
      "\n"
     ]
    },
    {
     "name": "stderr",
     "output_type": "stream",
     "text": [
      "[10:01:40] type: train epoch 110: 100%|██████████| 2194/2194 [15:15<00:00,  2.40it/s]\n",
      "[10:16:56] type: valid epoch 110:   0%|          | 1/243 [00:00<00:33,  7.30it/s]"
     ]
    },
    {
     "name": "stdout",
     "output_type": "stream",
     "text": [
      "avg_loss: 1.2454 | avg_acc: 0.5116\n"
     ]
    },
    {
     "name": "stderr",
     "output_type": "stream",
     "text": [
      "[10:16:56] type: valid epoch 110: 100%|██████████| 243/243 [00:33<00:00,  7.28it/s]\n",
      "[10:17:30] type: train epoch 111:   0%|          | 0/2194 [00:00<?, ?it/s]"
     ]
    },
    {
     "name": "stdout",
     "output_type": "stream",
     "text": [
      "avg_loss: 1.2945 | avg_acc: 0.5006\n",
      "\n"
     ]
    },
    {
     "name": "stderr",
     "output_type": "stream",
     "text": [
      "[10:17:30] type: train epoch 111: 100%|██████████| 2194/2194 [15:16<00:00,  2.39it/s]\n",
      "[10:32:47] type: valid epoch 111:   0%|          | 1/243 [00:00<00:34,  6.97it/s]"
     ]
    },
    {
     "name": "stdout",
     "output_type": "stream",
     "text": [
      "avg_loss: 1.2455 | avg_acc: 0.5118\n"
     ]
    },
    {
     "name": "stderr",
     "output_type": "stream",
     "text": [
      "[10:32:47] type: valid epoch 111: 100%|██████████| 243/243 [00:33<00:00,  7.30it/s]\n",
      "[10:33:20] type: train epoch 112:   0%|          | 0/2194 [00:00<?, ?it/s]"
     ]
    },
    {
     "name": "stdout",
     "output_type": "stream",
     "text": [
      "avg_loss: 1.3019 | avg_acc: 0.5006\n",
      "\n"
     ]
    },
    {
     "name": "stderr",
     "output_type": "stream",
     "text": [
      "[10:33:20] type: train epoch 112: 100%|██████████| 2194/2194 [15:15<00:00,  2.40it/s]\n",
      "[10:48:36] type: valid epoch 112:   0%|          | 1/243 [00:00<00:33,  7.22it/s]"
     ]
    },
    {
     "name": "stdout",
     "output_type": "stream",
     "text": [
      "avg_loss: 1.2452 | avg_acc: 0.5117\n"
     ]
    },
    {
     "name": "stderr",
     "output_type": "stream",
     "text": [
      "[10:48:36] type: valid epoch 112: 100%|██████████| 243/243 [00:33<00:00,  7.28it/s]\n",
      "[10:49:10] type: train epoch 113:   0%|          | 0/2194 [00:00<?, ?it/s]"
     ]
    },
    {
     "name": "stdout",
     "output_type": "stream",
     "text": [
      "avg_loss: 1.2924 | avg_acc: 0.5003\n",
      "\n"
     ]
    },
    {
     "name": "stderr",
     "output_type": "stream",
     "text": [
      "[10:49:10] type: train epoch 113: 100%|██████████| 2194/2194 [15:13<00:00,  2.40it/s]\n",
      "[11:04:24] type: valid epoch 113:   0%|          | 1/243 [00:00<00:32,  7.35it/s]"
     ]
    },
    {
     "name": "stdout",
     "output_type": "stream",
     "text": [
      "avg_loss: 1.2463 | avg_acc: 0.5114\n"
     ]
    },
    {
     "name": "stderr",
     "output_type": "stream",
     "text": [
      "[11:04:24] type: valid epoch 113: 100%|██████████| 243/243 [00:33<00:00,  7.31it/s]\n",
      "[11:04:57] type: train epoch 114:   0%|          | 0/2194 [00:00<?, ?it/s]"
     ]
    },
    {
     "name": "stdout",
     "output_type": "stream",
     "text": [
      "avg_loss: 1.2898 | avg_acc: 0.4999\n",
      "\n"
     ]
    },
    {
     "name": "stderr",
     "output_type": "stream",
     "text": [
      "[11:04:57] type: train epoch 114: 100%|██████████| 2194/2194 [15:13<00:00,  2.40it/s]\n",
      "[11:20:11] type: valid epoch 114:   0%|          | 1/243 [00:00<00:32,  7.56it/s]"
     ]
    },
    {
     "name": "stdout",
     "output_type": "stream",
     "text": [
      "avg_loss: 1.2442 | avg_acc: 0.5117\n"
     ]
    },
    {
     "name": "stderr",
     "output_type": "stream",
     "text": [
      "[11:20:11] type: valid epoch 114: 100%|██████████| 243/243 [00:33<00:00,  7.31it/s]\n",
      "[11:20:44] type: train epoch 115:   0%|          | 0/2194 [00:00<?, ?it/s]"
     ]
    },
    {
     "name": "stdout",
     "output_type": "stream",
     "text": [
      "avg_loss: 1.3022 | avg_acc: 0.4994\n",
      "\n"
     ]
    },
    {
     "name": "stderr",
     "output_type": "stream",
     "text": [
      "[11:20:44] type: train epoch 115: 100%|██████████| 2194/2194 [15:14<00:00,  2.40it/s]\n",
      "[11:35:59] type: valid epoch 115:   0%|          | 1/243 [00:00<00:33,  7.22it/s]"
     ]
    },
    {
     "name": "stdout",
     "output_type": "stream",
     "text": [
      "avg_loss: 1.2443 | avg_acc: 0.5111\n"
     ]
    },
    {
     "name": "stderr",
     "output_type": "stream",
     "text": [
      "[11:35:59] type: valid epoch 115: 100%|██████████| 243/243 [00:33<00:00,  7.27it/s]\n",
      "[11:36:33] type: train epoch 116:   0%|          | 0/2194 [00:00<?, ?it/s]"
     ]
    },
    {
     "name": "stdout",
     "output_type": "stream",
     "text": [
      "avg_loss: 1.3095 | avg_acc: 0.4983\n",
      "\n"
     ]
    },
    {
     "name": "stderr",
     "output_type": "stream",
     "text": [
      "[11:36:33] type: train epoch 116: 100%|██████████| 2194/2194 [15:16<00:00,  2.39it/s]\n",
      "[11:51:49] type: valid epoch 116:   0%|          | 1/243 [00:00<00:32,  7.50it/s]"
     ]
    },
    {
     "name": "stdout",
     "output_type": "stream",
     "text": [
      "avg_loss: 1.2451 | avg_acc: 0.5118\n"
     ]
    },
    {
     "name": "stderr",
     "output_type": "stream",
     "text": [
      "[11:51:49] type: valid epoch 116: 100%|██████████| 243/243 [00:33<00:00,  7.29it/s]\n"
     ]
    },
    {
     "name": "stdout",
     "output_type": "stream",
     "text": [
      "avg_loss: 1.2852 | avg_acc: 0.5001\n",
      "******** New optimal found, saving state ********\n"
     ]
    },
    {
     "name": "stderr",
     "output_type": "stream",
     "text": [
      "[11:52:30] type: train epoch 117:   0%|          | 0/2194 [00:00<?, ?it/s]"
     ]
    },
    {
     "name": "stdout",
     "output_type": "stream",
     "text": [
      "\n"
     ]
    },
    {
     "name": "stderr",
     "output_type": "stream",
     "text": [
      "[11:52:30] type: train epoch 117: 100%|██████████| 2194/2194 [15:12<00:00,  2.40it/s]\n",
      "[12:07:43] type: valid epoch 117:   0%|          | 1/243 [00:00<00:33,  7.19it/s]"
     ]
    },
    {
     "name": "stdout",
     "output_type": "stream",
     "text": [
      "avg_loss: 1.2451 | avg_acc: 0.5110\n"
     ]
    },
    {
     "name": "stderr",
     "output_type": "stream",
     "text": [
      "[12:07:43] type: valid epoch 117: 100%|██████████| 243/243 [00:33<00:00,  7.28it/s]\n",
      "[12:08:17] type: train epoch 118:   0%|          | 0/2194 [00:00<?, ?it/s]"
     ]
    },
    {
     "name": "stdout",
     "output_type": "stream",
     "text": [
      "avg_loss: 1.2893 | avg_acc: 0.5006\n",
      "\n"
     ]
    },
    {
     "name": "stderr",
     "output_type": "stream",
     "text": [
      "[12:08:17] type: train epoch 118: 100%|██████████| 2194/2194 [15:13<00:00,  2.40it/s]\n",
      "[12:23:31] type: valid epoch 118:   0%|          | 0/243 [00:00<?, ?it/s]"
     ]
    },
    {
     "name": "stdout",
     "output_type": "stream",
     "text": [
      "avg_loss: 1.2445 | avg_acc: 0.5118\n"
     ]
    },
    {
     "name": "stderr",
     "output_type": "stream",
     "text": [
      "[12:23:31] type: valid epoch 118: 100%|██████████| 243/243 [00:33<00:00,  7.28it/s]\n",
      "[12:24:04] type: train epoch 119:   0%|          | 0/2194 [00:00<?, ?it/s]"
     ]
    },
    {
     "name": "stdout",
     "output_type": "stream",
     "text": [
      "avg_loss: 1.2852 | avg_acc: 0.5001\n",
      "\n"
     ]
    },
    {
     "name": "stderr",
     "output_type": "stream",
     "text": [
      "[12:24:04] type: train epoch 119: 100%|██████████| 2194/2194 [15:12<00:00,  2.40it/s]\n"
     ]
    },
    {
     "name": "stdout",
     "output_type": "stream",
     "text": [
      "avg_loss: 1.2456 | avg_acc: 0.5109\n"
     ]
    },
    {
     "name": "stderr",
     "output_type": "stream",
     "text": [
      "[12:39:17] type: valid epoch 119: 100%|██████████| 243/243 [00:33<00:00,  7.31it/s]\n",
      "[12:39:50] type: train epoch 120:   0%|          | 0/2194 [00:00<?, ?it/s]"
     ]
    },
    {
     "name": "stdout",
     "output_type": "stream",
     "text": [
      "avg_loss: 1.2933 | avg_acc: 0.5003\n",
      "\n"
     ]
    },
    {
     "name": "stderr",
     "output_type": "stream",
     "text": [
      "[12:39:50] type: train epoch 120: 100%|██████████| 2194/2194 [15:11<00:00,  2.41it/s]\n",
      "[12:55:02] type: valid epoch 120:   0%|          | 1/243 [00:00<00:33,  7.15it/s]"
     ]
    },
    {
     "name": "stdout",
     "output_type": "stream",
     "text": [
      "avg_loss: 1.2441 | avg_acc: 0.5118\n"
     ]
    },
    {
     "name": "stderr",
     "output_type": "stream",
     "text": [
      "[12:55:02] type: valid epoch 120: 100%|██████████| 243/243 [00:33<00:00,  7.35it/s]\n",
      "[12:55:36] type: train epoch 121:   0%|          | 0/2194 [00:00<?, ?it/s]"
     ]
    },
    {
     "name": "stdout",
     "output_type": "stream",
     "text": [
      "avg_loss: 1.2875 | avg_acc: 0.5001\n",
      "\n"
     ]
    },
    {
     "name": "stderr",
     "output_type": "stream",
     "text": [
      "[12:55:36] type: train epoch 121: 100%|██████████| 2194/2194 [15:07<00:00,  2.42it/s]\n",
      "[13:10:44] type: valid epoch 121:   0%|          | 1/243 [00:00<00:31,  7.58it/s]"
     ]
    },
    {
     "name": "stdout",
     "output_type": "stream",
     "text": [
      "avg_loss: 1.2446 | avg_acc: 0.5120\n"
     ]
    },
    {
     "name": "stderr",
     "output_type": "stream",
     "text": [
      "[13:10:44] type: valid epoch 121: 100%|██████████| 243/243 [00:33<00:00,  7.32it/s]\n"
     ]
    },
    {
     "name": "stdout",
     "output_type": "stream",
     "text": [
      "avg_loss: 1.2805 | avg_acc: 0.5000\n",
      "******** New optimal found, saving state ********\n"
     ]
    },
    {
     "name": "stderr",
     "output_type": "stream",
     "text": [
      "[13:11:24] type: train epoch 122:   0%|          | 0/2194 [00:00<?, ?it/s]"
     ]
    },
    {
     "name": "stdout",
     "output_type": "stream",
     "text": [
      "\n"
     ]
    },
    {
     "name": "stderr",
     "output_type": "stream",
     "text": [
      "[13:11:24] type: train epoch 122: 100%|██████████| 2194/2194 [15:08<00:00,  2.41it/s]\n",
      "[13:26:33] type: valid epoch 122:   0%|          | 1/243 [00:00<00:35,  6.73it/s]"
     ]
    },
    {
     "name": "stdout",
     "output_type": "stream",
     "text": [
      "avg_loss: 1.2445 | avg_acc: 0.5115\n"
     ]
    },
    {
     "name": "stderr",
     "output_type": "stream",
     "text": [
      "[13:26:33] type: valid epoch 122: 100%|██████████| 243/243 [00:33<00:00,  7.32it/s]\n",
      "[13:27:07] type: train epoch 123:   0%|          | 0/2194 [00:00<?, ?it/s]"
     ]
    },
    {
     "name": "stdout",
     "output_type": "stream",
     "text": [
      "avg_loss: 1.2861 | avg_acc: 0.5005\n",
      "\n"
     ]
    },
    {
     "name": "stderr",
     "output_type": "stream",
     "text": [
      "[13:27:07] type: train epoch 123: 100%|██████████| 2194/2194 [15:08<00:00,  2.41it/s]\n",
      "[13:42:16] type: valid epoch 123:   0%|          | 1/243 [00:00<00:31,  7.60it/s]"
     ]
    },
    {
     "name": "stdout",
     "output_type": "stream",
     "text": [
      "avg_loss: 1.2442 | avg_acc: 0.5120\n"
     ]
    },
    {
     "name": "stderr",
     "output_type": "stream",
     "text": [
      "[13:42:16] type: valid epoch 123: 100%|██████████| 243/243 [00:33<00:00,  7.33it/s]\n",
      "[13:42:49] type: train epoch 124:   0%|          | 0/2194 [00:00<?, ?it/s]"
     ]
    },
    {
     "name": "stdout",
     "output_type": "stream",
     "text": [
      "avg_loss: 1.2965 | avg_acc: 0.5006\n",
      "\n"
     ]
    },
    {
     "name": "stderr",
     "output_type": "stream",
     "text": [
      "[13:42:49] type: train epoch 124: 100%|██████████| 2194/2194 [15:10<00:00,  2.41it/s]\n",
      "[13:58:00] type: valid epoch 124:   0%|          | 1/243 [00:00<00:32,  7.46it/s]"
     ]
    },
    {
     "name": "stdout",
     "output_type": "stream",
     "text": [
      "avg_loss: 1.2445 | avg_acc: 0.5110\n"
     ]
    },
    {
     "name": "stderr",
     "output_type": "stream",
     "text": [
      "[13:58:00] type: valid epoch 124: 100%|██████████| 243/243 [00:33<00:00,  7.30it/s]\n",
      "[13:58:33] type: train epoch 125:   0%|          | 0/2194 [00:00<?, ?it/s]"
     ]
    },
    {
     "name": "stdout",
     "output_type": "stream",
     "text": [
      "avg_loss: 1.2939 | avg_acc: 0.5003\n",
      "\n"
     ]
    },
    {
     "name": "stderr",
     "output_type": "stream",
     "text": [
      "[13:58:33] type: train epoch 125: 100%|██████████| 2194/2194 [15:09<00:00,  2.41it/s]\n",
      "[14:13:43] type: valid epoch 125:   0%|          | 1/243 [00:00<00:32,  7.45it/s]"
     ]
    },
    {
     "name": "stdout",
     "output_type": "stream",
     "text": [
      "avg_loss: 1.2432 | avg_acc: 0.5124\n"
     ]
    },
    {
     "name": "stderr",
     "output_type": "stream",
     "text": [
      "[14:13:43] type: valid epoch 125: 100%|██████████| 243/243 [00:33<00:00,  7.34it/s]\n",
      "[14:14:16] type: train epoch 126:   0%|          | 0/2194 [00:00<?, ?it/s]"
     ]
    },
    {
     "name": "stdout",
     "output_type": "stream",
     "text": [
      "avg_loss: 1.2889 | avg_acc: 0.5004\n",
      "\n"
     ]
    },
    {
     "name": "stderr",
     "output_type": "stream",
     "text": [
      "[14:14:16] type: train epoch 126: 100%|██████████| 2194/2194 [15:09<00:00,  2.41it/s]\n",
      "[14:29:26] type: valid epoch 126:   0%|          | 1/243 [00:00<00:32,  7.47it/s]"
     ]
    },
    {
     "name": "stdout",
     "output_type": "stream",
     "text": [
      "avg_loss: 1.2433 | avg_acc: 0.5113\n"
     ]
    },
    {
     "name": "stderr",
     "output_type": "stream",
     "text": [
      "[14:29:26] type: valid epoch 126: 100%|██████████| 243/243 [00:33<00:00,  7.36it/s]\n",
      "[14:30:00] type: train epoch 127:   0%|          | 0/2194 [00:00<?, ?it/s]"
     ]
    },
    {
     "name": "stdout",
     "output_type": "stream",
     "text": [
      "avg_loss: 1.2976 | avg_acc: 0.5003\n",
      "\n"
     ]
    },
    {
     "name": "stderr",
     "output_type": "stream",
     "text": [
      "[14:30:00] type: train epoch 127: 100%|██████████| 2194/2194 [15:05<00:00,  2.42it/s]\n",
      "[14:45:06] type: valid epoch 127:   0%|          | 1/243 [00:00<00:33,  7.29it/s]"
     ]
    },
    {
     "name": "stdout",
     "output_type": "stream",
     "text": [
      "avg_loss: 1.2435 | avg_acc: 0.5113\n"
     ]
    },
    {
     "name": "stderr",
     "output_type": "stream",
     "text": [
      "[14:45:06] type: valid epoch 127: 100%|██████████| 243/243 [00:33<00:00,  7.34it/s]\n",
      "[14:45:39] type: train epoch 128:   0%|          | 0/2194 [00:00<?, ?it/s]"
     ]
    },
    {
     "name": "stdout",
     "output_type": "stream",
     "text": [
      "avg_loss: 1.2819 | avg_acc: 0.4999\n",
      "\n"
     ]
    },
    {
     "name": "stderr",
     "output_type": "stream",
     "text": [
      "[14:45:39] type: train epoch 128: 100%|██████████| 2194/2194 [15:09<00:00,  2.41it/s]\n",
      "[15:00:49] type: valid epoch 128:   0%|          | 1/243 [00:00<00:32,  7.44it/s]"
     ]
    },
    {
     "name": "stdout",
     "output_type": "stream",
     "text": [
      "avg_loss: 1.2430 | avg_acc: 0.5113\n"
     ]
    },
    {
     "name": "stderr",
     "output_type": "stream",
     "text": [
      "[15:00:49] type: valid epoch 128: 100%|██████████| 243/243 [00:33<00:00,  7.32it/s]\n",
      "[15:01:22] type: train epoch 129:   0%|          | 0/2194 [00:00<?, ?it/s]"
     ]
    },
    {
     "name": "stdout",
     "output_type": "stream",
     "text": [
      "avg_loss: 1.2915 | avg_acc: 0.5001\n",
      "\n"
     ]
    },
    {
     "name": "stderr",
     "output_type": "stream",
     "text": [
      "[15:01:22] type: train epoch 129: 100%|██████████| 2194/2194 [15:10<00:00,  2.41it/s]\n",
      "[15:16:34] type: valid epoch 129:   0%|          | 1/243 [00:00<00:32,  7.48it/s]"
     ]
    },
    {
     "name": "stdout",
     "output_type": "stream",
     "text": [
      "avg_loss: 1.2428 | avg_acc: 0.5114\n"
     ]
    },
    {
     "name": "stderr",
     "output_type": "stream",
     "text": [
      "[15:16:34] type: valid epoch 129: 100%|██████████| 243/243 [00:33<00:00,  7.33it/s]\n",
      "[15:17:07] type: train epoch 130:   0%|          | 0/2194 [00:00<?, ?it/s]"
     ]
    },
    {
     "name": "stdout",
     "output_type": "stream",
     "text": [
      "avg_loss: 1.2912 | avg_acc: 0.5000\n",
      "\n"
     ]
    },
    {
     "name": "stderr",
     "output_type": "stream",
     "text": [
      "[15:17:07] type: train epoch 130: 100%|██████████| 2194/2194 [15:10<00:00,  2.41it/s]\n",
      "[15:32:18] type: valid epoch 130:   0%|          | 1/243 [00:00<00:36,  6.55it/s]"
     ]
    },
    {
     "name": "stdout",
     "output_type": "stream",
     "text": [
      "avg_loss: 1.2435 | avg_acc: 0.5113\n"
     ]
    },
    {
     "name": "stderr",
     "output_type": "stream",
     "text": [
      "[15:32:18] type: valid epoch 130: 100%|██████████| 243/243 [00:33<00:00,  7.32it/s]\n",
      "[15:32:51] type: train epoch 131:   0%|          | 0/2194 [00:00<?, ?it/s]"
     ]
    },
    {
     "name": "stdout",
     "output_type": "stream",
     "text": [
      "avg_loss: 1.2838 | avg_acc: 0.4998\n",
      "\n"
     ]
    },
    {
     "name": "stderr",
     "output_type": "stream",
     "text": [
      "[15:32:51] type: train epoch 131: 100%|██████████| 2194/2194 [15:08<00:00,  2.42it/s]\n",
      "[15:48:00] type: valid epoch 131:   0%|          | 1/243 [00:00<00:32,  7.48it/s]"
     ]
    },
    {
     "name": "stdout",
     "output_type": "stream",
     "text": [
      "avg_loss: 1.2424 | avg_acc: 0.5113\n"
     ]
    },
    {
     "name": "stderr",
     "output_type": "stream",
     "text": [
      "[15:48:00] type: valid epoch 131: 100%|██████████| 243/243 [00:33<00:00,  7.32it/s]\n"
     ]
    },
    {
     "name": "stdout",
     "output_type": "stream",
     "text": [
      "avg_loss: 1.2794 | avg_acc: 0.5002\n",
      "******** New optimal found, saving state ********\n"
     ]
    },
    {
     "name": "stderr",
     "output_type": "stream",
     "text": [
      "[15:48:40] type: train epoch 132:   0%|          | 0/2194 [00:00<?, ?it/s]"
     ]
    },
    {
     "name": "stdout",
     "output_type": "stream",
     "text": [
      "\n"
     ]
    },
    {
     "name": "stderr",
     "output_type": "stream",
     "text": [
      "[15:48:40] type: train epoch 132: 100%|██████████| 2194/2194 [15:11<00:00,  2.41it/s]\n",
      "[16:03:52] type: valid epoch 132:   0%|          | 1/243 [00:00<00:31,  7.63it/s]"
     ]
    },
    {
     "name": "stdout",
     "output_type": "stream",
     "text": [
      "avg_loss: 1.2425 | avg_acc: 0.5113\n"
     ]
    },
    {
     "name": "stderr",
     "output_type": "stream",
     "text": [
      "[16:03:52] type: valid epoch 132: 100%|██████████| 243/243 [00:33<00:00,  7.32it/s]\n",
      "[16:04:25] type: train epoch 133:   0%|          | 0/2194 [00:00<?, ?it/s]"
     ]
    },
    {
     "name": "stdout",
     "output_type": "stream",
     "text": [
      "avg_loss: 1.2929 | avg_acc: 0.5005\n",
      "\n"
     ]
    },
    {
     "name": "stderr",
     "output_type": "stream",
     "text": [
      "[16:04:25] type: train epoch 133: 100%|██████████| 2194/2194 [15:12<00:00,  2.41it/s]\n",
      "[16:19:38] type: valid epoch 133:   0%|          | 0/243 [00:00<?, ?it/s]"
     ]
    },
    {
     "name": "stdout",
     "output_type": "stream",
     "text": [
      "avg_loss: 1.2422 | avg_acc: 0.5115\n"
     ]
    },
    {
     "name": "stderr",
     "output_type": "stream",
     "text": [
      "[16:19:38] type: valid epoch 133: 100%|██████████| 243/243 [00:33<00:00,  7.31it/s]\n",
      "[16:20:11] type: train epoch 134:   0%|          | 0/2194 [00:00<?, ?it/s]"
     ]
    },
    {
     "name": "stdout",
     "output_type": "stream",
     "text": [
      "avg_loss: 1.2808 | avg_acc: 0.5000\n",
      "\n"
     ]
    },
    {
     "name": "stderr",
     "output_type": "stream",
     "text": [
      "[16:20:11] type: train epoch 134: 100%|██████████| 2194/2194 [15:11<00:00,  2.41it/s]\n",
      "[16:35:23] type: valid epoch 134:   0%|          | 1/243 [00:00<00:31,  7.63it/s]"
     ]
    },
    {
     "name": "stdout",
     "output_type": "stream",
     "text": [
      "avg_loss: 1.2424 | avg_acc: 0.5116\n"
     ]
    },
    {
     "name": "stderr",
     "output_type": "stream",
     "text": [
      "[16:35:23] type: valid epoch 134: 100%|██████████| 243/243 [00:33<00:00,  7.35it/s]\n"
     ]
    },
    {
     "name": "stdout",
     "output_type": "stream",
     "text": [
      "avg_loss: 1.2742 | avg_acc: 0.5003\n",
      "******** New optimal found, saving state ********\n"
     ]
    },
    {
     "name": "stderr",
     "output_type": "stream",
     "text": [
      "[16:36:03] type: train epoch 135:   0%|          | 0/2194 [00:00<?, ?it/s]"
     ]
    },
    {
     "name": "stdout",
     "output_type": "stream",
     "text": [
      "\n"
     ]
    },
    {
     "name": "stderr",
     "output_type": "stream",
     "text": [
      "[16:36:03] type: train epoch 135: 100%|██████████| 2194/2194 [15:08<00:00,  2.42it/s]\n",
      "[16:51:12] type: valid epoch 135:   0%|          | 1/243 [00:00<00:32,  7.46it/s]"
     ]
    },
    {
     "name": "stdout",
     "output_type": "stream",
     "text": [
      "avg_loss: 1.2425 | avg_acc: 0.5112\n"
     ]
    },
    {
     "name": "stderr",
     "output_type": "stream",
     "text": [
      "[16:51:12] type: valid epoch 135: 100%|██████████| 243/243 [00:33<00:00,  7.36it/s]\n",
      "[16:51:45] type: train epoch 136:   0%|          | 0/2194 [00:00<?, ?it/s]"
     ]
    },
    {
     "name": "stdout",
     "output_type": "stream",
     "text": [
      "avg_loss: 1.2884 | avg_acc: 0.5005\n",
      "\n"
     ]
    },
    {
     "name": "stderr",
     "output_type": "stream",
     "text": [
      "[16:51:45] type: train epoch 136: 100%|██████████| 2194/2194 [15:08<00:00,  2.42it/s]\n",
      "[17:06:53] type: valid epoch 136:   0%|          | 1/243 [00:00<00:31,  7.65it/s]"
     ]
    },
    {
     "name": "stdout",
     "output_type": "stream",
     "text": [
      "avg_loss: 1.2413 | avg_acc: 0.5112\n"
     ]
    },
    {
     "name": "stderr",
     "output_type": "stream",
     "text": [
      "[17:06:53] type: valid epoch 136: 100%|██████████| 243/243 [00:32<00:00,  7.37it/s]\n",
      "[17:07:26] type: train epoch 137:   0%|          | 0/2194 [00:00<?, ?it/s]"
     ]
    },
    {
     "name": "stdout",
     "output_type": "stream",
     "text": [
      "avg_loss: 1.2838 | avg_acc: 0.5003\n",
      "\n"
     ]
    },
    {
     "name": "stderr",
     "output_type": "stream",
     "text": [
      "[17:07:26] type: train epoch 137: 100%|██████████| 2194/2194 [15:06<00:00,  2.42it/s]\n",
      "[17:22:34] type: valid epoch 137:   0%|          | 1/243 [00:00<00:31,  7.58it/s]"
     ]
    },
    {
     "name": "stdout",
     "output_type": "stream",
     "text": [
      "avg_loss: 1.2415 | avg_acc: 0.5120\n"
     ]
    },
    {
     "name": "stderr",
     "output_type": "stream",
     "text": [
      "[17:22:34] type: valid epoch 137: 100%|██████████| 243/243 [00:33<00:00,  7.33it/s]\n",
      "[17:23:07] type: train epoch 138:   0%|          | 0/2194 [00:00<?, ?it/s]"
     ]
    },
    {
     "name": "stdout",
     "output_type": "stream",
     "text": [
      "avg_loss: 1.2800 | avg_acc: 0.4995\n",
      "\n"
     ]
    },
    {
     "name": "stderr",
     "output_type": "stream",
     "text": [
      "[17:23:07] type: train epoch 138: 100%|██████████| 2194/2194 [15:06<00:00,  2.42it/s]\n",
      "[17:38:14] type: valid epoch 138:   0%|          | 1/243 [00:00<00:33,  7.32it/s]"
     ]
    },
    {
     "name": "stdout",
     "output_type": "stream",
     "text": [
      "avg_loss: 1.2418 | avg_acc: 0.5118\n"
     ]
    },
    {
     "name": "stderr",
     "output_type": "stream",
     "text": [
      "[17:38:14] type: valid epoch 138: 100%|██████████| 243/243 [00:33<00:00,  7.34it/s]\n",
      "[17:38:47] type: train epoch 139:   0%|          | 0/2194 [00:00<?, ?it/s]"
     ]
    },
    {
     "name": "stdout",
     "output_type": "stream",
     "text": [
      "avg_loss: 1.2863 | avg_acc: 0.5006\n",
      "\n"
     ]
    },
    {
     "name": "stderr",
     "output_type": "stream",
     "text": [
      "[17:38:47] type: train epoch 139: 100%|██████████| 2194/2194 [15:05<00:00,  2.42it/s]\n",
      "[17:53:53] type: valid epoch 139:   0%|          | 1/243 [00:00<00:31,  7.60it/s]"
     ]
    },
    {
     "name": "stdout",
     "output_type": "stream",
     "text": [
      "avg_loss: 1.2423 | avg_acc: 0.5118\n"
     ]
    },
    {
     "name": "stderr",
     "output_type": "stream",
     "text": [
      "[17:53:53] type: valid epoch 139: 100%|██████████| 243/243 [00:32<00:00,  7.38it/s]\n",
      "[17:54:26] type: train epoch 140:   0%|          | 0/2194 [00:00<?, ?it/s]"
     ]
    },
    {
     "name": "stdout",
     "output_type": "stream",
     "text": [
      "avg_loss: 1.2821 | avg_acc: 0.5002\n",
      "\n"
     ]
    },
    {
     "name": "stderr",
     "output_type": "stream",
     "text": [
      "[17:54:26] type: train epoch 140: 100%|██████████| 2194/2194 [15:07<00:00,  2.42it/s]\n",
      "[18:09:34] type: valid epoch 140:   0%|          | 1/243 [00:00<00:33,  7.24it/s]"
     ]
    },
    {
     "name": "stdout",
     "output_type": "stream",
     "text": [
      "avg_loss: 1.2411 | avg_acc: 0.5119\n"
     ]
    },
    {
     "name": "stderr",
     "output_type": "stream",
     "text": [
      "[18:09:34] type: valid epoch 140: 100%|██████████| 243/243 [00:33<00:00,  7.34it/s]\n",
      "[18:10:07] type: train epoch 141:   0%|          | 0/2194 [00:00<?, ?it/s]"
     ]
    },
    {
     "name": "stdout",
     "output_type": "stream",
     "text": [
      "avg_loss: 1.2846 | avg_acc: 0.5003\n",
      "\n"
     ]
    },
    {
     "name": "stderr",
     "output_type": "stream",
     "text": [
      "[18:10:07] type: train epoch 141: 100%|██████████| 2194/2194 [15:08<00:00,  2.41it/s]\n",
      "[18:25:16] type: valid epoch 141:   0%|          | 1/243 [00:00<00:31,  7.61it/s]"
     ]
    },
    {
     "name": "stdout",
     "output_type": "stream",
     "text": [
      "avg_loss: 1.2420 | avg_acc: 0.5111\n"
     ]
    },
    {
     "name": "stderr",
     "output_type": "stream",
     "text": [
      "[18:25:16] type: valid epoch 141: 100%|██████████| 243/243 [00:32<00:00,  7.36it/s]\n",
      "[18:25:49] type: train epoch 142:   0%|          | 0/2194 [00:00<?, ?it/s]"
     ]
    },
    {
     "name": "stdout",
     "output_type": "stream",
     "text": [
      "avg_loss: 1.2840 | avg_acc: 0.4999\n",
      "\n"
     ]
    },
    {
     "name": "stderr",
     "output_type": "stream",
     "text": [
      "[18:25:49] type: train epoch 142: 100%|██████████| 2194/2194 [15:09<00:00,  2.41it/s]\n",
      "[18:40:59] type: valid epoch 142:   0%|          | 1/243 [00:00<00:36,  6.68it/s]"
     ]
    },
    {
     "name": "stdout",
     "output_type": "stream",
     "text": [
      "avg_loss: 1.2418 | avg_acc: 0.5122\n"
     ]
    },
    {
     "name": "stderr",
     "output_type": "stream",
     "text": [
      "[18:40:59] type: valid epoch 142: 100%|██████████| 243/243 [00:33<00:00,  7.33it/s]\n",
      "[18:41:32] type: train epoch 143:   0%|          | 0/2194 [00:00<?, ?it/s]"
     ]
    },
    {
     "name": "stdout",
     "output_type": "stream",
     "text": [
      "avg_loss: 1.2921 | avg_acc: 0.5006\n",
      "\n"
     ]
    },
    {
     "name": "stderr",
     "output_type": "stream",
     "text": [
      "[18:41:32] type: train epoch 143: 100%|██████████| 2194/2194 [15:07<00:00,  2.42it/s]\n",
      "[18:56:40] type: valid epoch 143:   0%|          | 1/243 [00:00<00:32,  7.53it/s]"
     ]
    },
    {
     "name": "stdout",
     "output_type": "stream",
     "text": [
      "avg_loss: 1.2400 | avg_acc: 0.5119\n"
     ]
    },
    {
     "name": "stderr",
     "output_type": "stream",
     "text": [
      "[18:56:40] type: valid epoch 143: 100%|██████████| 243/243 [00:32<00:00,  7.38it/s]\n",
      "[18:57:13] type: train epoch 144:   0%|          | 0/2194 [00:00<?, ?it/s]"
     ]
    },
    {
     "name": "stdout",
     "output_type": "stream",
     "text": [
      "avg_loss: 1.2784 | avg_acc: 0.5001\n",
      "\n"
     ]
    },
    {
     "name": "stderr",
     "output_type": "stream",
     "text": [
      "[18:57:13] type: train epoch 144: 100%|██████████| 2194/2194 [15:06<00:00,  2.42it/s]\n",
      "[19:12:20] type: valid epoch 144:   0%|          | 1/243 [00:00<00:32,  7.55it/s]"
     ]
    },
    {
     "name": "stdout",
     "output_type": "stream",
     "text": [
      "avg_loss: 1.2405 | avg_acc: 0.5110\n"
     ]
    },
    {
     "name": "stderr",
     "output_type": "stream",
     "text": [
      "[19:12:20] type: valid epoch 144: 100%|██████████| 243/243 [00:33<00:00,  7.33it/s]\n",
      "[19:12:53] type: train epoch 145:   0%|          | 0/2194 [00:00<?, ?it/s]"
     ]
    },
    {
     "name": "stdout",
     "output_type": "stream",
     "text": [
      "avg_loss: 1.2915 | avg_acc: 0.5006\n",
      "\n"
     ]
    },
    {
     "name": "stderr",
     "output_type": "stream",
     "text": [
      "[19:12:53] type: train epoch 145: 100%|██████████| 2194/2194 [15:07<00:00,  2.42it/s]\n",
      "[19:28:01] type: valid epoch 145:   0%|          | 1/243 [00:00<00:32,  7.52it/s]"
     ]
    },
    {
     "name": "stdout",
     "output_type": "stream",
     "text": [
      "avg_loss: 1.2408 | avg_acc: 0.5115\n"
     ]
    },
    {
     "name": "stderr",
     "output_type": "stream",
     "text": [
      "[19:28:01] type: valid epoch 145: 100%|██████████| 243/243 [00:33<00:00,  7.34it/s]\n",
      "[19:28:35] type: train epoch 146:   0%|          | 0/2194 [00:00<?, ?it/s]"
     ]
    },
    {
     "name": "stdout",
     "output_type": "stream",
     "text": [
      "avg_loss: 1.2873 | avg_acc: 0.5006\n",
      "\n"
     ]
    },
    {
     "name": "stderr",
     "output_type": "stream",
     "text": [
      "[19:28:35] type: train epoch 146: 100%|██████████| 2194/2194 [15:05<00:00,  2.42it/s]\n",
      "[19:43:40] type: valid epoch 146:   0%|          | 1/243 [00:00<00:32,  7.41it/s]"
     ]
    },
    {
     "name": "stdout",
     "output_type": "stream",
     "text": [
      "avg_loss: 1.2398 | avg_acc: 0.5116\n"
     ]
    },
    {
     "name": "stderr",
     "output_type": "stream",
     "text": [
      "[19:43:40] type: valid epoch 146: 100%|██████████| 243/243 [00:33<00:00,  7.36it/s]\n",
      "[19:44:13] type: train epoch 147:   0%|          | 0/2194 [00:00<?, ?it/s]"
     ]
    },
    {
     "name": "stdout",
     "output_type": "stream",
     "text": [
      "avg_loss: 1.2757 | avg_acc: 0.5004\n",
      "\n"
     ]
    },
    {
     "name": "stderr",
     "output_type": "stream",
     "text": [
      "[19:44:13] type: train epoch 147: 100%|██████████| 2194/2194 [15:04<00:00,  2.43it/s]\n",
      "[19:59:18] type: valid epoch 147:   0%|          | 1/243 [00:00<00:37,  6.50it/s]"
     ]
    },
    {
     "name": "stdout",
     "output_type": "stream",
     "text": [
      "avg_loss: 1.2413 | avg_acc: 0.5114\n"
     ]
    },
    {
     "name": "stderr",
     "output_type": "stream",
     "text": [
      "[19:59:18] type: valid epoch 147: 100%|██████████| 243/243 [00:32<00:00,  7.37it/s]\n",
      "[19:59:51] type: train epoch 148:   0%|          | 0/2194 [00:00<?, ?it/s]"
     ]
    },
    {
     "name": "stdout",
     "output_type": "stream",
     "text": [
      "avg_loss: 1.2908 | avg_acc: 0.5004\n",
      "\n"
     ]
    },
    {
     "name": "stderr",
     "output_type": "stream",
     "text": [
      "[19:59:51] type: train epoch 148: 100%|██████████| 2194/2194 [15:04<00:00,  2.43it/s]\n",
      "[20:14:56] type: valid epoch 148:   0%|          | 1/243 [00:00<00:32,  7.55it/s]"
     ]
    },
    {
     "name": "stdout",
     "output_type": "stream",
     "text": [
      "avg_loss: 1.2405 | avg_acc: 0.5110\n"
     ]
    },
    {
     "name": "stderr",
     "output_type": "stream",
     "text": [
      "[20:14:56] type: valid epoch 148: 100%|██████████| 243/243 [00:32<00:00,  7.39it/s]\n",
      "[20:15:29] type: train epoch 149:   0%|          | 0/2194 [00:00<?, ?it/s]"
     ]
    },
    {
     "name": "stdout",
     "output_type": "stream",
     "text": [
      "avg_loss: 1.2908 | avg_acc: 0.5005\n",
      "\n"
     ]
    },
    {
     "name": "stderr",
     "output_type": "stream",
     "text": [
      "[20:15:29] type: train epoch 149: 100%|██████████| 2194/2194 [15:03<00:00,  2.43it/s]\n",
      "[20:30:33] type: valid epoch 149:   0%|          | 1/243 [00:00<00:33,  7.31it/s]"
     ]
    },
    {
     "name": "stdout",
     "output_type": "stream",
     "text": [
      "avg_loss: 1.2408 | avg_acc: 0.5123\n"
     ]
    },
    {
     "name": "stderr",
     "output_type": "stream",
     "text": [
      "[20:30:33] type: valid epoch 149: 100%|██████████| 243/243 [00:32<00:00,  7.37it/s]\n",
      "[20:31:06] type: train epoch 150:   0%|          | 0/2194 [00:00<?, ?it/s]"
     ]
    },
    {
     "name": "stdout",
     "output_type": "stream",
     "text": [
      "avg_loss: 1.2843 | avg_acc: 0.5005\n",
      "\n"
     ]
    },
    {
     "name": "stderr",
     "output_type": "stream",
     "text": [
      "[20:31:06] type: train epoch 150: 100%|██████████| 2194/2194 [15:01<00:00,  2.43it/s]\n",
      "[20:46:08] type: valid epoch 150:   0%|          | 1/243 [00:00<00:34,  7.06it/s]"
     ]
    },
    {
     "name": "stdout",
     "output_type": "stream",
     "text": [
      "avg_loss: 1.2399 | avg_acc: 0.5122\n"
     ]
    },
    {
     "name": "stderr",
     "output_type": "stream",
     "text": [
      "[20:46:08] type: valid epoch 150: 100%|██████████| 243/243 [00:33<00:00,  7.36it/s]\n",
      "[20:46:41] type: train epoch 151:   0%|          | 0/2194 [00:00<?, ?it/s]"
     ]
    },
    {
     "name": "stdout",
     "output_type": "stream",
     "text": [
      "avg_loss: 1.2884 | avg_acc: 0.5012\n",
      "\n"
     ]
    },
    {
     "name": "stderr",
     "output_type": "stream",
     "text": [
      "[20:46:41] type: train epoch 151: 100%|██████████| 2194/2194 [14:59<00:00,  2.44it/s]\n",
      "[21:01:41] type: valid epoch 151:   0%|          | 1/243 [00:00<00:32,  7.47it/s]"
     ]
    },
    {
     "name": "stdout",
     "output_type": "stream",
     "text": [
      "avg_loss: 1.2405 | avg_acc: 0.5119\n"
     ]
    },
    {
     "name": "stderr",
     "output_type": "stream",
     "text": [
      "[21:01:41] type: valid epoch 151: 100%|██████████| 243/243 [00:32<00:00,  7.39it/s]\n",
      "[21:02:14] type: train epoch 152:   0%|          | 0/2194 [00:00<?, ?it/s]"
     ]
    },
    {
     "name": "stdout",
     "output_type": "stream",
     "text": [
      "avg_loss: 1.2822 | avg_acc: 0.4997\n",
      "\n"
     ]
    },
    {
     "name": "stderr",
     "output_type": "stream",
     "text": [
      "[21:02:14] type: train epoch 152: 100%|██████████| 2194/2194 [14:59<00:00,  2.44it/s]\n",
      "[21:17:14] type: valid epoch 152:   0%|          | 1/243 [00:00<00:31,  7.72it/s]"
     ]
    },
    {
     "name": "stdout",
     "output_type": "stream",
     "text": [
      "avg_loss: 1.2406 | avg_acc: 0.5113\n"
     ]
    },
    {
     "name": "stderr",
     "output_type": "stream",
     "text": [
      "[21:17:14] type: valid epoch 152: 100%|██████████| 243/243 [00:32<00:00,  7.40it/s]\n",
      "[21:17:47] type: train epoch 153:   0%|          | 0/2194 [00:00<?, ?it/s]"
     ]
    },
    {
     "name": "stdout",
     "output_type": "stream",
     "text": [
      "avg_loss: 1.2794 | avg_acc: 0.4996\n",
      "\n"
     ]
    },
    {
     "name": "stderr",
     "output_type": "stream",
     "text": [
      "[21:17:47] type: train epoch 153: 100%|██████████| 2194/2194 [15:01<00:00,  2.43it/s]\n",
      "[21:32:49] type: valid epoch 153:   0%|          | 1/243 [00:00<00:31,  7.64it/s]"
     ]
    },
    {
     "name": "stdout",
     "output_type": "stream",
     "text": [
      "avg_loss: 1.2404 | avg_acc: 0.5119\n"
     ]
    },
    {
     "name": "stderr",
     "output_type": "stream",
     "text": [
      "[21:32:49] type: valid epoch 153: 100%|██████████| 243/243 [00:32<00:00,  7.37it/s]\n",
      "[21:33:22] type: train epoch 154:   0%|          | 0/2194 [00:00<?, ?it/s]"
     ]
    },
    {
     "name": "stdout",
     "output_type": "stream",
     "text": [
      "avg_loss: 1.2755 | avg_acc: 0.5003\n",
      "\n"
     ]
    },
    {
     "name": "stderr",
     "output_type": "stream",
     "text": [
      "[21:33:22] type: train epoch 154: 100%|██████████| 2194/2194 [15:02<00:00,  2.43it/s]\n",
      "[21:48:24] type: valid epoch 154:   0%|          | 1/243 [00:00<00:31,  7.63it/s]"
     ]
    },
    {
     "name": "stdout",
     "output_type": "stream",
     "text": [
      "avg_loss: 1.2399 | avg_acc: 0.5113\n"
     ]
    },
    {
     "name": "stderr",
     "output_type": "stream",
     "text": [
      "[21:48:24] type: valid epoch 154: 100%|██████████| 243/243 [00:32<00:00,  7.40it/s]\n",
      "[21:48:57] type: train epoch 155:   0%|          | 0/2194 [00:00<?, ?it/s]"
     ]
    },
    {
     "name": "stdout",
     "output_type": "stream",
     "text": [
      "avg_loss: 1.2790 | avg_acc: 0.5012\n",
      "\n"
     ]
    },
    {
     "name": "stderr",
     "output_type": "stream",
     "text": [
      "[21:48:57] type: train epoch 155: 100%|██████████| 2194/2194 [15:02<00:00,  2.43it/s]\n",
      "[22:04:00] type: valid epoch 155:   0%|          | 1/243 [00:00<00:31,  7.78it/s]"
     ]
    },
    {
     "name": "stdout",
     "output_type": "stream",
     "text": [
      "avg_loss: 1.2403 | avg_acc: 0.5116\n"
     ]
    },
    {
     "name": "stderr",
     "output_type": "stream",
     "text": [
      "[22:04:00] type: valid epoch 155: 100%|██████████| 243/243 [00:32<00:00,  7.40it/s]\n",
      "[22:04:33] type: train epoch 156:   0%|          | 0/2194 [00:00<?, ?it/s]"
     ]
    },
    {
     "name": "stdout",
     "output_type": "stream",
     "text": [
      "avg_loss: 1.2775 | avg_acc: 0.4998\n",
      "\n"
     ]
    },
    {
     "name": "stderr",
     "output_type": "stream",
     "text": [
      "[22:04:33] type: train epoch 156: 100%|██████████| 2194/2194 [15:01<00:00,  2.43it/s]\n",
      "[22:19:34] type: valid epoch 156:   0%|          | 1/243 [00:00<00:32,  7.41it/s]"
     ]
    },
    {
     "name": "stdout",
     "output_type": "stream",
     "text": [
      "avg_loss: 1.2402 | avg_acc: 0.5115\n"
     ]
    },
    {
     "name": "stderr",
     "output_type": "stream",
     "text": [
      "[22:19:34] type: valid epoch 156: 100%|██████████| 243/243 [00:32<00:00,  7.38it/s]\n",
      "[22:20:07] type: train epoch 157:   0%|          | 0/2194 [00:00<?, ?it/s]"
     ]
    },
    {
     "name": "stdout",
     "output_type": "stream",
     "text": [
      "avg_loss: 1.2782 | avg_acc: 0.5002\n",
      "\n"
     ]
    },
    {
     "name": "stderr",
     "output_type": "stream",
     "text": [
      "[22:20:07] type: train epoch 157: 100%|██████████| 2194/2194 [15:03<00:00,  2.43it/s]\n",
      "[22:35:11] type: valid epoch 157:   0%|          | 1/243 [00:00<00:32,  7.34it/s]"
     ]
    },
    {
     "name": "stdout",
     "output_type": "stream",
     "text": [
      "avg_loss: 1.2403 | avg_acc: 0.5114\n"
     ]
    },
    {
     "name": "stderr",
     "output_type": "stream",
     "text": [
      "[22:35:11] type: valid epoch 157: 100%|██████████| 243/243 [00:33<00:00,  7.35it/s]\n",
      "[22:35:45] type: train epoch 158:   0%|          | 0/2194 [00:00<?, ?it/s]"
     ]
    },
    {
     "name": "stdout",
     "output_type": "stream",
     "text": [
      "avg_loss: 1.2756 | avg_acc: 0.5000\n",
      "\n"
     ]
    },
    {
     "name": "stderr",
     "output_type": "stream",
     "text": [
      "[22:35:45] type: train epoch 158: 100%|██████████| 2194/2194 [15:02<00:00,  2.43it/s]\n",
      "[22:50:48] type: valid epoch 158:   0%|          | 1/243 [00:00<00:37,  6.42it/s]"
     ]
    },
    {
     "name": "stdout",
     "output_type": "stream",
     "text": [
      "avg_loss: 1.2397 | avg_acc: 0.5115\n"
     ]
    },
    {
     "name": "stderr",
     "output_type": "stream",
     "text": [
      "[22:50:48] type: valid epoch 158: 100%|██████████| 243/243 [00:32<00:00,  7.37it/s]\n",
      "[22:51:21] type: train epoch 159:   0%|          | 0/2194 [00:00<?, ?it/s]"
     ]
    },
    {
     "name": "stdout",
     "output_type": "stream",
     "text": [
      "avg_loss: 1.2810 | avg_acc: 0.5005\n",
      "\n"
     ]
    },
    {
     "name": "stderr",
     "output_type": "stream",
     "text": [
      "[22:51:21] type: train epoch 159: 100%|██████████| 2194/2194 [15:02<00:00,  2.43it/s]\n",
      "[23:06:24] type: valid epoch 159:   0%|          | 1/243 [00:00<00:33,  7.15it/s]"
     ]
    },
    {
     "name": "stdout",
     "output_type": "stream",
     "text": [
      "avg_loss: 1.2396 | avg_acc: 0.5115\n"
     ]
    },
    {
     "name": "stderr",
     "output_type": "stream",
     "text": [
      "[23:06:24] type: valid epoch 159: 100%|██████████| 243/243 [00:32<00:00,  7.38it/s]\n",
      "[23:06:57] type: train epoch 160:   0%|          | 0/2194 [00:00<?, ?it/s]"
     ]
    },
    {
     "name": "stdout",
     "output_type": "stream",
     "text": [
      "avg_loss: 1.2764 | avg_acc: 0.4999\n",
      "\n"
     ]
    },
    {
     "name": "stderr",
     "output_type": "stream",
     "text": [
      "[23:06:57] type: train epoch 160: 100%|██████████| 2194/2194 [15:02<00:00,  2.43it/s]\n",
      "[23:22:00] type: valid epoch 160:   0%|          | 1/243 [00:00<00:33,  7.26it/s]"
     ]
    },
    {
     "name": "stdout",
     "output_type": "stream",
     "text": [
      "avg_loss: 1.2396 | avg_acc: 0.5119\n"
     ]
    },
    {
     "name": "stderr",
     "output_type": "stream",
     "text": [
      "[23:22:00] type: valid epoch 160: 100%|██████████| 243/243 [00:33<00:00,  7.35it/s]\n",
      "[23:22:33] type: train epoch 161:   0%|          | 0/2194 [00:00<?, ?it/s]"
     ]
    },
    {
     "name": "stdout",
     "output_type": "stream",
     "text": [
      "avg_loss: 1.2751 | avg_acc: 0.5003\n",
      "\n"
     ]
    },
    {
     "name": "stderr",
     "output_type": "stream",
     "text": [
      "[23:22:33] type: train epoch 161: 100%|██████████| 2194/2194 [15:01<00:00,  2.43it/s]\n",
      "[23:37:35] type: valid epoch 161:   0%|          | 1/243 [00:00<00:32,  7.56it/s]"
     ]
    },
    {
     "name": "stdout",
     "output_type": "stream",
     "text": [
      "avg_loss: 1.2398 | avg_acc: 0.5113\n"
     ]
    },
    {
     "name": "stderr",
     "output_type": "stream",
     "text": [
      "[23:37:35] type: valid epoch 161: 100%|██████████| 243/243 [00:32<00:00,  7.39it/s]\n",
      "[23:38:09] type: train epoch 162:   0%|          | 0/2194 [00:00<?, ?it/s]"
     ]
    },
    {
     "name": "stdout",
     "output_type": "stream",
     "text": [
      "avg_loss: 1.2750 | avg_acc: 0.5000\n",
      "\n"
     ]
    },
    {
     "name": "stderr",
     "output_type": "stream",
     "text": [
      "[23:38:09] type: train epoch 162: 100%|██████████| 2194/2194 [15:00<00:00,  2.44it/s]\n",
      "[23:53:09] type: valid epoch 162:   0%|          | 1/243 [00:00<00:31,  7.63it/s]"
     ]
    },
    {
     "name": "stdout",
     "output_type": "stream",
     "text": [
      "avg_loss: 1.2389 | avg_acc: 0.5119\n"
     ]
    },
    {
     "name": "stderr",
     "output_type": "stream",
     "text": [
      "[23:53:09] type: valid epoch 162: 100%|██████████| 243/243 [00:32<00:00,  7.38it/s]\n",
      "[23:53:42] type: train epoch 163:   0%|          | 0/2194 [00:00<?, ?it/s]"
     ]
    },
    {
     "name": "stdout",
     "output_type": "stream",
     "text": [
      "avg_loss: 1.2768 | avg_acc: 0.5005\n",
      "\n"
     ]
    },
    {
     "name": "stderr",
     "output_type": "stream",
     "text": [
      "[23:53:42] type: train epoch 163: 100%|██████████| 2194/2194 [15:02<00:00,  2.43it/s]\n",
      "[00:08:45] type: valid epoch 163:   0%|          | 1/243 [00:00<00:31,  7.62it/s]"
     ]
    },
    {
     "name": "stdout",
     "output_type": "stream",
     "text": [
      "avg_loss: 1.2392 | avg_acc: 0.5121\n"
     ]
    },
    {
     "name": "stderr",
     "output_type": "stream",
     "text": [
      "[00:08:45] type: valid epoch 163: 100%|██████████| 243/243 [00:32<00:00,  7.37it/s]\n"
     ]
    },
    {
     "name": "stdout",
     "output_type": "stream",
     "text": [
      "avg_loss: 1.2736 | avg_acc: 0.5001\n",
      "******** New optimal found, saving state ********\n"
     ]
    },
    {
     "name": "stderr",
     "output_type": "stream",
     "text": [
      "[00:09:25] type: train epoch 164:   0%|          | 0/2194 [00:00<?, ?it/s]"
     ]
    },
    {
     "name": "stdout",
     "output_type": "stream",
     "text": [
      "\n"
     ]
    },
    {
     "name": "stderr",
     "output_type": "stream",
     "text": [
      "[00:09:25] type: train epoch 164: 100%|██████████| 2194/2194 [15:02<00:00,  2.43it/s]\n",
      "[00:24:28] type: valid epoch 164:   0%|          | 1/243 [00:00<00:36,  6.64it/s]"
     ]
    },
    {
     "name": "stdout",
     "output_type": "stream",
     "text": [
      "avg_loss: 1.2388 | avg_acc: 0.5120\n"
     ]
    },
    {
     "name": "stderr",
     "output_type": "stream",
     "text": [
      "[00:24:28] type: valid epoch 164: 100%|██████████| 243/243 [00:33<00:00,  7.36it/s]\n",
      "[00:25:01] type: train epoch 165:   0%|          | 0/2194 [00:00<?, ?it/s]"
     ]
    },
    {
     "name": "stdout",
     "output_type": "stream",
     "text": [
      "avg_loss: 1.2818 | avg_acc: 0.5008\n",
      "\n"
     ]
    },
    {
     "name": "stderr",
     "output_type": "stream",
     "text": [
      "[00:25:01] type: train epoch 165: 100%|██████████| 2194/2194 [15:06<00:00,  2.42it/s]\n",
      "[00:40:08] type: valid epoch 165:   0%|          | 1/243 [00:00<00:38,  6.37it/s]"
     ]
    },
    {
     "name": "stdout",
     "output_type": "stream",
     "text": [
      "avg_loss: 1.2392 | avg_acc: 0.5111\n"
     ]
    },
    {
     "name": "stderr",
     "output_type": "stream",
     "text": [
      "[00:40:08] type: valid epoch 165: 100%|██████████| 243/243 [00:33<00:00,  7.30it/s]\n",
      "[00:40:41] type: train epoch 166:   0%|          | 0/2194 [00:00<?, ?it/s]"
     ]
    },
    {
     "name": "stdout",
     "output_type": "stream",
     "text": [
      "avg_loss: 1.2826 | avg_acc: 0.5012\n",
      "\n"
     ]
    },
    {
     "name": "stderr",
     "output_type": "stream",
     "text": [
      "[00:40:41] type: train epoch 166: 100%|██████████| 2194/2194 [15:09<00:00,  2.41it/s]\n",
      "[00:55:51] type: valid epoch 166:   0%|          | 1/243 [00:00<00:31,  7.57it/s]"
     ]
    },
    {
     "name": "stdout",
     "output_type": "stream",
     "text": [
      "avg_loss: 1.2384 | avg_acc: 0.5120\n"
     ]
    },
    {
     "name": "stderr",
     "output_type": "stream",
     "text": [
      "[00:55:51] type: valid epoch 166: 100%|██████████| 243/243 [00:33<00:00,  7.32it/s]\n",
      "[00:56:24] type: train epoch 167:   0%|          | 0/2194 [00:00<?, ?it/s]"
     ]
    },
    {
     "name": "stdout",
     "output_type": "stream",
     "text": [
      "avg_loss: 1.2884 | avg_acc: 0.5006\n",
      "\n"
     ]
    },
    {
     "name": "stderr",
     "output_type": "stream",
     "text": [
      "[00:56:24] type: train epoch 167: 100%|██████████| 2194/2194 [15:09<00:00,  2.41it/s]\n",
      "[01:11:35] type: valid epoch 167:   0%|          | 1/243 [00:00<00:33,  7.26it/s]"
     ]
    },
    {
     "name": "stdout",
     "output_type": "stream",
     "text": [
      "avg_loss: 1.2380 | avg_acc: 0.5121\n"
     ]
    },
    {
     "name": "stderr",
     "output_type": "stream",
     "text": [
      "[01:11:35] type: valid epoch 167: 100%|██████████| 243/243 [00:33<00:00,  7.31it/s]\n",
      "[01:12:08] type: train epoch 168:   0%|          | 0/2194 [00:00<?, ?it/s]"
     ]
    },
    {
     "name": "stdout",
     "output_type": "stream",
     "text": [
      "avg_loss: 1.2775 | avg_acc: 0.5000\n",
      "\n"
     ]
    },
    {
     "name": "stderr",
     "output_type": "stream",
     "text": [
      "[01:12:08] type: train epoch 168: 100%|██████████| 2194/2194 [15:11<00:00,  2.41it/s]\n",
      "[01:27:20] type: valid epoch 168:   0%|          | 1/243 [00:00<00:31,  7.64it/s]"
     ]
    },
    {
     "name": "stdout",
     "output_type": "stream",
     "text": [
      "avg_loss: 1.2391 | avg_acc: 0.5114\n"
     ]
    },
    {
     "name": "stderr",
     "output_type": "stream",
     "text": [
      "[01:27:20] type: valid epoch 168: 100%|██████████| 243/243 [00:33<00:00,  7.32it/s]\n",
      "[01:27:53] type: train epoch 169:   0%|          | 0/2194 [00:00<?, ?it/s]"
     ]
    },
    {
     "name": "stdout",
     "output_type": "stream",
     "text": [
      "avg_loss: 1.2763 | avg_acc: 0.4999\n",
      "\n"
     ]
    },
    {
     "name": "stderr",
     "output_type": "stream",
     "text": [
      "[01:27:53] type: train epoch 169: 100%|██████████| 2194/2194 [15:11<00:00,  2.41it/s]\n",
      "[01:43:04] type: valid epoch 169:   0%|          | 1/243 [00:00<00:33,  7.21it/s]"
     ]
    },
    {
     "name": "stdout",
     "output_type": "stream",
     "text": [
      "avg_loss: 1.2385 | avg_acc: 0.5119\n"
     ]
    },
    {
     "name": "stderr",
     "output_type": "stream",
     "text": [
      "[01:43:04] type: valid epoch 169: 100%|██████████| 243/243 [00:33<00:00,  7.33it/s]\n"
     ]
    },
    {
     "name": "stdout",
     "output_type": "stream",
     "text": [
      "avg_loss: 1.2702 | avg_acc: 0.4996\n",
      "******** New optimal found, saving state ********\n"
     ]
    },
    {
     "name": "stderr",
     "output_type": "stream",
     "text": [
      "[01:43:45] type: train epoch 170:   0%|          | 0/2194 [00:00<?, ?it/s]"
     ]
    },
    {
     "name": "stdout",
     "output_type": "stream",
     "text": [
      "\n"
     ]
    },
    {
     "name": "stderr",
     "output_type": "stream",
     "text": [
      "[01:43:45] type: train epoch 170: 100%|██████████| 2194/2194 [15:07<00:00,  2.42it/s]\n",
      "[01:58:53] type: valid epoch 170:   0%|          | 1/243 [00:00<00:34,  6.97it/s]"
     ]
    },
    {
     "name": "stdout",
     "output_type": "stream",
     "text": [
      "avg_loss: 1.2385 | avg_acc: 0.5118\n"
     ]
    },
    {
     "name": "stderr",
     "output_type": "stream",
     "text": [
      "[01:58:53] type: valid epoch 170: 100%|██████████| 243/243 [00:33<00:00,  7.32it/s]\n",
      "[01:59:26] type: train epoch 171:   0%|          | 0/2194 [00:00<?, ?it/s]"
     ]
    },
    {
     "name": "stdout",
     "output_type": "stream",
     "text": [
      "avg_loss: 1.2718 | avg_acc: 0.5000\n",
      "\n"
     ]
    },
    {
     "name": "stderr",
     "output_type": "stream",
     "text": [
      "[01:59:26] type: train epoch 171: 100%|██████████| 2194/2194 [15:10<00:00,  2.41it/s]\n",
      "[02:14:37] type: valid epoch 171:   0%|          | 1/243 [00:00<00:31,  7.62it/s]"
     ]
    },
    {
     "name": "stdout",
     "output_type": "stream",
     "text": [
      "avg_loss: 1.2376 | avg_acc: 0.5117\n"
     ]
    },
    {
     "name": "stderr",
     "output_type": "stream",
     "text": [
      "[02:14:37] type: valid epoch 171: 100%|██████████| 243/243 [00:33<00:00,  7.31it/s]\n",
      "[02:15:10] type: train epoch 172:   0%|          | 0/2194 [00:00<?, ?it/s]"
     ]
    },
    {
     "name": "stdout",
     "output_type": "stream",
     "text": [
      "avg_loss: 1.2779 | avg_acc: 0.5001\n",
      "\n"
     ]
    },
    {
     "name": "stderr",
     "output_type": "stream",
     "text": [
      "[02:15:10] type: train epoch 172: 100%|██████████| 2194/2194 [15:12<00:00,  2.40it/s]\n",
      "[02:30:23] type: valid epoch 172:   0%|          | 1/243 [00:00<00:32,  7.52it/s]"
     ]
    },
    {
     "name": "stdout",
     "output_type": "stream",
     "text": [
      "avg_loss: 1.2376 | avg_acc: 0.5120\n"
     ]
    },
    {
     "name": "stderr",
     "output_type": "stream",
     "text": [
      "[02:30:23] type: valid epoch 172: 100%|██████████| 243/243 [00:33<00:00,  7.32it/s]\n",
      "[02:30:56] type: train epoch 173:   0%|          | 0/2194 [00:00<?, ?it/s]"
     ]
    },
    {
     "name": "stdout",
     "output_type": "stream",
     "text": [
      "avg_loss: 1.2727 | avg_acc: 0.5001\n",
      "\n"
     ]
    },
    {
     "name": "stderr",
     "output_type": "stream",
     "text": [
      "[02:30:56] type: train epoch 173: 100%|██████████| 2194/2194 [15:12<00:00,  2.41it/s]\n",
      "[02:46:09] type: valid epoch 173:   0%|          | 1/243 [00:00<00:33,  7.21it/s]"
     ]
    },
    {
     "name": "stdout",
     "output_type": "stream",
     "text": [
      "avg_loss: 1.2389 | avg_acc: 0.5110\n"
     ]
    },
    {
     "name": "stderr",
     "output_type": "stream",
     "text": [
      "[02:46:09] type: valid epoch 173: 100%|██████████| 243/243 [00:33<00:00,  7.29it/s]\n",
      "[02:46:43] type: train epoch 174:   0%|          | 0/2194 [00:00<?, ?it/s]"
     ]
    },
    {
     "name": "stdout",
     "output_type": "stream",
     "text": [
      "avg_loss: 1.2745 | avg_acc: 0.5001\n",
      "\n"
     ]
    },
    {
     "name": "stderr",
     "output_type": "stream",
     "text": [
      "[02:46:43] type: train epoch 174: 100%|██████████| 2194/2194 [15:09<00:00,  2.41it/s]\n",
      "[03:01:53] type: valid epoch 174:   0%|          | 1/243 [00:00<00:33,  7.33it/s]"
     ]
    },
    {
     "name": "stdout",
     "output_type": "stream",
     "text": [
      "avg_loss: 1.2389 | avg_acc: 0.5113\n"
     ]
    },
    {
     "name": "stderr",
     "output_type": "stream",
     "text": [
      "[03:01:53] type: valid epoch 174: 100%|██████████| 243/243 [00:33<00:00,  7.32it/s]\n",
      "[03:02:26] type: train epoch 175:   0%|          | 0/2194 [00:00<?, ?it/s]"
     ]
    },
    {
     "name": "stdout",
     "output_type": "stream",
     "text": [
      "avg_loss: 1.2716 | avg_acc: 0.4997\n",
      "\n"
     ]
    },
    {
     "name": "stderr",
     "output_type": "stream",
     "text": [
      "[03:02:26] type: train epoch 175: 100%|██████████| 2194/2194 [15:10<00:00,  2.41it/s]\n",
      "[03:17:37] type: valid epoch 175:   0%|          | 1/243 [00:00<00:33,  7.21it/s]"
     ]
    },
    {
     "name": "stdout",
     "output_type": "stream",
     "text": [
      "avg_loss: 1.2382 | avg_acc: 0.5111\n"
     ]
    },
    {
     "name": "stderr",
     "output_type": "stream",
     "text": [
      "[03:17:37] type: valid epoch 175: 100%|██████████| 243/243 [00:33<00:00,  7.35it/s]\n",
      "[03:18:10] type: train epoch 176:   0%|          | 0/2194 [00:00<?, ?it/s]"
     ]
    },
    {
     "name": "stdout",
     "output_type": "stream",
     "text": [
      "avg_loss: 1.2747 | avg_acc: 0.5005\n",
      "\n"
     ]
    },
    {
     "name": "stderr",
     "output_type": "stream",
     "text": [
      "[03:18:10] type: train epoch 176: 100%|██████████| 2194/2194 [15:08<00:00,  2.42it/s]\n",
      "[03:33:19] type: valid epoch 176:   0%|          | 1/243 [00:00<00:32,  7.52it/s]"
     ]
    },
    {
     "name": "stdout",
     "output_type": "stream",
     "text": [
      "avg_loss: 1.2379 | avg_acc: 0.5117\n"
     ]
    },
    {
     "name": "stderr",
     "output_type": "stream",
     "text": [
      "[03:33:19] type: valid epoch 176: 100%|██████████| 243/243 [00:33<00:00,  7.34it/s]\n",
      "[03:33:52] type: train epoch 177:   0%|          | 0/2194 [00:00<?, ?it/s]"
     ]
    },
    {
     "name": "stdout",
     "output_type": "stream",
     "text": [
      "avg_loss: 1.2760 | avg_acc: 0.4999\n",
      "\n"
     ]
    },
    {
     "name": "stderr",
     "output_type": "stream",
     "text": [
      "[03:33:52] type: train epoch 177: 100%|██████████| 2194/2194 [15:07<00:00,  2.42it/s]\n",
      "[03:49:01] type: valid epoch 177:   0%|          | 0/243 [00:00<?, ?it/s]"
     ]
    },
    {
     "name": "stdout",
     "output_type": "stream",
     "text": [
      "avg_loss: 1.2372 | avg_acc: 0.5126\n"
     ]
    },
    {
     "name": "stderr",
     "output_type": "stream",
     "text": [
      "[03:49:01] type: valid epoch 177: 100%|██████████| 243/243 [00:33<00:00,  7.33it/s]\n",
      "[03:49:34] type: train epoch 178:   0%|          | 0/2194 [00:00<?, ?it/s]"
     ]
    },
    {
     "name": "stdout",
     "output_type": "stream",
     "text": [
      "avg_loss: 1.2705 | avg_acc: 0.5004\n",
      "\n"
     ]
    },
    {
     "name": "stderr",
     "output_type": "stream",
     "text": [
      "[03:49:34] type: train epoch 178: 100%|██████████| 2194/2194 [15:09<00:00,  2.41it/s]\n",
      "[04:04:44] type: valid epoch 178:   0%|          | 1/243 [00:00<00:31,  7.59it/s]"
     ]
    },
    {
     "name": "stdout",
     "output_type": "stream",
     "text": [
      "avg_loss: 1.2385 | avg_acc: 0.5116\n"
     ]
    },
    {
     "name": "stderr",
     "output_type": "stream",
     "text": [
      "[04:04:44] type: valid epoch 178: 100%|██████████| 243/243 [00:33<00:00,  7.36it/s]\n",
      "[04:05:17] type: train epoch 179:   0%|          | 0/2194 [00:00<?, ?it/s]"
     ]
    },
    {
     "name": "stdout",
     "output_type": "stream",
     "text": [
      "avg_loss: 1.2743 | avg_acc: 0.5000\n",
      "\n"
     ]
    },
    {
     "name": "stderr",
     "output_type": "stream",
     "text": [
      "[04:05:17] type: train epoch 179: 100%|██████████| 2194/2194 [15:08<00:00,  2.42it/s]\n",
      "[04:20:25] type: valid epoch 179:   0%|          | 1/243 [00:00<00:33,  7.26it/s]"
     ]
    },
    {
     "name": "stdout",
     "output_type": "stream",
     "text": [
      "avg_loss: 1.2378 | avg_acc: 0.5120\n"
     ]
    },
    {
     "name": "stderr",
     "output_type": "stream",
     "text": [
      "[04:20:25] type: valid epoch 179: 100%|██████████| 243/243 [00:33<00:00,  7.35it/s]\n",
      "[04:20:58] type: train epoch 180:   0%|          | 0/2194 [00:00<?, ?it/s]"
     ]
    },
    {
     "name": "stdout",
     "output_type": "stream",
     "text": [
      "avg_loss: 1.2847 | avg_acc: 0.5008\n",
      "\n"
     ]
    },
    {
     "name": "stderr",
     "output_type": "stream",
     "text": [
      "[04:20:58] type: train epoch 180: 100%|██████████| 2194/2194 [15:07<00:00,  2.42it/s]\n",
      "[04:36:07] type: valid epoch 180:   0%|          | 1/243 [00:00<00:31,  7.58it/s]"
     ]
    },
    {
     "name": "stdout",
     "output_type": "stream",
     "text": [
      "avg_loss: 1.2372 | avg_acc: 0.5121\n"
     ]
    },
    {
     "name": "stderr",
     "output_type": "stream",
     "text": [
      "[04:36:07] type: valid epoch 180: 100%|██████████| 243/243 [00:33<00:00,  7.32it/s]\n",
      "[04:36:40] type: train epoch 181:   0%|          | 0/2194 [00:00<?, ?it/s]"
     ]
    },
    {
     "name": "stdout",
     "output_type": "stream",
     "text": [
      "avg_loss: 1.2741 | avg_acc: 0.5005\n",
      "\n"
     ]
    },
    {
     "name": "stderr",
     "output_type": "stream",
     "text": [
      "[04:36:40] type: train epoch 181: 100%|██████████| 2194/2194 [15:10<00:00,  2.41it/s]\n",
      "[04:51:51] type: valid epoch 181:   0%|          | 1/243 [00:00<00:31,  7.58it/s]"
     ]
    },
    {
     "name": "stdout",
     "output_type": "stream",
     "text": [
      "avg_loss: 1.2379 | avg_acc: 0.5117\n"
     ]
    },
    {
     "name": "stderr",
     "output_type": "stream",
     "text": [
      "[04:51:51] type: valid epoch 181: 100%|██████████| 243/243 [00:33<00:00,  7.35it/s]\n",
      "[04:52:24] type: train epoch 182:   0%|          | 0/2194 [00:00<?, ?it/s]"
     ]
    },
    {
     "name": "stdout",
     "output_type": "stream",
     "text": [
      "avg_loss: 1.2721 | avg_acc: 0.5005\n",
      "\n"
     ]
    },
    {
     "name": "stderr",
     "output_type": "stream",
     "text": [
      "[04:52:24] type: train epoch 182: 100%|██████████| 2194/2194 [15:07<00:00,  2.42it/s]\n",
      "[05:07:32] type: valid epoch 182:   0%|          | 1/243 [00:00<00:32,  7.51it/s]"
     ]
    },
    {
     "name": "stdout",
     "output_type": "stream",
     "text": [
      "avg_loss: 1.2374 | avg_acc: 0.5123\n"
     ]
    },
    {
     "name": "stderr",
     "output_type": "stream",
     "text": [
      "[05:07:32] type: valid epoch 182: 100%|██████████| 243/243 [00:33<00:00,  7.34it/s]\n",
      "[05:08:06] type: train epoch 183:   0%|          | 0/2194 [00:00<?, ?it/s]"
     ]
    },
    {
     "name": "stdout",
     "output_type": "stream",
     "text": [
      "avg_loss: 1.2760 | avg_acc: 0.5001\n",
      "\n"
     ]
    },
    {
     "name": "stderr",
     "output_type": "stream",
     "text": [
      "[05:08:06] type: train epoch 183: 100%|██████████| 2194/2194 [15:12<00:00,  2.41it/s]\n",
      "[05:23:18] type: valid epoch 183:   0%|          | 0/243 [00:00<?, ?it/s]"
     ]
    },
    {
     "name": "stdout",
     "output_type": "stream",
     "text": [
      "avg_loss: 1.2376 | avg_acc: 0.5118\n"
     ]
    },
    {
     "name": "stderr",
     "output_type": "stream",
     "text": [
      "[05:23:18] type: valid epoch 183: 100%|██████████| 243/243 [00:33<00:00,  7.30it/s]\n",
      "[05:23:52] type: train epoch 184:   0%|          | 0/2194 [00:00<?, ?it/s]"
     ]
    },
    {
     "name": "stdout",
     "output_type": "stream",
     "text": [
      "avg_loss: 1.2760 | avg_acc: 0.5009\n",
      "\n"
     ]
    },
    {
     "name": "stderr",
     "output_type": "stream",
     "text": [
      "[05:23:52] type: train epoch 184: 100%|██████████| 2194/2194 [15:10<00:00,  2.41it/s]\n",
      "[05:39:03] type: valid epoch 184:   0%|          | 1/243 [00:00<00:32,  7.39it/s]"
     ]
    },
    {
     "name": "stdout",
     "output_type": "stream",
     "text": [
      "avg_loss: 1.2378 | avg_acc: 0.5111\n"
     ]
    },
    {
     "name": "stderr",
     "output_type": "stream",
     "text": [
      "[05:39:03] type: valid epoch 184: 100%|██████████| 243/243 [00:33<00:00,  7.34it/s]\n",
      "[05:39:36] type: train epoch 185:   0%|          | 0/2194 [00:00<?, ?it/s]"
     ]
    },
    {
     "name": "stdout",
     "output_type": "stream",
     "text": [
      "avg_loss: 1.2742 | avg_acc: 0.4996\n",
      "\n"
     ]
    },
    {
     "name": "stderr",
     "output_type": "stream",
     "text": [
      "[05:39:36] type: train epoch 185: 100%|██████████| 2194/2194 [15:10<00:00,  2.41it/s]\n",
      "[05:54:46] type: valid epoch 185:   0%|          | 1/243 [00:00<00:31,  7.66it/s]"
     ]
    },
    {
     "name": "stdout",
     "output_type": "stream",
     "text": [
      "avg_loss: 1.2379 | avg_acc: 0.5115\n"
     ]
    },
    {
     "name": "stderr",
     "output_type": "stream",
     "text": [
      "[05:54:46] type: valid epoch 185: 100%|██████████| 243/243 [00:33<00:00,  7.35it/s]\n",
      "[05:55:20] type: train epoch 186:   0%|          | 0/2194 [00:00<?, ?it/s]"
     ]
    },
    {
     "name": "stdout",
     "output_type": "stream",
     "text": [
      "avg_loss: 1.2818 | avg_acc: 0.5008\n",
      "\n"
     ]
    },
    {
     "name": "stderr",
     "output_type": "stream",
     "text": [
      "[05:55:20] type: train epoch 186: 100%|██████████| 2194/2194 [15:11<00:00,  2.41it/s]\n",
      "[06:10:31] type: valid epoch 186:   0%|          | 1/243 [00:00<00:32,  7.52it/s]"
     ]
    },
    {
     "name": "stdout",
     "output_type": "stream",
     "text": [
      "avg_loss: 1.2384 | avg_acc: 0.5112\n"
     ]
    },
    {
     "name": "stderr",
     "output_type": "stream",
     "text": [
      "[06:10:31] type: valid epoch 186: 100%|██████████| 243/243 [00:33<00:00,  7.33it/s]\n",
      "[06:11:05] type: train epoch 187:   0%|          | 0/2194 [00:00<?, ?it/s]"
     ]
    },
    {
     "name": "stdout",
     "output_type": "stream",
     "text": [
      "avg_loss: 1.2705 | avg_acc: 0.5001\n",
      "\n"
     ]
    },
    {
     "name": "stderr",
     "output_type": "stream",
     "text": [
      "[06:11:05] type: train epoch 187: 100%|██████████| 2194/2194 [15:11<00:00,  2.41it/s]\n",
      "[06:26:16] type: valid epoch 187:   0%|          | 1/243 [00:00<00:31,  7.62it/s]"
     ]
    },
    {
     "name": "stdout",
     "output_type": "stream",
     "text": [
      "avg_loss: 1.2372 | avg_acc: 0.5119\n"
     ]
    },
    {
     "name": "stderr",
     "output_type": "stream",
     "text": [
      "[06:26:16] type: valid epoch 187: 100%|██████████| 243/243 [00:33<00:00,  7.32it/s]\n"
     ]
    },
    {
     "name": "stdout",
     "output_type": "stream",
     "text": [
      "avg_loss: 1.2692 | avg_acc: 0.5003\n",
      "******** New optimal found, saving state ********\n"
     ]
    },
    {
     "name": "stderr",
     "output_type": "stream",
     "text": [
      "[06:26:57] type: train epoch 188:   0%|          | 0/2194 [00:00<?, ?it/s]"
     ]
    },
    {
     "name": "stdout",
     "output_type": "stream",
     "text": [
      "\n"
     ]
    },
    {
     "name": "stderr",
     "output_type": "stream",
     "text": [
      "[06:26:57] type: train epoch 188: 100%|██████████| 2194/2194 [15:09<00:00,  2.41it/s]\n",
      "[06:42:07] type: valid epoch 188:   0%|          | 1/243 [00:00<00:33,  7.23it/s]"
     ]
    },
    {
     "name": "stdout",
     "output_type": "stream",
     "text": [
      "avg_loss: 1.2372 | avg_acc: 0.5116\n"
     ]
    },
    {
     "name": "stderr",
     "output_type": "stream",
     "text": [
      "[06:42:07] type: valid epoch 188: 100%|██████████| 243/243 [00:33<00:00,  7.35it/s]\n"
     ]
    },
    {
     "name": "stdout",
     "output_type": "stream",
     "text": [
      "avg_loss: 1.2666 | avg_acc: 0.4999\n",
      "******** New optimal found, saving state ********\n"
     ]
    },
    {
     "name": "stderr",
     "output_type": "stream",
     "text": [
      "[06:42:47] type: train epoch 189:   0%|          | 0/2194 [00:00<?, ?it/s]"
     ]
    },
    {
     "name": "stdout",
     "output_type": "stream",
     "text": [
      "\n"
     ]
    },
    {
     "name": "stderr",
     "output_type": "stream",
     "text": [
      "[06:42:47] type: train epoch 189: 100%|██████████| 2194/2194 [15:06<00:00,  2.42it/s]\n",
      "[06:57:54] type: valid epoch 189:   0%|          | 1/243 [00:00<00:32,  7.48it/s]"
     ]
    },
    {
     "name": "stdout",
     "output_type": "stream",
     "text": [
      "avg_loss: 1.2373 | avg_acc: 0.5122\n"
     ]
    },
    {
     "name": "stderr",
     "output_type": "stream",
     "text": [
      "[06:57:54] type: valid epoch 189: 100%|██████████| 243/243 [00:33<00:00,  7.30it/s]\n",
      "[06:58:28] type: train epoch 190:   0%|          | 0/2194 [00:00<?, ?it/s]"
     ]
    },
    {
     "name": "stdout",
     "output_type": "stream",
     "text": [
      "avg_loss: 1.2682 | avg_acc: 0.4999\n",
      "\n"
     ]
    },
    {
     "name": "stderr",
     "output_type": "stream",
     "text": [
      "[06:58:28] type: train epoch 190: 100%|██████████| 2194/2194 [15:07<00:00,  2.42it/s]\n",
      "[07:13:36] type: valid epoch 190:   0%|          | 1/243 [00:00<00:32,  7.53it/s]"
     ]
    },
    {
     "name": "stdout",
     "output_type": "stream",
     "text": [
      "avg_loss: 1.2368 | avg_acc: 0.5114\n"
     ]
    },
    {
     "name": "stderr",
     "output_type": "stream",
     "text": [
      "[07:13:36] type: valid epoch 190: 100%|██████████| 243/243 [00:33<00:00,  7.35it/s]\n",
      "[07:14:09] type: train epoch 191:   0%|          | 0/2194 [00:00<?, ?it/s]"
     ]
    },
    {
     "name": "stdout",
     "output_type": "stream",
     "text": [
      "avg_loss: 1.2745 | avg_acc: 0.5005\n",
      "\n"
     ]
    },
    {
     "name": "stderr",
     "output_type": "stream",
     "text": [
      "[07:14:09] type: train epoch 191: 100%|██████████| 2194/2194 [15:07<00:00,  2.42it/s]\n",
      "[07:29:17] type: valid epoch 191:   0%|          | 1/243 [00:00<00:33,  7.22it/s]"
     ]
    },
    {
     "name": "stdout",
     "output_type": "stream",
     "text": [
      "avg_loss: 1.2364 | avg_acc: 0.5115\n"
     ]
    },
    {
     "name": "stderr",
     "output_type": "stream",
     "text": [
      "[07:29:17] type: valid epoch 191: 100%|██████████| 243/243 [00:33<00:00,  7.31it/s]\n",
      "[07:29:51] type: train epoch 192:   0%|          | 0/2194 [00:00<?, ?it/s]"
     ]
    },
    {
     "name": "stdout",
     "output_type": "stream",
     "text": [
      "avg_loss: 1.2695 | avg_acc: 0.4999\n",
      "\n"
     ]
    },
    {
     "name": "stderr",
     "output_type": "stream",
     "text": [
      "[07:29:51] type: train epoch 192: 100%|██████████| 2194/2194 [15:09<00:00,  2.41it/s]\n",
      "[07:45:01] type: valid epoch 192:   0%|          | 1/243 [00:00<00:32,  7.50it/s]"
     ]
    },
    {
     "name": "stdout",
     "output_type": "stream",
     "text": [
      "avg_loss: 1.2376 | avg_acc: 0.5112\n"
     ]
    },
    {
     "name": "stderr",
     "output_type": "stream",
     "text": [
      "[07:45:01] type: valid epoch 192: 100%|██████████| 243/243 [00:33<00:00,  7.34it/s]\n",
      "[07:45:34] type: train epoch 193:   0%|          | 0/2194 [00:00<?, ?it/s]"
     ]
    },
    {
     "name": "stdout",
     "output_type": "stream",
     "text": [
      "avg_loss: 1.2724 | avg_acc: 0.5005\n",
      "\n"
     ]
    },
    {
     "name": "stderr",
     "output_type": "stream",
     "text": [
      "[07:45:34] type: train epoch 193: 100%|██████████| 2194/2194 [15:10<00:00,  2.41it/s]\n",
      "[08:00:45] type: valid epoch 193:   0%|          | 1/243 [00:00<00:32,  7.53it/s]"
     ]
    },
    {
     "name": "stdout",
     "output_type": "stream",
     "text": [
      "avg_loss: 1.2365 | avg_acc: 0.5122\n"
     ]
    },
    {
     "name": "stderr",
     "output_type": "stream",
     "text": [
      "[08:00:45] type: valid epoch 193: 100%|██████████| 243/243 [00:33<00:00,  7.33it/s]\n",
      "[08:01:18] type: train epoch 194:   0%|          | 0/2194 [00:00<?, ?it/s]"
     ]
    },
    {
     "name": "stdout",
     "output_type": "stream",
     "text": [
      "avg_loss: 1.2693 | avg_acc: 0.5000\n",
      "\n"
     ]
    },
    {
     "name": "stderr",
     "output_type": "stream",
     "text": [
      "[08:01:18] type: train epoch 194: 100%|██████████| 2194/2194 [15:09<00:00,  2.41it/s]\n",
      "[08:16:28] type: valid epoch 194:   0%|          | 1/243 [00:00<00:38,  6.23it/s]"
     ]
    },
    {
     "name": "stdout",
     "output_type": "stream",
     "text": [
      "avg_loss: 1.2377 | avg_acc: 0.5115\n"
     ]
    },
    {
     "name": "stderr",
     "output_type": "stream",
     "text": [
      "[08:16:28] type: valid epoch 194: 100%|██████████| 243/243 [00:33<00:00,  7.32it/s]\n",
      "[08:17:01] type: train epoch 195:   0%|          | 0/2194 [00:00<?, ?it/s]"
     ]
    },
    {
     "name": "stdout",
     "output_type": "stream",
     "text": [
      "avg_loss: 1.2696 | avg_acc: 0.5003\n",
      "\n"
     ]
    },
    {
     "name": "stderr",
     "output_type": "stream",
     "text": [
      "[08:17:01] type: train epoch 195: 100%|██████████| 2194/2194 [15:08<00:00,  2.41it/s]\n",
      "[08:32:10] type: valid epoch 195:   0%|          | 1/243 [00:00<00:31,  7.60it/s]"
     ]
    },
    {
     "name": "stdout",
     "output_type": "stream",
     "text": [
      "avg_loss: 1.2371 | avg_acc: 0.5116\n"
     ]
    },
    {
     "name": "stderr",
     "output_type": "stream",
     "text": [
      "[08:32:10] type: valid epoch 195: 100%|██████████| 243/243 [00:33<00:00,  7.33it/s]\n",
      "[08:32:44] type: train epoch 196:   0%|          | 0/2194 [00:00<?, ?it/s]"
     ]
    },
    {
     "name": "stdout",
     "output_type": "stream",
     "text": [
      "avg_loss: 1.2668 | avg_acc: 0.5002\n",
      "\n"
     ]
    },
    {
     "name": "stderr",
     "output_type": "stream",
     "text": [
      "[08:32:44] type: train epoch 196: 100%|██████████| 2194/2194 [15:09<00:00,  2.41it/s]\n",
      "[08:47:54] type: valid epoch 196:   0%|          | 1/243 [00:00<00:34,  7.08it/s]"
     ]
    },
    {
     "name": "stdout",
     "output_type": "stream",
     "text": [
      "avg_loss: 1.2372 | avg_acc: 0.5116\n"
     ]
    },
    {
     "name": "stderr",
     "output_type": "stream",
     "text": [
      "[08:47:54] type: valid epoch 196: 100%|██████████| 243/243 [00:33<00:00,  7.31it/s]\n"
     ]
    },
    {
     "name": "stdout",
     "output_type": "stream",
     "text": [
      "avg_loss: 1.2648 | avg_acc: 0.5005\n",
      "******** New optimal found, saving state ********\n"
     ]
    },
    {
     "name": "stderr",
     "output_type": "stream",
     "text": [
      "[08:48:34] type: train epoch 197:   0%|          | 0/2194 [00:00<?, ?it/s]"
     ]
    },
    {
     "name": "stdout",
     "output_type": "stream",
     "text": [
      "\n"
     ]
    },
    {
     "name": "stderr",
     "output_type": "stream",
     "text": [
      "[08:48:34] type: train epoch 197: 100%|██████████| 2194/2194 [15:09<00:00,  2.41it/s]\n",
      "[09:03:44] type: valid epoch 197:   0%|          | 1/243 [00:00<00:32,  7.37it/s]"
     ]
    },
    {
     "name": "stdout",
     "output_type": "stream",
     "text": [
      "avg_loss: 1.2375 | avg_acc: 0.5119\n"
     ]
    },
    {
     "name": "stderr",
     "output_type": "stream",
     "text": [
      "[09:03:44] type: valid epoch 197: 100%|██████████| 243/243 [00:33<00:00,  7.33it/s]\n",
      "[09:04:17] type: train epoch 198:   0%|          | 0/2194 [00:00<?, ?it/s]"
     ]
    },
    {
     "name": "stdout",
     "output_type": "stream",
     "text": [
      "avg_loss: 1.2696 | avg_acc: 0.5005\n",
      "\n"
     ]
    },
    {
     "name": "stderr",
     "output_type": "stream",
     "text": [
      "[09:04:17] type: train epoch 198: 100%|██████████| 2194/2194 [15:10<00:00,  2.41it/s]\n",
      "[09:19:29] type: valid epoch 198:   0%|          | 0/243 [00:00<?, ?it/s]"
     ]
    },
    {
     "name": "stdout",
     "output_type": "stream",
     "text": [
      "avg_loss: 1.2369 | avg_acc: 0.5112\n"
     ]
    },
    {
     "name": "stderr",
     "output_type": "stream",
     "text": [
      "[09:19:29] type: valid epoch 198: 100%|██████████| 243/243 [00:33<00:00,  7.34it/s]\n",
      "[09:20:02] type: train epoch 199:   0%|          | 0/2194 [00:00<?, ?it/s]"
     ]
    },
    {
     "name": "stdout",
     "output_type": "stream",
     "text": [
      "avg_loss: 1.2704 | avg_acc: 0.5005\n",
      "\n"
     ]
    },
    {
     "name": "stderr",
     "output_type": "stream",
     "text": [
      "[09:20:02] type: train epoch 199: 100%|██████████| 2194/2194 [15:10<00:00,  2.41it/s]\n",
      "[09:35:13] type: valid epoch 199:   0%|          | 1/243 [00:00<00:31,  7.62it/s]"
     ]
    },
    {
     "name": "stdout",
     "output_type": "stream",
     "text": [
      "avg_loss: 1.2367 | avg_acc: 0.5112\n"
     ]
    },
    {
     "name": "stderr",
     "output_type": "stream",
     "text": [
      "[09:35:13] type: valid epoch 199: 100%|██████████| 243/243 [00:33<00:00,  7.35it/s]\n",
      "[09:35:46] type: train epoch 200:   0%|          | 0/2194 [00:00<?, ?it/s]"
     ]
    },
    {
     "name": "stdout",
     "output_type": "stream",
     "text": [
      "avg_loss: 1.2704 | avg_acc: 0.5003\n",
      "\n"
     ]
    },
    {
     "name": "stderr",
     "output_type": "stream",
     "text": [
      "[09:35:46] type: train epoch 200: 100%|██████████| 2194/2194 [15:09<00:00,  2.41it/s]\n",
      "[09:50:56] type: valid epoch 200:   0%|          | 1/243 [00:00<00:31,  7.66it/s]"
     ]
    },
    {
     "name": "stdout",
     "output_type": "stream",
     "text": [
      "avg_loss: 1.2375 | avg_acc: 0.5118\n"
     ]
    },
    {
     "name": "stderr",
     "output_type": "stream",
     "text": [
      "[09:50:56] type: valid epoch 200: 100%|██████████| 243/243 [00:33<00:00,  7.33it/s]\n",
      "[09:51:29] type: train epoch 201:   0%|          | 0/2194 [00:00<?, ?it/s]"
     ]
    },
    {
     "name": "stdout",
     "output_type": "stream",
     "text": [
      "avg_loss: 1.2714 | avg_acc: 0.5003\n",
      "\n"
     ]
    },
    {
     "name": "stderr",
     "output_type": "stream",
     "text": [
      "[09:51:29] type: train epoch 201: 100%|██████████| 2194/2194 [15:06<00:00,  2.42it/s]\n",
      "[10:06:36] type: valid epoch 201:   0%|          | 1/243 [00:00<00:31,  7.57it/s]"
     ]
    },
    {
     "name": "stdout",
     "output_type": "stream",
     "text": [
      "avg_loss: 1.2363 | avg_acc: 0.5122\n"
     ]
    },
    {
     "name": "stderr",
     "output_type": "stream",
     "text": [
      "[10:06:36] type: valid epoch 201: 100%|██████████| 243/243 [00:33<00:00,  7.36it/s]\n",
      "[10:07:09] type: train epoch 202:   0%|          | 0/2194 [00:00<?, ?it/s]"
     ]
    },
    {
     "name": "stdout",
     "output_type": "stream",
     "text": [
      "avg_loss: 1.2675 | avg_acc: 0.5002\n",
      "\n"
     ]
    },
    {
     "name": "stderr",
     "output_type": "stream",
     "text": [
      "[10:07:09] type: train epoch 202: 100%|██████████| 2194/2194 [15:07<00:00,  2.42it/s]\n",
      "[10:22:17] type: valid epoch 202:   0%|          | 1/243 [00:00<00:31,  7.59it/s]"
     ]
    },
    {
     "name": "stdout",
     "output_type": "stream",
     "text": [
      "avg_loss: 1.2368 | avg_acc: 0.5111\n"
     ]
    },
    {
     "name": "stderr",
     "output_type": "stream",
     "text": [
      "[10:22:17] type: valid epoch 202: 100%|██████████| 243/243 [00:33<00:00,  7.35it/s]\n",
      "[10:22:50] type: train epoch 203:   0%|          | 0/2194 [00:00<?, ?it/s]"
     ]
    },
    {
     "name": "stdout",
     "output_type": "stream",
     "text": [
      "avg_loss: 1.2674 | avg_acc: 0.5001\n",
      "\n"
     ]
    },
    {
     "name": "stderr",
     "output_type": "stream",
     "text": [
      "[10:22:50] type: train epoch 203: 100%|██████████| 2194/2194 [15:07<00:00,  2.42it/s]\n",
      "[10:37:59] type: valid epoch 203:   0%|          | 1/243 [00:00<00:31,  7.60it/s]"
     ]
    },
    {
     "name": "stdout",
     "output_type": "stream",
     "text": [
      "avg_loss: 1.2358 | avg_acc: 0.5115\n"
     ]
    },
    {
     "name": "stderr",
     "output_type": "stream",
     "text": [
      "[10:37:59] type: valid epoch 203: 100%|██████████| 243/243 [00:33<00:00,  7.34it/s]\n",
      "[10:38:32] type: train epoch 204:   0%|          | 0/2194 [00:00<?, ?it/s]"
     ]
    },
    {
     "name": "stdout",
     "output_type": "stream",
     "text": [
      "avg_loss: 1.2656 | avg_acc: 0.5002\n",
      "\n"
     ]
    },
    {
     "name": "stderr",
     "output_type": "stream",
     "text": [
      "[10:38:32] type: train epoch 204: 100%|██████████| 2194/2194 [15:06<00:00,  2.42it/s]\n",
      "[10:53:39] type: valid epoch 204:   0%|          | 1/243 [00:00<00:35,  6.87it/s]"
     ]
    },
    {
     "name": "stdout",
     "output_type": "stream",
     "text": [
      "avg_loss: 1.2366 | avg_acc: 0.5115\n"
     ]
    },
    {
     "name": "stderr",
     "output_type": "stream",
     "text": [
      "[10:53:39] type: valid epoch 204: 100%|██████████| 243/243 [00:32<00:00,  7.37it/s]\n",
      "[10:54:12] type: train epoch 205:   0%|          | 0/2194 [00:00<?, ?it/s]"
     ]
    },
    {
     "name": "stdout",
     "output_type": "stream",
     "text": [
      "avg_loss: 1.2683 | avg_acc: 0.4998\n",
      "\n"
     ]
    },
    {
     "name": "stderr",
     "output_type": "stream",
     "text": [
      "[10:54:12] type: train epoch 205: 100%|██████████| 2194/2194 [15:08<00:00,  2.42it/s]\n",
      "[11:09:21] type: valid epoch 205:   0%|          | 1/243 [00:00<00:33,  7.16it/s]"
     ]
    },
    {
     "name": "stdout",
     "output_type": "stream",
     "text": [
      "avg_loss: 1.2360 | avg_acc: 0.5122\n"
     ]
    },
    {
     "name": "stderr",
     "output_type": "stream",
     "text": [
      "[11:09:21] type: valid epoch 205: 100%|██████████| 243/243 [00:33<00:00,  7.34it/s]\n",
      "[11:09:54] type: train epoch 206:   0%|          | 0/2194 [00:00<?, ?it/s]"
     ]
    },
    {
     "name": "stdout",
     "output_type": "stream",
     "text": [
      "avg_loss: 1.2696 | avg_acc: 0.5005\n",
      "\n"
     ]
    },
    {
     "name": "stderr",
     "output_type": "stream",
     "text": [
      "[11:09:54] type: train epoch 206: 100%|██████████| 2194/2194 [15:09<00:00,  2.41it/s]\n",
      "[11:25:04] type: valid epoch 206:   0%|          | 1/243 [00:00<00:32,  7.40it/s]"
     ]
    },
    {
     "name": "stdout",
     "output_type": "stream",
     "text": [
      "avg_loss: 1.2365 | avg_acc: 0.5124\n"
     ]
    },
    {
     "name": "stderr",
     "output_type": "stream",
     "text": [
      "[11:25:04] type: valid epoch 206: 100%|██████████| 243/243 [00:33<00:00,  7.32it/s]\n",
      "[11:25:37] type: train epoch 207:   0%|          | 0/2194 [00:00<?, ?it/s]"
     ]
    },
    {
     "name": "stdout",
     "output_type": "stream",
     "text": [
      "avg_loss: 1.2692 | avg_acc: 0.5001\n",
      "\n"
     ]
    },
    {
     "name": "stderr",
     "output_type": "stream",
     "text": [
      "[11:25:37] type: train epoch 207: 100%|██████████| 2194/2194 [15:09<00:00,  2.41it/s]\n",
      "[11:40:47] type: valid epoch 207:   0%|          | 1/243 [00:00<00:31,  7.69it/s]"
     ]
    },
    {
     "name": "stdout",
     "output_type": "stream",
     "text": [
      "avg_loss: 1.2358 | avg_acc: 0.5116\n"
     ]
    },
    {
     "name": "stderr",
     "output_type": "stream",
     "text": [
      "[11:40:47] type: valid epoch 207: 100%|██████████| 243/243 [00:33<00:00,  7.36it/s]\n",
      "[11:41:20] type: train epoch 208:   0%|          | 0/2194 [00:00<?, ?it/s]"
     ]
    },
    {
     "name": "stdout",
     "output_type": "stream",
     "text": [
      "avg_loss: 1.2809 | avg_acc: 0.5008\n",
      "\n"
     ]
    },
    {
     "name": "stderr",
     "output_type": "stream",
     "text": [
      "[11:41:20] type: train epoch 208: 100%|██████████| 2194/2194 [15:05<00:00,  2.42it/s]\n",
      "[11:56:25] type: valid epoch 208:   0%|          | 1/243 [00:00<00:32,  7.51it/s]"
     ]
    },
    {
     "name": "stdout",
     "output_type": "stream",
     "text": [
      "avg_loss: 1.2366 | avg_acc: 0.5116\n"
     ]
    },
    {
     "name": "stderr",
     "output_type": "stream",
     "text": [
      "[11:56:25] type: valid epoch 208: 100%|██████████| 243/243 [00:32<00:00,  7.37it/s]\n",
      "[11:56:59] type: train epoch 209:   0%|          | 0/2194 [00:00<?, ?it/s]"
     ]
    },
    {
     "name": "stdout",
     "output_type": "stream",
     "text": [
      "avg_loss: 1.2694 | avg_acc: 0.5001\n",
      "\n"
     ]
    },
    {
     "name": "stderr",
     "output_type": "stream",
     "text": [
      "[11:56:59] type: train epoch 209: 100%|██████████| 2194/2194 [15:06<00:00,  2.42it/s]\n",
      "[12:12:06] type: valid epoch 209:   0%|          | 1/243 [00:00<00:32,  7.37it/s]"
     ]
    },
    {
     "name": "stdout",
     "output_type": "stream",
     "text": [
      "avg_loss: 1.2363 | avg_acc: 0.5116\n"
     ]
    },
    {
     "name": "stderr",
     "output_type": "stream",
     "text": [
      "[12:12:06] type: valid epoch 209: 100%|██████████| 243/243 [00:32<00:00,  7.38it/s]\n",
      "[12:12:39] type: train epoch 210:   0%|          | 0/2194 [00:00<?, ?it/s]"
     ]
    },
    {
     "name": "stdout",
     "output_type": "stream",
     "text": [
      "avg_loss: 1.2689 | avg_acc: 0.5001\n",
      "\n"
     ]
    },
    {
     "name": "stderr",
     "output_type": "stream",
     "text": [
      "[12:12:39] type: train epoch 210: 100%|██████████| 2194/2194 [15:05<00:00,  2.42it/s]\n",
      "[12:27:45] type: valid epoch 210:   0%|          | 1/243 [00:00<00:32,  7.51it/s]"
     ]
    },
    {
     "name": "stdout",
     "output_type": "stream",
     "text": [
      "avg_loss: 1.2359 | avg_acc: 0.5114\n"
     ]
    },
    {
     "name": "stderr",
     "output_type": "stream",
     "text": [
      "[12:27:45] type: valid epoch 210: 100%|██████████| 243/243 [00:32<00:00,  7.38it/s]\n",
      "[12:28:18] type: train epoch 211:   0%|          | 0/2194 [00:00<?, ?it/s]"
     ]
    },
    {
     "name": "stdout",
     "output_type": "stream",
     "text": [
      "avg_loss: 1.2694 | avg_acc: 0.4999\n",
      "\n"
     ]
    },
    {
     "name": "stderr",
     "output_type": "stream",
     "text": [
      "[12:28:18] type: train epoch 211: 100%|██████████| 2194/2194 [15:07<00:00,  2.42it/s]\n",
      "[12:43:25] type: valid epoch 211:   0%|          | 1/243 [00:00<00:32,  7.45it/s]"
     ]
    },
    {
     "name": "stdout",
     "output_type": "stream",
     "text": [
      "avg_loss: 1.2366 | avg_acc: 0.5114\n"
     ]
    },
    {
     "name": "stderr",
     "output_type": "stream",
     "text": [
      "[12:43:25] type: valid epoch 211: 100%|██████████| 243/243 [00:33<00:00,  7.32it/s]\n",
      "[12:43:59] type: train epoch 212:   0%|          | 0/2194 [00:00<?, ?it/s]"
     ]
    },
    {
     "name": "stdout",
     "output_type": "stream",
     "text": [
      "avg_loss: 1.2682 | avg_acc: 0.5000\n",
      "\n"
     ]
    },
    {
     "name": "stderr",
     "output_type": "stream",
     "text": [
      "[12:43:59] type: train epoch 212: 100%|██████████| 2194/2194 [15:06<00:00,  2.42it/s]\n",
      "[12:59:06] type: valid epoch 212:   0%|          | 1/243 [00:00<00:32,  7.39it/s]"
     ]
    },
    {
     "name": "stdout",
     "output_type": "stream",
     "text": [
      "avg_loss: 1.2355 | avg_acc: 0.5119\n"
     ]
    },
    {
     "name": "stderr",
     "output_type": "stream",
     "text": [
      "[12:59:06] type: valid epoch 212: 100%|██████████| 243/243 [00:33<00:00,  7.34it/s]\n",
      "[12:59:39] type: train epoch 213:   0%|          | 0/2194 [00:00<?, ?it/s]"
     ]
    },
    {
     "name": "stdout",
     "output_type": "stream",
     "text": [
      "avg_loss: 1.2678 | avg_acc: 0.5001\n",
      "\n"
     ]
    },
    {
     "name": "stderr",
     "output_type": "stream",
     "text": [
      "[12:59:39] type: train epoch 213: 100%|██████████| 2194/2194 [15:07<00:00,  2.42it/s]\n",
      "[13:14:47] type: valid epoch 213:   0%|          | 1/243 [00:00<00:31,  7.64it/s]"
     ]
    },
    {
     "name": "stdout",
     "output_type": "stream",
     "text": [
      "avg_loss: 1.2363 | avg_acc: 0.5118\n"
     ]
    },
    {
     "name": "stderr",
     "output_type": "stream",
     "text": [
      "[13:14:47] type: valid epoch 213: 100%|██████████| 243/243 [00:33<00:00,  7.33it/s]\n",
      "[13:15:21] type: train epoch 214:   0%|          | 0/2194 [00:00<?, ?it/s]"
     ]
    },
    {
     "name": "stdout",
     "output_type": "stream",
     "text": [
      "avg_loss: 1.2689 | avg_acc: 0.4998\n",
      "\n"
     ]
    },
    {
     "name": "stderr",
     "output_type": "stream",
     "text": [
      "[13:15:21] type: train epoch 214: 100%|██████████| 2194/2194 [15:10<00:00,  2.41it/s]\n",
      "[13:30:31] type: valid epoch 214:   0%|          | 1/243 [00:00<00:32,  7.56it/s]"
     ]
    },
    {
     "name": "stdout",
     "output_type": "stream",
     "text": [
      "avg_loss: 1.2356 | avg_acc: 0.5111\n"
     ]
    },
    {
     "name": "stderr",
     "output_type": "stream",
     "text": [
      "[13:30:31] type: valid epoch 214: 100%|██████████| 243/243 [00:33<00:00,  7.34it/s]\n",
      "[13:31:05] type: train epoch 215:   0%|          | 0/2194 [00:00<?, ?it/s]"
     ]
    },
    {
     "name": "stdout",
     "output_type": "stream",
     "text": [
      "avg_loss: 1.2657 | avg_acc: 0.5005\n",
      "\n"
     ]
    },
    {
     "name": "stderr",
     "output_type": "stream",
     "text": [
      "[13:31:05] type: train epoch 215: 100%|██████████| 2194/2194 [15:09<00:00,  2.41it/s]\n",
      "[13:46:14] type: valid epoch 215:   0%|          | 1/243 [00:00<00:31,  7.62it/s]"
     ]
    },
    {
     "name": "stdout",
     "output_type": "stream",
     "text": [
      "avg_loss: 1.2361 | avg_acc: 0.5122\n"
     ]
    },
    {
     "name": "stderr",
     "output_type": "stream",
     "text": [
      "[13:46:14] type: valid epoch 215: 100%|██████████| 243/243 [00:33<00:00,  7.34it/s]\n",
      "[13:46:47] type: train epoch 216:   0%|          | 0/2194 [00:00<?, ?it/s]"
     ]
    },
    {
     "name": "stdout",
     "output_type": "stream",
     "text": [
      "avg_loss: 1.2656 | avg_acc: 0.5002\n",
      "\n"
     ]
    },
    {
     "name": "stderr",
     "output_type": "stream",
     "text": [
      "[13:46:47] type: train epoch 216: 100%|██████████| 2194/2194 [15:09<00:00,  2.41it/s]\n",
      "[14:01:57] type: valid epoch 216:   0%|          | 1/243 [00:00<00:31,  7.66it/s]"
     ]
    },
    {
     "name": "stdout",
     "output_type": "stream",
     "text": [
      "avg_loss: 1.2355 | avg_acc: 0.5116\n"
     ]
    },
    {
     "name": "stderr",
     "output_type": "stream",
     "text": [
      "[14:01:57] type: valid epoch 216: 100%|██████████| 243/243 [00:33<00:00,  7.31it/s]\n"
     ]
    },
    {
     "name": "stdout",
     "output_type": "stream",
     "text": [
      "avg_loss: 1.2637 | avg_acc: 0.5000\n",
      "******** New optimal found, saving state ********\n"
     ]
    },
    {
     "name": "stderr",
     "output_type": "stream",
     "text": [
      "[14:02:38] type: train epoch 217:   0%|          | 0/2194 [00:00<?, ?it/s]"
     ]
    },
    {
     "name": "stdout",
     "output_type": "stream",
     "text": [
      "\n"
     ]
    },
    {
     "name": "stderr",
     "output_type": "stream",
     "text": [
      "[14:02:38] type: train epoch 217: 100%|██████████| 2194/2194 [15:09<00:00,  2.41it/s]\n",
      "[14:17:47] type: valid epoch 217:   0%|          | 1/243 [00:00<00:32,  7.55it/s]"
     ]
    },
    {
     "name": "stdout",
     "output_type": "stream",
     "text": [
      "avg_loss: 1.2356 | avg_acc: 0.5117\n"
     ]
    },
    {
     "name": "stderr",
     "output_type": "stream",
     "text": [
      "[14:17:47] type: valid epoch 217: 100%|██████████| 243/243 [00:32<00:00,  7.38it/s]\n",
      "[14:18:20] type: train epoch 218:   0%|          | 0/2194 [00:00<?, ?it/s]"
     ]
    },
    {
     "name": "stdout",
     "output_type": "stream",
     "text": [
      "avg_loss: 1.2643 | avg_acc: 0.5001\n",
      "\n"
     ]
    },
    {
     "name": "stderr",
     "output_type": "stream",
     "text": [
      "[14:18:20] type: train epoch 218: 100%|██████████| 2194/2194 [15:07<00:00,  2.42it/s]\n",
      "[14:33:28] type: valid epoch 218:   0%|          | 1/243 [00:00<00:37,  6.46it/s]"
     ]
    },
    {
     "name": "stdout",
     "output_type": "stream",
     "text": [
      "avg_loss: 1.2355 | avg_acc: 0.5117\n"
     ]
    },
    {
     "name": "stderr",
     "output_type": "stream",
     "text": [
      "[14:33:28] type: valid epoch 218: 100%|██████████| 243/243 [00:32<00:00,  7.36it/s]\n",
      "[14:34:01] type: train epoch 219:   0%|          | 0/2194 [00:00<?, ?it/s]"
     ]
    },
    {
     "name": "stdout",
     "output_type": "stream",
     "text": [
      "avg_loss: 1.2640 | avg_acc: 0.5002\n",
      "\n"
     ]
    },
    {
     "name": "stderr",
     "output_type": "stream",
     "text": [
      "[14:34:01] type: train epoch 219: 100%|██████████| 2194/2194 [15:06<00:00,  2.42it/s]\n",
      "[14:49:08] type: valid epoch 219:   0%|          | 1/243 [00:00<00:34,  6.97it/s]"
     ]
    },
    {
     "name": "stdout",
     "output_type": "stream",
     "text": [
      "avg_loss: 1.2352 | avg_acc: 0.5119\n"
     ]
    },
    {
     "name": "stderr",
     "output_type": "stream",
     "text": [
      "[14:49:08] type: valid epoch 219: 100%|██████████| 243/243 [00:33<00:00,  7.32it/s]\n",
      "[14:49:42] type: train epoch 220:   0%|          | 0/2194 [00:00<?, ?it/s]"
     ]
    },
    {
     "name": "stdout",
     "output_type": "stream",
     "text": [
      "avg_loss: 1.2645 | avg_acc: 0.5000\n",
      "\n"
     ]
    },
    {
     "name": "stderr",
     "output_type": "stream",
     "text": [
      "[14:49:42] type: train epoch 220: 100%|██████████| 2194/2194 [15:08<00:00,  2.42it/s]\n",
      "[15:04:50] type: valid epoch 220:   0%|          | 1/243 [00:00<00:33,  7.23it/s]"
     ]
    },
    {
     "name": "stdout",
     "output_type": "stream",
     "text": [
      "avg_loss: 1.2352 | avg_acc: 0.5115\n"
     ]
    },
    {
     "name": "stderr",
     "output_type": "stream",
     "text": [
      "[15:04:50] type: valid epoch 220: 100%|██████████| 243/243 [00:33<00:00,  7.35it/s]\n",
      "[15:05:23] type: train epoch 221:   0%|          | 0/2194 [00:00<?, ?it/s]"
     ]
    },
    {
     "name": "stdout",
     "output_type": "stream",
     "text": [
      "avg_loss: 1.2652 | avg_acc: 0.4995\n",
      "\n"
     ]
    },
    {
     "name": "stderr",
     "output_type": "stream",
     "text": [
      "[15:05:23] type: train epoch 221: 100%|██████████| 2194/2194 [15:07<00:00,  2.42it/s]\n",
      "[15:20:31] type: valid epoch 221:   0%|          | 1/243 [00:00<00:32,  7.48it/s]"
     ]
    },
    {
     "name": "stdout",
     "output_type": "stream",
     "text": [
      "avg_loss: 1.2353 | avg_acc: 0.5119\n"
     ]
    },
    {
     "name": "stderr",
     "output_type": "stream",
     "text": [
      "[15:20:31] type: valid epoch 221: 100%|██████████| 243/243 [00:32<00:00,  7.37it/s]\n",
      "[15:21:04] type: train epoch 222:   0%|          | 0/2194 [00:00<?, ?it/s]"
     ]
    },
    {
     "name": "stdout",
     "output_type": "stream",
     "text": [
      "avg_loss: 1.2644 | avg_acc: 0.5004\n",
      "\n"
     ]
    },
    {
     "name": "stderr",
     "output_type": "stream",
     "text": [
      "[15:21:04] type: train epoch 222: 100%|██████████| 2194/2194 [15:06<00:00,  2.42it/s]\n",
      "[15:36:12] type: valid epoch 222:   0%|          | 1/243 [00:00<00:31,  7.63it/s]"
     ]
    },
    {
     "name": "stdout",
     "output_type": "stream",
     "text": [
      "avg_loss: 1.2349 | avg_acc: 0.5123\n"
     ]
    },
    {
     "name": "stderr",
     "output_type": "stream",
     "text": [
      "[15:36:12] type: valid epoch 222: 100%|██████████| 243/243 [00:33<00:00,  7.35it/s]\n",
      "[15:36:45] type: train epoch 223:   0%|          | 0/2194 [00:00<?, ?it/s]"
     ]
    },
    {
     "name": "stdout",
     "output_type": "stream",
     "text": [
      "avg_loss: 1.2639 | avg_acc: 0.5003\n",
      "\n"
     ]
    },
    {
     "name": "stderr",
     "output_type": "stream",
     "text": [
      "[15:36:45] type: train epoch 223: 100%|██████████| 2194/2194 [15:07<00:00,  2.42it/s]\n",
      "[15:51:52] type: valid epoch 223:   0%|          | 1/243 [00:00<00:33,  7.27it/s]"
     ]
    },
    {
     "name": "stdout",
     "output_type": "stream",
     "text": [
      "avg_loss: 1.2354 | avg_acc: 0.5116\n"
     ]
    },
    {
     "name": "stderr",
     "output_type": "stream",
     "text": [
      "[15:51:52] type: valid epoch 223: 100%|██████████| 243/243 [00:32<00:00,  7.36it/s]\n",
      "[15:52:26] type: train epoch 224:   0%|          | 0/2194 [00:00<?, ?it/s]"
     ]
    },
    {
     "name": "stdout",
     "output_type": "stream",
     "text": [
      "avg_loss: 1.2642 | avg_acc: 0.5001\n",
      "\n"
     ]
    },
    {
     "name": "stderr",
     "output_type": "stream",
     "text": [
      "[15:52:26] type: train epoch 224: 100%|██████████| 2194/2194 [15:07<00:00,  2.42it/s]\n",
      "[16:07:33] type: valid epoch 224:   0%|          | 1/243 [00:00<00:31,  7.59it/s]"
     ]
    },
    {
     "name": "stdout",
     "output_type": "stream",
     "text": [
      "avg_loss: 1.2350 | avg_acc: 0.5117\n"
     ]
    },
    {
     "name": "stderr",
     "output_type": "stream",
     "text": [
      "[16:07:33] type: valid epoch 224: 100%|██████████| 243/243 [00:32<00:00,  7.37it/s]\n",
      "[16:08:06] type: train epoch 225:   0%|          | 0/2194 [00:00<?, ?it/s]"
     ]
    },
    {
     "name": "stdout",
     "output_type": "stream",
     "text": [
      "avg_loss: 1.2639 | avg_acc: 0.4999\n",
      "\n"
     ]
    },
    {
     "name": "stderr",
     "output_type": "stream",
     "text": [
      "[16:08:06] type: train epoch 225: 100%|██████████| 2194/2194 [15:09<00:00,  2.41it/s]\n",
      "[16:23:16] type: valid epoch 225:   0%|          | 1/243 [00:00<00:31,  7.61it/s]"
     ]
    },
    {
     "name": "stdout",
     "output_type": "stream",
     "text": [
      "avg_loss: 1.2360 | avg_acc: 0.5118\n"
     ]
    },
    {
     "name": "stderr",
     "output_type": "stream",
     "text": [
      "[16:23:16] type: valid epoch 225: 100%|██████████| 243/243 [00:33<00:00,  7.34it/s]\n",
      "[16:23:49] type: train epoch 226:   0%|          | 0/2194 [00:00<?, ?it/s]"
     ]
    },
    {
     "name": "stdout",
     "output_type": "stream",
     "text": [
      "avg_loss: 1.2669 | avg_acc: 0.4999\n",
      "\n"
     ]
    },
    {
     "name": "stderr",
     "output_type": "stream",
     "text": [
      "[16:23:49] type: train epoch 226: 100%|██████████| 2194/2194 [15:04<00:00,  2.42it/s]\n",
      "[16:38:54] type: valid epoch 226:   0%|          | 1/243 [00:00<00:31,  7.70it/s]"
     ]
    },
    {
     "name": "stdout",
     "output_type": "stream",
     "text": [
      "avg_loss: 1.2360 | avg_acc: 0.5121\n"
     ]
    },
    {
     "name": "stderr",
     "output_type": "stream",
     "text": [
      "[16:38:54] type: valid epoch 226: 100%|██████████| 243/243 [00:32<00:00,  7.39it/s]\n",
      "[16:39:27] type: train epoch 227:   0%|          | 0/2194 [00:00<?, ?it/s]"
     ]
    },
    {
     "name": "stdout",
     "output_type": "stream",
     "text": [
      "avg_loss: 1.2647 | avg_acc: 0.5001\n",
      "\n"
     ]
    },
    {
     "name": "stderr",
     "output_type": "stream",
     "text": [
      "[16:39:27] type: train epoch 227: 100%|██████████| 2194/2194 [15:03<00:00,  2.43it/s]\n",
      "[16:54:32] type: valid epoch 227:   0%|          | 1/243 [00:00<00:32,  7.35it/s]"
     ]
    },
    {
     "name": "stdout",
     "output_type": "stream",
     "text": [
      "avg_loss: 1.2360 | avg_acc: 0.5116\n"
     ]
    },
    {
     "name": "stderr",
     "output_type": "stream",
     "text": [
      "[16:54:32] type: valid epoch 227: 100%|██████████| 243/243 [00:32<00:00,  7.40it/s]\n",
      "[16:55:05] type: train epoch 228:   0%|          | 0/2194 [00:00<?, ?it/s]"
     ]
    },
    {
     "name": "stdout",
     "output_type": "stream",
     "text": [
      "avg_loss: 1.2676 | avg_acc: 0.4999\n",
      "\n"
     ]
    },
    {
     "name": "stderr",
     "output_type": "stream",
     "text": [
      "[16:55:05] type: train epoch 228: 100%|██████████| 2194/2194 [15:01<00:00,  2.43it/s]\n",
      "[17:10:07] type: valid epoch 228:   0%|          | 1/243 [00:00<00:32,  7.51it/s]"
     ]
    },
    {
     "name": "stdout",
     "output_type": "stream",
     "text": [
      "avg_loss: 1.2352 | avg_acc: 0.5117\n"
     ]
    },
    {
     "name": "stderr",
     "output_type": "stream",
     "text": [
      "[17:10:07] type: valid epoch 228: 100%|██████████| 243/243 [00:32<00:00,  7.40it/s]\n",
      "[17:10:40] type: train epoch 229:   0%|          | 0/2194 [00:00<?, ?it/s]"
     ]
    },
    {
     "name": "stdout",
     "output_type": "stream",
     "text": [
      "avg_loss: 1.2655 | avg_acc: 0.5002\n",
      "\n"
     ]
    },
    {
     "name": "stderr",
     "output_type": "stream",
     "text": [
      "[17:10:40] type: train epoch 229: 100%|██████████| 2194/2194 [15:03<00:00,  2.43it/s]\n",
      "[17:25:43] type: valid epoch 229:   0%|          | 1/243 [00:00<00:31,  7.75it/s]"
     ]
    },
    {
     "name": "stdout",
     "output_type": "stream",
     "text": [
      "avg_loss: 1.2352 | avg_acc: 0.5123\n"
     ]
    },
    {
     "name": "stderr",
     "output_type": "stream",
     "text": [
      "[17:25:43] type: valid epoch 229: 100%|██████████| 243/243 [00:32<00:00,  7.40it/s]\n",
      "[17:26:16] type: train epoch 230:   0%|          | 0/2194 [00:00<?, ?it/s]"
     ]
    },
    {
     "name": "stdout",
     "output_type": "stream",
     "text": [
      "avg_loss: 1.2650 | avg_acc: 0.5003\n",
      "\n"
     ]
    },
    {
     "name": "stderr",
     "output_type": "stream",
     "text": [
      "[17:26:16] type: train epoch 230: 100%|██████████| 2194/2194 [15:04<00:00,  2.42it/s]\n",
      "[17:41:21] type: valid epoch 230:   0%|          | 1/243 [00:00<00:32,  7.41it/s]"
     ]
    },
    {
     "name": "stdout",
     "output_type": "stream",
     "text": [
      "avg_loss: 1.2346 | avg_acc: 0.5122\n"
     ]
    },
    {
     "name": "stderr",
     "output_type": "stream",
     "text": [
      "[17:41:21] type: valid epoch 230: 100%|██████████| 243/243 [00:32<00:00,  7.36it/s]\n",
      "[17:41:55] type: train epoch 231:   0%|          | 0/2194 [00:00<?, ?it/s]"
     ]
    },
    {
     "name": "stdout",
     "output_type": "stream",
     "text": [
      "avg_loss: 1.2648 | avg_acc: 0.5001\n",
      "\n"
     ]
    },
    {
     "name": "stderr",
     "output_type": "stream",
     "text": [
      "[17:41:55] type: train epoch 231: 100%|██████████| 2194/2194 [15:04<00:00,  2.42it/s]\n",
      "[17:57:00] type: valid epoch 231:   0%|          | 1/243 [00:00<00:32,  7.41it/s]"
     ]
    },
    {
     "name": "stdout",
     "output_type": "stream",
     "text": [
      "avg_loss: 1.2355 | avg_acc: 0.5123\n"
     ]
    },
    {
     "name": "stderr",
     "output_type": "stream",
     "text": [
      "[17:57:00] type: valid epoch 231: 100%|██████████| 243/243 [00:32<00:00,  7.37it/s]\n",
      "[17:57:33] type: train epoch 232:   0%|          | 0/2194 [00:00<?, ?it/s]"
     ]
    },
    {
     "name": "stdout",
     "output_type": "stream",
     "text": [
      "avg_loss: 1.2642 | avg_acc: 0.5005\n",
      "\n"
     ]
    },
    {
     "name": "stderr",
     "output_type": "stream",
     "text": [
      "[17:57:33] type: train epoch 232: 100%|██████████| 2194/2194 [15:05<00:00,  2.42it/s]\n",
      "[18:12:39] type: valid epoch 232:   0%|          | 1/243 [00:00<00:32,  7.49it/s]"
     ]
    },
    {
     "name": "stdout",
     "output_type": "stream",
     "text": [
      "avg_loss: 1.2347 | avg_acc: 0.5120\n"
     ]
    },
    {
     "name": "stderr",
     "output_type": "stream",
     "text": [
      "[18:12:39] type: valid epoch 232: 100%|██████████| 243/243 [00:33<00:00,  7.34it/s]\n",
      "[18:13:12] type: train epoch 233:   0%|          | 0/2194 [00:00<?, ?it/s]"
     ]
    },
    {
     "name": "stdout",
     "output_type": "stream",
     "text": [
      "avg_loss: 1.2645 | avg_acc: 0.5003\n",
      "\n"
     ]
    },
    {
     "name": "stderr",
     "output_type": "stream",
     "text": [
      "[18:13:12] type: train epoch 233: 100%|██████████| 2194/2194 [15:07<00:00,  2.42it/s]\n",
      "[18:28:20] type: valid epoch 233:   0%|          | 1/243 [00:00<00:32,  7.47it/s]"
     ]
    },
    {
     "name": "stdout",
     "output_type": "stream",
     "text": [
      "avg_loss: 1.2349 | avg_acc: 0.5119\n"
     ]
    },
    {
     "name": "stderr",
     "output_type": "stream",
     "text": [
      "[18:28:20] type: valid epoch 233: 100%|██████████| 243/243 [00:33<00:00,  7.35it/s]\n",
      "[18:28:53] type: train epoch 234:   0%|          | 0/2194 [00:00<?, ?it/s]"
     ]
    },
    {
     "name": "stdout",
     "output_type": "stream",
     "text": [
      "avg_loss: 1.2665 | avg_acc: 0.5002\n",
      "\n"
     ]
    },
    {
     "name": "stderr",
     "output_type": "stream",
     "text": [
      "[18:28:53] type: train epoch 234: 100%|██████████| 2194/2194 [15:08<00:00,  2.42it/s]\n",
      "[18:44:01] type: valid epoch 234:   0%|          | 1/243 [00:00<00:31,  7.61it/s]"
     ]
    },
    {
     "name": "stdout",
     "output_type": "stream",
     "text": [
      "avg_loss: 1.2348 | avg_acc: 0.5125\n"
     ]
    },
    {
     "name": "stderr",
     "output_type": "stream",
     "text": [
      "[18:44:01] type: valid epoch 234: 100%|██████████| 243/243 [00:33<00:00,  7.35it/s]\n",
      "[18:44:35] type: train epoch 235:   0%|          | 0/2194 [00:00<?, ?it/s]"
     ]
    },
    {
     "name": "stdout",
     "output_type": "stream",
     "text": [
      "avg_loss: 1.2643 | avg_acc: 0.5002\n",
      "\n"
     ]
    },
    {
     "name": "stderr",
     "output_type": "stream",
     "text": [
      "[18:44:35] type: train epoch 235: 100%|██████████| 2194/2194 [15:06<00:00,  2.42it/s]\n",
      "[18:59:41] type: valid epoch 235:   0%|          | 1/243 [00:00<00:32,  7.37it/s]"
     ]
    },
    {
     "name": "stdout",
     "output_type": "stream",
     "text": [
      "avg_loss: 1.2349 | avg_acc: 0.5119\n"
     ]
    },
    {
     "name": "stderr",
     "output_type": "stream",
     "text": [
      "[18:59:41] type: valid epoch 235: 100%|██████████| 243/243 [00:32<00:00,  7.37it/s]\n"
     ]
    },
    {
     "name": "stdout",
     "output_type": "stream",
     "text": [
      "avg_loss: 1.2620 | avg_acc: 0.5005\n",
      "******** New optimal found, saving state ********\n"
     ]
    },
    {
     "name": "stderr",
     "output_type": "stream",
     "text": [
      "[19:00:22] type: train epoch 236:   0%|          | 0/2194 [00:00<?, ?it/s]"
     ]
    },
    {
     "name": "stdout",
     "output_type": "stream",
     "text": [
      "\n"
     ]
    },
    {
     "name": "stderr",
     "output_type": "stream",
     "text": [
      "[19:00:22] type: train epoch 236: 100%|██████████| 2194/2194 [15:06<00:00,  2.42it/s]\n",
      "[19:15:28] type: valid epoch 236:   0%|          | 1/243 [00:00<00:38,  6.24it/s]"
     ]
    },
    {
     "name": "stdout",
     "output_type": "stream",
     "text": [
      "avg_loss: 1.2350 | avg_acc: 0.5115\n"
     ]
    },
    {
     "name": "stderr",
     "output_type": "stream",
     "text": [
      "[19:15:28] type: valid epoch 236: 100%|██████████| 243/243 [00:32<00:00,  7.38it/s]\n",
      "[19:16:01] type: train epoch 237:   0%|          | 0/2194 [00:00<?, ?it/s]"
     ]
    },
    {
     "name": "stdout",
     "output_type": "stream",
     "text": [
      "avg_loss: 1.2627 | avg_acc: 0.5004\n",
      "\n"
     ]
    },
    {
     "name": "stderr",
     "output_type": "stream",
     "text": [
      "[19:16:01] type: train epoch 237: 100%|██████████| 2194/2194 [15:07<00:00,  2.42it/s]\n",
      "[19:31:09] type: valid epoch 237:   0%|          | 1/243 [00:00<00:31,  7.60it/s]"
     ]
    },
    {
     "name": "stdout",
     "output_type": "stream",
     "text": [
      "avg_loss: 1.2351 | avg_acc: 0.5116\n"
     ]
    },
    {
     "name": "stderr",
     "output_type": "stream",
     "text": [
      "[19:31:09] type: valid epoch 237: 100%|██████████| 243/243 [00:32<00:00,  7.39it/s]\n",
      "[19:31:42] type: train epoch 238:   0%|          | 0/2194 [00:00<?, ?it/s]"
     ]
    },
    {
     "name": "stdout",
     "output_type": "stream",
     "text": [
      "avg_loss: 1.2641 | avg_acc: 0.5001\n",
      "\n"
     ]
    },
    {
     "name": "stderr",
     "output_type": "stream",
     "text": [
      "[19:31:42] type: train epoch 238: 100%|██████████| 2194/2194 [15:05<00:00,  2.42it/s]\n",
      "[19:46:47] type: valid epoch 238:   0%|          | 1/243 [00:00<00:32,  7.36it/s]"
     ]
    },
    {
     "name": "stdout",
     "output_type": "stream",
     "text": [
      "avg_loss: 1.2351 | avg_acc: 0.5114\n"
     ]
    },
    {
     "name": "stderr",
     "output_type": "stream",
     "text": [
      "[19:46:47] type: valid epoch 238: 100%|██████████| 243/243 [00:32<00:00,  7.38it/s]\n",
      "[19:47:21] type: train epoch 239:   0%|          | 0/2194 [00:00<?, ?it/s]"
     ]
    },
    {
     "name": "stdout",
     "output_type": "stream",
     "text": [
      "avg_loss: 1.2639 | avg_acc: 0.4999\n",
      "\n"
     ]
    },
    {
     "name": "stderr",
     "output_type": "stream",
     "text": [
      "[19:47:21] type: train epoch 239: 100%|██████████| 2194/2194 [15:04<00:00,  2.42it/s]\n",
      "[20:02:26] type: valid epoch 239:   0%|          | 1/243 [00:00<00:33,  7.32it/s]"
     ]
    },
    {
     "name": "stdout",
     "output_type": "stream",
     "text": [
      "avg_loss: 1.2352 | avg_acc: 0.5114\n"
     ]
    },
    {
     "name": "stderr",
     "output_type": "stream",
     "text": [
      "[20:02:26] type: valid epoch 239: 100%|██████████| 243/243 [00:32<00:00,  7.37it/s]\n",
      "[20:02:59] type: train epoch 240:   0%|          | 0/2194 [00:00<?, ?it/s]"
     ]
    },
    {
     "name": "stdout",
     "output_type": "stream",
     "text": [
      "avg_loss: 1.2646 | avg_acc: 0.4999\n",
      "\n"
     ]
    },
    {
     "name": "stderr",
     "output_type": "stream",
     "text": [
      "[20:02:59] type: train epoch 240: 100%|██████████| 2194/2194 [15:02<00:00,  2.43it/s]\n",
      "[20:18:02] type: valid epoch 240:   0%|          | 1/243 [00:00<00:33,  7.21it/s]"
     ]
    },
    {
     "name": "stdout",
     "output_type": "stream",
     "text": [
      "avg_loss: 1.2351 | avg_acc: 0.5120\n"
     ]
    },
    {
     "name": "stderr",
     "output_type": "stream",
     "text": [
      "[20:18:02] type: valid epoch 240: 100%|██████████| 243/243 [00:32<00:00,  7.40it/s]\n",
      "[20:18:35] type: train epoch 241:   0%|          | 0/2194 [00:00<?, ?it/s]"
     ]
    },
    {
     "name": "stdout",
     "output_type": "stream",
     "text": [
      "avg_loss: 1.2645 | avg_acc: 0.4998\n",
      "\n"
     ]
    },
    {
     "name": "stderr",
     "output_type": "stream",
     "text": [
      "[20:18:35] type: train epoch 241: 100%|██████████| 2194/2194 [15:03<00:00,  2.43it/s]\n",
      "[20:33:39] type: valid epoch 241:   0%|          | 1/243 [00:00<00:31,  7.64it/s]"
     ]
    },
    {
     "name": "stdout",
     "output_type": "stream",
     "text": [
      "avg_loss: 1.2336 | avg_acc: 0.5113\n"
     ]
    },
    {
     "name": "stderr",
     "output_type": "stream",
     "text": [
      "[20:33:39] type: valid epoch 241: 100%|██████████| 243/243 [00:32<00:00,  7.41it/s]\n",
      "[20:34:12] type: train epoch 242:   0%|          | 0/2194 [00:00<?, ?it/s]"
     ]
    },
    {
     "name": "stdout",
     "output_type": "stream",
     "text": [
      "avg_loss: 1.2653 | avg_acc: 0.5001\n",
      "\n"
     ]
    },
    {
     "name": "stderr",
     "output_type": "stream",
     "text": [
      "[20:34:12] type: train epoch 242: 100%|██████████| 2194/2194 [15:02<00:00,  2.43it/s]\n",
      "[20:49:14] type: valid epoch 242:   0%|          | 1/243 [00:00<00:31,  7.64it/s]"
     ]
    },
    {
     "name": "stdout",
     "output_type": "stream",
     "text": [
      "avg_loss: 1.2348 | avg_acc: 0.5120\n"
     ]
    },
    {
     "name": "stderr",
     "output_type": "stream",
     "text": [
      "[20:49:14] type: valid epoch 242: 100%|██████████| 243/243 [00:32<00:00,  7.41it/s]\n",
      "[20:49:47] type: train epoch 243:   0%|          | 0/2194 [00:00<?, ?it/s]"
     ]
    },
    {
     "name": "stdout",
     "output_type": "stream",
     "text": [
      "avg_loss: 1.2649 | avg_acc: 0.5001\n",
      "\n"
     ]
    },
    {
     "name": "stderr",
     "output_type": "stream",
     "text": [
      "[20:49:47] type: train epoch 243: 100%|██████████| 2194/2194 [14:59<00:00,  2.44it/s]\n",
      "[21:04:47] type: valid epoch 243:   0%|          | 1/243 [00:00<00:31,  7.64it/s]"
     ]
    },
    {
     "name": "stdout",
     "output_type": "stream",
     "text": [
      "avg_loss: 1.2351 | avg_acc: 0.5118\n"
     ]
    },
    {
     "name": "stderr",
     "output_type": "stream",
     "text": [
      "[21:04:47] type: valid epoch 243: 100%|██████████| 243/243 [00:32<00:00,  7.41it/s]\n",
      "[21:05:20] type: train epoch 244:   0%|          | 0/2194 [00:00<?, ?it/s]"
     ]
    },
    {
     "name": "stdout",
     "output_type": "stream",
     "text": [
      "avg_loss: 1.2675 | avg_acc: 0.5005\n",
      "\n"
     ]
    },
    {
     "name": "stderr",
     "output_type": "stream",
     "text": [
      "[21:05:20] type: train epoch 244: 100%|██████████| 2194/2194 [14:59<00:00,  2.44it/s]\n",
      "[21:20:20] type: valid epoch 244:   0%|          | 1/243 [00:00<00:31,  7.60it/s]"
     ]
    },
    {
     "name": "stdout",
     "output_type": "stream",
     "text": [
      "avg_loss: 1.2347 | avg_acc: 0.5120\n"
     ]
    },
    {
     "name": "stderr",
     "output_type": "stream",
     "text": [
      "[21:20:20] type: valid epoch 244: 100%|██████████| 243/243 [00:32<00:00,  7.43it/s]\n",
      "[21:20:53] type: train epoch 245:   0%|          | 0/2194 [00:00<?, ?it/s]"
     ]
    },
    {
     "name": "stdout",
     "output_type": "stream",
     "text": [
      "avg_loss: 1.2657 | avg_acc: 0.5005\n",
      "\n"
     ]
    },
    {
     "name": "stderr",
     "output_type": "stream",
     "text": [
      "[21:20:53] type: train epoch 245: 100%|██████████| 2194/2194 [14:59<00:00,  2.44it/s]\n",
      "[21:35:52] type: valid epoch 245:   0%|          | 1/243 [00:00<00:33,  7.33it/s]"
     ]
    },
    {
     "name": "stdout",
     "output_type": "stream",
     "text": [
      "avg_loss: 1.2347 | avg_acc: 0.5118\n"
     ]
    },
    {
     "name": "stderr",
     "output_type": "stream",
     "text": [
      "[21:35:52] type: valid epoch 245: 100%|██████████| 243/243 [00:32<00:00,  7.38it/s]\n",
      "[21:36:25] type: train epoch 246:   0%|          | 0/2194 [00:00<?, ?it/s]"
     ]
    },
    {
     "name": "stdout",
     "output_type": "stream",
     "text": [
      "avg_loss: 1.2645 | avg_acc: 0.5005\n",
      "\n"
     ]
    },
    {
     "name": "stderr",
     "output_type": "stream",
     "text": [
      "[21:36:25] type: train epoch 246: 100%|██████████| 2194/2194 [15:02<00:00,  2.43it/s]\n",
      "[21:51:28] type: valid epoch 246:   0%|          | 1/243 [00:00<00:32,  7.50it/s]"
     ]
    },
    {
     "name": "stdout",
     "output_type": "stream",
     "text": [
      "avg_loss: 1.2338 | avg_acc: 0.5120\n"
     ]
    },
    {
     "name": "stderr",
     "output_type": "stream",
     "text": [
      "[21:51:28] type: valid epoch 246: 100%|██████████| 243/243 [00:32<00:00,  7.39it/s]\n",
      "[21:52:01] type: train epoch 247:   0%|          | 0/2194 [00:00<?, ?it/s]"
     ]
    },
    {
     "name": "stdout",
     "output_type": "stream",
     "text": [
      "avg_loss: 1.2657 | avg_acc: 0.4998\n",
      "\n"
     ]
    },
    {
     "name": "stderr",
     "output_type": "stream",
     "text": [
      "[21:52:01] type: train epoch 247: 100%|██████████| 2194/2194 [15:01<00:00,  2.43it/s]\n",
      "[22:07:03] type: valid epoch 247:   0%|          | 1/243 [00:00<00:32,  7.38it/s]"
     ]
    },
    {
     "name": "stdout",
     "output_type": "stream",
     "text": [
      "avg_loss: 1.2338 | avg_acc: 0.5123\n"
     ]
    },
    {
     "name": "stderr",
     "output_type": "stream",
     "text": [
      "[22:07:03] type: valid epoch 247: 100%|██████████| 243/243 [00:32<00:00,  7.42it/s]\n",
      "[22:07:36] type: train epoch 248:   0%|          | 0/2194 [00:00<?, ?it/s]"
     ]
    },
    {
     "name": "stdout",
     "output_type": "stream",
     "text": [
      "avg_loss: 1.2647 | avg_acc: 0.5003\n",
      "\n"
     ]
    },
    {
     "name": "stderr",
     "output_type": "stream",
     "text": [
      "[22:07:36] type: train epoch 248: 100%|██████████| 2194/2194 [14:59<00:00,  2.44it/s]\n",
      "[22:22:36] type: valid epoch 248:   0%|          | 1/243 [00:00<00:31,  7.70it/s]"
     ]
    },
    {
     "name": "stdout",
     "output_type": "stream",
     "text": [
      "avg_loss: 1.2339 | avg_acc: 0.5120\n"
     ]
    },
    {
     "name": "stderr",
     "output_type": "stream",
     "text": [
      "[22:22:36] type: valid epoch 248: 100%|██████████| 243/243 [00:32<00:00,  7.44it/s]\n",
      "[22:23:09] type: train epoch 249:   0%|          | 0/2194 [00:00<?, ?it/s]"
     ]
    },
    {
     "name": "stdout",
     "output_type": "stream",
     "text": [
      "avg_loss: 1.2646 | avg_acc: 0.5003\n",
      "\n"
     ]
    },
    {
     "name": "stderr",
     "output_type": "stream",
     "text": [
      "[22:23:09] type: train epoch 249: 100%|██████████| 2194/2194 [14:59<00:00,  2.44it/s]\n",
      "[22:38:09] type: valid epoch 249:   0%|          | 1/243 [00:00<00:31,  7.74it/s]"
     ]
    },
    {
     "name": "stdout",
     "output_type": "stream",
     "text": [
      "avg_loss: 1.2337 | avg_acc: 0.5116\n"
     ]
    },
    {
     "name": "stderr",
     "output_type": "stream",
     "text": [
      "[22:38:09] type: valid epoch 249: 100%|██████████| 243/243 [00:32<00:00,  7.44it/s]\n",
      "[22:38:41] type: train epoch 250:   0%|          | 0/2194 [00:00<?, ?it/s]"
     ]
    },
    {
     "name": "stdout",
     "output_type": "stream",
     "text": [
      "avg_loss: 1.2647 | avg_acc: 0.5005\n",
      "\n"
     ]
    },
    {
     "name": "stderr",
     "output_type": "stream",
     "text": [
      "[22:38:41] type: train epoch 250: 100%|██████████| 2194/2194 [14:58<00:00,  2.44it/s]\n",
      "[22:53:40] type: valid epoch 250:   0%|          | 1/243 [00:00<00:30,  7.83it/s]"
     ]
    },
    {
     "name": "stdout",
     "output_type": "stream",
     "text": [
      "avg_loss: 1.2336 | avg_acc: 0.5118\n"
     ]
    },
    {
     "name": "stderr",
     "output_type": "stream",
     "text": [
      "[22:53:40] type: valid epoch 250: 100%|██████████| 243/243 [00:32<00:00,  7.42it/s]\n",
      "[22:54:13] type: train epoch 251:   0%|          | 0/2194 [00:00<?, ?it/s]"
     ]
    },
    {
     "name": "stdout",
     "output_type": "stream",
     "text": [
      "avg_loss: 1.2668 | avg_acc: 0.5007\n",
      "\n"
     ]
    },
    {
     "name": "stderr",
     "output_type": "stream",
     "text": [
      "[22:54:13] type: train epoch 251: 100%|██████████| 2194/2194 [14:58<00:00,  2.44it/s]\n",
      "[23:09:13] type: valid epoch 251:   0%|          | 1/243 [00:00<00:30,  7.85it/s]"
     ]
    },
    {
     "name": "stdout",
     "output_type": "stream",
     "text": [
      "avg_loss: 1.2344 | avg_acc: 0.5122\n"
     ]
    },
    {
     "name": "stderr",
     "output_type": "stream",
     "text": [
      "[23:09:13] type: valid epoch 251: 100%|██████████| 243/243 [00:32<00:00,  7.43it/s]\n",
      "[23:09:45] type: train epoch 252:   0%|          | 0/2194 [00:00<?, ?it/s]"
     ]
    },
    {
     "name": "stdout",
     "output_type": "stream",
     "text": [
      "avg_loss: 1.2655 | avg_acc: 0.5003\n",
      "\n"
     ]
    },
    {
     "name": "stderr",
     "output_type": "stream",
     "text": [
      "[23:09:45] type: train epoch 252: 100%|██████████| 2194/2194 [15:00<00:00,  2.44it/s]\n",
      "[23:24:46] type: valid epoch 252:   0%|          | 1/243 [00:00<00:32,  7.55it/s]"
     ]
    },
    {
     "name": "stdout",
     "output_type": "stream",
     "text": [
      "avg_loss: 1.2344 | avg_acc: 0.5129\n"
     ]
    },
    {
     "name": "stderr",
     "output_type": "stream",
     "text": [
      "[23:24:46] type: valid epoch 252: 100%|██████████| 243/243 [00:32<00:00,  7.42it/s]\n",
      "[23:25:19] type: train epoch 253:   0%|          | 0/2194 [00:00<?, ?it/s]"
     ]
    },
    {
     "name": "stdout",
     "output_type": "stream",
     "text": [
      "avg_loss: 1.2688 | avg_acc: 0.4999\n",
      "\n"
     ]
    },
    {
     "name": "stderr",
     "output_type": "stream",
     "text": [
      "[23:25:19] type: train epoch 253: 100%|██████████| 2194/2194 [14:59<00:00,  2.44it/s]\n",
      "[23:40:19] type: valid epoch 253:   0%|          | 1/243 [00:00<00:31,  7.72it/s]"
     ]
    },
    {
     "name": "stdout",
     "output_type": "stream",
     "text": [
      "avg_loss: 1.2341 | avg_acc: 0.5121\n"
     ]
    },
    {
     "name": "stderr",
     "output_type": "stream",
     "text": [
      "[23:40:19] type: valid epoch 253: 100%|██████████| 243/243 [00:32<00:00,  7.41it/s]\n",
      "[23:40:52] type: train epoch 254:   0%|          | 0/2194 [00:00<?, ?it/s]"
     ]
    },
    {
     "name": "stdout",
     "output_type": "stream",
     "text": [
      "avg_loss: 1.2667 | avg_acc: 0.4999\n",
      "\n"
     ]
    },
    {
     "name": "stderr",
     "output_type": "stream",
     "text": [
      "[23:40:52] type: train epoch 254: 100%|██████████| 2194/2194 [15:01<00:00,  2.43it/s]\n",
      "[23:55:54] type: valid epoch 254:   0%|          | 1/243 [00:00<00:33,  7.22it/s]"
     ]
    },
    {
     "name": "stdout",
     "output_type": "stream",
     "text": [
      "avg_loss: 1.2339 | avg_acc: 0.5121\n"
     ]
    },
    {
     "name": "stderr",
     "output_type": "stream",
     "text": [
      "[23:55:54] type: valid epoch 254: 100%|██████████| 243/243 [00:32<00:00,  7.39it/s]\n",
      "[23:56:27] type: train epoch 255:   0%|          | 0/2194 [00:00<?, ?it/s]"
     ]
    },
    {
     "name": "stdout",
     "output_type": "stream",
     "text": [
      "avg_loss: 1.2679 | avg_acc: 0.5002\n",
      "\n"
     ]
    },
    {
     "name": "stderr",
     "output_type": "stream",
     "text": [
      "[23:56:27] type: train epoch 255: 100%|██████████| 2194/2194 [15:01<00:00,  2.43it/s]\n",
      "[00:11:29] type: valid epoch 255:   0%|          | 1/243 [00:00<00:32,  7.56it/s]"
     ]
    },
    {
     "name": "stdout",
     "output_type": "stream",
     "text": [
      "avg_loss: 1.2343 | avg_acc: 0.5113\n"
     ]
    },
    {
     "name": "stderr",
     "output_type": "stream",
     "text": [
      "[00:11:29] type: valid epoch 255: 100%|██████████| 243/243 [00:32<00:00,  7.39it/s]\n",
      "[00:12:02] type: train epoch 256:   0%|          | 0/2194 [00:00<?, ?it/s]"
     ]
    },
    {
     "name": "stdout",
     "output_type": "stream",
     "text": [
      "avg_loss: 1.2653 | avg_acc: 0.5003\n",
      "\n"
     ]
    },
    {
     "name": "stderr",
     "output_type": "stream",
     "text": [
      "[00:12:02] type: train epoch 256: 100%|██████████| 2194/2194 [15:02<00:00,  2.43it/s]\n",
      "[00:27:04] type: valid epoch 256:   0%|          | 1/243 [00:00<00:32,  7.48it/s]"
     ]
    },
    {
     "name": "stdout",
     "output_type": "stream",
     "text": [
      "avg_loss: 1.2340 | avg_acc: 0.5117\n"
     ]
    },
    {
     "name": "stderr",
     "output_type": "stream",
     "text": [
      "[00:27:04] type: valid epoch 256: 100%|██████████| 243/243 [00:32<00:00,  7.38it/s]\n",
      "[00:27:38] type: train epoch 257:   0%|          | 0/2194 [00:00<?, ?it/s]"
     ]
    },
    {
     "name": "stdout",
     "output_type": "stream",
     "text": [
      "avg_loss: 1.2657 | avg_acc: 0.4999\n",
      "\n"
     ]
    },
    {
     "name": "stderr",
     "output_type": "stream",
     "text": [
      "[00:27:38] type: train epoch 257: 100%|██████████| 2194/2194 [15:02<00:00,  2.43it/s]\n",
      "[00:42:40] type: valid epoch 257:   0%|          | 1/243 [00:00<00:31,  7.58it/s]"
     ]
    },
    {
     "name": "stdout",
     "output_type": "stream",
     "text": [
      "avg_loss: 1.2346 | avg_acc: 0.5123\n"
     ]
    },
    {
     "name": "stderr",
     "output_type": "stream",
     "text": [
      "[00:42:40] type: valid epoch 257: 100%|██████████| 243/243 [00:32<00:00,  7.36it/s]\n",
      "[00:43:13] type: train epoch 258:   0%|          | 0/2194 [00:00<?, ?it/s]"
     ]
    },
    {
     "name": "stdout",
     "output_type": "stream",
     "text": [
      "avg_loss: 1.2660 | avg_acc: 0.4996\n",
      "\n"
     ]
    },
    {
     "name": "stderr",
     "output_type": "stream",
     "text": [
      "[00:43:13] type: train epoch 258: 100%|██████████| 2194/2194 [15:03<00:00,  2.43it/s]\n",
      "[00:58:17] type: valid epoch 258:   0%|          | 1/243 [00:00<00:33,  7.29it/s]"
     ]
    },
    {
     "name": "stdout",
     "output_type": "stream",
     "text": [
      "avg_loss: 1.2333 | avg_acc: 0.5121\n"
     ]
    },
    {
     "name": "stderr",
     "output_type": "stream",
     "text": [
      "[00:58:17] type: valid epoch 258: 100%|██████████| 243/243 [00:32<00:00,  7.41it/s]\n",
      "[00:58:50] type: train epoch 259:   0%|          | 0/2194 [00:00<?, ?it/s]"
     ]
    },
    {
     "name": "stdout",
     "output_type": "stream",
     "text": [
      "avg_loss: 1.2633 | avg_acc: 0.5002\n",
      "\n"
     ]
    },
    {
     "name": "stderr",
     "output_type": "stream",
     "text": [
      "[00:58:50] type: train epoch 259: 100%|██████████| 2194/2194 [15:03<00:00,  2.43it/s]\n",
      "[01:13:53] type: valid epoch 259:   0%|          | 1/243 [00:00<00:32,  7.51it/s]"
     ]
    },
    {
     "name": "stdout",
     "output_type": "stream",
     "text": [
      "avg_loss: 1.2337 | avg_acc: 0.5122\n"
     ]
    },
    {
     "name": "stderr",
     "output_type": "stream",
     "text": [
      "[01:13:53] type: valid epoch 259: 100%|██████████| 243/243 [00:32<00:00,  7.38it/s]\n",
      "[01:14:26] type: train epoch 260:   0%|          | 0/2194 [00:00<?, ?it/s]"
     ]
    },
    {
     "name": "stdout",
     "output_type": "stream",
     "text": [
      "avg_loss: 1.2632 | avg_acc: 0.5005\n",
      "\n"
     ]
    },
    {
     "name": "stderr",
     "output_type": "stream",
     "text": [
      "[01:14:26] type: train epoch 260: 100%|██████████| 2194/2194 [15:01<00:00,  2.43it/s]\n",
      "[01:29:28] type: valid epoch 260:   0%|          | 1/243 [00:00<00:32,  7.43it/s]"
     ]
    },
    {
     "name": "stdout",
     "output_type": "stream",
     "text": [
      "avg_loss: 1.2341 | avg_acc: 0.5119\n"
     ]
    },
    {
     "name": "stderr",
     "output_type": "stream",
     "text": [
      "[01:29:28] type: valid epoch 260: 100%|██████████| 243/243 [00:32<00:00,  7.41it/s]\n",
      "[01:30:01] type: train epoch 261:   0%|          | 0/2194 [00:00<?, ?it/s]"
     ]
    },
    {
     "name": "stdout",
     "output_type": "stream",
     "text": [
      "avg_loss: 1.2630 | avg_acc: 0.5002\n",
      "\n"
     ]
    },
    {
     "name": "stderr",
     "output_type": "stream",
     "text": [
      "[01:30:01] type: train epoch 261: 100%|██████████| 2194/2194 [15:02<00:00,  2.43it/s]\n",
      "[01:45:05] type: valid epoch 261:   0%|          | 1/243 [00:00<00:34,  7.04it/s]"
     ]
    },
    {
     "name": "stdout",
     "output_type": "stream",
     "text": [
      "avg_loss: 1.2344 | avg_acc: 0.5116\n"
     ]
    },
    {
     "name": "stderr",
     "output_type": "stream",
     "text": [
      "[01:45:05] type: valid epoch 261: 100%|██████████| 243/243 [00:33<00:00,  7.36it/s]\n",
      "[01:45:38] type: train epoch 262:   0%|          | 0/2194 [00:00<?, ?it/s]"
     ]
    },
    {
     "name": "stdout",
     "output_type": "stream",
     "text": [
      "avg_loss: 1.2627 | avg_acc: 0.5007\n",
      "\n"
     ]
    },
    {
     "name": "stderr",
     "output_type": "stream",
     "text": [
      "[01:45:38] type: train epoch 262: 100%|██████████| 2194/2194 [15:04<00:00,  2.42it/s]\n",
      "[02:00:43] type: valid epoch 262:   0%|          | 1/243 [00:00<00:33,  7.20it/s]"
     ]
    },
    {
     "name": "stdout",
     "output_type": "stream",
     "text": [
      "avg_loss: 1.2337 | avg_acc: 0.5128\n"
     ]
    },
    {
     "name": "stderr",
     "output_type": "stream",
     "text": [
      "[02:00:43] type: valid epoch 262: 100%|██████████| 243/243 [00:32<00:00,  7.37it/s]\n",
      "[02:01:16] type: train epoch 263:   0%|          | 0/2194 [00:00<?, ?it/s]"
     ]
    },
    {
     "name": "stdout",
     "output_type": "stream",
     "text": [
      "avg_loss: 1.2630 | avg_acc: 0.5002\n",
      "\n"
     ]
    },
    {
     "name": "stderr",
     "output_type": "stream",
     "text": [
      "[02:01:16] type: train epoch 263: 100%|██████████| 2194/2194 [15:04<00:00,  2.43it/s]\n",
      "[02:16:21] type: valid epoch 263:   0%|          | 1/243 [00:00<00:31,  7.62it/s]"
     ]
    },
    {
     "name": "stdout",
     "output_type": "stream",
     "text": [
      "avg_loss: 1.2332 | avg_acc: 0.5116\n"
     ]
    },
    {
     "name": "stderr",
     "output_type": "stream",
     "text": [
      "[02:16:21] type: valid epoch 263: 100%|██████████| 243/243 [00:32<00:00,  7.37it/s]\n",
      "[02:16:54] type: train epoch 264:   0%|          | 0/2194 [00:00<?, ?it/s]"
     ]
    },
    {
     "name": "stdout",
     "output_type": "stream",
     "text": [
      "avg_loss: 1.2633 | avg_acc: 0.5001\n",
      "\n"
     ]
    },
    {
     "name": "stderr",
     "output_type": "stream",
     "text": [
      "[02:16:54] type: train epoch 264: 100%|██████████| 2194/2194 [15:06<00:00,  2.42it/s]\n",
      "[02:32:01] type: valid epoch 264:   0%|          | 1/243 [00:00<00:32,  7.50it/s]"
     ]
    },
    {
     "name": "stdout",
     "output_type": "stream",
     "text": [
      "avg_loss: 1.2340 | avg_acc: 0.5125\n"
     ]
    },
    {
     "name": "stderr",
     "output_type": "stream",
     "text": [
      "[02:32:01] type: valid epoch 264: 100%|██████████| 243/243 [00:33<00:00,  7.32it/s]\n",
      "[02:32:34] type: train epoch 265:   0%|          | 0/2194 [00:00<?, ?it/s]"
     ]
    },
    {
     "name": "stdout",
     "output_type": "stream",
     "text": [
      "avg_loss: 1.2643 | avg_acc: 0.4999\n",
      "\n"
     ]
    },
    {
     "name": "stderr",
     "output_type": "stream",
     "text": [
      "[02:32:34] type: train epoch 265: 100%|██████████| 2194/2194 [15:08<00:00,  2.42it/s]\n",
      "[02:47:43] type: valid epoch 265:   0%|          | 1/243 [00:00<00:33,  7.33it/s]"
     ]
    },
    {
     "name": "stdout",
     "output_type": "stream",
     "text": [
      "avg_loss: 1.2343 | avg_acc: 0.5115\n"
     ]
    },
    {
     "name": "stderr",
     "output_type": "stream",
     "text": [
      "[02:47:43] type: valid epoch 265: 100%|██████████| 243/243 [00:33<00:00,  7.34it/s]\n",
      "[02:48:16] type: train epoch 266:   0%|          | 0/2194 [00:00<?, ?it/s]"
     ]
    },
    {
     "name": "stdout",
     "output_type": "stream",
     "text": [
      "avg_loss: 1.2692 | avg_acc: 0.5002\n",
      "\n"
     ]
    },
    {
     "name": "stderr",
     "output_type": "stream",
     "text": [
      "[02:48:16] type: train epoch 266: 100%|██████████| 2194/2194 [15:06<00:00,  2.42it/s]\n",
      "[03:03:23] type: valid epoch 266:   0%|          | 1/243 [00:00<00:31,  7.57it/s]"
     ]
    },
    {
     "name": "stdout",
     "output_type": "stream",
     "text": [
      "avg_loss: 1.2330 | avg_acc: 0.5121\n"
     ]
    },
    {
     "name": "stderr",
     "output_type": "stream",
     "text": [
      "[03:03:23] type: valid epoch 266: 100%|██████████| 243/243 [00:33<00:00,  7.33it/s]\n",
      "[03:03:57] type: train epoch 267:   0%|          | 0/2194 [00:00<?, ?it/s]"
     ]
    },
    {
     "name": "stdout",
     "output_type": "stream",
     "text": [
      "avg_loss: 1.2635 | avg_acc: 0.5006\n",
      "\n"
     ]
    },
    {
     "name": "stderr",
     "output_type": "stream",
     "text": [
      "[03:03:57] type: train epoch 267: 100%|██████████| 2194/2194 [15:07<00:00,  2.42it/s]\n",
      "[03:19:05] type: valid epoch 267:   0%|          | 1/243 [00:00<00:32,  7.50it/s]"
     ]
    },
    {
     "name": "stdout",
     "output_type": "stream",
     "text": [
      "avg_loss: 1.2340 | avg_acc: 0.5121\n"
     ]
    },
    {
     "name": "stderr",
     "output_type": "stream",
     "text": [
      "[03:19:05] type: valid epoch 267: 100%|██████████| 243/243 [00:33<00:00,  7.35it/s]\n",
      "[03:19:38] type: train epoch 268:   0%|          | 0/2194 [00:00<?, ?it/s]"
     ]
    },
    {
     "name": "stdout",
     "output_type": "stream",
     "text": [
      "avg_loss: 1.2629 | avg_acc: 0.5001\n",
      "\n"
     ]
    },
    {
     "name": "stderr",
     "output_type": "stream",
     "text": [
      "[03:19:38] type: train epoch 268: 100%|██████████| 2194/2194 [15:08<00:00,  2.42it/s]\n",
      "[03:34:47] type: valid epoch 268:   0%|          | 1/243 [00:00<00:32,  7.34it/s]"
     ]
    },
    {
     "name": "stdout",
     "output_type": "stream",
     "text": [
      "avg_loss: 1.2336 | avg_acc: 0.5121\n"
     ]
    },
    {
     "name": "stderr",
     "output_type": "stream",
     "text": [
      "[03:34:47] type: valid epoch 268: 100%|██████████| 243/243 [00:33<00:00,  7.35it/s]\n"
     ]
    },
    {
     "name": "stdout",
     "output_type": "stream",
     "text": [
      "avg_loss: 1.2613 | avg_acc: 0.5002\n",
      "******** New optimal found, saving state ********\n"
     ]
    },
    {
     "name": "stderr",
     "output_type": "stream",
     "text": [
      "[03:35:27] type: train epoch 269:   0%|          | 0/2194 [00:00<?, ?it/s]"
     ]
    },
    {
     "name": "stdout",
     "output_type": "stream",
     "text": [
      "\n"
     ]
    },
    {
     "name": "stderr",
     "output_type": "stream",
     "text": [
      "[03:35:27] type: train epoch 269: 100%|██████████| 2194/2194 [15:10<00:00,  2.41it/s]\n",
      "[03:50:38] type: valid epoch 269:   0%|          | 1/243 [00:00<00:33,  7.24it/s]"
     ]
    },
    {
     "name": "stdout",
     "output_type": "stream",
     "text": [
      "avg_loss: 1.2336 | avg_acc: 0.5125\n"
     ]
    },
    {
     "name": "stderr",
     "output_type": "stream",
     "text": [
      "[03:50:38] type: valid epoch 269: 100%|██████████| 243/243 [00:33<00:00,  7.33it/s]\n",
      "[03:51:11] type: train epoch 270:   0%|          | 0/2194 [00:00<?, ?it/s]"
     ]
    },
    {
     "name": "stdout",
     "output_type": "stream",
     "text": [
      "avg_loss: 1.2615 | avg_acc: 0.5001\n",
      "\n"
     ]
    },
    {
     "name": "stderr",
     "output_type": "stream",
     "text": [
      "[03:51:11] type: train epoch 270: 100%|██████████| 2194/2194 [15:12<00:00,  2.41it/s]\n",
      "[04:06:24] type: valid epoch 270:   0%|          | 1/243 [00:00<00:32,  7.50it/s]"
     ]
    },
    {
     "name": "stdout",
     "output_type": "stream",
     "text": [
      "avg_loss: 1.2330 | avg_acc: 0.5122\n"
     ]
    },
    {
     "name": "stderr",
     "output_type": "stream",
     "text": [
      "[04:06:24] type: valid epoch 270: 100%|██████████| 243/243 [00:33<00:00,  7.34it/s]\n"
     ]
    },
    {
     "name": "stdout",
     "output_type": "stream",
     "text": [
      "avg_loss: 1.2606 | avg_acc: 0.5001\n",
      "******** New optimal found, saving state ********\n"
     ]
    },
    {
     "name": "stderr",
     "output_type": "stream",
     "text": [
      "[04:07:05] type: train epoch 271:   0%|          | 0/2194 [00:00<?, ?it/s]"
     ]
    },
    {
     "name": "stdout",
     "output_type": "stream",
     "text": [
      "\n"
     ]
    },
    {
     "name": "stderr",
     "output_type": "stream",
     "text": [
      "[04:07:05] type: train epoch 271: 100%|██████████| 2194/2194 [15:10<00:00,  2.41it/s]\n",
      "[04:22:15] type: valid epoch 271:   0%|          | 1/243 [00:00<00:31,  7.69it/s]"
     ]
    },
    {
     "name": "stdout",
     "output_type": "stream",
     "text": [
      "avg_loss: 1.2344 | avg_acc: 0.5118\n"
     ]
    },
    {
     "name": "stderr",
     "output_type": "stream",
     "text": [
      "[04:22:15] type: valid epoch 271: 100%|██████████| 243/243 [00:33<00:00,  7.36it/s]\n",
      "[04:22:48] type: train epoch 272:   0%|          | 0/2194 [00:00<?, ?it/s]"
     ]
    },
    {
     "name": "stdout",
     "output_type": "stream",
     "text": [
      "avg_loss: 1.2627 | avg_acc: 0.5006\n",
      "\n"
     ]
    },
    {
     "name": "stderr",
     "output_type": "stream",
     "text": [
      "[04:22:48] type: train epoch 272: 100%|██████████| 2194/2194 [15:07<00:00,  2.42it/s]\n",
      "[04:37:57] type: valid epoch 272:   0%|          | 1/243 [00:00<00:32,  7.56it/s]"
     ]
    },
    {
     "name": "stdout",
     "output_type": "stream",
     "text": [
      "avg_loss: 1.2335 | avg_acc: 0.5123\n"
     ]
    },
    {
     "name": "stderr",
     "output_type": "stream",
     "text": [
      "[04:37:57] type: valid epoch 272: 100%|██████████| 243/243 [00:32<00:00,  7.36it/s]\n",
      "[04:38:30] type: train epoch 273:   0%|          | 0/2194 [00:00<?, ?it/s]"
     ]
    },
    {
     "name": "stdout",
     "output_type": "stream",
     "text": [
      "avg_loss: 1.2608 | avg_acc: 0.5005\n",
      "\n"
     ]
    },
    {
     "name": "stderr",
     "output_type": "stream",
     "text": [
      "[04:38:30] type: train epoch 273: 100%|██████████| 2194/2194 [15:05<00:00,  2.42it/s]\n",
      "[04:53:36] type: valid epoch 273:   0%|          | 1/243 [00:00<00:32,  7.43it/s]"
     ]
    },
    {
     "name": "stdout",
     "output_type": "stream",
     "text": [
      "avg_loss: 1.2335 | avg_acc: 0.5124\n"
     ]
    },
    {
     "name": "stderr",
     "output_type": "stream",
     "text": [
      "[04:53:36] type: valid epoch 273: 100%|██████████| 243/243 [00:32<00:00,  7.38it/s]\n",
      "[04:54:09] type: train epoch 274:   0%|          | 0/2194 [00:00<?, ?it/s]"
     ]
    },
    {
     "name": "stdout",
     "output_type": "stream",
     "text": [
      "avg_loss: 1.2620 | avg_acc: 0.4997\n",
      "\n"
     ]
    },
    {
     "name": "stderr",
     "output_type": "stream",
     "text": [
      "[04:54:09] type: train epoch 274: 100%|██████████| 2194/2194 [15:05<00:00,  2.42it/s]\n",
      "[05:09:15] type: valid epoch 274:   0%|          | 1/243 [00:00<00:31,  7.62it/s]"
     ]
    },
    {
     "name": "stdout",
     "output_type": "stream",
     "text": [
      "avg_loss: 1.2339 | avg_acc: 0.5118\n"
     ]
    },
    {
     "name": "stderr",
     "output_type": "stream",
     "text": [
      "[05:09:15] type: valid epoch 274: 100%|██████████| 243/243 [00:33<00:00,  7.36it/s]\n",
      "[05:09:48] type: train epoch 275:   0%|          | 0/2194 [00:00<?, ?it/s]"
     ]
    },
    {
     "name": "stdout",
     "output_type": "stream",
     "text": [
      "avg_loss: 1.2629 | avg_acc: 0.5004\n",
      "\n"
     ]
    },
    {
     "name": "stderr",
     "output_type": "stream",
     "text": [
      "[05:09:48] type: train epoch 275: 100%|██████████| 2194/2194 [15:03<00:00,  2.43it/s]\n",
      "[05:24:53] type: valid epoch 275:   0%|          | 1/243 [00:00<00:32,  7.49it/s]"
     ]
    },
    {
     "name": "stdout",
     "output_type": "stream",
     "text": [
      "avg_loss: 1.2333 | avg_acc: 0.5119\n"
     ]
    },
    {
     "name": "stderr",
     "output_type": "stream",
     "text": [
      "[05:24:53] type: valid epoch 275: 100%|██████████| 243/243 [00:33<00:00,  7.35it/s]\n",
      "[05:25:26] type: train epoch 276:   0%|          | 0/2194 [00:00<?, ?it/s]"
     ]
    },
    {
     "name": "stdout",
     "output_type": "stream",
     "text": [
      "avg_loss: 1.2654 | avg_acc: 0.5000\n",
      "\n"
     ]
    },
    {
     "name": "stderr",
     "output_type": "stream",
     "text": [
      "[05:25:26] type: train epoch 276: 100%|██████████| 2194/2194 [15:04<00:00,  2.43it/s]\n",
      "[05:40:31] type: valid epoch 276:   0%|          | 1/243 [00:00<00:33,  7.17it/s]"
     ]
    },
    {
     "name": "stdout",
     "output_type": "stream",
     "text": [
      "avg_loss: 1.2337 | avg_acc: 0.5120\n"
     ]
    },
    {
     "name": "stderr",
     "output_type": "stream",
     "text": [
      "[05:40:31] type: valid epoch 276: 100%|██████████| 243/243 [00:32<00:00,  7.37it/s]\n",
      "[05:41:04] type: train epoch 277:   0%|          | 0/2194 [00:00<?, ?it/s]"
     ]
    },
    {
     "name": "stdout",
     "output_type": "stream",
     "text": [
      "avg_loss: 1.2664 | avg_acc: 0.5003\n",
      "\n"
     ]
    },
    {
     "name": "stderr",
     "output_type": "stream",
     "text": [
      "[05:41:04] type: train epoch 277: 100%|██████████| 2194/2194 [15:06<00:00,  2.42it/s]\n",
      "[05:56:11] type: valid epoch 277:   0%|          | 1/243 [00:00<00:32,  7.54it/s]"
     ]
    },
    {
     "name": "stdout",
     "output_type": "stream",
     "text": [
      "avg_loss: 1.2337 | avg_acc: 0.5117\n"
     ]
    },
    {
     "name": "stderr",
     "output_type": "stream",
     "text": [
      "[05:56:11] type: valid epoch 277: 100%|██████████| 243/243 [00:33<00:00,  7.34it/s]\n",
      "[05:56:44] type: train epoch 278:   0%|          | 0/2194 [00:00<?, ?it/s]"
     ]
    },
    {
     "name": "stdout",
     "output_type": "stream",
     "text": [
      "avg_loss: 1.2637 | avg_acc: 0.4997\n",
      "\n"
     ]
    },
    {
     "name": "stderr",
     "output_type": "stream",
     "text": [
      "[05:56:44] type: train epoch 278: 100%|██████████| 2194/2194 [15:05<00:00,  2.42it/s]\n",
      "[06:11:50] type: valid epoch 278:   0%|          | 1/243 [00:00<00:32,  7.53it/s]"
     ]
    },
    {
     "name": "stdout",
     "output_type": "stream",
     "text": [
      "avg_loss: 1.2332 | avg_acc: 0.5117\n"
     ]
    },
    {
     "name": "stderr",
     "output_type": "stream",
     "text": [
      "[06:11:50] type: valid epoch 278: 100%|██████████| 243/243 [00:32<00:00,  7.40it/s]\n",
      "[06:12:23] type: train epoch 279:   0%|          | 0/2194 [00:00<?, ?it/s]"
     ]
    },
    {
     "name": "stdout",
     "output_type": "stream",
     "text": [
      "avg_loss: 1.2639 | avg_acc: 0.5004\n",
      "\n"
     ]
    },
    {
     "name": "stderr",
     "output_type": "stream",
     "text": [
      "[06:12:23] type: train epoch 279: 100%|██████████| 2194/2194 [15:05<00:00,  2.42it/s]\n",
      "[06:27:29] type: valid epoch 279:   0%|          | 1/243 [00:00<00:31,  7.63it/s]"
     ]
    },
    {
     "name": "stdout",
     "output_type": "stream",
     "text": [
      "avg_loss: 1.2330 | avg_acc: 0.5124\n"
     ]
    },
    {
     "name": "stderr",
     "output_type": "stream",
     "text": [
      "[06:27:29] type: valid epoch 279: 100%|██████████| 243/243 [00:33<00:00,  7.35it/s]\n",
      "[06:28:02] type: train epoch 280:   0%|          | 0/2194 [00:00<?, ?it/s]"
     ]
    },
    {
     "name": "stdout",
     "output_type": "stream",
     "text": [
      "avg_loss: 1.2639 | avg_acc: 0.5001\n",
      "\n"
     ]
    },
    {
     "name": "stderr",
     "output_type": "stream",
     "text": [
      "[06:28:02] type: train epoch 280: 100%|██████████| 2194/2194 [15:07<00:00,  2.42it/s]\n",
      "[06:43:09] type: valid epoch 280:   0%|          | 1/243 [00:00<00:33,  7.16it/s]"
     ]
    },
    {
     "name": "stdout",
     "output_type": "stream",
     "text": [
      "avg_loss: 1.2332 | avg_acc: 0.5122\n"
     ]
    },
    {
     "name": "stderr",
     "output_type": "stream",
     "text": [
      "[06:43:09] type: valid epoch 280: 100%|██████████| 243/243 [00:33<00:00,  7.34it/s]\n",
      "[06:43:43] type: train epoch 281:   0%|          | 0/2194 [00:00<?, ?it/s]"
     ]
    },
    {
     "name": "stdout",
     "output_type": "stream",
     "text": [
      "avg_loss: 1.2639 | avg_acc: 0.5001\n",
      "\n"
     ]
    },
    {
     "name": "stderr",
     "output_type": "stream",
     "text": [
      "[06:43:43] type: train epoch 281: 100%|██████████| 2194/2194 [15:07<00:00,  2.42it/s]\n",
      "[06:58:51] type: valid epoch 281:   0%|          | 1/243 [00:00<00:31,  7.63it/s]"
     ]
    },
    {
     "name": "stdout",
     "output_type": "stream",
     "text": [
      "avg_loss: 1.2333 | avg_acc: 0.5117\n"
     ]
    },
    {
     "name": "stderr",
     "output_type": "stream",
     "text": [
      "[06:58:51] type: valid epoch 281: 100%|██████████| 243/243 [00:33<00:00,  7.36it/s]\n",
      "[06:59:24] type: train epoch 282:   0%|          | 0/2194 [00:00<?, ?it/s]"
     ]
    },
    {
     "name": "stdout",
     "output_type": "stream",
     "text": [
      "avg_loss: 1.2656 | avg_acc: 0.5003\n",
      "\n"
     ]
    },
    {
     "name": "stderr",
     "output_type": "stream",
     "text": [
      "[06:59:24] type: train epoch 282: 100%|██████████| 2194/2194 [15:08<00:00,  2.41it/s]\n",
      "[07:14:33] type: valid epoch 282:   0%|          | 1/243 [00:00<00:31,  7.57it/s]"
     ]
    },
    {
     "name": "stdout",
     "output_type": "stream",
     "text": [
      "avg_loss: 1.2331 | avg_acc: 0.5121\n"
     ]
    },
    {
     "name": "stderr",
     "output_type": "stream",
     "text": [
      "[07:14:33] type: valid epoch 282: 100%|██████████| 243/243 [00:33<00:00,  7.33it/s]\n",
      "[07:15:06] type: train epoch 283:   0%|          | 0/2194 [00:00<?, ?it/s]"
     ]
    },
    {
     "name": "stdout",
     "output_type": "stream",
     "text": [
      "avg_loss: 1.2668 | avg_acc: 0.5000\n",
      "\n"
     ]
    },
    {
     "name": "stderr",
     "output_type": "stream",
     "text": [
      "[07:15:06] type: train epoch 283: 100%|██████████| 2194/2194 [15:08<00:00,  2.41it/s]\n",
      "[07:30:16] type: valid epoch 283:   0%|          | 1/243 [00:00<00:31,  7.61it/s]"
     ]
    },
    {
     "name": "stdout",
     "output_type": "stream",
     "text": [
      "avg_loss: 1.2335 | avg_acc: 0.5114\n"
     ]
    },
    {
     "name": "stderr",
     "output_type": "stream",
     "text": [
      "[07:30:16] type: valid epoch 283: 100%|██████████| 243/243 [00:33<00:00,  7.33it/s]\n",
      "[07:30:49] type: train epoch 284:   0%|          | 0/2194 [00:00<?, ?it/s]"
     ]
    },
    {
     "name": "stdout",
     "output_type": "stream",
     "text": [
      "avg_loss: 1.2674 | avg_acc: 0.5005\n",
      "\n"
     ]
    },
    {
     "name": "stderr",
     "output_type": "stream",
     "text": [
      "[07:30:49] type: train epoch 284: 100%|██████████| 2194/2194 [15:08<00:00,  2.41it/s]\n",
      "[07:45:58] type: valid epoch 284:   0%|          | 1/243 [00:00<00:35,  6.91it/s]"
     ]
    },
    {
     "name": "stdout",
     "output_type": "stream",
     "text": [
      "avg_loss: 1.2328 | avg_acc: 0.5120\n"
     ]
    },
    {
     "name": "stderr",
     "output_type": "stream",
     "text": [
      "[07:45:58] type: valid epoch 284: 100%|██████████| 243/243 [00:33<00:00,  7.33it/s]\n",
      "[07:46:31] type: train epoch 285:   0%|          | 0/2194 [00:00<?, ?it/s]"
     ]
    },
    {
     "name": "stdout",
     "output_type": "stream",
     "text": [
      "avg_loss: 1.2671 | avg_acc: 0.4999\n",
      "\n"
     ]
    },
    {
     "name": "stderr",
     "output_type": "stream",
     "text": [
      "[07:46:31] type: train epoch 285: 100%|██████████| 2194/2194 [15:12<00:00,  2.40it/s]\n",
      "[08:01:44] type: valid epoch 285:   0%|          | 1/243 [00:00<00:32,  7.48it/s]"
     ]
    },
    {
     "name": "stdout",
     "output_type": "stream",
     "text": [
      "avg_loss: 1.2329 | avg_acc: 0.5116\n"
     ]
    },
    {
     "name": "stderr",
     "output_type": "stream",
     "text": [
      "[08:01:44] type: valid epoch 285: 100%|██████████| 243/243 [00:33<00:00,  7.31it/s]\n",
      "[08:02:18] type: train epoch 286:   0%|          | 0/2194 [00:00<?, ?it/s]"
     ]
    },
    {
     "name": "stdout",
     "output_type": "stream",
     "text": [
      "avg_loss: 1.2662 | avg_acc: 0.5003\n",
      "\n"
     ]
    },
    {
     "name": "stderr",
     "output_type": "stream",
     "text": [
      "[08:02:18] type: train epoch 286: 100%|██████████| 2194/2194 [15:11<00:00,  2.41it/s]\n",
      "[08:17:30] type: valid epoch 286:   0%|          | 0/243 [00:00<?, ?it/s]"
     ]
    },
    {
     "name": "stdout",
     "output_type": "stream",
     "text": [
      "avg_loss: 1.2337 | avg_acc: 0.5115\n"
     ]
    },
    {
     "name": "stderr",
     "output_type": "stream",
     "text": [
      "[08:17:30] type: valid epoch 286: 100%|██████████| 243/243 [00:33<00:00,  7.30it/s]\n",
      "[08:18:04] type: train epoch 287:   0%|          | 0/2194 [00:00<?, ?it/s]"
     ]
    },
    {
     "name": "stdout",
     "output_type": "stream",
     "text": [
      "avg_loss: 1.2644 | avg_acc: 0.5000\n",
      "\n"
     ]
    },
    {
     "name": "stderr",
     "output_type": "stream",
     "text": [
      "[08:18:04] type: train epoch 287: 100%|██████████| 2194/2194 [15:10<00:00,  2.41it/s]\n",
      "[08:33:14] type: valid epoch 287:   0%|          | 1/243 [00:00<00:32,  7.51it/s]"
     ]
    },
    {
     "name": "stdout",
     "output_type": "stream",
     "text": [
      "avg_loss: 1.2332 | avg_acc: 0.5119\n"
     ]
    },
    {
     "name": "stderr",
     "output_type": "stream",
     "text": [
      "[08:33:14] type: valid epoch 287: 100%|██████████| 243/243 [00:33<00:00,  7.35it/s]\n",
      "[08:33:47] type: train epoch 288:   0%|          | 0/2194 [00:00<?, ?it/s]"
     ]
    },
    {
     "name": "stdout",
     "output_type": "stream",
     "text": [
      "avg_loss: 1.2645 | avg_acc: 0.5003\n",
      "\n"
     ]
    },
    {
     "name": "stderr",
     "output_type": "stream",
     "text": [
      "[08:33:47] type: train epoch 288: 100%|██████████| 2194/2194 [15:07<00:00,  2.42it/s]\n",
      "[08:48:55] type: valid epoch 288:   0%|          | 1/243 [00:00<00:31,  7.57it/s]"
     ]
    },
    {
     "name": "stdout",
     "output_type": "stream",
     "text": [
      "avg_loss: 1.2334 | avg_acc: 0.5120\n"
     ]
    },
    {
     "name": "stderr",
     "output_type": "stream",
     "text": [
      "[08:48:55] type: valid epoch 288: 100%|██████████| 243/243 [00:33<00:00,  7.35it/s]\n",
      "[08:49:28] type: train epoch 289:   0%|          | 0/2194 [00:00<?, ?it/s]"
     ]
    },
    {
     "name": "stdout",
     "output_type": "stream",
     "text": [
      "avg_loss: 1.2658 | avg_acc: 0.5000\n",
      "\n"
     ]
    },
    {
     "name": "stderr",
     "output_type": "stream",
     "text": [
      "[08:49:28] type: train epoch 289: 100%|██████████| 2194/2194 [15:06<00:00,  2.42it/s]\n",
      "[09:04:36] type: valid epoch 289:   0%|          | 1/243 [00:00<00:31,  7.58it/s]"
     ]
    },
    {
     "name": "stdout",
     "output_type": "stream",
     "text": [
      "avg_loss: 1.2332 | avg_acc: 0.5119\n"
     ]
    },
    {
     "name": "stderr",
     "output_type": "stream",
     "text": [
      "[09:04:36] type: valid epoch 289: 100%|██████████| 243/243 [00:33<00:00,  7.35it/s]\n",
      "[09:05:09] type: train epoch 290:   0%|          | 0/2194 [00:00<?, ?it/s]"
     ]
    },
    {
     "name": "stdout",
     "output_type": "stream",
     "text": [
      "avg_loss: 1.2635 | avg_acc: 0.5002\n",
      "\n"
     ]
    },
    {
     "name": "stderr",
     "output_type": "stream",
     "text": [
      "[09:05:09] type: train epoch 290: 100%|██████████| 2194/2194 [15:07<00:00,  2.42it/s]\n",
      "[09:20:17] type: valid epoch 290:   0%|          | 1/243 [00:00<00:32,  7.39it/s]"
     ]
    },
    {
     "name": "stdout",
     "output_type": "stream",
     "text": [
      "avg_loss: 1.2329 | avg_acc: 0.5123\n"
     ]
    },
    {
     "name": "stderr",
     "output_type": "stream",
     "text": [
      "[09:20:17] type: valid epoch 290: 100%|██████████| 243/243 [00:33<00:00,  7.35it/s]\n",
      "[09:20:50] type: train epoch 291:   0%|          | 0/2194 [00:00<?, ?it/s]"
     ]
    },
    {
     "name": "stdout",
     "output_type": "stream",
     "text": [
      "avg_loss: 1.2642 | avg_acc: 0.5003\n",
      "\n"
     ]
    },
    {
     "name": "stderr",
     "output_type": "stream",
     "text": [
      "[09:20:50] type: train epoch 291: 100%|██████████| 2194/2194 [15:08<00:00,  2.41it/s]\n",
      "[09:35:59] type: valid epoch 291:   0%|          | 1/243 [00:00<00:34,  6.95it/s]"
     ]
    },
    {
     "name": "stdout",
     "output_type": "stream",
     "text": [
      "avg_loss: 1.2329 | avg_acc: 0.5121\n"
     ]
    },
    {
     "name": "stderr",
     "output_type": "stream",
     "text": [
      "[09:35:59] type: valid epoch 291: 100%|██████████| 243/243 [00:33<00:00,  7.34it/s]\n",
      "[09:36:32] type: train epoch 292:   0%|          | 0/2194 [00:00<?, ?it/s]"
     ]
    },
    {
     "name": "stdout",
     "output_type": "stream",
     "text": [
      "avg_loss: 1.2646 | avg_acc: 0.5002\n",
      "\n"
     ]
    },
    {
     "name": "stderr",
     "output_type": "stream",
     "text": [
      "[09:36:32] type: train epoch 292: 100%|██████████| 2194/2194 [15:10<00:00,  2.41it/s]\n",
      "[09:51:43] type: valid epoch 292:   0%|          | 1/243 [00:00<00:33,  7.21it/s]"
     ]
    },
    {
     "name": "stdout",
     "output_type": "stream",
     "text": [
      "avg_loss: 1.2326 | avg_acc: 0.5127\n"
     ]
    },
    {
     "name": "stderr",
     "output_type": "stream",
     "text": [
      "[09:51:43] type: valid epoch 292: 100%|██████████| 243/243 [00:33<00:00,  7.34it/s]\n",
      "[09:52:16] type: train epoch 293:   0%|          | 0/2194 [00:00<?, ?it/s]"
     ]
    },
    {
     "name": "stdout",
     "output_type": "stream",
     "text": [
      "avg_loss: 1.2613 | avg_acc: 0.5002\n",
      "\n"
     ]
    },
    {
     "name": "stderr",
     "output_type": "stream",
     "text": [
      "[09:52:16] type: train epoch 293: 100%|██████████| 2194/2194 [15:08<00:00,  2.42it/s]\n",
      "[10:07:25] type: valid epoch 293:   0%|          | 1/243 [00:00<00:32,  7.47it/s]"
     ]
    },
    {
     "name": "stdout",
     "output_type": "stream",
     "text": [
      "avg_loss: 1.2323 | avg_acc: 0.5123\n"
     ]
    },
    {
     "name": "stderr",
     "output_type": "stream",
     "text": [
      "[10:07:25] type: valid epoch 293: 100%|██████████| 243/243 [00:32<00:00,  7.37it/s]\n",
      "[10:07:58] type: train epoch 294:   0%|          | 0/2194 [00:00<?, ?it/s]"
     ]
    },
    {
     "name": "stdout",
     "output_type": "stream",
     "text": [
      "avg_loss: 1.2616 | avg_acc: 0.5001\n",
      "\n"
     ]
    },
    {
     "name": "stderr",
     "output_type": "stream",
     "text": [
      "[10:07:58] type: train epoch 294: 100%|██████████| 2194/2194 [15:08<00:00,  2.42it/s]\n",
      "[10:23:07] type: valid epoch 294:   0%|          | 1/243 [00:00<00:32,  7.48it/s]"
     ]
    },
    {
     "name": "stdout",
     "output_type": "stream",
     "text": [
      "avg_loss: 1.2331 | avg_acc: 0.5118\n"
     ]
    },
    {
     "name": "stderr",
     "output_type": "stream",
     "text": [
      "[10:23:07] type: valid epoch 294: 100%|██████████| 243/243 [00:33<00:00,  7.36it/s]\n",
      "[10:23:40] type: train epoch 295:   0%|          | 0/2194 [00:00<?, ?it/s]"
     ]
    },
    {
     "name": "stdout",
     "output_type": "stream",
     "text": [
      "avg_loss: 1.2638 | avg_acc: 0.5004\n",
      "\n"
     ]
    },
    {
     "name": "stderr",
     "output_type": "stream",
     "text": [
      "[10:23:40] type: train epoch 295: 100%|██████████| 2194/2194 [15:08<00:00,  2.41it/s]\n",
      "[10:38:49] type: valid epoch 295:   0%|          | 1/243 [00:00<00:32,  7.52it/s]"
     ]
    },
    {
     "name": "stdout",
     "output_type": "stream",
     "text": [
      "avg_loss: 1.2334 | avg_acc: 0.5120\n"
     ]
    },
    {
     "name": "stderr",
     "output_type": "stream",
     "text": [
      "[10:38:49] type: valid epoch 295: 100%|██████████| 243/243 [00:33<00:00,  7.32it/s]\n",
      "[10:39:22] type: train epoch 296:   0%|          | 0/2194 [00:00<?, ?it/s]"
     ]
    },
    {
     "name": "stdout",
     "output_type": "stream",
     "text": [
      "avg_loss: 1.2661 | avg_acc: 0.5004\n",
      "\n"
     ]
    },
    {
     "name": "stderr",
     "output_type": "stream",
     "text": [
      "[10:39:22] type: train epoch 296: 100%|██████████| 2194/2194 [15:09<00:00,  2.41it/s]\n",
      "[10:54:32] type: valid epoch 296:   0%|          | 1/243 [00:00<00:31,  7.58it/s]"
     ]
    },
    {
     "name": "stdout",
     "output_type": "stream",
     "text": [
      "avg_loss: 1.2326 | avg_acc: 0.5120\n"
     ]
    },
    {
     "name": "stderr",
     "output_type": "stream",
     "text": [
      "[10:54:32] type: valid epoch 296: 100%|██████████| 243/243 [00:33<00:00,  7.34it/s]\n",
      "[10:55:05] type: train epoch 297:   0%|          | 0/2194 [00:00<?, ?it/s]"
     ]
    },
    {
     "name": "stdout",
     "output_type": "stream",
     "text": [
      "avg_loss: 1.2715 | avg_acc: 0.5001\n",
      "\n"
     ]
    },
    {
     "name": "stderr",
     "output_type": "stream",
     "text": [
      "[10:55:05] type: train epoch 297: 100%|██████████| 2194/2194 [15:09<00:00,  2.41it/s]\n",
      "[11:10:15] type: valid epoch 297:   0%|          | 1/243 [00:00<00:32,  7.47it/s]"
     ]
    },
    {
     "name": "stdout",
     "output_type": "stream",
     "text": [
      "avg_loss: 1.2325 | avg_acc: 0.5115\n"
     ]
    },
    {
     "name": "stderr",
     "output_type": "stream",
     "text": [
      "[11:10:15] type: valid epoch 297: 100%|██████████| 243/243 [00:33<00:00,  7.35it/s]\n",
      "[11:10:48] type: train epoch 298:   0%|          | 0/2194 [00:00<?, ?it/s]"
     ]
    },
    {
     "name": "stdout",
     "output_type": "stream",
     "text": [
      "avg_loss: 1.2645 | avg_acc: 0.4999\n",
      "\n"
     ]
    },
    {
     "name": "stderr",
     "output_type": "stream",
     "text": [
      "[11:10:48] type: train epoch 298: 100%|██████████| 2194/2194 [15:08<00:00,  2.42it/s]\n",
      "[11:25:57] type: valid epoch 298:   0%|          | 1/243 [00:00<00:32,  7.54it/s]"
     ]
    },
    {
     "name": "stdout",
     "output_type": "stream",
     "text": [
      "avg_loss: 1.2316 | avg_acc: 0.5121\n"
     ]
    },
    {
     "name": "stderr",
     "output_type": "stream",
     "text": [
      "[11:25:57] type: valid epoch 298: 100%|██████████| 243/243 [00:33<00:00,  7.34it/s]\n",
      "[11:26:30] type: train epoch 299:   0%|          | 0/2194 [00:00<?, ?it/s]"
     ]
    },
    {
     "name": "stdout",
     "output_type": "stream",
     "text": [
      "avg_loss: 1.2683 | avg_acc: 0.5003\n",
      "\n"
     ]
    },
    {
     "name": "stderr",
     "output_type": "stream",
     "text": [
      "[11:26:30] type: train epoch 299: 100%|██████████| 2194/2194 [15:09<00:00,  2.41it/s]\n",
      "[11:41:40] type: valid epoch 299:   0%|          | 1/243 [00:00<00:32,  7.50it/s]"
     ]
    },
    {
     "name": "stdout",
     "output_type": "stream",
     "text": [
      "avg_loss: 1.2326 | avg_acc: 0.5123\n"
     ]
    },
    {
     "name": "stderr",
     "output_type": "stream",
     "text": [
      "[11:41:40] type: valid epoch 299: 100%|██████████| 243/243 [00:33<00:00,  7.35it/s]\n",
      "[11:42:13] type: train epoch 300:   0%|          | 0/2194 [00:00<?, ?it/s]"
     ]
    },
    {
     "name": "stdout",
     "output_type": "stream",
     "text": [
      "avg_loss: 1.2706 | avg_acc: 0.5001\n",
      "\n"
     ]
    },
    {
     "name": "stderr",
     "output_type": "stream",
     "text": [
      "[11:42:13] type: train epoch 300: 100%|██████████| 2194/2194 [15:08<00:00,  2.42it/s]\n",
      "[11:57:22] type: valid epoch 300:   0%|          | 1/243 [00:00<00:32,  7.39it/s]"
     ]
    },
    {
     "name": "stdout",
     "output_type": "stream",
     "text": [
      "avg_loss: 1.2323 | avg_acc: 0.5121\n"
     ]
    },
    {
     "name": "stderr",
     "output_type": "stream",
     "text": [
      "[11:57:22] type: valid epoch 300: 100%|██████████| 243/243 [00:33<00:00,  7.36it/s]\n",
      "[11:57:55] type: train epoch 301:   0%|          | 0/2194 [00:00<?, ?it/s]"
     ]
    },
    {
     "name": "stdout",
     "output_type": "stream",
     "text": [
      "avg_loss: 1.2714 | avg_acc: 0.5003\n",
      "\n"
     ]
    },
    {
     "name": "stderr",
     "output_type": "stream",
     "text": [
      "[11:57:55] type: train epoch 301: 100%|██████████| 2194/2194 [15:06<00:00,  2.42it/s]\n",
      "[12:13:02] type: valid epoch 301:   0%|          | 1/243 [00:00<00:32,  7.38it/s]"
     ]
    },
    {
     "name": "stdout",
     "output_type": "stream",
     "text": [
      "avg_loss: 1.2329 | avg_acc: 0.5125\n"
     ]
    },
    {
     "name": "stderr",
     "output_type": "stream",
     "text": [
      "[12:13:02] type: valid epoch 301: 100%|██████████| 243/243 [00:33<00:00,  7.35it/s]\n",
      "[12:13:35] type: train epoch 302:   0%|          | 0/2194 [00:00<?, ?it/s]"
     ]
    },
    {
     "name": "stdout",
     "output_type": "stream",
     "text": [
      "avg_loss: 1.2687 | avg_acc: 0.5005\n",
      "\n"
     ]
    },
    {
     "name": "stderr",
     "output_type": "stream",
     "text": [
      "[12:13:35] type: train epoch 302: 100%|██████████| 2194/2194 [15:09<00:00,  2.41it/s]\n",
      "[12:28:45] type: valid epoch 302:   0%|          | 1/243 [00:00<00:34,  6.93it/s]"
     ]
    },
    {
     "name": "stdout",
     "output_type": "stream",
     "text": [
      "avg_loss: 1.2329 | avg_acc: 0.5120\n"
     ]
    },
    {
     "name": "stderr",
     "output_type": "stream",
     "text": [
      "[12:28:45] type: valid epoch 302: 100%|██████████| 243/243 [00:33<00:00,  7.36it/s]\n",
      "[12:29:18] type: train epoch 303:   0%|          | 0/2194 [00:00<?, ?it/s]"
     ]
    },
    {
     "name": "stdout",
     "output_type": "stream",
     "text": [
      "avg_loss: 1.2738 | avg_acc: 0.5004\n",
      "\n"
     ]
    },
    {
     "name": "stderr",
     "output_type": "stream",
     "text": [
      "[12:29:18] type: train epoch 303: 100%|██████████| 2194/2194 [15:07<00:00,  2.42it/s]\n",
      "[12:44:26] type: valid epoch 303:   0%|          | 1/243 [00:00<00:33,  7.15it/s]"
     ]
    },
    {
     "name": "stdout",
     "output_type": "stream",
     "text": [
      "avg_loss: 1.2329 | avg_acc: 0.5122\n"
     ]
    },
    {
     "name": "stderr",
     "output_type": "stream",
     "text": [
      "[12:44:26] type: valid epoch 303: 100%|██████████| 243/243 [00:32<00:00,  7.37it/s]\n",
      "[12:44:59] type: train epoch 304:   0%|          | 0/2194 [00:00<?, ?it/s]"
     ]
    },
    {
     "name": "stdout",
     "output_type": "stream",
     "text": [
      "avg_loss: 1.2674 | avg_acc: 0.4999\n",
      "\n"
     ]
    },
    {
     "name": "stderr",
     "output_type": "stream",
     "text": [
      "[12:44:59] type: train epoch 304: 100%|██████████| 2194/2194 [15:06<00:00,  2.42it/s]\n",
      "[13:00:06] type: valid epoch 304:   0%|          | 1/243 [00:00<00:32,  7.40it/s]"
     ]
    },
    {
     "name": "stdout",
     "output_type": "stream",
     "text": [
      "avg_loss: 1.2321 | avg_acc: 0.5122\n"
     ]
    },
    {
     "name": "stderr",
     "output_type": "stream",
     "text": [
      "[13:00:06] type: valid epoch 304: 100%|██████████| 243/243 [00:33<00:00,  7.33it/s]\n",
      "[13:00:40] type: train epoch 305:   0%|          | 0/2194 [00:00<?, ?it/s]"
     ]
    },
    {
     "name": "stdout",
     "output_type": "stream",
     "text": [
      "avg_loss: 1.2694 | avg_acc: 0.5002\n",
      "\n"
     ]
    },
    {
     "name": "stderr",
     "output_type": "stream",
     "text": [
      "[13:00:40] type: train epoch 305: 100%|██████████| 2194/2194 [15:05<00:00,  2.42it/s]\n",
      "[13:15:46] type: valid epoch 305:   0%|          | 1/243 [00:00<00:31,  7.56it/s]"
     ]
    },
    {
     "name": "stdout",
     "output_type": "stream",
     "text": [
      "avg_loss: 1.2326 | avg_acc: 0.5120\n"
     ]
    },
    {
     "name": "stderr",
     "output_type": "stream",
     "text": [
      "[13:15:46] type: valid epoch 305: 100%|██████████| 243/243 [00:33<00:00,  7.36it/s]\n",
      "[13:16:19] type: train epoch 306:   0%|          | 0/2194 [00:00<?, ?it/s]"
     ]
    },
    {
     "name": "stdout",
     "output_type": "stream",
     "text": [
      "avg_loss: 1.2677 | avg_acc: 0.5003\n",
      "\n"
     ]
    },
    {
     "name": "stderr",
     "output_type": "stream",
     "text": [
      "[13:16:19] type: train epoch 306: 100%|██████████| 2194/2194 [15:06<00:00,  2.42it/s]\n",
      "[13:31:26] type: valid epoch 306:   0%|          | 1/243 [00:00<00:33,  7.33it/s]"
     ]
    },
    {
     "name": "stdout",
     "output_type": "stream",
     "text": [
      "avg_loss: 1.2325 | avg_acc: 0.5122\n"
     ]
    },
    {
     "name": "stderr",
     "output_type": "stream",
     "text": [
      "[13:31:26] type: valid epoch 306: 100%|██████████| 243/243 [00:32<00:00,  7.39it/s]\n",
      "[13:31:59] type: train epoch 307:   0%|          | 0/2194 [00:00<?, ?it/s]"
     ]
    },
    {
     "name": "stdout",
     "output_type": "stream",
     "text": [
      "avg_loss: 1.2794 | avg_acc: 0.5004\n",
      "\n"
     ]
    },
    {
     "name": "stderr",
     "output_type": "stream",
     "text": [
      "[13:31:59] type: train epoch 307: 100%|██████████| 2194/2194 [15:07<00:00,  2.42it/s]\n",
      "[13:47:06] type: valid epoch 307:   0%|          | 1/243 [00:00<00:31,  7.61it/s]"
     ]
    },
    {
     "name": "stdout",
     "output_type": "stream",
     "text": [
      "avg_loss: 1.2325 | avg_acc: 0.5113\n"
     ]
    },
    {
     "name": "stderr",
     "output_type": "stream",
     "text": [
      "[13:47:06] type: valid epoch 307: 100%|██████████| 243/243 [00:33<00:00,  7.31it/s]\n",
      "[13:47:40] type: train epoch 308:   0%|          | 0/2194 [00:00<?, ?it/s]"
     ]
    },
    {
     "name": "stdout",
     "output_type": "stream",
     "text": [
      "avg_loss: 1.2702 | avg_acc: 0.4999\n",
      "\n"
     ]
    },
    {
     "name": "stderr",
     "output_type": "stream",
     "text": [
      "[13:47:40] type: train epoch 308: 100%|██████████| 2194/2194 [15:10<00:00,  2.41it/s]\n",
      "[14:02:51] type: valid epoch 308:   0%|          | 1/243 [00:00<00:31,  7.59it/s]"
     ]
    },
    {
     "name": "stdout",
     "output_type": "stream",
     "text": [
      "avg_loss: 1.2322 | avg_acc: 0.5119\n"
     ]
    },
    {
     "name": "stderr",
     "output_type": "stream",
     "text": [
      "[14:02:51] type: valid epoch 308: 100%|██████████| 243/243 [00:33<00:00,  7.34it/s]\n",
      "[14:03:24] type: train epoch 309:   0%|          | 0/2194 [00:00<?, ?it/s]"
     ]
    },
    {
     "name": "stdout",
     "output_type": "stream",
     "text": [
      "avg_loss: 1.2674 | avg_acc: 0.4999\n",
      "\n"
     ]
    },
    {
     "name": "stderr",
     "output_type": "stream",
     "text": [
      "[14:03:24] type: train epoch 309: 100%|██████████| 2194/2194 [15:12<00:00,  2.41it/s]\n",
      "[14:18:37] type: valid epoch 309:   0%|          | 1/243 [00:00<00:32,  7.51it/s]"
     ]
    },
    {
     "name": "stdout",
     "output_type": "stream",
     "text": [
      "avg_loss: 1.2330 | avg_acc: 0.5122\n"
     ]
    },
    {
     "name": "stderr",
     "output_type": "stream",
     "text": [
      "[14:18:37] type: valid epoch 309: 100%|██████████| 243/243 [00:33<00:00,  7.32it/s]\n",
      "[14:19:10] type: train epoch 310:   0%|          | 0/2194 [00:00<?, ?it/s]"
     ]
    },
    {
     "name": "stdout",
     "output_type": "stream",
     "text": [
      "avg_loss: 1.2696 | avg_acc: 0.5001\n",
      "\n"
     ]
    },
    {
     "name": "stderr",
     "output_type": "stream",
     "text": [
      "[14:19:10] type: train epoch 310: 100%|██████████| 2194/2194 [15:08<00:00,  2.41it/s]\n",
      "[14:34:19] type: valid epoch 310:   0%|          | 1/243 [00:00<00:32,  7.48it/s]"
     ]
    },
    {
     "name": "stdout",
     "output_type": "stream",
     "text": [
      "avg_loss: 1.2325 | avg_acc: 0.5122\n"
     ]
    },
    {
     "name": "stderr",
     "output_type": "stream",
     "text": [
      "[14:34:19] type: valid epoch 310: 100%|██████████| 243/243 [00:33<00:00,  7.35it/s]\n",
      "[14:34:52] type: train epoch 311:   0%|          | 0/2194 [00:00<?, ?it/s]"
     ]
    },
    {
     "name": "stdout",
     "output_type": "stream",
     "text": [
      "avg_loss: 1.2676 | avg_acc: 0.4997\n",
      "\n"
     ]
    },
    {
     "name": "stderr",
     "output_type": "stream",
     "text": [
      "[14:34:52] type: train epoch 311: 100%|██████████| 2194/2194 [15:08<00:00,  2.42it/s]\n",
      "[14:50:01] type: valid epoch 311:   0%|          | 1/243 [00:00<00:33,  7.17it/s]"
     ]
    },
    {
     "name": "stdout",
     "output_type": "stream",
     "text": [
      "avg_loss: 1.2321 | avg_acc: 0.5116\n"
     ]
    },
    {
     "name": "stderr",
     "output_type": "stream",
     "text": [
      "[14:50:01] type: valid epoch 311: 100%|██████████| 243/243 [00:33<00:00,  7.31it/s]\n",
      "[14:50:34] type: train epoch 312:   0%|          | 0/2194 [00:00<?, ?it/s]"
     ]
    },
    {
     "name": "stdout",
     "output_type": "stream",
     "text": [
      "avg_loss: 1.2715 | avg_acc: 0.5005\n",
      "\n"
     ]
    },
    {
     "name": "stderr",
     "output_type": "stream",
     "text": [
      "[14:50:34] type: train epoch 312: 100%|██████████| 2194/2194 [15:10<00:00,  2.41it/s]\n",
      "[15:05:45] type: valid epoch 312:   0%|          | 1/243 [00:00<00:32,  7.47it/s]"
     ]
    },
    {
     "name": "stdout",
     "output_type": "stream",
     "text": [
      "avg_loss: 1.2320 | avg_acc: 0.5116\n"
     ]
    },
    {
     "name": "stderr",
     "output_type": "stream",
     "text": [
      "[15:05:45] type: valid epoch 312: 100%|██████████| 243/243 [00:33<00:00,  7.32it/s]\n",
      "[15:06:18] type: train epoch 313:   0%|          | 0/2194 [00:00<?, ?it/s]"
     ]
    },
    {
     "name": "stdout",
     "output_type": "stream",
     "text": [
      "avg_loss: 1.2665 | avg_acc: 0.5005\n",
      "\n"
     ]
    },
    {
     "name": "stderr",
     "output_type": "stream",
     "text": [
      "[15:06:18] type: train epoch 313: 100%|██████████| 2194/2194 [15:09<00:00,  2.41it/s]\n",
      "[15:21:28] type: valid epoch 313:   0%|          | 1/243 [00:00<00:32,  7.52it/s]"
     ]
    },
    {
     "name": "stdout",
     "output_type": "stream",
     "text": [
      "avg_loss: 1.2325 | avg_acc: 0.5117\n"
     ]
    },
    {
     "name": "stderr",
     "output_type": "stream",
     "text": [
      "[15:21:28] type: valid epoch 313: 100%|██████████| 243/243 [00:33<00:00,  7.33it/s]\n",
      "[15:22:01] type: train epoch 314:   0%|          | 0/2194 [00:00<?, ?it/s]"
     ]
    },
    {
     "name": "stdout",
     "output_type": "stream",
     "text": [
      "avg_loss: 1.2697 | avg_acc: 0.5004\n",
      "\n"
     ]
    },
    {
     "name": "stderr",
     "output_type": "stream",
     "text": [
      "[15:22:01] type: train epoch 314: 100%|██████████| 2194/2194 [15:07<00:00,  2.42it/s]\n",
      "[15:37:09] type: valid epoch 314:   0%|          | 1/243 [00:00<00:32,  7.38it/s]"
     ]
    },
    {
     "name": "stdout",
     "output_type": "stream",
     "text": [
      "avg_loss: 1.2322 | avg_acc: 0.5121\n"
     ]
    },
    {
     "name": "stderr",
     "output_type": "stream",
     "text": [
      "[15:37:09] type: valid epoch 314: 100%|██████████| 243/243 [00:33<00:00,  7.36it/s]\n",
      "[15:37:42] type: train epoch 315:   0%|          | 0/2194 [00:00<?, ?it/s]"
     ]
    },
    {
     "name": "stdout",
     "output_type": "stream",
     "text": [
      "avg_loss: 1.2629 | avg_acc: 0.4997\n",
      "\n"
     ]
    },
    {
     "name": "stderr",
     "output_type": "stream",
     "text": [
      "[15:37:42] type: train epoch 315: 100%|██████████| 2194/2194 [15:09<00:00,  2.41it/s]\n",
      "[15:52:52] type: valid epoch 315:   0%|          | 1/243 [00:00<00:33,  7.31it/s]"
     ]
    },
    {
     "name": "stdout",
     "output_type": "stream",
     "text": [
      "avg_loss: 1.2310 | avg_acc: 0.5121\n"
     ]
    },
    {
     "name": "stderr",
     "output_type": "stream",
     "text": [
      "[15:52:52] type: valid epoch 315: 100%|██████████| 243/243 [00:33<00:00,  7.34it/s]\n",
      "[15:53:25] type: train epoch 316:   0%|          | 0/2194 [00:00<?, ?it/s]"
     ]
    },
    {
     "name": "stdout",
     "output_type": "stream",
     "text": [
      "avg_loss: 1.2659 | avg_acc: 0.5003\n",
      "\n"
     ]
    },
    {
     "name": "stderr",
     "output_type": "stream",
     "text": [
      "[15:53:25] type: train epoch 316: 100%|██████████| 2194/2194 [15:10<00:00,  2.41it/s]\n",
      "[16:08:36] type: valid epoch 316:   0%|          | 1/243 [00:00<00:34,  7.11it/s]"
     ]
    },
    {
     "name": "stdout",
     "output_type": "stream",
     "text": [
      "avg_loss: 1.2319 | avg_acc: 0.5122\n"
     ]
    },
    {
     "name": "stderr",
     "output_type": "stream",
     "text": [
      "[16:08:36] type: valid epoch 316: 100%|██████████| 243/243 [00:33<00:00,  7.33it/s]\n",
      "[16:09:10] type: train epoch 317:   0%|          | 0/2194 [00:00<?, ?it/s]"
     ]
    },
    {
     "name": "stdout",
     "output_type": "stream",
     "text": [
      "avg_loss: 1.2640 | avg_acc: 0.5003\n",
      "\n"
     ]
    },
    {
     "name": "stderr",
     "output_type": "stream",
     "text": [
      "[16:09:10] type: train epoch 317: 100%|██████████| 2194/2194 [15:08<00:00,  2.41it/s]\n",
      "[16:24:19] type: valid epoch 317:   0%|          | 1/243 [00:00<00:32,  7.36it/s]"
     ]
    },
    {
     "name": "stdout",
     "output_type": "stream",
     "text": [
      "avg_loss: 1.2319 | avg_acc: 0.5117\n"
     ]
    },
    {
     "name": "stderr",
     "output_type": "stream",
     "text": [
      "[16:24:19] type: valid epoch 317: 100%|██████████| 243/243 [00:33<00:00,  7.32it/s]\n",
      "[16:24:52] type: train epoch 318:   0%|          | 0/2194 [00:00<?, ?it/s]"
     ]
    },
    {
     "name": "stdout",
     "output_type": "stream",
     "text": [
      "avg_loss: 1.2655 | avg_acc: 0.5001\n",
      "\n"
     ]
    },
    {
     "name": "stderr",
     "output_type": "stream",
     "text": [
      "[16:24:52] type: train epoch 318: 100%|██████████| 2194/2194 [15:11<00:00,  2.41it/s]\n"
     ]
    },
    {
     "name": "stdout",
     "output_type": "stream",
     "text": [
      "avg_loss: 1.2326 | avg_acc: 0.5115\n"
     ]
    },
    {
     "name": "stderr",
     "output_type": "stream",
     "text": [
      "[16:40:04] type: valid epoch 318: 100%|██████████| 243/243 [00:33<00:00,  7.34it/s]\n",
      "[16:40:37] type: train epoch 319:   0%|          | 0/2194 [00:00<?, ?it/s]"
     ]
    },
    {
     "name": "stdout",
     "output_type": "stream",
     "text": [
      "avg_loss: 1.2627 | avg_acc: 0.4999\n",
      "\n"
     ]
    },
    {
     "name": "stderr",
     "output_type": "stream",
     "text": [
      "[16:40:37] type: train epoch 319: 100%|██████████| 2194/2194 [15:10<00:00,  2.41it/s]\n",
      "[16:55:47] type: valid epoch 319:   0%|          | 1/243 [00:00<00:33,  7.13it/s]"
     ]
    },
    {
     "name": "stdout",
     "output_type": "stream",
     "text": [
      "avg_loss: 1.2323 | avg_acc: 0.5117\n"
     ]
    },
    {
     "name": "stderr",
     "output_type": "stream",
     "text": [
      "[16:55:47] type: valid epoch 319: 100%|██████████| 243/243 [00:33<00:00,  7.32it/s]\n",
      "[16:56:21] type: train epoch 320:   0%|          | 0/2194 [00:00<?, ?it/s]"
     ]
    },
    {
     "name": "stdout",
     "output_type": "stream",
     "text": [
      "avg_loss: 1.2622 | avg_acc: 0.5005\n",
      "\n"
     ]
    },
    {
     "name": "stderr",
     "output_type": "stream",
     "text": [
      "[16:56:21] type: train epoch 320: 100%|██████████| 2194/2194 [15:08<00:00,  2.42it/s]\n",
      "[17:11:30] type: valid epoch 320:   0%|          | 1/243 [00:00<00:32,  7.48it/s]"
     ]
    },
    {
     "name": "stdout",
     "output_type": "stream",
     "text": [
      "avg_loss: 1.2323 | avg_acc: 0.5115\n"
     ]
    },
    {
     "name": "stderr",
     "output_type": "stream",
     "text": [
      "[17:11:30] type: valid epoch 320: 100%|██████████| 243/243 [00:33<00:00,  7.31it/s]\n",
      "[17:12:03] type: train epoch 321:   0%|          | 0/2194 [00:00<?, ?it/s]"
     ]
    },
    {
     "name": "stdout",
     "output_type": "stream",
     "text": [
      "avg_loss: 1.2624 | avg_acc: 0.5003\n",
      "\n"
     ]
    },
    {
     "name": "stderr",
     "output_type": "stream",
     "text": [
      "[17:12:03] type: train epoch 321: 100%|██████████| 2194/2194 [15:08<00:00,  2.42it/s]\n",
      "[17:27:12] type: valid epoch 321:   0%|          | 1/243 [00:00<00:32,  7.42it/s]"
     ]
    },
    {
     "name": "stdout",
     "output_type": "stream",
     "text": [
      "avg_loss: 1.2314 | avg_acc: 0.5120\n"
     ]
    },
    {
     "name": "stderr",
     "output_type": "stream",
     "text": [
      "[17:27:12] type: valid epoch 321: 100%|██████████| 243/243 [00:33<00:00,  7.32it/s]\n",
      "[17:27:45] type: train epoch 322:   0%|          | 0/2194 [00:00<?, ?it/s]"
     ]
    },
    {
     "name": "stdout",
     "output_type": "stream",
     "text": [
      "avg_loss: 1.2644 | avg_acc: 0.5001\n",
      "\n"
     ]
    },
    {
     "name": "stderr",
     "output_type": "stream",
     "text": [
      "[17:27:45] type: train epoch 322: 100%|██████████| 2194/2194 [15:09<00:00,  2.41it/s]\n",
      "[17:42:55] type: valid epoch 322:   0%|          | 1/243 [00:00<00:32,  7.49it/s]"
     ]
    },
    {
     "name": "stdout",
     "output_type": "stream",
     "text": [
      "avg_loss: 1.2312 | avg_acc: 0.5124\n"
     ]
    },
    {
     "name": "stderr",
     "output_type": "stream",
     "text": [
      "[17:42:55] type: valid epoch 322: 100%|██████████| 243/243 [00:33<00:00,  7.31it/s]\n",
      "[17:43:28] type: train epoch 323:   0%|          | 0/2194 [00:00<?, ?it/s]"
     ]
    },
    {
     "name": "stdout",
     "output_type": "stream",
     "text": [
      "avg_loss: 1.2612 | avg_acc: 0.5008\n",
      "\n"
     ]
    },
    {
     "name": "stderr",
     "output_type": "stream",
     "text": [
      "[17:43:28] type: train epoch 323: 100%|██████████| 2194/2194 [15:09<00:00,  2.41it/s]\n",
      "[17:58:38] type: valid epoch 323:   0%|          | 1/243 [00:00<00:33,  7.28it/s]"
     ]
    },
    {
     "name": "stdout",
     "output_type": "stream",
     "text": [
      "avg_loss: 1.2314 | avg_acc: 0.5125\n"
     ]
    },
    {
     "name": "stderr",
     "output_type": "stream",
     "text": [
      "[17:58:38] type: valid epoch 323: 100%|██████████| 243/243 [00:33<00:00,  7.33it/s]\n"
     ]
    },
    {
     "name": "stdout",
     "output_type": "stream",
     "text": [
      "avg_loss: 1.2604 | avg_acc: 0.5005\n",
      "******** New optimal found, saving state ********\n"
     ]
    },
    {
     "name": "stderr",
     "output_type": "stream",
     "text": [
      "[17:59:19] type: train epoch 324:   0%|          | 0/2194 [00:00<?, ?it/s]"
     ]
    },
    {
     "name": "stdout",
     "output_type": "stream",
     "text": [
      "\n"
     ]
    },
    {
     "name": "stderr",
     "output_type": "stream",
     "text": [
      "[17:59:19] type: train epoch 324: 100%|██████████| 2194/2194 [15:07<00:00,  2.42it/s]\n",
      "[18:14:27] type: valid epoch 324:   0%|          | 1/243 [00:00<00:32,  7.50it/s]"
     ]
    },
    {
     "name": "stdout",
     "output_type": "stream",
     "text": [
      "avg_loss: 1.2324 | avg_acc: 0.5121\n"
     ]
    },
    {
     "name": "stderr",
     "output_type": "stream",
     "text": [
      "[18:14:27] type: valid epoch 324: 100%|██████████| 243/243 [00:32<00:00,  7.37it/s]\n"
     ]
    },
    {
     "name": "stdout",
     "output_type": "stream",
     "text": [
      "avg_loss: 1.2601 | avg_acc: 0.5006\n",
      "******** New optimal found, saving state ********\n"
     ]
    },
    {
     "name": "stderr",
     "output_type": "stream",
     "text": [
      "[18:15:07] type: train epoch 325:   0%|          | 0/2194 [00:00<?, ?it/s]"
     ]
    },
    {
     "name": "stdout",
     "output_type": "stream",
     "text": [
      "\n"
     ]
    },
    {
     "name": "stderr",
     "output_type": "stream",
     "text": [
      "[18:15:07] type: train epoch 325: 100%|██████████| 2194/2194 [15:08<00:00,  2.42it/s]\n",
      "[18:30:16] type: valid epoch 325:   0%|          | 1/243 [00:00<00:32,  7.53it/s]"
     ]
    },
    {
     "name": "stdout",
     "output_type": "stream",
     "text": [
      "avg_loss: 1.2321 | avg_acc: 0.5119\n"
     ]
    },
    {
     "name": "stderr",
     "output_type": "stream",
     "text": [
      "[18:30:16] type: valid epoch 325: 100%|██████████| 243/243 [00:33<00:00,  7.34it/s]\n",
      "[18:30:49] type: train epoch 326:   0%|          | 0/2194 [00:00<?, ?it/s]"
     ]
    },
    {
     "name": "stdout",
     "output_type": "stream",
     "text": [
      "avg_loss: 1.2665 | avg_acc: 0.5003\n",
      "\n"
     ]
    },
    {
     "name": "stderr",
     "output_type": "stream",
     "text": [
      "[18:30:49] type: train epoch 326: 100%|██████████| 2194/2194 [15:08<00:00,  2.41it/s]\n",
      "[18:45:58] type: valid epoch 326:   0%|          | 1/243 [00:00<00:37,  6.46it/s]"
     ]
    },
    {
     "name": "stdout",
     "output_type": "stream",
     "text": [
      "avg_loss: 1.2314 | avg_acc: 0.5119\n"
     ]
    },
    {
     "name": "stderr",
     "output_type": "stream",
     "text": [
      "[18:45:58] type: valid epoch 326: 100%|██████████| 243/243 [00:33<00:00,  7.32it/s]\n",
      "[18:46:31] type: train epoch 327:   0%|          | 0/2194 [00:00<?, ?it/s]"
     ]
    },
    {
     "name": "stdout",
     "output_type": "stream",
     "text": [
      "avg_loss: 1.2693 | avg_acc: 0.5000\n",
      "\n"
     ]
    },
    {
     "name": "stderr",
     "output_type": "stream",
     "text": [
      "[18:46:31] type: train epoch 327: 100%|██████████| 2194/2194 [15:07<00:00,  2.42it/s]\n",
      "[19:01:39] type: valid epoch 327:   0%|          | 1/243 [00:00<00:33,  7.23it/s]"
     ]
    },
    {
     "name": "stdout",
     "output_type": "stream",
     "text": [
      "avg_loss: 1.2326 | avg_acc: 0.5121\n"
     ]
    },
    {
     "name": "stderr",
     "output_type": "stream",
     "text": [
      "[19:01:39] type: valid epoch 327: 100%|██████████| 243/243 [00:33<00:00,  7.35it/s]\n",
      "[19:02:12] type: train epoch 328:   0%|          | 0/2194 [00:00<?, ?it/s]"
     ]
    },
    {
     "name": "stdout",
     "output_type": "stream",
     "text": [
      "avg_loss: 1.2624 | avg_acc: 0.4999\n",
      "\n"
     ]
    },
    {
     "name": "stderr",
     "output_type": "stream",
     "text": [
      "[19:02:12] type: train epoch 328: 100%|██████████| 2194/2194 [15:06<00:00,  2.42it/s]\n",
      "[19:17:19] type: valid epoch 328:   0%|          | 1/243 [00:00<00:31,  7.60it/s]"
     ]
    },
    {
     "name": "stdout",
     "output_type": "stream",
     "text": [
      "avg_loss: 1.2320 | avg_acc: 0.5115\n"
     ]
    },
    {
     "name": "stderr",
     "output_type": "stream",
     "text": [
      "[19:17:19] type: valid epoch 328: 100%|██████████| 243/243 [00:33<00:00,  7.36it/s]\n",
      "[19:17:52] type: train epoch 329:   0%|          | 0/2194 [00:00<?, ?it/s]"
     ]
    },
    {
     "name": "stdout",
     "output_type": "stream",
     "text": [
      "avg_loss: 1.2642 | avg_acc: 0.4999\n",
      "\n"
     ]
    },
    {
     "name": "stderr",
     "output_type": "stream",
     "text": [
      "[19:17:52] type: train epoch 329: 100%|██████████| 2194/2194 [15:05<00:00,  2.42it/s]\n",
      "[19:32:58] type: valid epoch 329:   0%|          | 1/243 [00:00<00:32,  7.39it/s]"
     ]
    },
    {
     "name": "stdout",
     "output_type": "stream",
     "text": [
      "avg_loss: 1.2317 | avg_acc: 0.5125\n"
     ]
    },
    {
     "name": "stderr",
     "output_type": "stream",
     "text": [
      "[19:32:58] type: valid epoch 329: 100%|██████████| 243/243 [00:32<00:00,  7.37it/s]\n",
      "[19:33:31] type: train epoch 330:   0%|          | 0/2194 [00:00<?, ?it/s]"
     ]
    },
    {
     "name": "stdout",
     "output_type": "stream",
     "text": [
      "avg_loss: 1.2678 | avg_acc: 0.5005\n",
      "\n"
     ]
    },
    {
     "name": "stderr",
     "output_type": "stream",
     "text": [
      "[19:33:31] type: train epoch 330: 100%|██████████| 2194/2194 [15:05<00:00,  2.42it/s]\n",
      "[19:48:37] type: valid epoch 330:   0%|          | 1/243 [00:00<00:32,  7.39it/s]"
     ]
    },
    {
     "name": "stdout",
     "output_type": "stream",
     "text": [
      "avg_loss: 1.2315 | avg_acc: 0.5121\n"
     ]
    },
    {
     "name": "stderr",
     "output_type": "stream",
     "text": [
      "[19:48:37] type: valid epoch 330: 100%|██████████| 243/243 [00:33<00:00,  7.34it/s]\n",
      "[19:49:11] type: train epoch 331:   0%|          | 0/2194 [00:00<?, ?it/s]"
     ]
    },
    {
     "name": "stdout",
     "output_type": "stream",
     "text": [
      "avg_loss: 1.2622 | avg_acc: 0.5000\n",
      "\n"
     ]
    },
    {
     "name": "stderr",
     "output_type": "stream",
     "text": [
      "[19:49:11] type: train epoch 331: 100%|██████████| 2194/2194 [15:05<00:00,  2.42it/s]\n",
      "[20:04:17] type: valid epoch 331:   0%|          | 1/243 [00:00<00:31,  7.68it/s]"
     ]
    },
    {
     "name": "stdout",
     "output_type": "stream",
     "text": [
      "avg_loss: 1.2323 | avg_acc: 0.5119\n"
     ]
    },
    {
     "name": "stderr",
     "output_type": "stream",
     "text": [
      "[20:04:17] type: valid epoch 331: 100%|██████████| 243/243 [00:33<00:00,  7.34it/s]\n",
      "[20:04:50] type: train epoch 332:   0%|          | 0/2194 [00:00<?, ?it/s]"
     ]
    },
    {
     "name": "stdout",
     "output_type": "stream",
     "text": [
      "avg_loss: 1.2741 | avg_acc: 0.5001\n",
      "\n"
     ]
    },
    {
     "name": "stderr",
     "output_type": "stream",
     "text": [
      "[20:04:50] type: train epoch 332: 100%|██████████| 2194/2194 [15:07<00:00,  2.42it/s]\n",
      "[20:19:58] type: valid epoch 332:   0%|          | 1/243 [00:00<00:35,  6.79it/s]"
     ]
    },
    {
     "name": "stdout",
     "output_type": "stream",
     "text": [
      "avg_loss: 1.2315 | avg_acc: 0.5121\n"
     ]
    },
    {
     "name": "stderr",
     "output_type": "stream",
     "text": [
      "[20:19:58] type: valid epoch 332: 100%|██████████| 243/243 [00:32<00:00,  7.37it/s]\n",
      "[20:20:31] type: train epoch 333:   0%|          | 0/2194 [00:00<?, ?it/s]"
     ]
    },
    {
     "name": "stdout",
     "output_type": "stream",
     "text": [
      "avg_loss: 1.2646 | avg_acc: 0.5002\n",
      "\n"
     ]
    },
    {
     "name": "stderr",
     "output_type": "stream",
     "text": [
      "[20:20:31] type: train epoch 333: 100%|██████████| 2194/2194 [15:06<00:00,  2.42it/s]\n",
      "[20:35:37] type: valid epoch 333:   0%|          | 1/243 [00:00<00:32,  7.46it/s]"
     ]
    },
    {
     "name": "stdout",
     "output_type": "stream",
     "text": [
      "avg_loss: 1.2318 | avg_acc: 0.5117\n"
     ]
    },
    {
     "name": "stderr",
     "output_type": "stream",
     "text": [
      "[20:35:37] type: valid epoch 333: 100%|██████████| 243/243 [00:33<00:00,  7.35it/s]\n",
      "[20:36:11] type: train epoch 334:   0%|          | 0/2194 [00:00<?, ?it/s]"
     ]
    },
    {
     "name": "stdout",
     "output_type": "stream",
     "text": [
      "avg_loss: 1.2614 | avg_acc: 0.5001\n",
      "\n"
     ]
    },
    {
     "name": "stderr",
     "output_type": "stream",
     "text": [
      "[20:36:11] type: train epoch 334: 100%|██████████| 2194/2194 [15:06<00:00,  2.42it/s]\n",
      "[20:51:17] type: valid epoch 334:   0%|          | 1/243 [00:00<00:31,  7.62it/s]"
     ]
    },
    {
     "name": "stdout",
     "output_type": "stream",
     "text": [
      "avg_loss: 1.2305 | avg_acc: 0.5127\n"
     ]
    },
    {
     "name": "stderr",
     "output_type": "stream",
     "text": [
      "[20:51:17] type: valid epoch 334: 100%|██████████| 243/243 [00:32<00:00,  7.39it/s]\n",
      "[20:51:50] type: train epoch 335:   0%|          | 0/2194 [00:00<?, ?it/s]"
     ]
    },
    {
     "name": "stdout",
     "output_type": "stream",
     "text": [
      "avg_loss: 1.2647 | avg_acc: 0.5001\n",
      "\n"
     ]
    },
    {
     "name": "stderr",
     "output_type": "stream",
     "text": [
      "[20:51:50] type: train epoch 335: 100%|██████████| 2194/2194 [15:08<00:00,  2.41it/s]\n",
      "[21:07:00] type: valid epoch 335:   0%|          | 1/243 [00:00<00:32,  7.49it/s]"
     ]
    },
    {
     "name": "stdout",
     "output_type": "stream",
     "text": [
      "avg_loss: 1.2323 | avg_acc: 0.5123\n"
     ]
    },
    {
     "name": "stderr",
     "output_type": "stream",
     "text": [
      "[21:07:00] type: valid epoch 335: 100%|██████████| 243/243 [00:33<00:00,  7.32it/s]\n",
      "[21:07:33] type: train epoch 336:   0%|          | 0/2194 [00:00<?, ?it/s]"
     ]
    },
    {
     "name": "stdout",
     "output_type": "stream",
     "text": [
      "avg_loss: 1.2674 | avg_acc: 0.4999\n",
      "\n"
     ]
    },
    {
     "name": "stderr",
     "output_type": "stream",
     "text": [
      "[21:07:33] type: train epoch 336: 100%|██████████| 2194/2194 [15:09<00:00,  2.41it/s]\n",
      "[21:22:43] type: valid epoch 336:   0%|          | 0/243 [00:00<?, ?it/s]"
     ]
    },
    {
     "name": "stdout",
     "output_type": "stream",
     "text": [
      "avg_loss: 1.2315 | avg_acc: 0.5114\n"
     ]
    },
    {
     "name": "stderr",
     "output_type": "stream",
     "text": [
      "[21:22:43] type: valid epoch 336: 100%|██████████| 243/243 [00:33<00:00,  7.33it/s]\n",
      "[21:23:17] type: train epoch 337:   0%|          | 0/2194 [00:00<?, ?it/s]"
     ]
    },
    {
     "name": "stdout",
     "output_type": "stream",
     "text": [
      "avg_loss: 1.2640 | avg_acc: 0.5003\n",
      "\n"
     ]
    },
    {
     "name": "stderr",
     "output_type": "stream",
     "text": [
      "[21:23:17] type: train epoch 337: 100%|██████████| 2194/2194 [15:10<00:00,  2.41it/s]\n",
      "[21:38:27] type: valid epoch 337:   0%|          | 1/243 [00:00<00:31,  7.64it/s]"
     ]
    },
    {
     "name": "stdout",
     "output_type": "stream",
     "text": [
      "avg_loss: 1.2319 | avg_acc: 0.5115\n"
     ]
    },
    {
     "name": "stderr",
     "output_type": "stream",
     "text": [
      "[21:38:27] type: valid epoch 337: 100%|██████████| 243/243 [00:33<00:00,  7.34it/s]\n",
      "[21:39:01] type: train epoch 338:   0%|          | 0/2194 [00:00<?, ?it/s]"
     ]
    },
    {
     "name": "stdout",
     "output_type": "stream",
     "text": [
      "avg_loss: 1.2624 | avg_acc: 0.5003\n",
      "\n"
     ]
    },
    {
     "name": "stderr",
     "output_type": "stream",
     "text": [
      "[21:39:01] type: train epoch 338: 100%|██████████| 2194/2194 [15:09<00:00,  2.41it/s]\n",
      "[21:54:10] type: valid epoch 338:   0%|          | 1/243 [00:00<00:33,  7.22it/s]"
     ]
    },
    {
     "name": "stdout",
     "output_type": "stream",
     "text": [
      "avg_loss: 1.2321 | avg_acc: 0.5121\n"
     ]
    },
    {
     "name": "stderr",
     "output_type": "stream",
     "text": [
      "[21:54:10] type: valid epoch 338: 100%|██████████| 243/243 [00:33<00:00,  7.32it/s]\n",
      "[21:54:44] type: train epoch 339:   0%|          | 0/2194 [00:00<?, ?it/s]"
     ]
    },
    {
     "name": "stdout",
     "output_type": "stream",
     "text": [
      "avg_loss: 1.2637 | avg_acc: 0.4999\n",
      "\n"
     ]
    },
    {
     "name": "stderr",
     "output_type": "stream",
     "text": [
      "[21:54:44] type: train epoch 339: 100%|██████████| 2194/2194 [15:08<00:00,  2.42it/s]\n",
      "[22:09:52] type: valid epoch 339:   0%|          | 1/243 [00:00<00:32,  7.45it/s]"
     ]
    },
    {
     "name": "stdout",
     "output_type": "stream",
     "text": [
      "avg_loss: 1.2322 | avg_acc: 0.5118\n"
     ]
    },
    {
     "name": "stderr",
     "output_type": "stream",
     "text": [
      "[22:09:52] type: valid epoch 339: 100%|██████████| 243/243 [00:33<00:00,  7.34it/s]\n",
      "[22:10:26] type: train epoch 340:   0%|          | 0/2194 [00:00<?, ?it/s]"
     ]
    },
    {
     "name": "stdout",
     "output_type": "stream",
     "text": [
      "avg_loss: 1.2639 | avg_acc: 0.4995\n",
      "\n"
     ]
    },
    {
     "name": "stderr",
     "output_type": "stream",
     "text": [
      "[22:10:26] type: train epoch 340: 100%|██████████| 2194/2194 [15:07<00:00,  2.42it/s]\n",
      "[22:25:34] type: valid epoch 340:   0%|          | 1/243 [00:00<00:32,  7.42it/s]"
     ]
    },
    {
     "name": "stdout",
     "output_type": "stream",
     "text": [
      "avg_loss: 1.2313 | avg_acc: 0.5120\n"
     ]
    },
    {
     "name": "stderr",
     "output_type": "stream",
     "text": [
      "[22:25:34] type: valid epoch 340: 100%|██████████| 243/243 [00:33<00:00,  7.36it/s]\n",
      "[22:26:07] type: train epoch 341:   0%|          | 0/2194 [00:00<?, ?it/s]"
     ]
    },
    {
     "name": "stdout",
     "output_type": "stream",
     "text": [
      "avg_loss: 1.2613 | avg_acc: 0.5001\n",
      "\n"
     ]
    },
    {
     "name": "stderr",
     "output_type": "stream",
     "text": [
      "[22:26:07] type: train epoch 341: 100%|██████████| 2194/2194 [15:07<00:00,  2.42it/s]\n",
      "[22:41:15] type: valid epoch 341:   0%|          | 1/243 [00:00<00:31,  7.64it/s]"
     ]
    },
    {
     "name": "stdout",
     "output_type": "stream",
     "text": [
      "avg_loss: 1.2317 | avg_acc: 0.5121\n"
     ]
    },
    {
     "name": "stderr",
     "output_type": "stream",
     "text": [
      "[22:41:15] type: valid epoch 341: 100%|██████████| 243/243 [00:33<00:00,  7.34it/s]\n",
      "[22:41:48] type: train epoch 342:   0%|          | 0/2194 [00:00<?, ?it/s]"
     ]
    },
    {
     "name": "stdout",
     "output_type": "stream",
     "text": [
      "avg_loss: 1.2682 | avg_acc: 0.5002\n",
      "\n"
     ]
    },
    {
     "name": "stderr",
     "output_type": "stream",
     "text": [
      "[22:41:48] type: train epoch 342: 100%|██████████| 2194/2194 [15:07<00:00,  2.42it/s]\n",
      "[22:56:56] type: valid epoch 342:   0%|          | 1/243 [00:00<00:32,  7.50it/s]"
     ]
    },
    {
     "name": "stdout",
     "output_type": "stream",
     "text": [
      "avg_loss: 1.2321 | avg_acc: 0.5120\n"
     ]
    },
    {
     "name": "stderr",
     "output_type": "stream",
     "text": [
      "[22:56:56] type: valid epoch 342: 100%|██████████| 243/243 [00:32<00:00,  7.37it/s]\n",
      "[22:57:29] type: train epoch 343:   0%|          | 0/2194 [00:00<?, ?it/s]"
     ]
    },
    {
     "name": "stdout",
     "output_type": "stream",
     "text": [
      "avg_loss: 1.2631 | avg_acc: 0.5001\n",
      "\n"
     ]
    },
    {
     "name": "stderr",
     "output_type": "stream",
     "text": [
      "[22:57:29] type: train epoch 343: 100%|██████████| 2194/2194 [15:09<00:00,  2.41it/s]\n",
      "[23:12:39] type: valid epoch 343:   0%|          | 1/243 [00:00<00:31,  7.57it/s]"
     ]
    },
    {
     "name": "stdout",
     "output_type": "stream",
     "text": [
      "avg_loss: 1.2315 | avg_acc: 0.5126\n"
     ]
    },
    {
     "name": "stderr",
     "output_type": "stream",
     "text": [
      "[23:12:39] type: valid epoch 343: 100%|██████████| 243/243 [00:33<00:00,  7.33it/s]\n",
      "[23:13:12] type: train epoch 344:   0%|          | 0/2194 [00:00<?, ?it/s]"
     ]
    },
    {
     "name": "stdout",
     "output_type": "stream",
     "text": [
      "avg_loss: 1.2620 | avg_acc: 0.5001\n",
      "\n"
     ]
    },
    {
     "name": "stderr",
     "output_type": "stream",
     "text": [
      "[23:13:12] type: train epoch 344: 100%|██████████| 2194/2194 [15:10<00:00,  2.41it/s]\n",
      "[23:28:23] type: valid epoch 344:   0%|          | 1/243 [00:00<00:32,  7.54it/s]"
     ]
    },
    {
     "name": "stdout",
     "output_type": "stream",
     "text": [
      "avg_loss: 1.2315 | avg_acc: 0.5120\n"
     ]
    },
    {
     "name": "stderr",
     "output_type": "stream",
     "text": [
      "[23:28:23] type: valid epoch 344: 100%|██████████| 243/243 [00:33<00:00,  7.35it/s]\n",
      "[23:28:56] type: train epoch 345:   0%|          | 0/2194 [00:00<?, ?it/s]"
     ]
    },
    {
     "name": "stdout",
     "output_type": "stream",
     "text": [
      "avg_loss: 1.2662 | avg_acc: 0.5004\n",
      "\n"
     ]
    },
    {
     "name": "stderr",
     "output_type": "stream",
     "text": [
      "[23:28:56] type: train epoch 345: 100%|██████████| 2194/2194 [15:10<00:00,  2.41it/s]\n",
      "[23:44:07] type: valid epoch 345:   0%|          | 1/243 [00:00<00:33,  7.28it/s]"
     ]
    },
    {
     "name": "stdout",
     "output_type": "stream",
     "text": [
      "avg_loss: 1.2313 | avg_acc: 0.5127\n"
     ]
    },
    {
     "name": "stderr",
     "output_type": "stream",
     "text": [
      "[23:44:07] type: valid epoch 345: 100%|██████████| 243/243 [00:33<00:00,  7.31it/s]\n",
      "[23:44:41] type: train epoch 346:   0%|          | 0/2194 [00:00<?, ?it/s]"
     ]
    },
    {
     "name": "stdout",
     "output_type": "stream",
     "text": [
      "avg_loss: 1.2790 | avg_acc: 0.5000\n",
      "\n"
     ]
    },
    {
     "name": "stderr",
     "output_type": "stream",
     "text": [
      "[23:44:41] type: train epoch 346: 100%|██████████| 2194/2194 [15:11<00:00,  2.41it/s]\n",
      "[23:59:53] type: valid epoch 346:   0%|          | 1/243 [00:00<00:32,  7.43it/s]"
     ]
    },
    {
     "name": "stdout",
     "output_type": "stream",
     "text": [
      "avg_loss: 1.2319 | avg_acc: 0.5117\n"
     ]
    },
    {
     "name": "stderr",
     "output_type": "stream",
     "text": [
      "[23:59:53] type: valid epoch 346: 100%|██████████| 243/243 [00:33<00:00,  7.33it/s]\n",
      "[00:00:26] type: train epoch 347:   0%|          | 0/2194 [00:00<?, ?it/s]"
     ]
    },
    {
     "name": "stdout",
     "output_type": "stream",
     "text": [
      "avg_loss: 1.2665 | avg_acc: 0.4999\n",
      "\n"
     ]
    },
    {
     "name": "stderr",
     "output_type": "stream",
     "text": [
      "[00:00:26] type: train epoch 347: 100%|██████████| 2194/2194 [15:09<00:00,  2.41it/s]\n",
      "[00:15:36] type: valid epoch 347:   0%|          | 1/243 [00:00<00:33,  7.33it/s]"
     ]
    },
    {
     "name": "stdout",
     "output_type": "stream",
     "text": [
      "avg_loss: 1.2317 | avg_acc: 0.5121\n"
     ]
    },
    {
     "name": "stderr",
     "output_type": "stream",
     "text": [
      "[00:15:36] type: valid epoch 347: 100%|██████████| 243/243 [00:33<00:00,  7.33it/s]\n",
      "[00:16:09] type: train epoch 348:   0%|          | 0/2194 [00:00<?, ?it/s]"
     ]
    },
    {
     "name": "stdout",
     "output_type": "stream",
     "text": [
      "avg_loss: 1.2647 | avg_acc: 0.5003\n",
      "\n"
     ]
    },
    {
     "name": "stderr",
     "output_type": "stream",
     "text": [
      "[00:16:09] type: train epoch 348: 100%|██████████| 2194/2194 [15:10<00:00,  2.41it/s]\n",
      "[00:31:20] type: valid epoch 348:   0%|          | 1/243 [00:00<00:33,  7.23it/s]"
     ]
    },
    {
     "name": "stdout",
     "output_type": "stream",
     "text": [
      "avg_loss: 1.2315 | avg_acc: 0.5126\n"
     ]
    },
    {
     "name": "stderr",
     "output_type": "stream",
     "text": [
      "[00:31:20] type: valid epoch 348: 100%|██████████| 243/243 [00:33<00:00,  7.32it/s]\n",
      "[00:31:54] type: train epoch 349:   0%|          | 0/2194 [00:00<?, ?it/s]"
     ]
    },
    {
     "name": "stdout",
     "output_type": "stream",
     "text": [
      "avg_loss: 1.2692 | avg_acc: 0.5006\n",
      "\n"
     ]
    },
    {
     "name": "stderr",
     "output_type": "stream",
     "text": [
      "[00:31:54] type: train epoch 349: 100%|██████████| 2194/2194 [15:11<00:00,  2.41it/s]\n",
      "[00:47:06] type: valid epoch 349:   0%|          | 1/243 [00:00<00:31,  7.61it/s]"
     ]
    },
    {
     "name": "stdout",
     "output_type": "stream",
     "text": [
      "avg_loss: 1.2318 | avg_acc: 0.5121\n"
     ]
    },
    {
     "name": "stderr",
     "output_type": "stream",
     "text": [
      "[00:47:06] type: valid epoch 349: 100%|██████████| 243/243 [00:33<00:00,  7.31it/s]\n",
      "[00:47:39] type: train epoch 350:   0%|          | 0/2194 [00:00<?, ?it/s]"
     ]
    },
    {
     "name": "stdout",
     "output_type": "stream",
     "text": [
      "avg_loss: 1.2758 | avg_acc: 0.5001\n",
      "\n"
     ]
    },
    {
     "name": "stderr",
     "output_type": "stream",
     "text": [
      "[00:47:39] type: train epoch 350: 100%|██████████| 2194/2194 [15:11<00:00,  2.41it/s]\n",
      "[01:02:51] type: valid epoch 350:   0%|          | 1/243 [00:00<00:32,  7.51it/s]"
     ]
    },
    {
     "name": "stdout",
     "output_type": "stream",
     "text": [
      "avg_loss: 1.2314 | avg_acc: 0.5123\n"
     ]
    },
    {
     "name": "stderr",
     "output_type": "stream",
     "text": [
      "[01:02:51] type: valid epoch 350: 100%|██████████| 243/243 [00:33<00:00,  7.32it/s]\n",
      "[01:03:24] type: train epoch 351:   0%|          | 0/2194 [00:00<?, ?it/s]"
     ]
    },
    {
     "name": "stdout",
     "output_type": "stream",
     "text": [
      "avg_loss: 1.2608 | avg_acc: 0.5000\n",
      "\n"
     ]
    },
    {
     "name": "stderr",
     "output_type": "stream",
     "text": [
      "[01:03:24] type: train epoch 351: 100%|██████████| 2194/2194 [15:09<00:00,  2.41it/s]\n",
      "[01:18:34] type: valid epoch 351:   0%|          | 1/243 [00:00<00:32,  7.43it/s]"
     ]
    },
    {
     "name": "stdout",
     "output_type": "stream",
     "text": [
      "avg_loss: 1.2317 | avg_acc: 0.5119\n"
     ]
    },
    {
     "name": "stderr",
     "output_type": "stream",
     "text": [
      "[01:18:34] type: valid epoch 351: 100%|██████████| 243/243 [00:33<00:00,  7.34it/s]\n",
      "[01:19:07] type: train epoch 352:   0%|          | 0/2194 [00:00<?, ?it/s]"
     ]
    },
    {
     "name": "stdout",
     "output_type": "stream",
     "text": [
      "avg_loss: 1.2623 | avg_acc: 0.5001\n",
      "\n"
     ]
    },
    {
     "name": "stderr",
     "output_type": "stream",
     "text": [
      "[01:19:07] type: train epoch 352: 100%|██████████| 2194/2194 [15:10<00:00,  2.41it/s]\n",
      "[01:34:18] type: valid epoch 352:   0%|          | 1/243 [00:00<00:36,  6.70it/s]"
     ]
    },
    {
     "name": "stdout",
     "output_type": "stream",
     "text": [
      "avg_loss: 1.2318 | avg_acc: 0.5118\n"
     ]
    },
    {
     "name": "stderr",
     "output_type": "stream",
     "text": [
      "[01:34:18] type: valid epoch 352: 100%|██████████| 243/243 [00:33<00:00,  7.33it/s]\n",
      "[01:34:51] type: train epoch 353:   0%|          | 0/2194 [00:00<?, ?it/s]"
     ]
    },
    {
     "name": "stdout",
     "output_type": "stream",
     "text": [
      "avg_loss: 1.2686 | avg_acc: 0.5005\n",
      "\n"
     ]
    },
    {
     "name": "stderr",
     "output_type": "stream",
     "text": [
      "[01:34:51] type: train epoch 353: 100%|██████████| 2194/2194 [15:06<00:00,  2.42it/s]\n",
      "[01:49:58] type: valid epoch 353:   0%|          | 0/243 [00:00<?, ?it/s]"
     ]
    },
    {
     "name": "stdout",
     "output_type": "stream",
     "text": [
      "avg_loss: 1.2317 | avg_acc: 0.5121\n"
     ]
    },
    {
     "name": "stderr",
     "output_type": "stream",
     "text": [
      "[01:49:58] type: valid epoch 353: 100%|██████████| 243/243 [00:33<00:00,  7.32it/s]\n",
      "[01:50:31] type: train epoch 354:   0%|          | 0/2194 [00:00<?, ?it/s]"
     ]
    },
    {
     "name": "stdout",
     "output_type": "stream",
     "text": [
      "avg_loss: 1.2738 | avg_acc: 0.5003\n",
      "\n"
     ]
    },
    {
     "name": "stderr",
     "output_type": "stream",
     "text": [
      "[01:50:31] type: train epoch 354: 100%|██████████| 2194/2194 [15:11<00:00,  2.41it/s]\n",
      "[02:05:43] type: valid epoch 354:   0%|          | 1/243 [00:00<00:31,  7.59it/s]"
     ]
    },
    {
     "name": "stdout",
     "output_type": "stream",
     "text": [
      "avg_loss: 1.2312 | avg_acc: 0.5115\n"
     ]
    },
    {
     "name": "stderr",
     "output_type": "stream",
     "text": [
      "[02:05:43] type: valid epoch 354: 100%|██████████| 243/243 [00:33<00:00,  7.31it/s]\n",
      "[02:06:16] type: train epoch 355:   0%|          | 0/2194 [00:00<?, ?it/s]"
     ]
    },
    {
     "name": "stdout",
     "output_type": "stream",
     "text": [
      "avg_loss: 1.2687 | avg_acc: 0.5000\n",
      "\n"
     ]
    },
    {
     "name": "stderr",
     "output_type": "stream",
     "text": [
      "[02:06:16] type: train epoch 355: 100%|██████████| 2194/2194 [15:10<00:00,  2.41it/s]\n",
      "[02:21:27] type: valid epoch 355:   0%|          | 1/243 [00:00<00:33,  7.32it/s]"
     ]
    },
    {
     "name": "stdout",
     "output_type": "stream",
     "text": [
      "avg_loss: 1.2313 | avg_acc: 0.5118\n"
     ]
    },
    {
     "name": "stderr",
     "output_type": "stream",
     "text": [
      "[02:21:27] type: valid epoch 355: 100%|██████████| 243/243 [00:33<00:00,  7.31it/s]\n",
      "[02:22:00] type: train epoch 356:   0%|          | 0/2194 [00:00<?, ?it/s]"
     ]
    },
    {
     "name": "stdout",
     "output_type": "stream",
     "text": [
      "avg_loss: 1.2641 | avg_acc: 0.5002\n",
      "\n"
     ]
    },
    {
     "name": "stderr",
     "output_type": "stream",
     "text": [
      "[02:22:00] type: train epoch 356: 100%|██████████| 2194/2194 [15:09<00:00,  2.41it/s]\n",
      "[02:37:10] type: valid epoch 356:   0%|          | 1/243 [00:00<00:32,  7.55it/s]"
     ]
    },
    {
     "name": "stdout",
     "output_type": "stream",
     "text": [
      "avg_loss: 1.2307 | avg_acc: 0.5122\n"
     ]
    },
    {
     "name": "stderr",
     "output_type": "stream",
     "text": [
      "[02:37:10] type: valid epoch 356: 100%|██████████| 243/243 [00:33<00:00,  7.35it/s]\n",
      "[02:37:43] type: train epoch 357:   0%|          | 0/2194 [00:00<?, ?it/s]"
     ]
    },
    {
     "name": "stdout",
     "output_type": "stream",
     "text": [
      "avg_loss: 1.2665 | avg_acc: 0.5001\n",
      "\n"
     ]
    },
    {
     "name": "stderr",
     "output_type": "stream",
     "text": [
      "[02:37:43] type: train epoch 357: 100%|██████████| 2194/2194 [15:08<00:00,  2.42it/s]\n",
      "[02:52:52] type: valid epoch 357:   0%|          | 1/243 [00:00<00:33,  7.22it/s]"
     ]
    },
    {
     "name": "stdout",
     "output_type": "stream",
     "text": [
      "avg_loss: 1.2309 | avg_acc: 0.5120\n"
     ]
    },
    {
     "name": "stderr",
     "output_type": "stream",
     "text": [
      "[02:52:52] type: valid epoch 357: 100%|██████████| 243/243 [00:33<00:00,  7.33it/s]\n",
      "[02:53:25] type: train epoch 358:   0%|          | 0/2194 [00:00<?, ?it/s]"
     ]
    },
    {
     "name": "stdout",
     "output_type": "stream",
     "text": [
      "avg_loss: 1.2634 | avg_acc: 0.4998\n",
      "\n"
     ]
    },
    {
     "name": "stderr",
     "output_type": "stream",
     "text": [
      "[02:53:25] type: train epoch 358: 100%|██████████| 2194/2194 [15:11<00:00,  2.41it/s]\n",
      "[03:08:36] type: valid epoch 358:   0%|          | 1/243 [00:00<00:32,  7.52it/s]"
     ]
    },
    {
     "name": "stdout",
     "output_type": "stream",
     "text": [
      "avg_loss: 1.2313 | avg_acc: 0.5125\n"
     ]
    },
    {
     "name": "stderr",
     "output_type": "stream",
     "text": [
      "[03:08:36] type: valid epoch 358: 100%|██████████| 243/243 [00:33<00:00,  7.33it/s]\n",
      "[03:09:10] type: train epoch 359:   0%|          | 0/2194 [00:00<?, ?it/s]"
     ]
    },
    {
     "name": "stdout",
     "output_type": "stream",
     "text": [
      "avg_loss: 1.2633 | avg_acc: 0.5007\n",
      "\n"
     ]
    },
    {
     "name": "stderr",
     "output_type": "stream",
     "text": [
      "[03:09:10] type: train epoch 359: 100%|██████████| 2194/2194 [15:11<00:00,  2.41it/s]\n",
      "[03:24:21] type: valid epoch 359:   0%|          | 1/243 [00:00<00:32,  7.53it/s]"
     ]
    },
    {
     "name": "stdout",
     "output_type": "stream",
     "text": [
      "avg_loss: 1.2310 | avg_acc: 0.5123\n"
     ]
    },
    {
     "name": "stderr",
     "output_type": "stream",
     "text": [
      "[03:24:21] type: valid epoch 359: 100%|██████████| 243/243 [00:33<00:00,  7.34it/s]\n",
      "[03:24:54] type: train epoch 360:   0%|          | 0/2194 [00:00<?, ?it/s]"
     ]
    },
    {
     "name": "stdout",
     "output_type": "stream",
     "text": [
      "avg_loss: 1.2694 | avg_acc: 0.5006\n",
      "\n"
     ]
    },
    {
     "name": "stderr",
     "output_type": "stream",
     "text": [
      "[03:24:54] type: train epoch 360: 100%|██████████| 2194/2194 [15:09<00:00,  2.41it/s]\n",
      "[03:40:04] type: valid epoch 360:   0%|          | 1/243 [00:00<00:32,  7.56it/s]"
     ]
    },
    {
     "name": "stdout",
     "output_type": "stream",
     "text": [
      "avg_loss: 1.2312 | avg_acc: 0.5125\n"
     ]
    },
    {
     "name": "stderr",
     "output_type": "stream",
     "text": [
      "[03:40:04] type: valid epoch 360: 100%|██████████| 243/243 [00:33<00:00,  7.32it/s]\n",
      "[03:40:38] type: train epoch 361:   0%|          | 0/2194 [00:00<?, ?it/s]"
     ]
    },
    {
     "name": "stdout",
     "output_type": "stream",
     "text": [
      "avg_loss: 1.2688 | avg_acc: 0.5003\n",
      "\n"
     ]
    },
    {
     "name": "stderr",
     "output_type": "stream",
     "text": [
      "[03:40:38] type: train epoch 361: 100%|██████████| 2194/2194 [15:06<00:00,  2.42it/s]\n",
      "[03:55:45] type: valid epoch 361:   0%|          | 1/243 [00:00<00:33,  7.32it/s]"
     ]
    },
    {
     "name": "stdout",
     "output_type": "stream",
     "text": [
      "avg_loss: 1.2311 | avg_acc: 0.5120\n"
     ]
    },
    {
     "name": "stderr",
     "output_type": "stream",
     "text": [
      "[03:55:45] type: valid epoch 361: 100%|██████████| 243/243 [00:33<00:00,  7.36it/s]\n",
      "[03:56:18] type: train epoch 362:   0%|          | 0/2194 [00:00<?, ?it/s]"
     ]
    },
    {
     "name": "stdout",
     "output_type": "stream",
     "text": [
      "avg_loss: 1.2676 | avg_acc: 0.5001\n",
      "\n"
     ]
    },
    {
     "name": "stderr",
     "output_type": "stream",
     "text": [
      "[03:56:18] type: train epoch 362: 100%|██████████| 2194/2194 [15:11<00:00,  2.41it/s]\n",
      "[04:11:29] type: valid epoch 362:   0%|          | 1/243 [00:00<00:32,  7.52it/s]"
     ]
    },
    {
     "name": "stdout",
     "output_type": "stream",
     "text": [
      "avg_loss: 1.2315 | avg_acc: 0.5118\n"
     ]
    },
    {
     "name": "stderr",
     "output_type": "stream",
     "text": [
      "[04:11:29] type: valid epoch 362: 100%|██████████| 243/243 [00:33<00:00,  7.33it/s]\n",
      "[04:12:03] type: train epoch 363:   0%|          | 0/2194 [00:00<?, ?it/s]"
     ]
    },
    {
     "name": "stdout",
     "output_type": "stream",
     "text": [
      "avg_loss: 1.2672 | avg_acc: 0.5005\n",
      "\n"
     ]
    },
    {
     "name": "stderr",
     "output_type": "stream",
     "text": [
      "[04:12:03] type: train epoch 363: 100%|██████████| 2194/2194 [15:09<00:00,  2.41it/s]\n",
      "[04:27:12] type: valid epoch 363:   0%|          | 1/243 [00:00<00:32,  7.54it/s]"
     ]
    },
    {
     "name": "stdout",
     "output_type": "stream",
     "text": [
      "avg_loss: 1.2308 | avg_acc: 0.5122\n"
     ]
    },
    {
     "name": "stderr",
     "output_type": "stream",
     "text": [
      "[04:27:12] type: valid epoch 363: 100%|██████████| 243/243 [00:33<00:00,  7.35it/s]\n",
      "[04:27:45] type: train epoch 364:   0%|          | 0/2194 [00:00<?, ?it/s]"
     ]
    },
    {
     "name": "stdout",
     "output_type": "stream",
     "text": [
      "avg_loss: 1.2704 | avg_acc: 0.5002\n",
      "\n"
     ]
    },
    {
     "name": "stderr",
     "output_type": "stream",
     "text": [
      "[04:27:45] type: train epoch 364: 100%|██████████| 2194/2194 [15:09<00:00,  2.41it/s]\n",
      "[04:42:55] type: valid epoch 364:   0%|          | 1/243 [00:00<00:32,  7.42it/s]"
     ]
    },
    {
     "name": "stdout",
     "output_type": "stream",
     "text": [
      "avg_loss: 1.2312 | avg_acc: 0.5116\n"
     ]
    },
    {
     "name": "stderr",
     "output_type": "stream",
     "text": [
      "[04:42:55] type: valid epoch 364: 100%|██████████| 243/243 [00:32<00:00,  7.38it/s]\n",
      "[04:43:28] type: train epoch 365:   0%|          | 0/2194 [00:00<?, ?it/s]"
     ]
    },
    {
     "name": "stdout",
     "output_type": "stream",
     "text": [
      "avg_loss: 1.2698 | avg_acc: 0.5004\n",
      "\n"
     ]
    },
    {
     "name": "stderr",
     "output_type": "stream",
     "text": [
      "[04:43:28] type: train epoch 365: 100%|██████████| 2194/2194 [15:10<00:00,  2.41it/s]\n",
      "[04:58:38] type: valid epoch 365:   0%|          | 1/243 [00:00<00:32,  7.37it/s]"
     ]
    },
    {
     "name": "stdout",
     "output_type": "stream",
     "text": [
      "avg_loss: 1.2311 | avg_acc: 0.5125\n"
     ]
    },
    {
     "name": "stderr",
     "output_type": "stream",
     "text": [
      "[04:58:38] type: valid epoch 365: 100%|██████████| 243/243 [00:33<00:00,  7.34it/s]\n",
      "[04:59:12] type: train epoch 366:   0%|          | 0/2194 [00:00<?, ?it/s]"
     ]
    },
    {
     "name": "stdout",
     "output_type": "stream",
     "text": [
      "avg_loss: 1.2646 | avg_acc: 0.5003\n",
      "\n"
     ]
    },
    {
     "name": "stderr",
     "output_type": "stream",
     "text": [
      "[04:59:12] type: train epoch 366: 100%|██████████| 2194/2194 [15:11<00:00,  2.41it/s]\n",
      "[05:14:24] type: valid epoch 366:   0%|          | 1/243 [00:00<00:32,  7.54it/s]"
     ]
    },
    {
     "name": "stdout",
     "output_type": "stream",
     "text": [
      "avg_loss: 1.2311 | avg_acc: 0.5126\n"
     ]
    },
    {
     "name": "stderr",
     "output_type": "stream",
     "text": [
      "[05:14:24] type: valid epoch 366: 100%|██████████| 243/243 [00:33<00:00,  7.33it/s]\n",
      "[05:14:57] type: train epoch 367:   0%|          | 0/2194 [00:00<?, ?it/s]"
     ]
    },
    {
     "name": "stdout",
     "output_type": "stream",
     "text": [
      "avg_loss: 1.2653 | avg_acc: 0.5001\n",
      "\n"
     ]
    },
    {
     "name": "stderr",
     "output_type": "stream",
     "text": [
      "[05:14:57] type: train epoch 367: 100%|██████████| 2194/2194 [15:11<00:00,  2.41it/s]\n",
      "[05:30:09] type: valid epoch 367:   0%|          | 1/243 [00:00<00:33,  7.13it/s]"
     ]
    },
    {
     "name": "stdout",
     "output_type": "stream",
     "text": [
      "avg_loss: 1.2306 | avg_acc: 0.5122\n"
     ]
    },
    {
     "name": "stderr",
     "output_type": "stream",
     "text": [
      "[05:30:09] type: valid epoch 367: 100%|██████████| 243/243 [00:33<00:00,  7.34it/s]\n",
      "[05:30:42] type: train epoch 368:   0%|          | 0/2194 [00:00<?, ?it/s]"
     ]
    },
    {
     "name": "stdout",
     "output_type": "stream",
     "text": [
      "avg_loss: 1.2655 | avg_acc: 0.5005\n",
      "\n"
     ]
    },
    {
     "name": "stderr",
     "output_type": "stream",
     "text": [
      "[05:30:42] type: train epoch 368: 100%|██████████| 2194/2194 [15:09<00:00,  2.41it/s]\n",
      "[05:45:52] type: valid epoch 368:   0%|          | 1/243 [00:00<00:33,  7.33it/s]"
     ]
    },
    {
     "name": "stdout",
     "output_type": "stream",
     "text": [
      "avg_loss: 1.2309 | avg_acc: 0.5120\n"
     ]
    },
    {
     "name": "stderr",
     "output_type": "stream",
     "text": [
      "[05:45:52] type: valid epoch 368: 100%|██████████| 243/243 [00:33<00:00,  7.32it/s]\n",
      "[05:46:26] type: train epoch 369:   0%|          | 0/2194 [00:00<?, ?it/s]"
     ]
    },
    {
     "name": "stdout",
     "output_type": "stream",
     "text": [
      "avg_loss: 1.2705 | avg_acc: 0.5006\n",
      "\n"
     ]
    },
    {
     "name": "stderr",
     "output_type": "stream",
     "text": [
      "[05:46:26] type: train epoch 369: 100%|██████████| 2194/2194 [15:09<00:00,  2.41it/s]\n",
      "[06:01:36] type: valid epoch 369:   0%|          | 1/243 [00:00<00:32,  7.45it/s]"
     ]
    },
    {
     "name": "stdout",
     "output_type": "stream",
     "text": [
      "avg_loss: 1.2312 | avg_acc: 0.5119\n"
     ]
    },
    {
     "name": "stderr",
     "output_type": "stream",
     "text": [
      "[06:01:36] type: valid epoch 369: 100%|██████████| 243/243 [00:33<00:00,  7.33it/s]\n",
      "[06:02:09] type: train epoch 370:   0%|          | 0/2194 [00:00<?, ?it/s]"
     ]
    },
    {
     "name": "stdout",
     "output_type": "stream",
     "text": [
      "avg_loss: 1.2643 | avg_acc: 0.5001\n",
      "\n"
     ]
    },
    {
     "name": "stderr",
     "output_type": "stream",
     "text": [
      "[06:02:09] type: train epoch 370: 100%|██████████| 2194/2194 [15:11<00:00,  2.41it/s]\n",
      "[06:17:22] type: valid epoch 370:   0%|          | 1/243 [00:00<00:32,  7.39it/s]"
     ]
    },
    {
     "name": "stdout",
     "output_type": "stream",
     "text": [
      "avg_loss: 1.2310 | avg_acc: 0.5121\n"
     ]
    },
    {
     "name": "stderr",
     "output_type": "stream",
     "text": [
      "[06:17:22] type: valid epoch 370: 100%|██████████| 243/243 [00:33<00:00,  7.34it/s]\n",
      "[06:17:55] type: train epoch 371:   0%|          | 0/2194 [00:00<?, ?it/s]"
     ]
    },
    {
     "name": "stdout",
     "output_type": "stream",
     "text": [
      "avg_loss: 1.2669 | avg_acc: 0.5001\n",
      "\n"
     ]
    },
    {
     "name": "stderr",
     "output_type": "stream",
     "text": [
      "[06:17:55] type: train epoch 371: 100%|██████████| 2194/2194 [15:10<00:00,  2.41it/s]\n",
      "[06:33:06] type: valid epoch 371:   0%|          | 1/243 [00:00<00:33,  7.15it/s]"
     ]
    },
    {
     "name": "stdout",
     "output_type": "stream",
     "text": [
      "avg_loss: 1.2310 | avg_acc: 0.5116\n"
     ]
    },
    {
     "name": "stderr",
     "output_type": "stream",
     "text": [
      "[06:33:06] type: valid epoch 371: 100%|██████████| 243/243 [00:33<00:00,  7.32it/s]\n",
      "[06:33:39] type: train epoch 372:   0%|          | 0/2194 [00:00<?, ?it/s]"
     ]
    },
    {
     "name": "stdout",
     "output_type": "stream",
     "text": [
      "avg_loss: 1.2645 | avg_acc: 0.5008\n",
      "\n"
     ]
    },
    {
     "name": "stderr",
     "output_type": "stream",
     "text": [
      "[06:33:39] type: train epoch 372: 100%|██████████| 2194/2194 [15:09<00:00,  2.41it/s]\n",
      "[06:48:49] type: valid epoch 372:   0%|          | 1/243 [00:00<00:32,  7.56it/s]"
     ]
    },
    {
     "name": "stdout",
     "output_type": "stream",
     "text": [
      "avg_loss: 1.2307 | avg_acc: 0.5112\n"
     ]
    },
    {
     "name": "stderr",
     "output_type": "stream",
     "text": [
      "[06:48:49] type: valid epoch 372: 100%|██████████| 243/243 [00:32<00:00,  7.37it/s]\n",
      "[06:49:22] type: train epoch 373:   0%|          | 0/2194 [00:00<?, ?it/s]"
     ]
    },
    {
     "name": "stdout",
     "output_type": "stream",
     "text": [
      "avg_loss: 1.2673 | avg_acc: 0.5005\n",
      "\n"
     ]
    },
    {
     "name": "stderr",
     "output_type": "stream",
     "text": [
      "[06:49:22] type: train epoch 373: 100%|██████████| 2194/2194 [15:10<00:00,  2.41it/s]\n",
      "[07:04:33] type: valid epoch 373:   0%|          | 1/243 [00:00<00:32,  7.45it/s]"
     ]
    },
    {
     "name": "stdout",
     "output_type": "stream",
     "text": [
      "avg_loss: 1.2307 | avg_acc: 0.5124\n"
     ]
    },
    {
     "name": "stderr",
     "output_type": "stream",
     "text": [
      "[07:04:33] type: valid epoch 373: 100%|██████████| 243/243 [00:33<00:00,  7.35it/s]\n",
      "[07:05:06] type: train epoch 374:   0%|          | 0/2194 [00:00<?, ?it/s]"
     ]
    },
    {
     "name": "stdout",
     "output_type": "stream",
     "text": [
      "avg_loss: 1.2652 | avg_acc: 0.5002\n",
      "\n"
     ]
    },
    {
     "name": "stderr",
     "output_type": "stream",
     "text": [
      "[07:05:06] type: train epoch 374: 100%|██████████| 2194/2194 [15:09<00:00,  2.41it/s]\n",
      "[07:20:16] type: valid epoch 374:   0%|          | 1/243 [00:00<00:35,  6.88it/s]"
     ]
    },
    {
     "name": "stdout",
     "output_type": "stream",
     "text": [
      "avg_loss: 1.2308 | avg_acc: 0.5120\n"
     ]
    },
    {
     "name": "stderr",
     "output_type": "stream",
     "text": [
      "[07:20:16] type: valid epoch 374: 100%|██████████| 243/243 [00:33<00:00,  7.32it/s]\n",
      "[07:20:49] type: train epoch 375:   0%|          | 0/2194 [00:00<?, ?it/s]"
     ]
    },
    {
     "name": "stdout",
     "output_type": "stream",
     "text": [
      "avg_loss: 1.2658 | avg_acc: 0.5005\n",
      "\n"
     ]
    },
    {
     "name": "stderr",
     "output_type": "stream",
     "text": [
      "[07:20:49] type: train epoch 375: 100%|██████████| 2194/2194 [15:10<00:00,  2.41it/s]\n",
      "[07:36:00] type: valid epoch 375:   0%|          | 0/243 [00:00<?, ?it/s]"
     ]
    },
    {
     "name": "stdout",
     "output_type": "stream",
     "text": [
      "avg_loss: 1.2306 | avg_acc: 0.5118\n"
     ]
    },
    {
     "name": "stderr",
     "output_type": "stream",
     "text": [
      "[07:36:00] type: valid epoch 375: 100%|██████████| 243/243 [00:33<00:00,  7.28it/s]\n",
      "[07:36:34] type: train epoch 376:   0%|          | 0/2194 [00:00<?, ?it/s]"
     ]
    },
    {
     "name": "stdout",
     "output_type": "stream",
     "text": [
      "avg_loss: 1.2782 | avg_acc: 0.5002\n",
      "\n"
     ]
    },
    {
     "name": "stderr",
     "output_type": "stream",
     "text": [
      "[07:36:34] type: train epoch 376: 100%|██████████| 2194/2194 [15:11<00:00,  2.41it/s]\n",
      "[07:51:45] type: valid epoch 376:   0%|          | 1/243 [00:00<00:31,  7.58it/s]"
     ]
    },
    {
     "name": "stdout",
     "output_type": "stream",
     "text": [
      "avg_loss: 1.2308 | avg_acc: 0.5122\n"
     ]
    },
    {
     "name": "stderr",
     "output_type": "stream",
     "text": [
      "[07:51:45] type: valid epoch 376: 100%|██████████| 243/243 [00:33<00:00,  7.34it/s]\n",
      "[07:52:18] type: train epoch 377:   0%|          | 0/2194 [00:00<?, ?it/s]"
     ]
    },
    {
     "name": "stdout",
     "output_type": "stream",
     "text": [
      "avg_loss: 1.2707 | avg_acc: 0.5004\n",
      "\n"
     ]
    },
    {
     "name": "stderr",
     "output_type": "stream",
     "text": [
      "[07:52:18] type: train epoch 377: 100%|██████████| 2194/2194 [15:09<00:00,  2.41it/s]\n",
      "[08:07:29] type: valid epoch 377:   0%|          | 1/243 [00:00<00:34,  7.01it/s]"
     ]
    },
    {
     "name": "stdout",
     "output_type": "stream",
     "text": [
      "avg_loss: 1.2305 | avg_acc: 0.5124\n"
     ]
    },
    {
     "name": "stderr",
     "output_type": "stream",
     "text": [
      "[08:07:29] type: valid epoch 377: 100%|██████████| 243/243 [00:33<00:00,  7.30it/s]\n",
      "[08:08:02] type: train epoch 378:   0%|          | 0/2194 [00:00<?, ?it/s]"
     ]
    },
    {
     "name": "stdout",
     "output_type": "stream",
     "text": [
      "avg_loss: 1.2699 | avg_acc: 0.5004\n",
      "\n"
     ]
    },
    {
     "name": "stderr",
     "output_type": "stream",
     "text": [
      "[08:08:02] type: train epoch 378: 100%|██████████| 2194/2194 [15:11<00:00,  2.41it/s]\n",
      "[08:23:14] type: valid epoch 378:   0%|          | 1/243 [00:00<00:32,  7.52it/s]"
     ]
    },
    {
     "name": "stdout",
     "output_type": "stream",
     "text": [
      "avg_loss: 1.2303 | avg_acc: 0.5120\n"
     ]
    },
    {
     "name": "stderr",
     "output_type": "stream",
     "text": [
      "[08:23:14] type: valid epoch 378: 100%|██████████| 243/243 [00:33<00:00,  7.31it/s]\n",
      "[08:23:47] type: train epoch 379:   0%|          | 0/2194 [00:00<?, ?it/s]"
     ]
    },
    {
     "name": "stdout",
     "output_type": "stream",
     "text": [
      "avg_loss: 1.2669 | avg_acc: 0.5004\n",
      "\n"
     ]
    },
    {
     "name": "stderr",
     "output_type": "stream",
     "text": [
      "[08:23:47] type: train epoch 379: 100%|██████████| 2194/2194 [15:11<00:00,  2.41it/s]\n",
      "[08:38:59] type: valid epoch 379:   0%|          | 1/243 [00:00<00:32,  7.47it/s]"
     ]
    },
    {
     "name": "stdout",
     "output_type": "stream",
     "text": [
      "avg_loss: 1.2313 | avg_acc: 0.5132\n"
     ]
    },
    {
     "name": "stderr",
     "output_type": "stream",
     "text": [
      "[08:38:59] type: valid epoch 379: 100%|██████████| 243/243 [00:33<00:00,  7.34it/s]\n",
      "[08:39:32] type: train epoch 380:   0%|          | 0/2194 [00:00<?, ?it/s]"
     ]
    },
    {
     "name": "stdout",
     "output_type": "stream",
     "text": [
      "avg_loss: 1.2619 | avg_acc: 0.5008\n",
      "\n"
     ]
    },
    {
     "name": "stderr",
     "output_type": "stream",
     "text": [
      "[08:39:32] type: train epoch 380: 100%|██████████| 2194/2194 [15:11<00:00,  2.41it/s]\n",
      "[08:54:44] type: valid epoch 380:   0%|          | 1/243 [00:00<00:32,  7.50it/s]"
     ]
    },
    {
     "name": "stdout",
     "output_type": "stream",
     "text": [
      "avg_loss: 1.2310 | avg_acc: 0.5125\n"
     ]
    },
    {
     "name": "stderr",
     "output_type": "stream",
     "text": [
      "[08:54:44] type: valid epoch 380: 100%|██████████| 243/243 [00:33<00:00,  7.29it/s]\n",
      "[08:55:18] type: train epoch 381:   0%|          | 0/2194 [00:00<?, ?it/s]"
     ]
    },
    {
     "name": "stdout",
     "output_type": "stream",
     "text": [
      "avg_loss: 1.2732 | avg_acc: 0.5001\n",
      "\n"
     ]
    },
    {
     "name": "stderr",
     "output_type": "stream",
     "text": [
      "[08:55:18] type: train epoch 381: 100%|██████████| 2194/2194 [15:10<00:00,  2.41it/s]\n",
      "[09:10:29] type: valid epoch 381:   0%|          | 1/243 [00:00<00:32,  7.51it/s]"
     ]
    },
    {
     "name": "stdout",
     "output_type": "stream",
     "text": [
      "avg_loss: 1.2314 | avg_acc: 0.5122\n"
     ]
    },
    {
     "name": "stderr",
     "output_type": "stream",
     "text": [
      "[09:10:29] type: valid epoch 381: 100%|██████████| 243/243 [00:33<00:00,  7.33it/s]\n",
      "[09:11:02] type: train epoch 382:   0%|          | 0/2194 [00:00<?, ?it/s]"
     ]
    },
    {
     "name": "stdout",
     "output_type": "stream",
     "text": [
      "avg_loss: 1.2664 | avg_acc: 0.5000\n",
      "\n"
     ]
    },
    {
     "name": "stderr",
     "output_type": "stream",
     "text": [
      "[09:11:02] type: train epoch 382: 100%|██████████| 2194/2194 [15:10<00:00,  2.41it/s]\n",
      "[09:26:12] type: valid epoch 382:   0%|          | 1/243 [00:00<00:31,  7.59it/s]"
     ]
    },
    {
     "name": "stdout",
     "output_type": "stream",
     "text": [
      "avg_loss: 1.2310 | avg_acc: 0.5124\n"
     ]
    },
    {
     "name": "stderr",
     "output_type": "stream",
     "text": [
      "[09:26:12] type: valid epoch 382: 100%|██████████| 243/243 [00:33<00:00,  7.33it/s]\n",
      "[09:26:46] type: train epoch 383:   0%|          | 0/2194 [00:00<?, ?it/s]"
     ]
    },
    {
     "name": "stdout",
     "output_type": "stream",
     "text": [
      "avg_loss: 1.2704 | avg_acc: 0.4999\n",
      "\n"
     ]
    },
    {
     "name": "stderr",
     "output_type": "stream",
     "text": [
      "[09:26:46] type: train epoch 383: 100%|██████████| 2194/2194 [15:11<00:00,  2.41it/s]\n",
      "[09:41:58] type: valid epoch 383:   0%|          | 0/243 [00:00<?, ?it/s]"
     ]
    },
    {
     "name": "stdout",
     "output_type": "stream",
     "text": [
      "avg_loss: 1.2307 | avg_acc: 0.5121\n"
     ]
    },
    {
     "name": "stderr",
     "output_type": "stream",
     "text": [
      "[09:41:58] type: valid epoch 383: 100%|██████████| 243/243 [00:33<00:00,  7.28it/s]\n",
      "[09:42:31] type: train epoch 384:   0%|          | 0/2194 [00:00<?, ?it/s]"
     ]
    },
    {
     "name": "stdout",
     "output_type": "stream",
     "text": [
      "avg_loss: 1.2712 | avg_acc: 0.5006\n",
      "\n"
     ]
    },
    {
     "name": "stderr",
     "output_type": "stream",
     "text": [
      "[09:42:31] type: train epoch 384: 100%|██████████| 2194/2194 [15:09<00:00,  2.41it/s]\n",
      "[09:57:41] type: valid epoch 384:   0%|          | 1/243 [00:00<00:32,  7.55it/s]"
     ]
    },
    {
     "name": "stdout",
     "output_type": "stream",
     "text": [
      "avg_loss: 1.2306 | avg_acc: 0.5124\n"
     ]
    },
    {
     "name": "stderr",
     "output_type": "stream",
     "text": [
      "[09:57:41] type: valid epoch 384: 100%|██████████| 243/243 [00:33<00:00,  7.32it/s]\n",
      "[09:58:15] type: train epoch 385:   0%|          | 0/2194 [00:00<?, ?it/s]"
     ]
    },
    {
     "name": "stdout",
     "output_type": "stream",
     "text": [
      "avg_loss: 1.2648 | avg_acc: 0.5001\n",
      "\n"
     ]
    },
    {
     "name": "stderr",
     "output_type": "stream",
     "text": [
      "[09:58:15] type: train epoch 385: 100%|██████████| 2194/2194 [15:11<00:00,  2.41it/s]\n",
      "[10:13:26] type: valid epoch 385:   0%|          | 1/243 [00:00<00:32,  7.45it/s]"
     ]
    },
    {
     "name": "stdout",
     "output_type": "stream",
     "text": [
      "avg_loss: 1.2308 | avg_acc: 0.5125\n"
     ]
    },
    {
     "name": "stderr",
     "output_type": "stream",
     "text": [
      "[10:13:26] type: valid epoch 385: 100%|██████████| 243/243 [00:33<00:00,  7.34it/s]\n",
      "[10:13:59] type: train epoch 386:   0%|          | 0/2194 [00:00<?, ?it/s]"
     ]
    },
    {
     "name": "stdout",
     "output_type": "stream",
     "text": [
      "avg_loss: 1.2737 | avg_acc: 0.5001\n",
      "\n"
     ]
    },
    {
     "name": "stderr",
     "output_type": "stream",
     "text": [
      "[10:13:59] type: train epoch 386: 100%|██████████| 2194/2194 [15:12<00:00,  2.40it/s]\n",
      "[10:29:13] type: valid epoch 386:   0%|          | 1/243 [00:00<00:33,  7.31it/s]"
     ]
    },
    {
     "name": "stdout",
     "output_type": "stream",
     "text": [
      "avg_loss: 1.2303 | avg_acc: 0.5129\n"
     ]
    },
    {
     "name": "stderr",
     "output_type": "stream",
     "text": [
      "[10:29:13] type: valid epoch 386: 100%|██████████| 243/243 [00:33<00:00,  7.31it/s]\n",
      "[10:29:46] type: train epoch 387:   0%|          | 0/2194 [00:00<?, ?it/s]"
     ]
    },
    {
     "name": "stdout",
     "output_type": "stream",
     "text": [
      "avg_loss: 1.2736 | avg_acc: 0.5002\n",
      "\n"
     ]
    },
    {
     "name": "stderr",
     "output_type": "stream",
     "text": [
      "[10:29:46] type: train epoch 387: 100%|██████████| 2194/2194 [15:11<00:00,  2.41it/s]\n",
      "[10:44:58] type: valid epoch 387:   0%|          | 0/243 [00:00<?, ?it/s]"
     ]
    },
    {
     "name": "stdout",
     "output_type": "stream",
     "text": [
      "avg_loss: 1.2309 | avg_acc: 0.5117\n"
     ]
    },
    {
     "name": "stderr",
     "output_type": "stream",
     "text": [
      "[10:44:58] type: valid epoch 387: 100%|██████████| 243/243 [00:33<00:00,  7.32it/s]\n",
      "[10:45:32] type: train epoch 388:   0%|          | 0/2194 [00:00<?, ?it/s]"
     ]
    },
    {
     "name": "stdout",
     "output_type": "stream",
     "text": [
      "avg_loss: 1.2763 | avg_acc: 0.5005\n",
      "\n"
     ]
    },
    {
     "name": "stderr",
     "output_type": "stream",
     "text": [
      "[10:45:32] type: train epoch 388: 100%|██████████| 2194/2194 [15:12<00:00,  2.41it/s]\n",
      "[11:00:44] type: valid epoch 388:   0%|          | 1/243 [00:00<00:31,  7.56it/s]"
     ]
    },
    {
     "name": "stdout",
     "output_type": "stream",
     "text": [
      "avg_loss: 1.2312 | avg_acc: 0.5121\n"
     ]
    },
    {
     "name": "stderr",
     "output_type": "stream",
     "text": [
      "[11:00:44] type: valid epoch 388: 100%|██████████| 243/243 [00:33<00:00,  7.33it/s]\n",
      "[11:01:17] type: train epoch 389:   0%|          | 0/2194 [00:00<?, ?it/s]"
     ]
    },
    {
     "name": "stdout",
     "output_type": "stream",
     "text": [
      "avg_loss: 1.2712 | avg_acc: 0.5004\n",
      "\n"
     ]
    },
    {
     "name": "stderr",
     "output_type": "stream",
     "text": [
      "[11:01:17] type: train epoch 389: 100%|██████████| 2194/2194 [15:09<00:00,  2.41it/s]\n",
      "[11:16:28] type: valid epoch 389:   0%|          | 0/243 [00:00<?, ?it/s]"
     ]
    },
    {
     "name": "stdout",
     "output_type": "stream",
     "text": [
      "avg_loss: 1.2310 | avg_acc: 0.5123\n"
     ]
    },
    {
     "name": "stderr",
     "output_type": "stream",
     "text": [
      "[11:16:28] type: valid epoch 389: 100%|██████████| 243/243 [00:33<00:00,  7.32it/s]\n",
      "[11:17:01] type: train epoch 390:   0%|          | 0/2194 [00:00<?, ?it/s]"
     ]
    },
    {
     "name": "stdout",
     "output_type": "stream",
     "text": [
      "avg_loss: 1.2717 | avg_acc: 0.5004\n",
      "\n"
     ]
    },
    {
     "name": "stderr",
     "output_type": "stream",
     "text": [
      "[11:17:01] type: train epoch 390: 100%|██████████| 2194/2194 [15:10<00:00,  2.41it/s]\n",
      "[11:32:12] type: valid epoch 390:   0%|          | 1/243 [00:00<00:31,  7.61it/s]"
     ]
    },
    {
     "name": "stdout",
     "output_type": "stream",
     "text": [
      "avg_loss: 1.2307 | avg_acc: 0.5136\n"
     ]
    },
    {
     "name": "stderr",
     "output_type": "stream",
     "text": [
      "[11:32:12] type: valid epoch 390: 100%|██████████| 243/243 [00:33<00:00,  7.34it/s]\n",
      "[11:32:45] type: train epoch 391:   0%|          | 0/2194 [00:00<?, ?it/s]"
     ]
    },
    {
     "name": "stdout",
     "output_type": "stream",
     "text": [
      "avg_loss: 1.2735 | avg_acc: 0.5005\n",
      "\n"
     ]
    },
    {
     "name": "stderr",
     "output_type": "stream",
     "text": [
      "[11:32:45] type: train epoch 391: 100%|██████████| 2194/2194 [15:08<00:00,  2.41it/s]\n"
     ]
    },
    {
     "name": "stdout",
     "output_type": "stream",
     "text": [
      "avg_loss: 1.2310 | avg_acc: 0.5113\n"
     ]
    },
    {
     "name": "stderr",
     "output_type": "stream",
     "text": [
      "[11:47:54] type: valid epoch 391: 100%|██████████| 243/243 [00:33<00:00,  7.36it/s]\n",
      "[11:48:28] type: train epoch 392:   0%|          | 0/2194 [00:00<?, ?it/s]"
     ]
    },
    {
     "name": "stdout",
     "output_type": "stream",
     "text": [
      "avg_loss: 1.2673 | avg_acc: 0.5003\n",
      "\n"
     ]
    },
    {
     "name": "stderr",
     "output_type": "stream",
     "text": [
      "[11:48:28] type: train epoch 392: 100%|██████████| 2194/2194 [15:09<00:00,  2.41it/s]\n",
      "[12:03:37] type: valid epoch 392:   0%|          | 1/243 [00:00<00:32,  7.42it/s]"
     ]
    },
    {
     "name": "stdout",
     "output_type": "stream",
     "text": [
      "avg_loss: 1.2298 | avg_acc: 0.5119\n"
     ]
    },
    {
     "name": "stderr",
     "output_type": "stream",
     "text": [
      "[12:03:37] type: valid epoch 392: 100%|██████████| 243/243 [00:33<00:00,  7.33it/s]\n",
      "[12:04:11] type: train epoch 393:   0%|          | 0/2194 [00:00<?, ?it/s]"
     ]
    },
    {
     "name": "stdout",
     "output_type": "stream",
     "text": [
      "avg_loss: 1.2761 | avg_acc: 0.5003\n",
      "\n"
     ]
    },
    {
     "name": "stderr",
     "output_type": "stream",
     "text": [
      "[12:04:11] type: train epoch 393: 100%|██████████| 2194/2194 [15:10<00:00,  2.41it/s]\n",
      "[12:19:21] type: valid epoch 393:   0%|          | 1/243 [00:00<00:33,  7.22it/s]"
     ]
    },
    {
     "name": "stdout",
     "output_type": "stream",
     "text": [
      "avg_loss: 1.2306 | avg_acc: 0.5128\n"
     ]
    },
    {
     "name": "stderr",
     "output_type": "stream",
     "text": [
      "[12:19:21] type: valid epoch 393: 100%|██████████| 243/243 [00:33<00:00,  7.33it/s]\n",
      "[12:19:55] type: train epoch 394:   0%|          | 0/2194 [00:00<?, ?it/s]"
     ]
    },
    {
     "name": "stdout",
     "output_type": "stream",
     "text": [
      "avg_loss: 1.2824 | avg_acc: 0.5005\n",
      "\n"
     ]
    },
    {
     "name": "stderr",
     "output_type": "stream",
     "text": [
      "[12:19:55] type: train epoch 394: 100%|██████████| 2194/2194 [15:08<00:00,  2.42it/s]\n",
      "[12:35:04] type: valid epoch 394:   0%|          | 1/243 [00:00<00:32,  7.46it/s]"
     ]
    },
    {
     "name": "stdout",
     "output_type": "stream",
     "text": [
      "avg_loss: 1.2307 | avg_acc: 0.5122\n"
     ]
    },
    {
     "name": "stderr",
     "output_type": "stream",
     "text": [
      "[12:35:04] type: valid epoch 394: 100%|██████████| 243/243 [00:33<00:00,  7.35it/s]\n",
      "[12:35:37] type: train epoch 395:   0%|          | 0/2194 [00:00<?, ?it/s]"
     ]
    },
    {
     "name": "stdout",
     "output_type": "stream",
     "text": [
      "avg_loss: 1.2767 | avg_acc: 0.5006\n",
      "\n"
     ]
    },
    {
     "name": "stderr",
     "output_type": "stream",
     "text": [
      "[12:35:37] type: train epoch 395: 100%|██████████| 2194/2194 [15:09<00:00,  2.41it/s]\n",
      "[12:50:46] type: valid epoch 395:   0%|          | 1/243 [00:00<00:32,  7.34it/s]"
     ]
    },
    {
     "name": "stdout",
     "output_type": "stream",
     "text": [
      "avg_loss: 1.2310 | avg_acc: 0.5123\n"
     ]
    },
    {
     "name": "stderr",
     "output_type": "stream",
     "text": [
      "[12:50:46] type: valid epoch 395: 100%|██████████| 243/243 [00:33<00:00,  7.36it/s]\n",
      "[12:51:20] type: train epoch 396:   0%|          | 0/2194 [00:00<?, ?it/s]"
     ]
    },
    {
     "name": "stdout",
     "output_type": "stream",
     "text": [
      "avg_loss: 1.2771 | avg_acc: 0.5002\n",
      "\n"
     ]
    },
    {
     "name": "stderr",
     "output_type": "stream",
     "text": [
      "[12:51:20] type: train epoch 396: 100%|██████████| 2194/2194 [15:06<00:00,  2.42it/s]\n",
      "[13:06:27] type: valid epoch 396:   0%|          | 1/243 [00:00<00:32,  7.44it/s]"
     ]
    },
    {
     "name": "stdout",
     "output_type": "stream",
     "text": [
      "avg_loss: 1.2300 | avg_acc: 0.5120\n"
     ]
    },
    {
     "name": "stderr",
     "output_type": "stream",
     "text": [
      "[13:06:27] type: valid epoch 396: 100%|██████████| 243/243 [00:33<00:00,  7.33it/s]\n",
      "[13:07:00] type: train epoch 397:   0%|          | 0/2194 [00:00<?, ?it/s]"
     ]
    },
    {
     "name": "stdout",
     "output_type": "stream",
     "text": [
      "avg_loss: 1.2753 | avg_acc: 0.5005\n",
      "\n"
     ]
    },
    {
     "name": "stderr",
     "output_type": "stream",
     "text": [
      "[13:07:00] type: train epoch 397: 100%|██████████| 2194/2194 [15:06<00:00,  2.42it/s]\n",
      "[13:22:07] type: valid epoch 397:   0%|          | 1/243 [00:00<00:33,  7.27it/s]"
     ]
    },
    {
     "name": "stdout",
     "output_type": "stream",
     "text": [
      "avg_loss: 1.2298 | avg_acc: 0.5130\n"
     ]
    },
    {
     "name": "stderr",
     "output_type": "stream",
     "text": [
      "[13:22:07] type: valid epoch 397: 100%|██████████| 243/243 [00:33<00:00,  7.34it/s]\n",
      "[13:22:40] type: train epoch 398:   0%|          | 0/2194 [00:00<?, ?it/s]"
     ]
    },
    {
     "name": "stdout",
     "output_type": "stream",
     "text": [
      "avg_loss: 1.2734 | avg_acc: 0.5002\n",
      "\n"
     ]
    },
    {
     "name": "stderr",
     "output_type": "stream",
     "text": [
      "[13:22:40] type: train epoch 398: 100%|██████████| 2194/2194 [15:08<00:00,  2.41it/s]\n",
      "[13:37:49] type: valid epoch 398:   0%|          | 0/243 [00:00<?, ?it/s]"
     ]
    },
    {
     "name": "stdout",
     "output_type": "stream",
     "text": [
      "avg_loss: 1.2303 | avg_acc: 0.5120\n"
     ]
    },
    {
     "name": "stderr",
     "output_type": "stream",
     "text": [
      "[13:37:49] type: valid epoch 398: 100%|██████████| 243/243 [00:33<00:00,  7.34it/s]\n",
      "[13:38:22] type: train epoch 399:   0%|          | 0/2194 [00:00<?, ?it/s]"
     ]
    },
    {
     "name": "stdout",
     "output_type": "stream",
     "text": [
      "avg_loss: 1.2808 | avg_acc: 0.5002\n",
      "\n"
     ]
    },
    {
     "name": "stderr",
     "output_type": "stream",
     "text": [
      "[13:38:22] type: train epoch 399: 100%|██████████| 2194/2194 [15:07<00:00,  2.42it/s]\n",
      "[13:53:31] type: valid epoch 399:   0%|          | 0/243 [00:00<?, ?it/s]"
     ]
    },
    {
     "name": "stdout",
     "output_type": "stream",
     "text": [
      "avg_loss: 1.2303 | avg_acc: 0.5121\n"
     ]
    },
    {
     "name": "stderr",
     "output_type": "stream",
     "text": [
      "[13:53:31] type: valid epoch 399: 100%|██████████| 243/243 [00:33<00:00,  7.29it/s]\n",
      "[13:54:04] type: train epoch 400:   0%|          | 0/2194 [00:00<?, ?it/s]"
     ]
    },
    {
     "name": "stdout",
     "output_type": "stream",
     "text": [
      "avg_loss: 1.2754 | avg_acc: 0.5001\n",
      "\n"
     ]
    },
    {
     "name": "stderr",
     "output_type": "stream",
     "text": [
      "[13:54:04] type: train epoch 400: 100%|██████████| 2194/2194 [15:10<00:00,  2.41it/s]\n",
      "[14:09:15] type: valid epoch 400:   0%|          | 1/243 [00:00<00:32,  7.43it/s]"
     ]
    },
    {
     "name": "stdout",
     "output_type": "stream",
     "text": [
      "avg_loss: 1.2304 | avg_acc: 0.5121\n"
     ]
    },
    {
     "name": "stderr",
     "output_type": "stream",
     "text": [
      "[14:09:15] type: valid epoch 400: 100%|██████████| 243/243 [00:33<00:00,  7.30it/s]\n",
      "[14:09:48] type: train epoch 401:   0%|          | 0/2194 [00:00<?, ?it/s]"
     ]
    },
    {
     "name": "stdout",
     "output_type": "stream",
     "text": [
      "avg_loss: 1.2776 | avg_acc: 0.5000\n",
      "\n"
     ]
    },
    {
     "name": "stderr",
     "output_type": "stream",
     "text": [
      "[14:09:48] type: train epoch 401: 100%|██████████| 2194/2194 [15:10<00:00,  2.41it/s]\n",
      "[14:25:00] type: valid epoch 401:   0%|          | 1/243 [00:00<00:33,  7.32it/s]"
     ]
    },
    {
     "name": "stdout",
     "output_type": "stream",
     "text": [
      "avg_loss: 1.2306 | avg_acc: 0.5125\n"
     ]
    },
    {
     "name": "stderr",
     "output_type": "stream",
     "text": [
      "[14:25:00] type: valid epoch 401: 100%|██████████| 243/243 [00:33<00:00,  7.31it/s]\n",
      "[14:25:33] type: train epoch 402:   0%|          | 0/2194 [00:00<?, ?it/s]"
     ]
    },
    {
     "name": "stdout",
     "output_type": "stream",
     "text": [
      "avg_loss: 1.2704 | avg_acc: 0.5001\n",
      "\n"
     ]
    },
    {
     "name": "stderr",
     "output_type": "stream",
     "text": [
      "[14:25:33] type: train epoch 402: 100%|██████████| 2194/2194 [15:10<00:00,  2.41it/s]\n",
      "[14:40:44] type: valid epoch 402:   0%|          | 1/243 [00:00<00:31,  7.79it/s]"
     ]
    },
    {
     "name": "stdout",
     "output_type": "stream",
     "text": [
      "avg_loss: 1.2306 | avg_acc: 0.5127\n"
     ]
    },
    {
     "name": "stderr",
     "output_type": "stream",
     "text": [
      "[14:40:44] type: valid epoch 402: 100%|██████████| 243/243 [00:33<00:00,  7.32it/s]\n",
      "[14:41:17] type: train epoch 403:   0%|          | 0/2194 [00:00<?, ?it/s]"
     ]
    },
    {
     "name": "stdout",
     "output_type": "stream",
     "text": [
      "avg_loss: 1.2799 | avg_acc: 0.5003\n",
      "\n"
     ]
    },
    {
     "name": "stderr",
     "output_type": "stream",
     "text": [
      "[14:41:17] type: train epoch 403: 100%|██████████| 2194/2194 [15:09<00:00,  2.41it/s]\n",
      "[14:56:28] type: valid epoch 403:   0%|          | 1/243 [00:00<00:36,  6.61it/s]"
     ]
    },
    {
     "name": "stdout",
     "output_type": "stream",
     "text": [
      "avg_loss: 1.2308 | avg_acc: 0.5125\n"
     ]
    },
    {
     "name": "stderr",
     "output_type": "stream",
     "text": [
      "[14:56:28] type: valid epoch 403: 100%|██████████| 243/243 [00:33<00:00,  7.33it/s]\n",
      "[14:57:01] type: train epoch 404:   0%|          | 0/2194 [00:00<?, ?it/s]"
     ]
    },
    {
     "name": "stdout",
     "output_type": "stream",
     "text": [
      "avg_loss: 1.2776 | avg_acc: 0.5005\n",
      "\n"
     ]
    },
    {
     "name": "stderr",
     "output_type": "stream",
     "text": [
      "[14:57:01] type: train epoch 404: 100%|██████████| 2194/2194 [15:09<00:00,  2.41it/s]\n",
      "[15:12:11] type: valid epoch 404:   0%|          | 1/243 [00:00<00:33,  7.21it/s]"
     ]
    },
    {
     "name": "stdout",
     "output_type": "stream",
     "text": [
      "avg_loss: 1.2306 | avg_acc: 0.5120\n"
     ]
    },
    {
     "name": "stderr",
     "output_type": "stream",
     "text": [
      "[15:12:11] type: valid epoch 404: 100%|██████████| 243/243 [00:33<00:00,  7.36it/s]\n",
      "[15:12:44] type: train epoch 405:   0%|          | 0/2194 [00:00<?, ?it/s]"
     ]
    },
    {
     "name": "stdout",
     "output_type": "stream",
     "text": [
      "avg_loss: 1.2737 | avg_acc: 0.4998\n",
      "\n"
     ]
    },
    {
     "name": "stderr",
     "output_type": "stream",
     "text": [
      "[15:12:44] type: train epoch 405: 100%|██████████| 2194/2194 [15:09<00:00,  2.41it/s]\n",
      "[15:27:53] type: valid epoch 405:   0%|          | 1/243 [00:00<00:33,  7.23it/s]"
     ]
    },
    {
     "name": "stdout",
     "output_type": "stream",
     "text": [
      "avg_loss: 1.2303 | avg_acc: 0.5118\n"
     ]
    },
    {
     "name": "stderr",
     "output_type": "stream",
     "text": [
      "[15:27:53] type: valid epoch 405: 100%|██████████| 243/243 [00:33<00:00,  7.34it/s]\n",
      "[15:28:27] type: train epoch 406:   0%|          | 0/2194 [00:00<?, ?it/s]"
     ]
    },
    {
     "name": "stdout",
     "output_type": "stream",
     "text": [
      "avg_loss: 1.2744 | avg_acc: 0.5005\n",
      "\n"
     ]
    },
    {
     "name": "stderr",
     "output_type": "stream",
     "text": [
      "[15:28:27] type: train epoch 406: 100%|██████████| 2194/2194 [15:10<00:00,  2.41it/s]\n",
      "[15:43:38] type: valid epoch 406:   0%|          | 0/243 [00:00<?, ?it/s]"
     ]
    },
    {
     "name": "stdout",
     "output_type": "stream",
     "text": [
      "avg_loss: 1.2303 | avg_acc: 0.5128\n"
     ]
    },
    {
     "name": "stderr",
     "output_type": "stream",
     "text": [
      "[15:43:38] type: valid epoch 406: 100%|██████████| 243/243 [00:33<00:00,  7.31it/s]\n",
      "[15:44:11] type: train epoch 407:   0%|          | 0/2194 [00:00<?, ?it/s]"
     ]
    },
    {
     "name": "stdout",
     "output_type": "stream",
     "text": [
      "avg_loss: 1.2739 | avg_acc: 0.5003\n",
      "\n"
     ]
    },
    {
     "name": "stderr",
     "output_type": "stream",
     "text": [
      "[15:44:11] type: train epoch 407: 100%|██████████| 2194/2194 [15:09<00:00,  2.41it/s]\n",
      "[15:59:21] type: valid epoch 407:   0%|          | 1/243 [00:00<00:32,  7.48it/s]"
     ]
    },
    {
     "name": "stdout",
     "output_type": "stream",
     "text": [
      "avg_loss: 1.2304 | avg_acc: 0.5123\n"
     ]
    },
    {
     "name": "stderr",
     "output_type": "stream",
     "text": [
      "[15:59:21] type: valid epoch 407: 100%|██████████| 243/243 [00:33<00:00,  7.32it/s]\n",
      "[15:59:55] type: train epoch 408:   0%|          | 0/2194 [00:00<?, ?it/s]"
     ]
    },
    {
     "name": "stdout",
     "output_type": "stream",
     "text": [
      "avg_loss: 1.2716 | avg_acc: 0.5004\n",
      "\n"
     ]
    },
    {
     "name": "stderr",
     "output_type": "stream",
     "text": [
      "[15:59:55] type: train epoch 408: 100%|██████████| 2194/2194 [15:08<00:00,  2.42it/s]\n",
      "[16:15:03] type: valid epoch 408:   0%|          | 1/243 [00:00<00:31,  7.57it/s]"
     ]
    },
    {
     "name": "stdout",
     "output_type": "stream",
     "text": [
      "avg_loss: 1.2305 | avg_acc: 0.5121\n"
     ]
    },
    {
     "name": "stderr",
     "output_type": "stream",
     "text": [
      "[16:15:03] type: valid epoch 408: 100%|██████████| 243/243 [00:33<00:00,  7.34it/s]\n",
      "[16:15:37] type: train epoch 409:   0%|          | 0/2194 [00:00<?, ?it/s]"
     ]
    },
    {
     "name": "stdout",
     "output_type": "stream",
     "text": [
      "avg_loss: 1.2738 | avg_acc: 0.5008\n",
      "\n"
     ]
    },
    {
     "name": "stderr",
     "output_type": "stream",
     "text": [
      "[16:15:37] type: train epoch 409: 100%|██████████| 2194/2194 [15:04<00:00,  2.43it/s]\n",
      "[16:30:41] type: valid epoch 409:   0%|          | 1/243 [00:00<00:32,  7.46it/s]"
     ]
    },
    {
     "name": "stdout",
     "output_type": "stream",
     "text": [
      "avg_loss: 1.2301 | avg_acc: 0.5121\n"
     ]
    },
    {
     "name": "stderr",
     "output_type": "stream",
     "text": [
      "[16:30:41] type: valid epoch 409: 100%|██████████| 243/243 [00:33<00:00,  7.35it/s]\n",
      "[16:31:15] type: train epoch 410:   0%|          | 0/2194 [00:00<?, ?it/s]"
     ]
    },
    {
     "name": "stdout",
     "output_type": "stream",
     "text": [
      "avg_loss: 1.2779 | avg_acc: 0.5005\n",
      "\n"
     ]
    },
    {
     "name": "stderr",
     "output_type": "stream",
     "text": [
      "[16:31:15] type: train epoch 410: 100%|██████████| 2194/2194 [15:04<00:00,  2.43it/s]\n",
      "[16:46:20] type: valid epoch 410:   0%|          | 1/243 [00:00<00:32,  7.46it/s]"
     ]
    },
    {
     "name": "stdout",
     "output_type": "stream",
     "text": [
      "avg_loss: 1.2301 | avg_acc: 0.5121\n"
     ]
    },
    {
     "name": "stderr",
     "output_type": "stream",
     "text": [
      "[16:46:20] type: valid epoch 410: 100%|██████████| 243/243 [00:32<00:00,  7.37it/s]\n",
      "[16:46:53] type: train epoch 411:   0%|          | 0/2194 [00:00<?, ?it/s]"
     ]
    },
    {
     "name": "stdout",
     "output_type": "stream",
     "text": [
      "avg_loss: 1.2818 | avg_acc: 0.5003\n",
      "\n"
     ]
    },
    {
     "name": "stderr",
     "output_type": "stream",
     "text": [
      "[16:46:53] type: train epoch 411: 100%|██████████| 2194/2194 [15:06<00:00,  2.42it/s]\n",
      "[17:02:00] type: valid epoch 411:   0%|          | 1/243 [00:00<00:31,  7.69it/s]"
     ]
    },
    {
     "name": "stdout",
     "output_type": "stream",
     "text": [
      "avg_loss: 1.2302 | avg_acc: 0.5115\n"
     ]
    },
    {
     "name": "stderr",
     "output_type": "stream",
     "text": [
      "[17:02:00] type: valid epoch 411: 100%|██████████| 243/243 [00:33<00:00,  7.34it/s]\n",
      "[17:02:33] type: train epoch 412:   0%|          | 0/2194 [00:00<?, ?it/s]"
     ]
    },
    {
     "name": "stdout",
     "output_type": "stream",
     "text": [
      "avg_loss: 1.2698 | avg_acc: 0.5003\n",
      "\n"
     ]
    },
    {
     "name": "stderr",
     "output_type": "stream",
     "text": [
      "[17:02:33] type: train epoch 412: 100%|██████████| 2194/2194 [15:07<00:00,  2.42it/s]\n",
      "[17:17:41] type: valid epoch 412:   0%|          | 1/243 [00:00<00:35,  6.90it/s]"
     ]
    },
    {
     "name": "stdout",
     "output_type": "stream",
     "text": [
      "avg_loss: 1.2303 | avg_acc: 0.5122\n"
     ]
    },
    {
     "name": "stderr",
     "output_type": "stream",
     "text": [
      "[17:17:41] type: valid epoch 412: 100%|██████████| 243/243 [00:32<00:00,  7.37it/s]\n",
      "[17:18:14] type: train epoch 413:   0%|          | 0/2194 [00:00<?, ?it/s]"
     ]
    },
    {
     "name": "stdout",
     "output_type": "stream",
     "text": [
      "avg_loss: 1.2690 | avg_acc: 0.5000\n",
      "\n"
     ]
    },
    {
     "name": "stderr",
     "output_type": "stream",
     "text": [
      "[17:18:14] type: train epoch 413: 100%|██████████| 2194/2194 [15:07<00:00,  2.42it/s]\n",
      "[17:33:21] type: valid epoch 413:   0%|          | 1/243 [00:00<00:32,  7.56it/s]"
     ]
    },
    {
     "name": "stdout",
     "output_type": "stream",
     "text": [
      "avg_loss: 1.2294 | avg_acc: 0.5126\n"
     ]
    },
    {
     "name": "stderr",
     "output_type": "stream",
     "text": [
      "[17:33:21] type: valid epoch 413: 100%|██████████| 243/243 [00:32<00:00,  7.37it/s]\n",
      "[17:33:54] type: train epoch 414:   0%|          | 0/2194 [00:00<?, ?it/s]"
     ]
    },
    {
     "name": "stdout",
     "output_type": "stream",
     "text": [
      "avg_loss: 1.2695 | avg_acc: 0.5005\n",
      "\n"
     ]
    },
    {
     "name": "stderr",
     "output_type": "stream",
     "text": [
      "[17:33:54] type: train epoch 414: 100%|██████████| 2194/2194 [15:05<00:00,  2.42it/s]\n",
      "[17:49:00] type: valid epoch 414:   0%|          | 1/243 [00:00<00:32,  7.52it/s]"
     ]
    },
    {
     "name": "stdout",
     "output_type": "stream",
     "text": [
      "avg_loss: 1.2302 | avg_acc: 0.5121\n"
     ]
    },
    {
     "name": "stderr",
     "output_type": "stream",
     "text": [
      "[17:49:00] type: valid epoch 414: 100%|██████████| 243/243 [00:32<00:00,  7.40it/s]\n",
      "[17:49:33] type: train epoch 415:   0%|          | 0/2194 [00:00<?, ?it/s]"
     ]
    },
    {
     "name": "stdout",
     "output_type": "stream",
     "text": [
      "avg_loss: 1.2742 | avg_acc: 0.5007\n",
      "\n"
     ]
    },
    {
     "name": "stderr",
     "output_type": "stream",
     "text": [
      "[17:49:33] type: train epoch 415: 100%|██████████| 2194/2194 [15:04<00:00,  2.43it/s]\n",
      "[18:04:38] type: valid epoch 415:   0%|          | 1/243 [00:00<00:35,  6.91it/s]"
     ]
    },
    {
     "name": "stdout",
     "output_type": "stream",
     "text": [
      "avg_loss: 1.2308 | avg_acc: 0.5122\n"
     ]
    },
    {
     "name": "stderr",
     "output_type": "stream",
     "text": [
      "[18:04:38] type: valid epoch 415: 100%|██████████| 243/243 [00:33<00:00,  7.35it/s]\n",
      "[18:05:11] type: train epoch 416:   0%|          | 0/2194 [00:00<?, ?it/s]"
     ]
    },
    {
     "name": "stdout",
     "output_type": "stream",
     "text": [
      "avg_loss: 1.2702 | avg_acc: 0.5003\n",
      "\n"
     ]
    },
    {
     "name": "stderr",
     "output_type": "stream",
     "text": [
      "[18:05:11] type: train epoch 416: 100%|██████████| 2194/2194 [15:06<00:00,  2.42it/s]\n",
      "[18:20:17] type: valid epoch 416:   0%|          | 1/243 [00:00<00:31,  7.57it/s]"
     ]
    },
    {
     "name": "stdout",
     "output_type": "stream",
     "text": [
      "avg_loss: 1.2300 | avg_acc: 0.5122\n"
     ]
    },
    {
     "name": "stderr",
     "output_type": "stream",
     "text": [
      "[18:20:17] type: valid epoch 416: 100%|██████████| 243/243 [00:32<00:00,  7.38it/s]\n",
      "[18:20:51] type: train epoch 417:   0%|          | 0/2194 [00:00<?, ?it/s]"
     ]
    },
    {
     "name": "stdout",
     "output_type": "stream",
     "text": [
      "avg_loss: 1.2775 | avg_acc: 0.5001\n",
      "\n"
     ]
    },
    {
     "name": "stderr",
     "output_type": "stream",
     "text": [
      "[18:20:51] type: train epoch 417: 100%|██████████| 2194/2194 [15:05<00:00,  2.42it/s]\n",
      "[18:35:56] type: valid epoch 417:   0%|          | 1/243 [00:00<00:33,  7.17it/s]"
     ]
    },
    {
     "name": "stdout",
     "output_type": "stream",
     "text": [
      "avg_loss: 1.2293 | avg_acc: 0.5130\n"
     ]
    },
    {
     "name": "stderr",
     "output_type": "stream",
     "text": [
      "[18:35:56] type: valid epoch 417: 100%|██████████| 243/243 [00:33<00:00,  7.35it/s]\n",
      "[18:36:30] type: train epoch 418:   0%|          | 0/2194 [00:00<?, ?it/s]"
     ]
    },
    {
     "name": "stdout",
     "output_type": "stream",
     "text": [
      "avg_loss: 1.2904 | avg_acc: 0.5002\n",
      "\n"
     ]
    },
    {
     "name": "stderr",
     "output_type": "stream",
     "text": [
      "[18:36:30] type: train epoch 418: 100%|██████████| 2194/2194 [15:04<00:00,  2.43it/s]\n",
      "[18:51:34] type: valid epoch 418:   0%|          | 1/243 [00:00<00:32,  7.52it/s]"
     ]
    },
    {
     "name": "stdout",
     "output_type": "stream",
     "text": [
      "avg_loss: 1.2299 | avg_acc: 0.5125\n"
     ]
    },
    {
     "name": "stderr",
     "output_type": "stream",
     "text": [
      "[18:51:34] type: valid epoch 418: 100%|██████████| 243/243 [00:32<00:00,  7.39it/s]\n",
      "[18:52:07] type: train epoch 419:   0%|          | 0/2194 [00:00<?, ?it/s]"
     ]
    },
    {
     "name": "stdout",
     "output_type": "stream",
     "text": [
      "avg_loss: 1.2805 | avg_acc: 0.5005\n",
      "\n"
     ]
    },
    {
     "name": "stderr",
     "output_type": "stream",
     "text": [
      "[18:52:07] type: train epoch 419: 100%|██████████| 2194/2194 [15:03<00:00,  2.43it/s]\n",
      "[19:07:12] type: valid epoch 419:   0%|          | 1/243 [00:00<00:32,  7.37it/s]"
     ]
    },
    {
     "name": "stdout",
     "output_type": "stream",
     "text": [
      "avg_loss: 1.2300 | avg_acc: 0.5118\n"
     ]
    },
    {
     "name": "stderr",
     "output_type": "stream",
     "text": [
      "[19:07:12] type: valid epoch 419: 100%|██████████| 243/243 [00:33<00:00,  7.35it/s]\n",
      "[19:07:45] type: train epoch 420:   0%|          | 0/2194 [00:00<?, ?it/s]"
     ]
    },
    {
     "name": "stdout",
     "output_type": "stream",
     "text": [
      "avg_loss: 1.2770 | avg_acc: 0.5003\n",
      "\n"
     ]
    },
    {
     "name": "stderr",
     "output_type": "stream",
     "text": [
      "[19:07:45] type: train epoch 420: 100%|██████████| 2194/2194 [15:05<00:00,  2.42it/s]\n",
      "[19:22:50] type: valid epoch 420:   0%|          | 1/243 [00:00<00:31,  7.66it/s]"
     ]
    },
    {
     "name": "stdout",
     "output_type": "stream",
     "text": [
      "avg_loss: 1.2297 | avg_acc: 0.5123\n"
     ]
    },
    {
     "name": "stderr",
     "output_type": "stream",
     "text": [
      "[19:22:50] type: valid epoch 420: 100%|██████████| 243/243 [00:33<00:00,  7.33it/s]\n",
      "[19:23:24] type: train epoch 421:   0%|          | 0/2194 [00:00<?, ?it/s]"
     ]
    },
    {
     "name": "stdout",
     "output_type": "stream",
     "text": [
      "avg_loss: 1.2808 | avg_acc: 0.5000\n",
      "\n"
     ]
    },
    {
     "name": "stderr",
     "output_type": "stream",
     "text": [
      "[19:23:24] type: train epoch 421: 100%|██████████| 2194/2194 [15:08<00:00,  2.42it/s]\n",
      "[19:38:32] type: valid epoch 421:   0%|          | 1/243 [00:00<00:31,  7.58it/s]"
     ]
    },
    {
     "name": "stdout",
     "output_type": "stream",
     "text": [
      "avg_loss: 1.2294 | avg_acc: 0.5119\n"
     ]
    },
    {
     "name": "stderr",
     "output_type": "stream",
     "text": [
      "[19:38:32] type: valid epoch 421: 100%|██████████| 243/243 [00:33<00:00,  7.34it/s]\n",
      "[19:39:06] type: train epoch 422:   0%|          | 0/2194 [00:00<?, ?it/s]"
     ]
    },
    {
     "name": "stdout",
     "output_type": "stream",
     "text": [
      "avg_loss: 1.2778 | avg_acc: 0.5002\n",
      "\n"
     ]
    },
    {
     "name": "stderr",
     "output_type": "stream",
     "text": [
      "[19:39:06] type: train epoch 422: 100%|██████████| 2194/2194 [15:07<00:00,  2.42it/s]\n",
      "[19:54:13] type: valid epoch 422:   0%|          | 1/243 [00:00<00:32,  7.36it/s]"
     ]
    },
    {
     "name": "stdout",
     "output_type": "stream",
     "text": [
      "avg_loss: 1.2304 | avg_acc: 0.5122\n"
     ]
    },
    {
     "name": "stderr",
     "output_type": "stream",
     "text": [
      "[19:54:13] type: valid epoch 422: 100%|██████████| 243/243 [00:33<00:00,  7.35it/s]\n",
      "[19:54:46] type: train epoch 423:   0%|          | 0/2194 [00:00<?, ?it/s]"
     ]
    },
    {
     "name": "stdout",
     "output_type": "stream",
     "text": [
      "avg_loss: 1.2770 | avg_acc: 0.5000\n",
      "\n"
     ]
    },
    {
     "name": "stderr",
     "output_type": "stream",
     "text": [
      "[19:54:46] type: train epoch 423: 100%|██████████| 2194/2194 [15:08<00:00,  2.41it/s]\n",
      "[20:09:55] type: valid epoch 423:   0%|          | 1/243 [00:00<00:31,  7.59it/s]"
     ]
    },
    {
     "name": "stdout",
     "output_type": "stream",
     "text": [
      "avg_loss: 1.2296 | avg_acc: 0.5122\n"
     ]
    },
    {
     "name": "stderr",
     "output_type": "stream",
     "text": [
      "[20:09:55] type: valid epoch 423: 100%|██████████| 243/243 [00:32<00:00,  7.37it/s]\n",
      "[20:10:29] type: train epoch 424:   0%|          | 0/2194 [00:00<?, ?it/s]"
     ]
    },
    {
     "name": "stdout",
     "output_type": "stream",
     "text": [
      "avg_loss: 1.2859 | avg_acc: 0.5007\n",
      "\n"
     ]
    },
    {
     "name": "stderr",
     "output_type": "stream",
     "text": [
      "[20:10:29] type: train epoch 424: 100%|██████████| 2194/2194 [15:07<00:00,  2.42it/s]\n",
      "[20:25:37] type: valid epoch 424:   0%|          | 1/243 [00:00<00:32,  7.55it/s]"
     ]
    },
    {
     "name": "stdout",
     "output_type": "stream",
     "text": [
      "avg_loss: 1.2301 | avg_acc: 0.5115\n"
     ]
    },
    {
     "name": "stderr",
     "output_type": "stream",
     "text": [
      "[20:25:37] type: valid epoch 424: 100%|██████████| 243/243 [00:32<00:00,  7.37it/s]\n",
      "[20:26:10] type: train epoch 425:   0%|          | 0/2194 [00:00<?, ?it/s]"
     ]
    },
    {
     "name": "stdout",
     "output_type": "stream",
     "text": [
      "avg_loss: 1.2789 | avg_acc: 0.5002\n",
      "\n"
     ]
    },
    {
     "name": "stderr",
     "output_type": "stream",
     "text": [
      "[20:26:10] type: train epoch 425: 100%|██████████| 2194/2194 [15:05<00:00,  2.42it/s]\n",
      "[20:41:16] type: valid epoch 425:   0%|          | 1/243 [00:00<00:32,  7.53it/s]"
     ]
    },
    {
     "name": "stdout",
     "output_type": "stream",
     "text": [
      "avg_loss: 1.2302 | avg_acc: 0.5127\n"
     ]
    },
    {
     "name": "stderr",
     "output_type": "stream",
     "text": [
      "[20:41:16] type: valid epoch 425: 100%|██████████| 243/243 [00:33<00:00,  7.33it/s]\n",
      "[20:41:49] type: train epoch 426:   0%|          | 0/2194 [00:00<?, ?it/s]"
     ]
    },
    {
     "name": "stdout",
     "output_type": "stream",
     "text": [
      "avg_loss: 1.2885 | avg_acc: 0.5001\n",
      "\n"
     ]
    },
    {
     "name": "stderr",
     "output_type": "stream",
     "text": [
      "[20:41:49] type: train epoch 426: 100%|██████████| 2194/2194 [15:08<00:00,  2.42it/s]\n",
      "[20:56:58] type: valid epoch 426:   0%|          | 1/243 [00:00<00:32,  7.55it/s]"
     ]
    },
    {
     "name": "stdout",
     "output_type": "stream",
     "text": [
      "avg_loss: 1.2300 | avg_acc: 0.5124\n"
     ]
    },
    {
     "name": "stderr",
     "output_type": "stream",
     "text": [
      "[20:56:58] type: valid epoch 426: 100%|██████████| 243/243 [00:33<00:00,  7.33it/s]\n",
      "[20:57:31] type: train epoch 427:   0%|          | 0/2194 [00:00<?, ?it/s]"
     ]
    },
    {
     "name": "stdout",
     "output_type": "stream",
     "text": [
      "avg_loss: 1.2909 | avg_acc: 0.5001\n",
      "\n"
     ]
    },
    {
     "name": "stderr",
     "output_type": "stream",
     "text": [
      "[20:57:31] type: train epoch 427: 100%|██████████| 2194/2194 [15:07<00:00,  2.42it/s]\n",
      "[21:12:40] type: valid epoch 427:   0%|          | 1/243 [00:00<00:32,  7.53it/s]"
     ]
    },
    {
     "name": "stdout",
     "output_type": "stream",
     "text": [
      "avg_loss: 1.2304 | avg_acc: 0.5126\n"
     ]
    },
    {
     "name": "stderr",
     "output_type": "stream",
     "text": [
      "[21:12:40] type: valid epoch 427: 100%|██████████| 243/243 [00:33<00:00,  7.34it/s]\n",
      "[21:13:13] type: train epoch 428:   0%|          | 0/2194 [00:00<?, ?it/s]"
     ]
    },
    {
     "name": "stdout",
     "output_type": "stream",
     "text": [
      "avg_loss: 1.2848 | avg_acc: 0.5004\n",
      "\n"
     ]
    },
    {
     "name": "stderr",
     "output_type": "stream",
     "text": [
      "[21:13:13] type: train epoch 428: 100%|██████████| 2194/2194 [15:09<00:00,  2.41it/s]\n",
      "[21:28:23] type: valid epoch 428:   0%|          | 1/243 [00:00<00:32,  7.54it/s]"
     ]
    },
    {
     "name": "stdout",
     "output_type": "stream",
     "text": [
      "avg_loss: 1.2295 | avg_acc: 0.5119\n"
     ]
    },
    {
     "name": "stderr",
     "output_type": "stream",
     "text": [
      "[21:28:23] type: valid epoch 428: 100%|██████████| 243/243 [00:33<00:00,  7.35it/s]\n",
      "[21:28:56] type: train epoch 429:   0%|          | 0/2194 [00:00<?, ?it/s]"
     ]
    },
    {
     "name": "stdout",
     "output_type": "stream",
     "text": [
      "avg_loss: 1.2903 | avg_acc: 0.5001\n",
      "\n"
     ]
    },
    {
     "name": "stderr",
     "output_type": "stream",
     "text": [
      "[21:28:56] type: train epoch 429: 100%|██████████| 2194/2194 [15:05<00:00,  2.42it/s]\n",
      "[21:44:02] type: valid epoch 429:   0%|          | 1/243 [00:00<00:31,  7.66it/s]"
     ]
    },
    {
     "name": "stdout",
     "output_type": "stream",
     "text": [
      "avg_loss: 1.2301 | avg_acc: 0.5125\n"
     ]
    },
    {
     "name": "stderr",
     "output_type": "stream",
     "text": [
      "[21:44:02] type: valid epoch 429: 100%|██████████| 243/243 [00:32<00:00,  7.37it/s]\n",
      "[21:44:35] type: train epoch 430:   0%|          | 0/2194 [00:00<?, ?it/s]"
     ]
    },
    {
     "name": "stdout",
     "output_type": "stream",
     "text": [
      "avg_loss: 1.2760 | avg_acc: 0.5006\n",
      "\n"
     ]
    },
    {
     "name": "stderr",
     "output_type": "stream",
     "text": [
      "[21:44:35] type: train epoch 430: 100%|██████████| 2194/2194 [15:03<00:00,  2.43it/s]\n",
      "[21:59:39] type: valid epoch 430:   0%|          | 1/243 [00:00<00:33,  7.25it/s]"
     ]
    },
    {
     "name": "stdout",
     "output_type": "stream",
     "text": [
      "avg_loss: 1.2298 | avg_acc: 0.5129\n"
     ]
    },
    {
     "name": "stderr",
     "output_type": "stream",
     "text": [
      "[21:59:39] type: valid epoch 430: 100%|██████████| 243/243 [00:32<00:00,  7.37it/s]\n",
      "[22:00:12] type: train epoch 431:   0%|          | 0/2194 [00:00<?, ?it/s]"
     ]
    },
    {
     "name": "stdout",
     "output_type": "stream",
     "text": [
      "avg_loss: 1.2738 | avg_acc: 0.5001\n",
      "\n"
     ]
    },
    {
     "name": "stderr",
     "output_type": "stream",
     "text": [
      "[22:00:12] type: train epoch 431: 100%|██████████| 2194/2194 [15:04<00:00,  2.42it/s]\n",
      "[22:15:18] type: valid epoch 431:   0%|          | 0/243 [00:00<?, ?it/s]"
     ]
    },
    {
     "name": "stdout",
     "output_type": "stream",
     "text": [
      "avg_loss: 1.2306 | avg_acc: 0.5119\n"
     ]
    },
    {
     "name": "stderr",
     "output_type": "stream",
     "text": [
      "[22:15:18] type: valid epoch 431: 100%|██████████| 243/243 [00:33<00:00,  7.35it/s]\n",
      "[22:15:51] type: train epoch 432:   0%|          | 0/2194 [00:00<?, ?it/s]"
     ]
    },
    {
     "name": "stdout",
     "output_type": "stream",
     "text": [
      "avg_loss: 1.2641 | avg_acc: 0.5003\n",
      "\n"
     ]
    },
    {
     "name": "stderr",
     "output_type": "stream",
     "text": [
      "[22:15:51] type: train epoch 432: 100%|██████████| 2194/2194 [15:06<00:00,  2.42it/s]\n",
      "[22:30:58] type: valid epoch 432:   0%|          | 1/243 [00:00<00:34,  7.03it/s]"
     ]
    },
    {
     "name": "stdout",
     "output_type": "stream",
     "text": [
      "avg_loss: 1.2293 | avg_acc: 0.5127\n"
     ]
    },
    {
     "name": "stderr",
     "output_type": "stream",
     "text": [
      "[22:30:58] type: valid epoch 432: 100%|██████████| 243/243 [00:33<00:00,  7.34it/s]\n",
      "[22:31:31] type: train epoch 433:   0%|          | 0/2194 [00:00<?, ?it/s]"
     ]
    },
    {
     "name": "stdout",
     "output_type": "stream",
     "text": [
      "avg_loss: 1.2719 | avg_acc: 0.4999\n",
      "\n"
     ]
    },
    {
     "name": "stderr",
     "output_type": "stream",
     "text": [
      "[22:31:31] type: train epoch 433: 100%|██████████| 2194/2194 [15:04<00:00,  2.43it/s]\n",
      "[22:46:37] type: valid epoch 433:   0%|          | 1/243 [00:00<00:31,  7.69it/s]"
     ]
    },
    {
     "name": "stdout",
     "output_type": "stream",
     "text": [
      "avg_loss: 1.2299 | avg_acc: 0.5124\n"
     ]
    },
    {
     "name": "stderr",
     "output_type": "stream",
     "text": [
      "[22:46:37] type: valid epoch 433: 100%|██████████| 243/243 [00:32<00:00,  7.40it/s]\n",
      "[22:47:10] type: train epoch 434:   0%|          | 0/2194 [00:00<?, ?it/s]"
     ]
    },
    {
     "name": "stdout",
     "output_type": "stream",
     "text": [
      "avg_loss: 1.2712 | avg_acc: 0.5008\n",
      "\n"
     ]
    },
    {
     "name": "stderr",
     "output_type": "stream",
     "text": [
      "[22:47:10] type: train epoch 434: 100%|██████████| 2194/2194 [15:03<00:00,  2.43it/s]\n",
      "[23:02:14] type: valid epoch 434:   0%|          | 1/243 [00:00<00:31,  7.64it/s]"
     ]
    },
    {
     "name": "stdout",
     "output_type": "stream",
     "text": [
      "avg_loss: 1.2299 | avg_acc: 0.5126\n"
     ]
    },
    {
     "name": "stderr",
     "output_type": "stream",
     "text": [
      "[23:02:14] type: valid epoch 434: 100%|██████████| 243/243 [00:32<00:00,  7.39it/s]\n",
      "[23:02:47] type: train epoch 435:   0%|          | 0/2194 [00:00<?, ?it/s]"
     ]
    },
    {
     "name": "stdout",
     "output_type": "stream",
     "text": [
      "avg_loss: 1.2726 | avg_acc: 0.4999\n",
      "\n"
     ]
    },
    {
     "name": "stderr",
     "output_type": "stream",
     "text": [
      "[23:02:47] type: train epoch 435: 100%|██████████| 2194/2194 [15:07<00:00,  2.42it/s]\n",
      "[23:17:55] type: valid epoch 435:   0%|          | 1/243 [00:00<00:32,  7.49it/s]"
     ]
    },
    {
     "name": "stdout",
     "output_type": "stream",
     "text": [
      "avg_loss: 1.2305 | avg_acc: 0.5117\n"
     ]
    },
    {
     "name": "stderr",
     "output_type": "stream",
     "text": [
      "[23:17:55] type: valid epoch 435: 100%|██████████| 243/243 [00:33<00:00,  7.36it/s]\n",
      "[23:18:28] type: train epoch 436:   0%|          | 0/2194 [00:00<?, ?it/s]"
     ]
    },
    {
     "name": "stdout",
     "output_type": "stream",
     "text": [
      "avg_loss: 1.2749 | avg_acc: 0.5000\n",
      "\n"
     ]
    },
    {
     "name": "stderr",
     "output_type": "stream",
     "text": [
      "[23:18:28] type: train epoch 436: 100%|██████████| 2194/2194 [15:07<00:00,  2.42it/s]\n",
      "[23:33:36] type: valid epoch 436:   0%|          | 1/243 [00:00<00:32,  7.52it/s]"
     ]
    },
    {
     "name": "stdout",
     "output_type": "stream",
     "text": [
      "avg_loss: 1.2301 | avg_acc: 0.5126\n"
     ]
    },
    {
     "name": "stderr",
     "output_type": "stream",
     "text": [
      "[23:33:36] type: valid epoch 436: 100%|██████████| 243/243 [00:32<00:00,  7.37it/s]\n",
      "[23:34:09] type: train epoch 437:   0%|          | 0/2194 [00:00<?, ?it/s]"
     ]
    },
    {
     "name": "stdout",
     "output_type": "stream",
     "text": [
      "avg_loss: 1.2719 | avg_acc: 0.5007\n",
      "\n"
     ]
    },
    {
     "name": "stderr",
     "output_type": "stream",
     "text": [
      "[23:34:09] type: train epoch 437: 100%|██████████| 2194/2194 [15:06<00:00,  2.42it/s]\n",
      "[23:49:16] type: valid epoch 437:   0%|          | 1/243 [00:00<00:31,  7.78it/s]"
     ]
    },
    {
     "name": "stdout",
     "output_type": "stream",
     "text": [
      "avg_loss: 1.2303 | avg_acc: 0.5126\n"
     ]
    },
    {
     "name": "stderr",
     "output_type": "stream",
     "text": [
      "[23:49:16] type: valid epoch 437: 100%|██████████| 243/243 [00:33<00:00,  7.33it/s]\n",
      "[23:49:49] type: train epoch 438:   0%|          | 0/2194 [00:00<?, ?it/s]"
     ]
    },
    {
     "name": "stdout",
     "output_type": "stream",
     "text": [
      "avg_loss: 1.2717 | avg_acc: 0.5006\n",
      "\n"
     ]
    },
    {
     "name": "stderr",
     "output_type": "stream",
     "text": [
      "[23:49:49] type: train epoch 438: 100%|██████████| 2194/2194 [15:09<00:00,  2.41it/s]\n"
     ]
    },
    {
     "name": "stdout",
     "output_type": "stream",
     "text": [
      "avg_loss: 1.2291 | avg_acc: 0.5134\n"
     ]
    },
    {
     "name": "stderr",
     "output_type": "stream",
     "text": [
      "[00:04:59] type: valid epoch 438: 100%|██████████| 243/243 [00:33<00:00,  7.32it/s]\n",
      "[00:05:32] type: train epoch 439:   0%|          | 0/2194 [00:00<?, ?it/s]"
     ]
    },
    {
     "name": "stdout",
     "output_type": "stream",
     "text": [
      "avg_loss: 1.2754 | avg_acc: 0.5005\n",
      "\n"
     ]
    },
    {
     "name": "stderr",
     "output_type": "stream",
     "text": [
      "[00:05:32] type: train epoch 439: 100%|██████████| 2194/2194 [15:10<00:00,  2.41it/s]\n",
      "[00:20:44] type: valid epoch 439:   0%|          | 1/243 [00:00<00:32,  7.53it/s]"
     ]
    },
    {
     "name": "stdout",
     "output_type": "stream",
     "text": [
      "avg_loss: 1.2303 | avg_acc: 0.5120\n"
     ]
    },
    {
     "name": "stderr",
     "output_type": "stream",
     "text": [
      "[00:20:44] type: valid epoch 439: 100%|██████████| 243/243 [00:33<00:00,  7.33it/s]\n",
      "[00:21:17] type: train epoch 440:   0%|          | 0/2194 [00:00<?, ?it/s]"
     ]
    },
    {
     "name": "stdout",
     "output_type": "stream",
     "text": [
      "avg_loss: 1.2700 | avg_acc: 0.5004\n",
      "\n"
     ]
    },
    {
     "name": "stderr",
     "output_type": "stream",
     "text": [
      "[00:21:17] type: train epoch 440: 100%|██████████| 2194/2194 [15:08<00:00,  2.41it/s]\n",
      "[00:36:26] type: valid epoch 440:   0%|          | 1/243 [00:00<00:31,  7.59it/s]"
     ]
    },
    {
     "name": "stdout",
     "output_type": "stream",
     "text": [
      "avg_loss: 1.2292 | avg_acc: 0.5123\n"
     ]
    },
    {
     "name": "stderr",
     "output_type": "stream",
     "text": [
      "[00:36:26] type: valid epoch 440: 100%|██████████| 243/243 [00:33<00:00,  7.33it/s]\n",
      "[00:36:59] type: train epoch 441:   0%|          | 0/2194 [00:00<?, ?it/s]"
     ]
    },
    {
     "name": "stdout",
     "output_type": "stream",
     "text": [
      "avg_loss: 1.2795 | avg_acc: 0.5003\n",
      "\n"
     ]
    },
    {
     "name": "stderr",
     "output_type": "stream",
     "text": [
      "[00:36:59] type: train epoch 441: 100%|██████████| 2194/2194 [15:07<00:00,  2.42it/s]\n",
      "[00:52:07] type: valid epoch 441:   0%|          | 1/243 [00:00<00:33,  7.28it/s]"
     ]
    },
    {
     "name": "stdout",
     "output_type": "stream",
     "text": [
      "avg_loss: 1.2301 | avg_acc: 0.5122\n"
     ]
    },
    {
     "name": "stderr",
     "output_type": "stream",
     "text": [
      "[00:52:07] type: valid epoch 441: 100%|██████████| 243/243 [00:33<00:00,  7.35it/s]\n",
      "[00:52:40] type: train epoch 442:   0%|          | 0/2194 [00:00<?, ?it/s]"
     ]
    },
    {
     "name": "stdout",
     "output_type": "stream",
     "text": [
      "avg_loss: 1.2719 | avg_acc: 0.4998\n",
      "\n"
     ]
    },
    {
     "name": "stderr",
     "output_type": "stream",
     "text": [
      "[00:52:40] type: train epoch 442: 100%|██████████| 2194/2194 [15:08<00:00,  2.41it/s]\n",
      "[01:07:50] type: valid epoch 442:   0%|          | 1/243 [00:00<00:32,  7.51it/s]"
     ]
    },
    {
     "name": "stdout",
     "output_type": "stream",
     "text": [
      "avg_loss: 1.2297 | avg_acc: 0.5123\n"
     ]
    },
    {
     "name": "stderr",
     "output_type": "stream",
     "text": [
      "[01:07:50] type: valid epoch 442: 100%|██████████| 243/243 [00:33<00:00,  7.36it/s]\n",
      "[01:08:23] type: train epoch 443:   0%|          | 0/2194 [00:00<?, ?it/s]"
     ]
    },
    {
     "name": "stdout",
     "output_type": "stream",
     "text": [
      "avg_loss: 1.2697 | avg_acc: 0.5001\n",
      "\n"
     ]
    },
    {
     "name": "stderr",
     "output_type": "stream",
     "text": [
      "[01:08:23] type: train epoch 443: 100%|██████████| 2194/2194 [15:04<00:00,  2.43it/s]\n",
      "[01:23:27] type: valid epoch 443:   0%|          | 1/243 [00:00<00:32,  7.53it/s]"
     ]
    },
    {
     "name": "stdout",
     "output_type": "stream",
     "text": [
      "avg_loss: 1.2292 | avg_acc: 0.5124\n"
     ]
    },
    {
     "name": "stderr",
     "output_type": "stream",
     "text": [
      "[01:23:27] type: valid epoch 443: 100%|██████████| 243/243 [00:33<00:00,  7.35it/s]\n",
      "[01:24:01] type: train epoch 444:   0%|          | 0/2194 [00:00<?, ?it/s]"
     ]
    },
    {
     "name": "stdout",
     "output_type": "stream",
     "text": [
      "avg_loss: 1.2722 | avg_acc: 0.5002\n",
      "\n"
     ]
    },
    {
     "name": "stderr",
     "output_type": "stream",
     "text": [
      "[01:24:01] type: train epoch 444: 100%|██████████| 2194/2194 [15:05<00:00,  2.42it/s]\n",
      "[01:39:07] type: valid epoch 444:   0%|          | 1/243 [00:00<00:32,  7.49it/s]"
     ]
    },
    {
     "name": "stdout",
     "output_type": "stream",
     "text": [
      "avg_loss: 1.2294 | avg_acc: 0.5120\n"
     ]
    },
    {
     "name": "stderr",
     "output_type": "stream",
     "text": [
      "[01:39:07] type: valid epoch 444: 100%|██████████| 243/243 [00:33<00:00,  7.35it/s]\n",
      "[01:39:40] type: train epoch 445:   0%|          | 0/2194 [00:00<?, ?it/s]"
     ]
    },
    {
     "name": "stdout",
     "output_type": "stream",
     "text": [
      "avg_loss: 1.2745 | avg_acc: 0.5003\n",
      "\n"
     ]
    },
    {
     "name": "stderr",
     "output_type": "stream",
     "text": [
      "[01:39:40] type: train epoch 445: 100%|██████████| 2194/2194 [15:06<00:00,  2.42it/s]\n",
      "[01:54:47] type: valid epoch 445:   0%|          | 1/243 [00:00<00:32,  7.53it/s]"
     ]
    },
    {
     "name": "stdout",
     "output_type": "stream",
     "text": [
      "avg_loss: 1.2300 | avg_acc: 0.5114\n"
     ]
    },
    {
     "name": "stderr",
     "output_type": "stream",
     "text": [
      "[01:54:47] type: valid epoch 445: 100%|██████████| 243/243 [00:33<00:00,  7.34it/s]\n",
      "[01:55:20] type: train epoch 446:   0%|          | 0/2194 [00:00<?, ?it/s]"
     ]
    },
    {
     "name": "stdout",
     "output_type": "stream",
     "text": [
      "avg_loss: 1.2700 | avg_acc: 0.5003\n",
      "\n"
     ]
    },
    {
     "name": "stderr",
     "output_type": "stream",
     "text": [
      "[01:55:20] type: train epoch 446: 100%|██████████| 2194/2194 [15:06<00:00,  2.42it/s]\n",
      "[02:10:27] type: valid epoch 446:   0%|          | 0/243 [00:00<?, ?it/s]"
     ]
    },
    {
     "name": "stdout",
     "output_type": "stream",
     "text": [
      "avg_loss: 1.2298 | avg_acc: 0.5127\n"
     ]
    },
    {
     "name": "stderr",
     "output_type": "stream",
     "text": [
      "[02:10:27] type: valid epoch 446: 100%|██████████| 243/243 [00:33<00:00,  7.33it/s]\n",
      "[02:11:00] type: train epoch 447:   0%|          | 0/2194 [00:00<?, ?it/s]"
     ]
    },
    {
     "name": "stdout",
     "output_type": "stream",
     "text": [
      "avg_loss: 1.2668 | avg_acc: 0.4999\n",
      "\n"
     ]
    },
    {
     "name": "stderr",
     "output_type": "stream",
     "text": [
      "[02:11:00] type: train epoch 447: 100%|██████████| 2194/2194 [15:08<00:00,  2.41it/s]\n",
      "[02:26:10] type: valid epoch 447:   0%|          | 1/243 [00:00<00:31,  7.60it/s]"
     ]
    },
    {
     "name": "stdout",
     "output_type": "stream",
     "text": [
      "avg_loss: 1.2293 | avg_acc: 0.5122\n"
     ]
    },
    {
     "name": "stderr",
     "output_type": "stream",
     "text": [
      "[02:26:10] type: valid epoch 447: 100%|██████████| 243/243 [00:33<00:00,  7.36it/s]\n",
      "[02:26:43] type: train epoch 448:   0%|          | 0/2194 [00:00<?, ?it/s]"
     ]
    },
    {
     "name": "stdout",
     "output_type": "stream",
     "text": [
      "avg_loss: 1.2739 | avg_acc: 0.5007\n",
      "\n"
     ]
    },
    {
     "name": "stderr",
     "output_type": "stream",
     "text": [
      "[02:26:43] type: train epoch 448: 100%|██████████| 2194/2194 [15:07<00:00,  2.42it/s]\n",
      "[02:41:51] type: valid epoch 448:   0%|          | 1/243 [00:00<00:34,  6.93it/s]"
     ]
    },
    {
     "name": "stdout",
     "output_type": "stream",
     "text": [
      "avg_loss: 1.2305 | avg_acc: 0.5123\n"
     ]
    },
    {
     "name": "stderr",
     "output_type": "stream",
     "text": [
      "[02:41:51] type: valid epoch 448: 100%|██████████| 243/243 [00:33<00:00,  7.34it/s]\n",
      "[02:42:24] type: train epoch 449:   0%|          | 0/2194 [00:00<?, ?it/s]"
     ]
    },
    {
     "name": "stdout",
     "output_type": "stream",
     "text": [
      "avg_loss: 1.2786 | avg_acc: 0.5003\n",
      "\n"
     ]
    },
    {
     "name": "stderr",
     "output_type": "stream",
     "text": [
      "[02:42:24] type: train epoch 449: 100%|██████████| 2194/2194 [15:07<00:00,  2.42it/s]\n",
      "[02:57:31] type: valid epoch 449:   0%|          | 1/243 [00:00<00:33,  7.26it/s]"
     ]
    },
    {
     "name": "stdout",
     "output_type": "stream",
     "text": [
      "avg_loss: 1.2298 | avg_acc: 0.5118\n"
     ]
    },
    {
     "name": "stderr",
     "output_type": "stream",
     "text": [
      "[02:57:31] type: valid epoch 449: 100%|██████████| 243/243 [00:33<00:00,  7.35it/s]\n",
      "[02:58:05] type: train epoch 450:   0%|          | 0/2194 [00:00<?, ?it/s]"
     ]
    },
    {
     "name": "stdout",
     "output_type": "stream",
     "text": [
      "avg_loss: 1.2704 | avg_acc: 0.5002\n",
      "\n"
     ]
    },
    {
     "name": "stderr",
     "output_type": "stream",
     "text": [
      "[02:58:05] type: train epoch 450: 100%|██████████| 2194/2194 [15:08<00:00,  2.42it/s]\n",
      "[03:13:13] type: valid epoch 450:   0%|          | 1/243 [00:00<00:32,  7.54it/s]"
     ]
    },
    {
     "name": "stdout",
     "output_type": "stream",
     "text": [
      "avg_loss: 1.2293 | avg_acc: 0.5126\n"
     ]
    },
    {
     "name": "stderr",
     "output_type": "stream",
     "text": [
      "[03:13:13] type: valid epoch 450: 100%|██████████| 243/243 [00:33<00:00,  7.34it/s]\n",
      "[03:13:46] type: train epoch 451:   0%|          | 0/2194 [00:00<?, ?it/s]"
     ]
    },
    {
     "name": "stdout",
     "output_type": "stream",
     "text": [
      "avg_loss: 1.2811 | avg_acc: 0.5005\n",
      "\n"
     ]
    },
    {
     "name": "stderr",
     "output_type": "stream",
     "text": [
      "[03:13:46] type: train epoch 451: 100%|██████████| 2194/2194 [15:08<00:00,  2.41it/s]\n",
      "[03:28:56] type: valid epoch 451:   0%|          | 1/243 [00:00<00:32,  7.37it/s]"
     ]
    },
    {
     "name": "stdout",
     "output_type": "stream",
     "text": [
      "avg_loss: 1.2292 | avg_acc: 0.5124\n"
     ]
    },
    {
     "name": "stderr",
     "output_type": "stream",
     "text": [
      "[03:28:56] type: valid epoch 451: 100%|██████████| 243/243 [00:33<00:00,  7.33it/s]\n",
      "[03:29:29] type: train epoch 452:   0%|          | 0/2194 [00:00<?, ?it/s]"
     ]
    },
    {
     "name": "stdout",
     "output_type": "stream",
     "text": [
      "avg_loss: 1.2822 | avg_acc: 0.5002\n",
      "\n"
     ]
    },
    {
     "name": "stderr",
     "output_type": "stream",
     "text": [
      "[03:29:29] type: train epoch 452: 100%|██████████| 2194/2194 [15:10<00:00,  2.41it/s]\n",
      "[03:44:39] type: valid epoch 452:   0%|          | 1/243 [00:00<00:32,  7.45it/s]"
     ]
    },
    {
     "name": "stdout",
     "output_type": "stream",
     "text": [
      "avg_loss: 1.2287 | avg_acc: 0.5121\n"
     ]
    },
    {
     "name": "stderr",
     "output_type": "stream",
     "text": [
      "[03:44:39] type: valid epoch 452: 100%|██████████| 243/243 [00:33<00:00,  7.32it/s]\n",
      "[03:45:13] type: train epoch 453:   0%|          | 0/2194 [00:00<?, ?it/s]"
     ]
    },
    {
     "name": "stdout",
     "output_type": "stream",
     "text": [
      "avg_loss: 1.2720 | avg_acc: 0.5001\n",
      "\n"
     ]
    },
    {
     "name": "stderr",
     "output_type": "stream",
     "text": [
      "[03:45:13] type: train epoch 453: 100%|██████████| 2194/2194 [15:09<00:00,  2.41it/s]\n",
      "[04:00:23] type: valid epoch 453:   0%|          | 1/243 [00:00<00:33,  7.31it/s]"
     ]
    },
    {
     "name": "stdout",
     "output_type": "stream",
     "text": [
      "avg_loss: 1.2297 | avg_acc: 0.5118\n"
     ]
    },
    {
     "name": "stderr",
     "output_type": "stream",
     "text": [
      "[04:00:23] type: valid epoch 453: 100%|██████████| 243/243 [00:33<00:00,  7.34it/s]\n",
      "[04:00:56] type: train epoch 454:   0%|          | 0/2194 [00:00<?, ?it/s]"
     ]
    },
    {
     "name": "stdout",
     "output_type": "stream",
     "text": [
      "avg_loss: 1.2706 | avg_acc: 0.5003\n",
      "\n"
     ]
    },
    {
     "name": "stderr",
     "output_type": "stream",
     "text": [
      "[04:00:56] type: train epoch 454: 100%|██████████| 2194/2194 [15:08<00:00,  2.41it/s]\n",
      "[04:16:05] type: valid epoch 454:   0%|          | 1/243 [00:00<00:33,  7.27it/s]"
     ]
    },
    {
     "name": "stdout",
     "output_type": "stream",
     "text": [
      "avg_loss: 1.2288 | avg_acc: 0.5131\n"
     ]
    },
    {
     "name": "stderr",
     "output_type": "stream",
     "text": [
      "[04:16:05] type: valid epoch 454: 100%|██████████| 243/243 [00:33<00:00,  7.36it/s]\n",
      "[04:16:39] type: train epoch 455:   0%|          | 0/2194 [00:00<?, ?it/s]"
     ]
    },
    {
     "name": "stdout",
     "output_type": "stream",
     "text": [
      "avg_loss: 1.2697 | avg_acc: 0.5005\n",
      "\n"
     ]
    },
    {
     "name": "stderr",
     "output_type": "stream",
     "text": [
      "[04:16:39] type: train epoch 455: 100%|██████████| 2194/2194 [15:08<00:00,  2.41it/s]\n",
      "[04:31:48] type: valid epoch 455:   0%|          | 0/243 [00:00<?, ?it/s]"
     ]
    },
    {
     "name": "stdout",
     "output_type": "stream",
     "text": [
      "avg_loss: 1.2301 | avg_acc: 0.5129\n"
     ]
    },
    {
     "name": "stderr",
     "output_type": "stream",
     "text": [
      "[04:31:48] type: valid epoch 455: 100%|██████████| 243/243 [00:32<00:00,  7.37it/s]\n",
      "[04:32:21] type: train epoch 456:   0%|          | 0/2194 [00:00<?, ?it/s]"
     ]
    },
    {
     "name": "stdout",
     "output_type": "stream",
     "text": [
      "avg_loss: 1.2740 | avg_acc: 0.5002\n",
      "\n"
     ]
    },
    {
     "name": "stderr",
     "output_type": "stream",
     "text": [
      "[04:32:21] type: train epoch 456: 100%|██████████| 2194/2194 [15:08<00:00,  2.41it/s]\n",
      "[04:47:30] type: valid epoch 456:   0%|          | 0/243 [00:00<?, ?it/s]"
     ]
    },
    {
     "name": "stdout",
     "output_type": "stream",
     "text": [
      "avg_loss: 1.2294 | avg_acc: 0.5128\n"
     ]
    },
    {
     "name": "stderr",
     "output_type": "stream",
     "text": [
      "[04:47:30] type: valid epoch 456: 100%|██████████| 243/243 [00:33<00:00,  7.30it/s]\n",
      "[04:48:04] type: train epoch 457:   0%|          | 0/2194 [00:00<?, ?it/s]"
     ]
    },
    {
     "name": "stdout",
     "output_type": "stream",
     "text": [
      "avg_loss: 1.2808 | avg_acc: 0.5005\n",
      "\n"
     ]
    },
    {
     "name": "stderr",
     "output_type": "stream",
     "text": [
      "[04:48:04] type: train epoch 457: 100%|██████████| 2194/2194 [15:07<00:00,  2.42it/s]\n",
      "[05:03:12] type: valid epoch 457:   0%|          | 1/243 [00:00<00:31,  7.61it/s]"
     ]
    },
    {
     "name": "stdout",
     "output_type": "stream",
     "text": [
      "avg_loss: 1.2303 | avg_acc: 0.5123\n"
     ]
    },
    {
     "name": "stderr",
     "output_type": "stream",
     "text": [
      "[05:03:12] type: valid epoch 457: 100%|██████████| 243/243 [00:33<00:00,  7.33it/s]\n",
      "[05:03:45] type: train epoch 458:   0%|          | 0/2194 [00:00<?, ?it/s]"
     ]
    },
    {
     "name": "stdout",
     "output_type": "stream",
     "text": [
      "avg_loss: 1.2729 | avg_acc: 0.4998\n",
      "\n"
     ]
    },
    {
     "name": "stderr",
     "output_type": "stream",
     "text": [
      "[05:03:45] type: train epoch 458: 100%|██████████| 2194/2194 [15:08<00:00,  2.41it/s]\n",
      "[05:18:54] type: valid epoch 458:   0%|          | 1/243 [00:00<00:32,  7.47it/s]"
     ]
    },
    {
     "name": "stdout",
     "output_type": "stream",
     "text": [
      "avg_loss: 1.2296 | avg_acc: 0.5126\n"
     ]
    },
    {
     "name": "stderr",
     "output_type": "stream",
     "text": [
      "[05:18:54] type: valid epoch 458: 100%|██████████| 243/243 [00:33<00:00,  7.34it/s]\n",
      "[05:19:28] type: train epoch 459:   0%|          | 0/2194 [00:00<?, ?it/s]"
     ]
    },
    {
     "name": "stdout",
     "output_type": "stream",
     "text": [
      "avg_loss: 1.2790 | avg_acc: 0.5005\n",
      "\n"
     ]
    },
    {
     "name": "stderr",
     "output_type": "stream",
     "text": [
      "[05:19:28] type: train epoch 459: 100%|██████████| 2194/2194 [15:08<00:00,  2.41it/s]\n"
     ]
    },
    {
     "name": "stdout",
     "output_type": "stream",
     "text": [
      "avg_loss: 1.2283 | avg_acc: 0.5128\n"
     ]
    },
    {
     "name": "stderr",
     "output_type": "stream",
     "text": [
      "[05:34:37] type: valid epoch 459: 100%|██████████| 243/243 [00:33<00:00,  7.33it/s]\n",
      "[05:35:10] type: train epoch 460:   0%|          | 0/2194 [00:00<?, ?it/s]"
     ]
    },
    {
     "name": "stdout",
     "output_type": "stream",
     "text": [
      "avg_loss: 1.2789 | avg_acc: 0.5001\n",
      "\n"
     ]
    },
    {
     "name": "stderr",
     "output_type": "stream",
     "text": [
      "[05:35:10] type: train epoch 460: 100%|██████████| 2194/2194 [15:10<00:00,  2.41it/s]\n",
      "[05:50:21] type: valid epoch 460:   0%|          | 1/243 [00:00<00:33,  7.21it/s]"
     ]
    },
    {
     "name": "stdout",
     "output_type": "stream",
     "text": [
      "avg_loss: 1.2300 | avg_acc: 0.5114\n"
     ]
    },
    {
     "name": "stderr",
     "output_type": "stream",
     "text": [
      "[05:50:21] type: valid epoch 460: 100%|██████████| 243/243 [00:33<00:00,  7.32it/s]\n",
      "[05:50:55] type: train epoch 461:   0%|          | 0/2194 [00:00<?, ?it/s]"
     ]
    },
    {
     "name": "stdout",
     "output_type": "stream",
     "text": [
      "avg_loss: 1.2821 | avg_acc: 0.5001\n",
      "\n"
     ]
    },
    {
     "name": "stderr",
     "output_type": "stream",
     "text": [
      "[05:50:55] type: train epoch 461: 100%|██████████| 2194/2194 [15:10<00:00,  2.41it/s]\n",
      "[06:06:05] type: valid epoch 461:   0%|          | 1/243 [00:00<00:32,  7.42it/s]"
     ]
    },
    {
     "name": "stdout",
     "output_type": "stream",
     "text": [
      "avg_loss: 1.2288 | avg_acc: 0.5123\n"
     ]
    },
    {
     "name": "stderr",
     "output_type": "stream",
     "text": [
      "[06:06:05] type: valid epoch 461: 100%|██████████| 243/243 [00:33<00:00,  7.31it/s]\n",
      "[06:06:39] type: train epoch 462:   0%|          | 0/2194 [00:00<?, ?it/s]"
     ]
    },
    {
     "name": "stdout",
     "output_type": "stream",
     "text": [
      "avg_loss: 1.2867 | avg_acc: 0.5006\n",
      "\n"
     ]
    },
    {
     "name": "stderr",
     "output_type": "stream",
     "text": [
      "[06:06:39] type: train epoch 462: 100%|██████████| 2194/2194 [15:12<00:00,  2.40it/s]\n",
      "[06:21:52] type: valid epoch 462:   0%|          | 1/243 [00:00<00:33,  7.30it/s]"
     ]
    },
    {
     "name": "stdout",
     "output_type": "stream",
     "text": [
      "avg_loss: 1.2291 | avg_acc: 0.5117\n"
     ]
    },
    {
     "name": "stderr",
     "output_type": "stream",
     "text": [
      "[06:21:52] type: valid epoch 462: 100%|██████████| 243/243 [00:33<00:00,  7.31it/s]\n",
      "[06:22:25] type: train epoch 463:   0%|          | 0/2194 [00:00<?, ?it/s]"
     ]
    },
    {
     "name": "stdout",
     "output_type": "stream",
     "text": [
      "avg_loss: 1.2864 | avg_acc: 0.4998\n",
      "\n"
     ]
    },
    {
     "name": "stderr",
     "output_type": "stream",
     "text": [
      "[06:22:25] type: train epoch 463: 100%|██████████| 2194/2194 [15:12<00:00,  2.41it/s]\n",
      "[06:37:38] type: valid epoch 463:   0%|          | 0/243 [00:00<?, ?it/s]"
     ]
    },
    {
     "name": "stdout",
     "output_type": "stream",
     "text": [
      "avg_loss: 1.2292 | avg_acc: 0.5123\n"
     ]
    },
    {
     "name": "stderr",
     "output_type": "stream",
     "text": [
      "[06:37:38] type: valid epoch 463: 100%|██████████| 243/243 [00:33<00:00,  7.29it/s]\n",
      "[06:38:11] type: train epoch 464:   0%|          | 0/2194 [00:00<?, ?it/s]"
     ]
    },
    {
     "name": "stdout",
     "output_type": "stream",
     "text": [
      "avg_loss: 1.2793 | avg_acc: 0.5002\n",
      "\n"
     ]
    },
    {
     "name": "stderr",
     "output_type": "stream",
     "text": [
      "[06:38:11] type: train epoch 464: 100%|██████████| 2194/2194 [15:11<00:00,  2.41it/s]\n",
      "[06:53:24] type: valid epoch 464:   0%|          | 1/243 [00:00<00:32,  7.50it/s]"
     ]
    },
    {
     "name": "stdout",
     "output_type": "stream",
     "text": [
      "avg_loss: 1.2286 | avg_acc: 0.5125\n"
     ]
    },
    {
     "name": "stderr",
     "output_type": "stream",
     "text": [
      "[06:53:24] type: valid epoch 464: 100%|██████████| 243/243 [00:33<00:00,  7.32it/s]\n",
      "[06:53:57] type: train epoch 465:   0%|          | 0/2194 [00:00<?, ?it/s]"
     ]
    },
    {
     "name": "stdout",
     "output_type": "stream",
     "text": [
      "avg_loss: 1.2776 | avg_acc: 0.5000\n",
      "\n"
     ]
    },
    {
     "name": "stderr",
     "output_type": "stream",
     "text": [
      "[06:53:57] type: train epoch 465: 100%|██████████| 2194/2194 [15:13<00:00,  2.40it/s]\n",
      "[07:09:11] type: valid epoch 465:   0%|          | 0/243 [00:00<?, ?it/s]"
     ]
    },
    {
     "name": "stdout",
     "output_type": "stream",
     "text": [
      "avg_loss: 1.2302 | avg_acc: 0.5121\n"
     ]
    },
    {
     "name": "stderr",
     "output_type": "stream",
     "text": [
      "[07:09:11] type: valid epoch 465: 100%|██████████| 243/243 [00:33<00:00,  7.30it/s]\n",
      "[07:09:44] type: train epoch 466:   0%|          | 0/2194 [00:00<?, ?it/s]"
     ]
    },
    {
     "name": "stdout",
     "output_type": "stream",
     "text": [
      "avg_loss: 1.2707 | avg_acc: 0.5003\n",
      "\n"
     ]
    },
    {
     "name": "stderr",
     "output_type": "stream",
     "text": [
      "[07:09:44] type: train epoch 466: 100%|██████████| 2194/2194 [15:10<00:00,  2.41it/s]\n",
      "[07:24:56] type: valid epoch 466:   0%|          | 0/243 [00:00<?, ?it/s]"
     ]
    },
    {
     "name": "stdout",
     "output_type": "stream",
     "text": [
      "avg_loss: 1.2298 | avg_acc: 0.5119\n"
     ]
    },
    {
     "name": "stderr",
     "output_type": "stream",
     "text": [
      "[07:24:56] type: valid epoch 466: 100%|██████████| 243/243 [00:33<00:00,  7.29it/s]\n",
      "[07:25:29] type: train epoch 467:   0%|          | 0/2194 [00:00<?, ?it/s]"
     ]
    },
    {
     "name": "stdout",
     "output_type": "stream",
     "text": [
      "avg_loss: 1.2808 | avg_acc: 0.5003\n",
      "\n"
     ]
    },
    {
     "name": "stderr",
     "output_type": "stream",
     "text": [
      "[07:25:29] type: train epoch 467: 100%|██████████| 2194/2194 [15:13<00:00,  2.40it/s]\n",
      "[07:40:43] type: valid epoch 467:   0%|          | 0/243 [00:00<?, ?it/s]"
     ]
    },
    {
     "name": "stdout",
     "output_type": "stream",
     "text": [
      "avg_loss: 1.2294 | avg_acc: 0.5121\n"
     ]
    },
    {
     "name": "stderr",
     "output_type": "stream",
     "text": [
      "[07:40:43] type: valid epoch 467: 100%|██████████| 243/243 [00:33<00:00,  7.29it/s]\n",
      "[07:41:16] type: train epoch 468:   0%|          | 0/2194 [00:00<?, ?it/s]"
     ]
    },
    {
     "name": "stdout",
     "output_type": "stream",
     "text": [
      "avg_loss: 1.2768 | avg_acc: 0.5008\n",
      "\n"
     ]
    },
    {
     "name": "stderr",
     "output_type": "stream",
     "text": [
      "[07:41:16] type: train epoch 468: 100%|██████████| 2194/2194 [15:14<00:00,  2.40it/s]\n",
      "[07:56:31] type: valid epoch 468:   0%|          | 0/243 [00:00<?, ?it/s]"
     ]
    },
    {
     "name": "stdout",
     "output_type": "stream",
     "text": [
      "avg_loss: 1.2289 | avg_acc: 0.5124\n"
     ]
    },
    {
     "name": "stderr",
     "output_type": "stream",
     "text": [
      "[07:56:31] type: valid epoch 468: 100%|██████████| 243/243 [00:33<00:00,  7.32it/s]\n",
      "[07:57:04] type: train epoch 469:   0%|          | 0/2194 [00:00<?, ?it/s]"
     ]
    },
    {
     "name": "stdout",
     "output_type": "stream",
     "text": [
      "avg_loss: 1.2726 | avg_acc: 0.4999\n",
      "\n"
     ]
    },
    {
     "name": "stderr",
     "output_type": "stream",
     "text": [
      "[07:57:04] type: train epoch 469: 100%|██████████| 2194/2194 [15:12<00:00,  2.41it/s]\n",
      "[08:12:17] type: valid epoch 469:   0%|          | 1/243 [00:00<00:32,  7.39it/s]"
     ]
    },
    {
     "name": "stdout",
     "output_type": "stream",
     "text": [
      "avg_loss: 1.2294 | avg_acc: 0.5120\n"
     ]
    },
    {
     "name": "stderr",
     "output_type": "stream",
     "text": [
      "[08:12:17] type: valid epoch 469: 100%|██████████| 243/243 [00:33<00:00,  7.29it/s]\n",
      "[08:12:50] type: train epoch 470:   0%|          | 0/2194 [00:00<?, ?it/s]"
     ]
    },
    {
     "name": "stdout",
     "output_type": "stream",
     "text": [
      "avg_loss: 1.2729 | avg_acc: 0.5001\n",
      "\n"
     ]
    },
    {
     "name": "stderr",
     "output_type": "stream",
     "text": [
      "[08:12:50] type: train epoch 470: 100%|██████████| 2194/2194 [15:12<00:00,  2.40it/s]\n",
      "[08:28:03] type: valid epoch 470:   0%|          | 1/243 [00:00<00:32,  7.36it/s]"
     ]
    },
    {
     "name": "stdout",
     "output_type": "stream",
     "text": [
      "avg_loss: 1.2297 | avg_acc: 0.5121\n"
     ]
    },
    {
     "name": "stderr",
     "output_type": "stream",
     "text": [
      "[08:28:03] type: valid epoch 470: 100%|██████████| 243/243 [00:33<00:00,  7.30it/s]\n",
      "[08:28:37] type: train epoch 471:   0%|          | 0/2194 [00:00<?, ?it/s]"
     ]
    },
    {
     "name": "stdout",
     "output_type": "stream",
     "text": [
      "avg_loss: 1.2787 | avg_acc: 0.5002\n",
      "\n"
     ]
    },
    {
     "name": "stderr",
     "output_type": "stream",
     "text": [
      "[08:28:37] type: train epoch 471: 100%|██████████| 2194/2194 [15:10<00:00,  2.41it/s]\n",
      "[08:43:48] type: valid epoch 471:   0%|          | 0/243 [00:00<?, ?it/s]"
     ]
    },
    {
     "name": "stdout",
     "output_type": "stream",
     "text": [
      "avg_loss: 1.2289 | avg_acc: 0.5128\n"
     ]
    },
    {
     "name": "stderr",
     "output_type": "stream",
     "text": [
      "[08:43:48] type: valid epoch 471: 100%|██████████| 243/243 [00:33<00:00,  7.31it/s]\n",
      "[08:44:21] type: train epoch 472:   0%|          | 0/2194 [00:00<?, ?it/s]"
     ]
    },
    {
     "name": "stdout",
     "output_type": "stream",
     "text": [
      "avg_loss: 1.2749 | avg_acc: 0.5003\n",
      "\n"
     ]
    },
    {
     "name": "stderr",
     "output_type": "stream",
     "text": [
      "[08:44:21] type: train epoch 472: 100%|██████████| 2194/2194 [15:11<00:00,  2.41it/s]\n",
      "[08:59:33] type: valid epoch 472:   0%|          | 1/243 [00:00<00:32,  7.46it/s]"
     ]
    },
    {
     "name": "stdout",
     "output_type": "stream",
     "text": [
      "avg_loss: 1.2300 | avg_acc: 0.5124\n"
     ]
    },
    {
     "name": "stderr",
     "output_type": "stream",
     "text": [
      "[08:59:33] type: valid epoch 472: 100%|██████████| 243/243 [00:33<00:00,  7.28it/s]\n",
      "[09:00:06] type: train epoch 473:   0%|          | 0/2194 [00:00<?, ?it/s]"
     ]
    },
    {
     "name": "stdout",
     "output_type": "stream",
     "text": [
      "avg_loss: 1.2730 | avg_acc: 0.5003\n",
      "\n"
     ]
    },
    {
     "name": "stderr",
     "output_type": "stream",
     "text": [
      "[09:00:06] type: train epoch 473: 100%|██████████| 2194/2194 [15:13<00:00,  2.40it/s]\n",
      "[09:15:20] type: valid epoch 473:   0%|          | 1/243 [00:00<00:31,  7.57it/s]"
     ]
    },
    {
     "name": "stdout",
     "output_type": "stream",
     "text": [
      "avg_loss: 1.2291 | avg_acc: 0.5121\n"
     ]
    },
    {
     "name": "stderr",
     "output_type": "stream",
     "text": [
      "[09:15:20] type: valid epoch 473: 100%|██████████| 243/243 [00:33<00:00,  7.27it/s]\n",
      "[09:15:53] type: train epoch 474:   0%|          | 0/2194 [00:00<?, ?it/s]"
     ]
    },
    {
     "name": "stdout",
     "output_type": "stream",
     "text": [
      "avg_loss: 1.2772 | avg_acc: 0.5001\n",
      "\n"
     ]
    },
    {
     "name": "stderr",
     "output_type": "stream",
     "text": [
      "[09:15:53] type: train epoch 474: 100%|██████████| 2194/2194 [15:13<00:00,  2.40it/s]\n",
      "[09:31:07] type: valid epoch 474:   0%|          | 1/243 [00:00<00:32,  7.55it/s]"
     ]
    },
    {
     "name": "stdout",
     "output_type": "stream",
     "text": [
      "avg_loss: 1.2294 | avg_acc: 0.5125\n"
     ]
    },
    {
     "name": "stderr",
     "output_type": "stream",
     "text": [
      "[09:31:07] type: valid epoch 474: 100%|██████████| 243/243 [00:33<00:00,  7.31it/s]\n",
      "[09:31:40] type: train epoch 475:   0%|          | 0/2194 [00:00<?, ?it/s]"
     ]
    },
    {
     "name": "stdout",
     "output_type": "stream",
     "text": [
      "avg_loss: 1.2805 | avg_acc: 0.5003\n",
      "\n"
     ]
    },
    {
     "name": "stderr",
     "output_type": "stream",
     "text": [
      "[09:31:40] type: train epoch 475: 100%|██████████| 2194/2194 [15:11<00:00,  2.41it/s]\n",
      "[09:46:52] type: valid epoch 475:   0%|          | 1/243 [00:00<00:33,  7.26it/s]"
     ]
    },
    {
     "name": "stdout",
     "output_type": "stream",
     "text": [
      "avg_loss: 1.2295 | avg_acc: 0.5127\n"
     ]
    },
    {
     "name": "stderr",
     "output_type": "stream",
     "text": [
      "[09:46:52] type: valid epoch 475: 100%|██████████| 243/243 [00:33<00:00,  7.30it/s]\n",
      "[09:47:25] type: train epoch 476:   0%|          | 0/2194 [00:00<?, ?it/s]"
     ]
    },
    {
     "name": "stdout",
     "output_type": "stream",
     "text": [
      "avg_loss: 1.2801 | avg_acc: 0.5005\n",
      "\n"
     ]
    },
    {
     "name": "stderr",
     "output_type": "stream",
     "text": [
      "[09:47:25] type: train epoch 476: 100%|██████████| 2194/2194 [15:09<00:00,  2.41it/s]\n",
      "[10:02:35] type: valid epoch 476:   0%|          | 1/243 [00:00<00:32,  7.48it/s]"
     ]
    },
    {
     "name": "stdout",
     "output_type": "stream",
     "text": [
      "avg_loss: 1.2289 | avg_acc: 0.5126\n"
     ]
    },
    {
     "name": "stderr",
     "output_type": "stream",
     "text": [
      "[10:02:35] type: valid epoch 476: 100%|██████████| 243/243 [00:33<00:00,  7.34it/s]\n",
      "[10:03:08] type: train epoch 477:   0%|          | 0/2194 [00:00<?, ?it/s]"
     ]
    },
    {
     "name": "stdout",
     "output_type": "stream",
     "text": [
      "avg_loss: 1.2944 | avg_acc: 0.5003\n",
      "\n"
     ]
    },
    {
     "name": "stderr",
     "output_type": "stream",
     "text": [
      "[10:03:08] type: train epoch 477: 100%|██████████| 2194/2194 [15:11<00:00,  2.41it/s]\n",
      "[10:18:20] type: valid epoch 477:   0%|          | 1/243 [00:00<00:33,  7.32it/s]"
     ]
    },
    {
     "name": "stdout",
     "output_type": "stream",
     "text": [
      "avg_loss: 1.2287 | avg_acc: 0.5125\n"
     ]
    },
    {
     "name": "stderr",
     "output_type": "stream",
     "text": [
      "[10:18:20] type: valid epoch 477: 100%|██████████| 243/243 [00:33<00:00,  7.32it/s]\n",
      "[10:18:53] type: train epoch 478:   0%|          | 0/2194 [00:00<?, ?it/s]"
     ]
    },
    {
     "name": "stdout",
     "output_type": "stream",
     "text": [
      "avg_loss: 1.2887 | avg_acc: 0.4997\n",
      "\n"
     ]
    },
    {
     "name": "stderr",
     "output_type": "stream",
     "text": [
      "[10:18:53] type: train epoch 478: 100%|██████████| 2194/2194 [15:11<00:00,  2.41it/s]\n",
      "[10:34:05] type: valid epoch 478:   0%|          | 1/243 [00:00<00:33,  7.23it/s]"
     ]
    },
    {
     "name": "stdout",
     "output_type": "stream",
     "text": [
      "avg_loss: 1.2303 | avg_acc: 0.5122\n"
     ]
    },
    {
     "name": "stderr",
     "output_type": "stream",
     "text": [
      "[10:34:05] type: valid epoch 478: 100%|██████████| 243/243 [00:33<00:00,  7.30it/s]\n",
      "[10:34:38] type: train epoch 479:   0%|          | 0/2194 [00:00<?, ?it/s]"
     ]
    },
    {
     "name": "stdout",
     "output_type": "stream",
     "text": [
      "avg_loss: 1.2933 | avg_acc: 0.5004\n",
      "\n"
     ]
    },
    {
     "name": "stderr",
     "output_type": "stream",
     "text": [
      "[10:34:38] type: train epoch 479: 100%|██████████| 2194/2194 [15:09<00:00,  2.41it/s]\n",
      "[10:49:49] type: valid epoch 479:   0%|          | 1/243 [00:00<00:32,  7.44it/s]"
     ]
    },
    {
     "name": "stdout",
     "output_type": "stream",
     "text": [
      "avg_loss: 1.2294 | avg_acc: 0.5120\n"
     ]
    },
    {
     "name": "stderr",
     "output_type": "stream",
     "text": [
      "[10:49:49] type: valid epoch 479: 100%|██████████| 243/243 [00:32<00:00,  7.37it/s]\n",
      "[10:50:22] type: train epoch 480:   0%|          | 0/2194 [00:00<?, ?it/s]"
     ]
    },
    {
     "name": "stdout",
     "output_type": "stream",
     "text": [
      "avg_loss: 1.2747 | avg_acc: 0.4998\n",
      "\n"
     ]
    },
    {
     "name": "stderr",
     "output_type": "stream",
     "text": [
      "[10:50:22] type: train epoch 480: 100%|██████████| 2194/2194 [15:09<00:00,  2.41it/s]\n",
      "[11:05:31] type: valid epoch 480:   0%|          | 1/243 [00:00<00:32,  7.55it/s]"
     ]
    },
    {
     "name": "stdout",
     "output_type": "stream",
     "text": [
      "avg_loss: 1.2292 | avg_acc: 0.5125\n"
     ]
    },
    {
     "name": "stderr",
     "output_type": "stream",
     "text": [
      "[11:05:31] type: valid epoch 480: 100%|██████████| 243/243 [00:33<00:00,  7.33it/s]\n",
      "[11:06:04] type: train epoch 481:   0%|          | 0/2194 [00:00<?, ?it/s]"
     ]
    },
    {
     "name": "stdout",
     "output_type": "stream",
     "text": [
      "avg_loss: 1.2742 | avg_acc: 0.5000\n",
      "\n"
     ]
    },
    {
     "name": "stderr",
     "output_type": "stream",
     "text": [
      "[11:06:04] type: train epoch 481: 100%|██████████| 2194/2194 [15:10<00:00,  2.41it/s]\n",
      "[11:21:15] type: valid epoch 481:   0%|          | 1/243 [00:00<00:31,  7.57it/s]"
     ]
    },
    {
     "name": "stdout",
     "output_type": "stream",
     "text": [
      "avg_loss: 1.2291 | avg_acc: 0.5126\n"
     ]
    },
    {
     "name": "stderr",
     "output_type": "stream",
     "text": [
      "[11:21:15] type: valid epoch 481: 100%|██████████| 243/243 [00:33<00:00,  7.33it/s]\n",
      "[11:21:49] type: train epoch 482:   0%|          | 0/2194 [00:00<?, ?it/s]"
     ]
    },
    {
     "name": "stdout",
     "output_type": "stream",
     "text": [
      "avg_loss: 1.2784 | avg_acc: 0.5003\n",
      "\n"
     ]
    },
    {
     "name": "stderr",
     "output_type": "stream",
     "text": [
      "[11:21:49] type: train epoch 482: 100%|██████████| 2194/2194 [15:09<00:00,  2.41it/s]\n",
      "[11:36:59] type: valid epoch 482:   0%|          | 1/243 [00:00<00:32,  7.38it/s]"
     ]
    },
    {
     "name": "stdout",
     "output_type": "stream",
     "text": [
      "avg_loss: 1.2290 | avg_acc: 0.5120\n"
     ]
    },
    {
     "name": "stderr",
     "output_type": "stream",
     "text": [
      "[11:36:59] type: valid epoch 482: 100%|██████████| 243/243 [00:33<00:00,  7.34it/s]\n",
      "[11:37:32] type: train epoch 483:   0%|          | 0/2194 [00:00<?, ?it/s]"
     ]
    },
    {
     "name": "stdout",
     "output_type": "stream",
     "text": [
      "avg_loss: 1.2783 | avg_acc: 0.5002\n",
      "\n"
     ]
    },
    {
     "name": "stderr",
     "output_type": "stream",
     "text": [
      "[11:37:32] type: train epoch 483: 100%|██████████| 2194/2194 [15:09<00:00,  2.41it/s]\n",
      "[11:52:42] type: valid epoch 483:   0%|          | 1/243 [00:00<00:31,  7.60it/s]"
     ]
    },
    {
     "name": "stdout",
     "output_type": "stream",
     "text": [
      "avg_loss: 1.2290 | avg_acc: 0.5125\n"
     ]
    },
    {
     "name": "stderr",
     "output_type": "stream",
     "text": [
      "[11:52:42] type: valid epoch 483: 100%|██████████| 243/243 [00:33<00:00,  7.34it/s]\n",
      "[11:53:15] type: train epoch 484:   0%|          | 0/2194 [00:00<?, ?it/s]"
     ]
    },
    {
     "name": "stdout",
     "output_type": "stream",
     "text": [
      "avg_loss: 1.2754 | avg_acc: 0.5002\n",
      "\n"
     ]
    },
    {
     "name": "stderr",
     "output_type": "stream",
     "text": [
      "[11:53:15] type: train epoch 484: 100%|██████████| 2194/2194 [15:08<00:00,  2.42it/s]\n",
      "[12:08:24] type: valid epoch 484:   0%|          | 1/243 [00:00<00:31,  7.59it/s]"
     ]
    },
    {
     "name": "stdout",
     "output_type": "stream",
     "text": [
      "avg_loss: 1.2284 | avg_acc: 0.5129\n"
     ]
    },
    {
     "name": "stderr",
     "output_type": "stream",
     "text": [
      "[12:08:24] type: valid epoch 484: 100%|██████████| 243/243 [00:33<00:00,  7.36it/s]\n",
      "[12:08:57] type: train epoch 485:   0%|          | 0/2194 [00:00<?, ?it/s]"
     ]
    },
    {
     "name": "stdout",
     "output_type": "stream",
     "text": [
      "avg_loss: 1.2705 | avg_acc: 0.5002\n",
      "\n"
     ]
    },
    {
     "name": "stderr",
     "output_type": "stream",
     "text": [
      "[12:08:57] type: train epoch 485: 100%|██████████| 2194/2194 [15:08<00:00,  2.41it/s]\n",
      "[12:24:06] type: valid epoch 485:   0%|          | 1/243 [00:00<00:32,  7.43it/s]"
     ]
    },
    {
     "name": "stdout",
     "output_type": "stream",
     "text": [
      "avg_loss: 1.2285 | avg_acc: 0.5125\n"
     ]
    },
    {
     "name": "stderr",
     "output_type": "stream",
     "text": [
      "[12:24:06] type: valid epoch 485: 100%|██████████| 243/243 [00:33<00:00,  7.32it/s]\n",
      "[12:24:39] type: train epoch 486:   0%|          | 0/2194 [00:00<?, ?it/s]"
     ]
    },
    {
     "name": "stdout",
     "output_type": "stream",
     "text": [
      "avg_loss: 1.2804 | avg_acc: 0.5004\n",
      "\n"
     ]
    },
    {
     "name": "stderr",
     "output_type": "stream",
     "text": [
      "[12:24:39] type: train epoch 486: 100%|██████████| 2194/2194 [15:07<00:00,  2.42it/s]\n",
      "[12:39:47] type: valid epoch 486:   0%|          | 1/243 [00:00<00:32,  7.49it/s]"
     ]
    },
    {
     "name": "stdout",
     "output_type": "stream",
     "text": [
      "avg_loss: 1.2292 | avg_acc: 0.5123\n"
     ]
    },
    {
     "name": "stderr",
     "output_type": "stream",
     "text": [
      "[12:39:47] type: valid epoch 486: 100%|██████████| 243/243 [00:33<00:00,  7.33it/s]\n",
      "[12:40:20] type: train epoch 487:   0%|          | 0/2194 [00:00<?, ?it/s]"
     ]
    },
    {
     "name": "stdout",
     "output_type": "stream",
     "text": [
      "avg_loss: 1.2786 | avg_acc: 0.5003\n",
      "\n"
     ]
    },
    {
     "name": "stderr",
     "output_type": "stream",
     "text": [
      "[12:40:20] type: train epoch 487: 100%|██████████| 2194/2194 [15:07<00:00,  2.42it/s]\n",
      "[12:55:28] type: valid epoch 487:   0%|          | 0/243 [00:00<?, ?it/s]"
     ]
    },
    {
     "name": "stdout",
     "output_type": "stream",
     "text": [
      "avg_loss: 1.2294 | avg_acc: 0.5129\n"
     ]
    },
    {
     "name": "stderr",
     "output_type": "stream",
     "text": [
      "[12:55:28] type: valid epoch 487: 100%|██████████| 243/243 [00:33<00:00,  7.34it/s]\n",
      "[12:56:01] type: train epoch 488:   0%|          | 0/2194 [00:00<?, ?it/s]"
     ]
    },
    {
     "name": "stdout",
     "output_type": "stream",
     "text": [
      "avg_loss: 1.2757 | avg_acc: 0.4999\n",
      "\n"
     ]
    },
    {
     "name": "stderr",
     "output_type": "stream",
     "text": [
      "[12:56:01] type: train epoch 488: 100%|██████████| 2194/2194 [15:08<00:00,  2.42it/s]\n"
     ]
    },
    {
     "name": "stdout",
     "output_type": "stream",
     "text": [
      "avg_loss: 1.2287 | avg_acc: 0.5125\n"
     ]
    },
    {
     "name": "stderr",
     "output_type": "stream",
     "text": [
      "[13:11:10] type: valid epoch 488: 100%|██████████| 243/243 [00:33<00:00,  7.35it/s]\n",
      "[13:11:43] type: train epoch 489:   0%|          | 0/2194 [00:00<?, ?it/s]"
     ]
    },
    {
     "name": "stdout",
     "output_type": "stream",
     "text": [
      "avg_loss: 1.2738 | avg_acc: 0.5003\n",
      "\n"
     ]
    },
    {
     "name": "stderr",
     "output_type": "stream",
     "text": [
      "[13:11:43] type: train epoch 489: 100%|██████████| 2194/2194 [15:11<00:00,  2.41it/s]\n"
     ]
    },
    {
     "name": "stdout",
     "output_type": "stream",
     "text": [
      "avg_loss: 1.2290 | avg_acc: 0.5126\n"
     ]
    },
    {
     "name": "stderr",
     "output_type": "stream",
     "text": [
      "[13:26:55] type: valid epoch 489: 100%|██████████| 243/243 [00:33<00:00,  7.31it/s]\n",
      "[13:27:29] type: train epoch 490:   0%|          | 0/2194 [00:00<?, ?it/s]"
     ]
    },
    {
     "name": "stdout",
     "output_type": "stream",
     "text": [
      "avg_loss: 1.2785 | avg_acc: 0.5004\n",
      "\n"
     ]
    },
    {
     "name": "stderr",
     "output_type": "stream",
     "text": [
      "[13:27:29] type: train epoch 490: 100%|██████████| 2194/2194 [15:09<00:00,  2.41it/s]\n",
      "[13:42:39] type: valid epoch 490:   0%|          | 1/243 [00:00<00:32,  7.56it/s]"
     ]
    },
    {
     "name": "stdout",
     "output_type": "stream",
     "text": [
      "avg_loss: 1.2289 | avg_acc: 0.5126\n"
     ]
    },
    {
     "name": "stderr",
     "output_type": "stream",
     "text": [
      "[13:42:39] type: valid epoch 490: 100%|██████████| 243/243 [00:33<00:00,  7.34it/s]\n",
      "[13:43:12] type: train epoch 491:   0%|          | 0/2194 [00:00<?, ?it/s]"
     ]
    },
    {
     "name": "stdout",
     "output_type": "stream",
     "text": [
      "avg_loss: 1.2874 | avg_acc: 0.5001\n",
      "\n"
     ]
    },
    {
     "name": "stderr",
     "output_type": "stream",
     "text": [
      "[13:43:12] type: train epoch 491: 100%|██████████| 2194/2194 [15:10<00:00,  2.41it/s]\n",
      "[13:58:22] type: valid epoch 491:   0%|          | 1/243 [00:00<00:32,  7.54it/s]"
     ]
    },
    {
     "name": "stdout",
     "output_type": "stream",
     "text": [
      "avg_loss: 1.2288 | avg_acc: 0.5116\n"
     ]
    },
    {
     "name": "stderr",
     "output_type": "stream",
     "text": [
      "[13:58:22] type: valid epoch 491: 100%|██████████| 243/243 [00:33<00:00,  7.32it/s]\n",
      "[13:58:56] type: train epoch 492:   0%|          | 0/2194 [00:00<?, ?it/s]"
     ]
    },
    {
     "name": "stdout",
     "output_type": "stream",
     "text": [
      "avg_loss: 1.2796 | avg_acc: 0.5007\n",
      "\n"
     ]
    },
    {
     "name": "stderr",
     "output_type": "stream",
     "text": [
      "[13:58:56] type: train epoch 492: 100%|██████████| 2194/2194 [15:10<00:00,  2.41it/s]\n",
      "[14:14:07] type: valid epoch 492:   0%|          | 0/243 [00:00<?, ?it/s]"
     ]
    },
    {
     "name": "stdout",
     "output_type": "stream",
     "text": [
      "avg_loss: 1.2290 | avg_acc: 0.5124\n"
     ]
    },
    {
     "name": "stderr",
     "output_type": "stream",
     "text": [
      "[14:14:07] type: valid epoch 492: 100%|██████████| 243/243 [00:33<00:00,  7.31it/s]\n",
      "[14:14:40] type: train epoch 493:   0%|          | 0/2194 [00:00<?, ?it/s]"
     ]
    },
    {
     "name": "stdout",
     "output_type": "stream",
     "text": [
      "avg_loss: 1.2854 | avg_acc: 0.5003\n",
      "\n"
     ]
    },
    {
     "name": "stderr",
     "output_type": "stream",
     "text": [
      "[14:14:40] type: train epoch 493: 100%|██████████| 2194/2194 [15:10<00:00,  2.41it/s]\n",
      "[14:29:51] type: valid epoch 493:   0%|          | 1/243 [00:00<00:32,  7.40it/s]"
     ]
    },
    {
     "name": "stdout",
     "output_type": "stream",
     "text": [
      "avg_loss: 1.2289 | avg_acc: 0.5126\n"
     ]
    },
    {
     "name": "stderr",
     "output_type": "stream",
     "text": [
      "[14:29:51] type: valid epoch 493: 100%|██████████| 243/243 [00:33<00:00,  7.34it/s]\n",
      "[14:30:24] type: train epoch 494:   0%|          | 0/2194 [00:00<?, ?it/s]"
     ]
    },
    {
     "name": "stdout",
     "output_type": "stream",
     "text": [
      "avg_loss: 1.2783 | avg_acc: 0.5000\n",
      "\n"
     ]
    },
    {
     "name": "stderr",
     "output_type": "stream",
     "text": [
      "[14:30:24] type: train epoch 494: 100%|██████████| 2194/2194 [15:09<00:00,  2.41it/s]\n",
      "[14:45:34] type: valid epoch 494:   0%|          | 1/243 [00:00<00:32,  7.49it/s]"
     ]
    },
    {
     "name": "stdout",
     "output_type": "stream",
     "text": [
      "avg_loss: 1.2291 | avg_acc: 0.5127\n"
     ]
    },
    {
     "name": "stderr",
     "output_type": "stream",
     "text": [
      "[14:45:34] type: valid epoch 494: 100%|██████████| 243/243 [00:33<00:00,  7.34it/s]\n",
      "[14:46:08] type: train epoch 495:   0%|          | 0/2194 [00:00<?, ?it/s]"
     ]
    },
    {
     "name": "stdout",
     "output_type": "stream",
     "text": [
      "avg_loss: 1.2868 | avg_acc: 0.4997\n",
      "\n"
     ]
    },
    {
     "name": "stderr",
     "output_type": "stream",
     "text": [
      "[14:46:08] type: train epoch 495: 100%|██████████| 2194/2194 [15:10<00:00,  2.41it/s]\n",
      "[15:01:18] type: valid epoch 495:   0%|          | 0/243 [00:00<?, ?it/s]"
     ]
    },
    {
     "name": "stdout",
     "output_type": "stream",
     "text": [
      "avg_loss: 1.2286 | avg_acc: 0.5125\n"
     ]
    },
    {
     "name": "stderr",
     "output_type": "stream",
     "text": [
      "[15:01:18] type: valid epoch 495: 100%|██████████| 243/243 [00:33<00:00,  7.31it/s]\n",
      "[15:01:51] type: train epoch 496:   0%|          | 0/2194 [00:00<?, ?it/s]"
     ]
    },
    {
     "name": "stdout",
     "output_type": "stream",
     "text": [
      "avg_loss: 1.2810 | avg_acc: 0.5000\n",
      "\n"
     ]
    },
    {
     "name": "stderr",
     "output_type": "stream",
     "text": [
      "[15:01:51] type: train epoch 496: 100%|██████████| 2194/2194 [15:09<00:00,  2.41it/s]\n",
      "[15:17:02] type: valid epoch 496:   0%|          | 1/243 [00:00<00:31,  7.62it/s]"
     ]
    },
    {
     "name": "stdout",
     "output_type": "stream",
     "text": [
      "avg_loss: 1.2282 | avg_acc: 0.5126\n"
     ]
    },
    {
     "name": "stderr",
     "output_type": "stream",
     "text": [
      "[15:17:02] type: valid epoch 496: 100%|██████████| 243/243 [00:33<00:00,  7.32it/s]\n",
      "[15:17:35] type: train epoch 497:   0%|          | 0/2194 [00:00<?, ?it/s]"
     ]
    },
    {
     "name": "stdout",
     "output_type": "stream",
     "text": [
      "avg_loss: 1.2811 | avg_acc: 0.5001\n",
      "\n"
     ]
    },
    {
     "name": "stderr",
     "output_type": "stream",
     "text": [
      "[15:17:35] type: train epoch 497: 100%|██████████| 2194/2194 [15:11<00:00,  2.41it/s]\n",
      "[15:32:46] type: valid epoch 497:   0%|          | 1/243 [00:00<00:32,  7.56it/s]"
     ]
    },
    {
     "name": "stdout",
     "output_type": "stream",
     "text": [
      "avg_loss: 1.2297 | avg_acc: 0.5126\n"
     ]
    },
    {
     "name": "stderr",
     "output_type": "stream",
     "text": [
      "[15:32:46] type: valid epoch 497: 100%|██████████| 243/243 [00:33<00:00,  7.33it/s]\n",
      "[15:33:20] type: train epoch 498:   0%|          | 0/2194 [00:00<?, ?it/s]"
     ]
    },
    {
     "name": "stdout",
     "output_type": "stream",
     "text": [
      "avg_loss: 1.2893 | avg_acc: 0.5001\n",
      "\n"
     ]
    },
    {
     "name": "stderr",
     "output_type": "stream",
     "text": [
      "[15:33:20] type: train epoch 498: 100%|██████████| 2194/2194 [15:09<00:00,  2.41it/s]\n",
      "[15:48:30] type: valid epoch 498:   0%|          | 1/243 [00:00<00:31,  7.60it/s]"
     ]
    },
    {
     "name": "stdout",
     "output_type": "stream",
     "text": [
      "avg_loss: 1.2292 | avg_acc: 0.5125\n"
     ]
    },
    {
     "name": "stderr",
     "output_type": "stream",
     "text": [
      "[15:48:30] type: valid epoch 498: 100%|██████████| 243/243 [00:33<00:00,  7.32it/s]\n",
      "[15:49:03] type: train epoch 499:   0%|          | 0/2194 [00:00<?, ?it/s]"
     ]
    },
    {
     "name": "stdout",
     "output_type": "stream",
     "text": [
      "avg_loss: 1.2911 | avg_acc: 0.5002\n",
      "\n"
     ]
    },
    {
     "name": "stderr",
     "output_type": "stream",
     "text": [
      "[15:49:03] type: train epoch 499: 100%|██████████| 2194/2194 [15:07<00:00,  2.42it/s]\n"
     ]
    },
    {
     "name": "stdout",
     "output_type": "stream",
     "text": [
      "avg_loss: 1.2290 | avg_acc: 0.5120\n"
     ]
    },
    {
     "name": "stderr",
     "output_type": "stream",
     "text": [
      "[16:04:11] type: valid epoch 499: 100%|██████████| 243/243 [00:33<00:00,  7.34it/s]"
     ]
    },
    {
     "name": "stdout",
     "output_type": "stream",
     "text": [
      "avg_loss: 1.2772 | avg_acc: 0.5004\n",
      "\n"
     ]
    },
    {
     "name": "stderr",
     "output_type": "stream",
     "text": [
      "\n"
     ]
    }
   ],
   "source": [
    "model_trainer = Trainer(model, train_loader, valid_loader, EPOCH, LR, device)\n",
    "model_trainer.start()"
   ]
  },
  {
   "attachments": {},
   "cell_type": "markdown",
   "metadata": {},
   "source": [
    "### plot"
   ]
  },
  {
   "cell_type": "code",
   "execution_count": 34,
   "metadata": {},
   "outputs": [],
   "source": [
    "def interpolate_to_length(data, length):\n",
    "    x = np.linspace(0, 1, len(data))\n",
    "    y = np.array(data)\n",
    "    f = interp1d(x, y)\n",
    "    xnew = np.linspace(0, 1, length)\n",
    "    ynew = f(xnew)\n",
    "    return ynew\n",
    "\n",
    "def plot(scores, name, interpolate_to=None):\n",
    "    plt.figure(figsize=(15,5))\n",
    "\n",
    "    train_scores = scores[\"train\"]\n",
    "    valid_scores = scores[\"valid\"]\n",
    "\n",
    "    if interpolate_to is not None:\n",
    "        train_scores = interpolate_to_length(train_scores, interpolate_to)\n",
    "        valid_scores = interpolate_to_length(valid_scores, interpolate_to)\n",
    "\n",
    "    plt.plot(range(len(train_scores)), train_scores, label=f'train {name}')\n",
    "    plt.plot(range(len(valid_scores)), valid_scores, label=f'valid {name}')\n",
    "\n",
    "    plt.title(f'{name} plot')\n",
    "    plt.xlabel('steps')\n",
    "    plt.ylabel(f'{name}')\n",
    "    plt.legend()\n",
    "    plt.show()"
   ]
  },
  {
   "cell_type": "code",
   "execution_count": 35,
   "metadata": {},
   "outputs": [
    {
     "data": {
      "image/png": "[encoded data removed]",
      "text/plain": [
       "<Figure size 1080x360 with 1 Axes>"
      ]
     },
     "metadata": {
      "needs_background": "light"
     },
     "output_type": "display_data"
    },
    {
     "data": {
      "image/png": "[encoded data removed]",
      "text/plain": [
       "<Figure size 1080x360 with 1 Axes>"
      ]
     },
     "metadata": {
      "needs_background": "light"
     },
     "output_type": "display_data"
    }
   ],
   "source": [
    "losses = model_trainer.losses\n",
    "accuracy = model_trainer.accuracy\n",
    "\n",
    "plot(losses, \"loss\", interpolate_to=len(losses[\"train\"]))\n",
    "plot(accuracy, \"accuracy\", interpolate_to=len(accuracy[\"train\"]))"
   ]
  },
  {
   "cell_type": "code",
   "execution_count": 36,
   "metadata": {},
   "outputs": [
    {
     "data": {
      "text/plain": [
       "0.8448966145515442"
      ]
     },
     "execution_count": 36,
     "metadata": {},
     "output_type": "execute_result"
    }
   ],
   "source": [
    "min(losses['valid'])"
   ]
  },
  {
   "cell_type": "code",
   "execution_count": 37,
   "metadata": {},
   "outputs": [
    {
     "data": {
      "text/plain": [
       "0.75"
      ]
     },
     "execution_count": 37,
     "metadata": {},
     "output_type": "execute_result"
    }
   ],
   "source": [
    "max(accuracy['valid'])"
   ]
  },
  {
   "cell_type": "code",
   "execution_count": 38,
   "metadata": {},
   "outputs": [
    {
     "data": {
      "image/png": "[encoded data removed]",
      "text/plain": [
       "<Figure size 1080x360 with 1 Axes>"
      ]
     },
     "metadata": {
      "needs_background": "light"
     },
     "output_type": "display_data"
    },
    {
     "data": {
      "image/png": "[encoded data removed]",
      "text/plain": [
       "<Figure size 1080x360 with 1 Axes>"
      ]
     },
     "metadata": {
      "needs_background": "light"
     },
     "output_type": "display_data"
    }
   ],
   "source": [
    "losses = model_trainer.epoch_losses\n",
    "accuracy = model_trainer.epoch_accuracy\n",
    "\n",
    "plot(losses, \"loss\", interpolate_to=len(losses[\"train\"]))\n",
    "plot(accuracy, \"accuracy\", interpolate_to=len(accuracy[\"train\"]))\n",
    "\n"
   ]
  },
  {
   "cell_type": "code",
   "execution_count": null,
   "metadata": {},
   "outputs": [],
   "source": []
  }
 ],
 "metadata": {
  "kernelspec": {
   "display_name": "Python 3",
   "language": "python",
   "name": "python3"
  },
  "language_info": {
   "codemirror_mode": {
    "name": "ipython",
    "version": 3
   },
   "file_extension": ".py",
   "mimetype": "text/x-python",
   "name": "python",
   "nbconvert_exporter": "python",
   "pygments_lexer": "ipython3",
   "version": "3.7.7"
  }
 },
 "nbformat": 4,
 "nbformat_minor": 4
}
